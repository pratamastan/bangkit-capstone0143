{
  "nbformat": 4,
  "nbformat_minor": 0,
  "metadata": {
    "colab": {
      "name": "NLP project1.ipynb",
      "provenance": [],
      "collapsed_sections": [],
      "include_colab_link": true
    },
    "kernelspec": {
      "name": "python3",
      "display_name": "Python 3"
    },
    "language_info": {
      "name": "python"
    },
    "accelerator": "GPU"
  },
  "cells": [
    {
      "cell_type": "markdown",
      "metadata": {
        "id": "view-in-github",
        "colab_type": "text"
      },
      "source": [
        "<a href=\"https://colab.research.google.com/github/pratamastan/bangkit-capstone0143/blob/main/NLP_project1.ipynb\" target=\"_parent\"><img src=\"https://colab.research.google.com/assets/colab-badge.svg\" alt=\"Open In Colab\"/></a>"
      ]
    },
    {
      "cell_type": "code",
      "metadata": {
        "colab": {
          "base_uri": "https://localhost:8080/"
        },
        "id": "XlhC6gY_tuRR",
        "outputId": "2d9c764f-4b29-4ef4-f87c-45fa1b47777b"
      },
      "source": [
        "from google.colab import drive\n",
        "drive.mount('/content/drive')"
      ],
      "execution_count": null,
      "outputs": [
        {
          "output_type": "stream",
          "text": [
            "Mounted at /content/drive\n"
          ],
          "name": "stdout"
        }
      ]
    },
    {
      "cell_type": "code",
      "metadata": {
        "id": "cvUNWk0MuW86"
      },
      "source": [
        "import pandas as pd\n",
        "import numpy as np\n",
        "import tensorflow as tf\n",
        "import tensorflow_hub as hub"
      ],
      "execution_count": null,
      "outputs": []
    },
    {
      "cell_type": "code",
      "metadata": {
        "id": "3fI-9jMRuzYc"
      },
      "source": [
        "data1=pd.read_csv(\"/content/drive/MyDrive/Quora question pair dataset/train complete indo.csv\")"
      ],
      "execution_count": null,
      "outputs": []
    },
    {
      "cell_type": "code",
      "metadata": {
        "id": "f4MP2chBv9E8"
      },
      "source": [
        "data1=data1.dropna()"
      ],
      "execution_count": null,
      "outputs": []
    },
    {
      "cell_type": "code",
      "metadata": {
        "colab": {
          "base_uri": "https://localhost:8080/"
        },
        "id": "SH5MGSCGPfLg",
        "outputId": "8d2ebb0e-8474-491e-fbd8-df67f4ab271e"
      },
      "source": [
        "data1.isnull().values.any()"
      ],
      "execution_count": null,
      "outputs": [
        {
          "output_type": "execute_result",
          "data": {
            "text/plain": [
              "False"
            ]
          },
          "metadata": {
            "tags": []
          },
          "execution_count": 5
        }
      ]
    },
    {
      "cell_type": "code",
      "metadata": {
        "colab": {
          "base_uri": "https://localhost:8080/",
          "height": 195
        },
        "id": "xn3iNxPtPGJJ",
        "outputId": "74f724ea-4f67-42b4-e8bd-b18d71ec2068"
      },
      "source": [
        "data1.head()"
      ],
      "execution_count": null,
      "outputs": [
        {
          "output_type": "execute_result",
          "data": {
            "text/html": [
              "<div>\n",
              "<style scoped>\n",
              "    .dataframe tbody tr th:only-of-type {\n",
              "        vertical-align: middle;\n",
              "    }\n",
              "\n",
              "    .dataframe tbody tr th {\n",
              "        vertical-align: top;\n",
              "    }\n",
              "\n",
              "    .dataframe thead th {\n",
              "        text-align: right;\n",
              "    }\n",
              "</style>\n",
              "<table border=\"1\" class=\"dataframe\">\n",
              "  <thead>\n",
              "    <tr style=\"text-align: right;\">\n",
              "      <th></th>\n",
              "      <th>id</th>\n",
              "      <th>qid1</th>\n",
              "      <th>qid2</th>\n",
              "      <th>question1</th>\n",
              "      <th>question2</th>\n",
              "      <th>is_duplicate</th>\n",
              "    </tr>\n",
              "  </thead>\n",
              "  <tbody>\n",
              "    <tr>\n",
              "      <th>0</th>\n",
              "      <td>0</td>\n",
              "      <td>1</td>\n",
              "      <td>2</td>\n",
              "      <td>Apa panduan langkah demi langkah untuk berinve...</td>\n",
              "      <td>Apa panduan langkah demi langkah untuk berinve...</td>\n",
              "      <td>0</td>\n",
              "    </tr>\n",
              "    <tr>\n",
              "      <th>1</th>\n",
              "      <td>1</td>\n",
              "      <td>3</td>\n",
              "      <td>4</td>\n",
              "      <td>Bagaimana kisah Berlian Kohinoor (Koh-i-Noor)?</td>\n",
              "      <td>Apa yang akan terjadi jika pemerintah India me...</td>\n",
              "      <td>0</td>\n",
              "    </tr>\n",
              "    <tr>\n",
              "      <th>2</th>\n",
              "      <td>2</td>\n",
              "      <td>5</td>\n",
              "      <td>6</td>\n",
              "      <td>Bagaimana cara meningkatkan kecepatan koneksi ...</td>\n",
              "      <td>Bagaimana kecepatan Internet dapat ditingkatka...</td>\n",
              "      <td>0</td>\n",
              "    </tr>\n",
              "    <tr>\n",
              "      <th>3</th>\n",
              "      <td>3</td>\n",
              "      <td>7</td>\n",
              "      <td>8</td>\n",
              "      <td>Mengapa saya secara mental sangat kesepian? Ba...</td>\n",
              "      <td>Temukan sisanya ketika [math] 23 ^ {24} [/ mat...</td>\n",
              "      <td>0</td>\n",
              "    </tr>\n",
              "    <tr>\n",
              "      <th>4</th>\n",
              "      <td>4</td>\n",
              "      <td>9</td>\n",
              "      <td>10</td>\n",
              "      <td>Manakah yang larut dalam air seperti gula pasi...</td>\n",
              "      <td>Ikan apa yang akan bertahan hidup di air asin?</td>\n",
              "      <td>0</td>\n",
              "    </tr>\n",
              "  </tbody>\n",
              "</table>\n",
              "</div>"
            ],
            "text/plain": [
              "   id  qid1  ...                                          question2 is_duplicate\n",
              "0   0     1  ...  Apa panduan langkah demi langkah untuk berinve...            0\n",
              "1   1     3  ...  Apa yang akan terjadi jika pemerintah India me...            0\n",
              "2   2     5  ...  Bagaimana kecepatan Internet dapat ditingkatka...            0\n",
              "3   3     7  ...  Temukan sisanya ketika [math] 23 ^ {24} [/ mat...            0\n",
              "4   4     9  ...     Ikan apa yang akan bertahan hidup di air asin?            0\n",
              "\n",
              "[5 rows x 6 columns]"
            ]
          },
          "metadata": {
            "tags": []
          },
          "execution_count": 97
        }
      ]
    },
    {
      "cell_type": "code",
      "metadata": {
        "colab": {
          "base_uri": "https://localhost:8080/"
        },
        "id": "znGtTGTXBeRk",
        "outputId": "4c783af3-4297-43d4-b4e4-c967dbf1bca8"
      },
      "source": [
        "data1.question1.str.len().max()"
      ],
      "execution_count": null,
      "outputs": [
        {
          "output_type": "execute_result",
          "data": {
            "text/plain": [
              "717"
            ]
          },
          "metadata": {
            "tags": []
          },
          "execution_count": 17
        }
      ]
    },
    {
      "cell_type": "code",
      "metadata": {
        "colab": {
          "base_uri": "https://localhost:8080/"
        },
        "id": "bEd4Pu71BkXg",
        "outputId": "f9ae063f-1cc7-43f5-e383-153a30a36850"
      },
      "source": [
        "data1.question2.str.len().max()"
      ],
      "execution_count": null,
      "outputs": [
        {
          "output_type": "execute_result",
          "data": {
            "text/plain": [
              "1395"
            ]
          },
          "metadata": {
            "tags": []
          },
          "execution_count": 18
        }
      ]
    },
    {
      "cell_type": "code",
      "metadata": {
        "id": "kfSXEkPBw9fB"
      },
      "source": [
        "from sklearn.model_selection import train_test_split\n",
        "X_train, X_test, y_train, y_test = train_test_split(data1[[\"question1\", \"question2\"]], data1[\"is_duplicate\"], test_size=0.2, random_state=42)"
      ],
      "execution_count": null,
      "outputs": []
    },
    {
      "cell_type": "code",
      "metadata": {
        "id": "cqNOcymh-DyD"
      },
      "source": [
        "xt=X_train.to_numpy()\n",
        "yt=y_train.to_numpy()\n",
        "\n",
        "xte=X_test.to_numpy()\n",
        "yte=y_test.to_numpy()\n",
        "\n",
        "Q1_train = X_train[\"question1\"].to_numpy()\n",
        "Q2_train = X_train[\"question2\"].to_numpy()\n",
        "Q1_test = X_test[\"question1\"].to_numpy()\n",
        "Q2_test = X_test[\"question2\"].to_numpy()"
      ],
      "execution_count": null,
      "outputs": []
    },
    {
      "cell_type": "code",
      "metadata": {
        "colab": {
          "base_uri": "https://localhost:8080/"
        },
        "id": "hnz0bVT_cTkG",
        "outputId": "47b658fe-7f98-4923-eb6b-6d52f9085f51"
      },
      "source": [
        "Q1_train"
      ],
      "execution_count": null,
      "outputs": [
        {
          "output_type": "execute_result",
          "data": {
            "text/plain": [
              "array(['Apa sajakah cerita pendeknya?',\n",
              "       'Apa jawaban terbaik untuk pertanyaan HR, \"Anda berasal dari latar belakang ECE, jadi mengapa Anda ingin bergabung dengan perusahaan IT\"?',\n",
              "       'Bagaimana cara membulatkan 1,44 ke persen terdekat?', ...,\n",
              "       'Siapa yang saat ini memenangkan pemilihan presiden?',\n",
              "       'Apa sajakah film Telugu / Tamil / Hindi yang pemeran utamanya menjadi mafia atau tidak?',\n",
              "       'Berapa peringkat yang dipotong untuk perguruan tinggi Kedokteran Rohtak dalam kuota negara bagian?'],\n",
              "      dtype=object)"
            ]
          },
          "metadata": {
            "tags": []
          },
          "execution_count": 20
        }
      ]
    },
    {
      "cell_type": "code",
      "metadata": {
        "colab": {
          "base_uri": "https://localhost:8080/",
          "height": 35
        },
        "id": "kE2tOVZKMkER",
        "outputId": "cda191fa-6c5f-4476-b65d-620a14d5c7b4"
      },
      "source": [
        "data1[\"question1\"][0]"
      ],
      "execution_count": null,
      "outputs": [
        {
          "output_type": "execute_result",
          "data": {
            "application/vnd.google.colaboratory.intrinsic+json": {
              "type": "string"
            },
            "text/plain": [
              "'Apa panduan langkah demi langkah untuk berinvestasi di pasar saham di India?'"
            ]
          },
          "metadata": {
            "tags": []
          },
          "execution_count": 105
        }
      ]
    },
    {
      "cell_type": "code",
      "metadata": {
        "colab": {
          "base_uri": "https://localhost:8080/",
          "height": 402
        },
        "id": "DGECNKybyvld",
        "outputId": "f28f17f4-93d4-4ae7-e9a8-ec854731e118"
      },
      "source": [
        "data1[[\"question1\",\"question2\"]]"
      ],
      "execution_count": null,
      "outputs": [
        {
          "output_type": "execute_result",
          "data": {
            "text/html": [
              "<div>\n",
              "<style scoped>\n",
              "    .dataframe tbody tr th:only-of-type {\n",
              "        vertical-align: middle;\n",
              "    }\n",
              "\n",
              "    .dataframe tbody tr th {\n",
              "        vertical-align: top;\n",
              "    }\n",
              "\n",
              "    .dataframe thead th {\n",
              "        text-align: right;\n",
              "    }\n",
              "</style>\n",
              "<table border=\"1\" class=\"dataframe\">\n",
              "  <thead>\n",
              "    <tr style=\"text-align: right;\">\n",
              "      <th></th>\n",
              "      <th>question1</th>\n",
              "      <th>question2</th>\n",
              "    </tr>\n",
              "  </thead>\n",
              "  <tbody>\n",
              "    <tr>\n",
              "      <th>0</th>\n",
              "      <td>Apa panduan langkah demi langkah untuk berinve...</td>\n",
              "      <td>Apa panduan langkah demi langkah untuk berinve...</td>\n",
              "    </tr>\n",
              "    <tr>\n",
              "      <th>1</th>\n",
              "      <td>Bagaimana kisah Berlian Kohinoor (Koh-i-Noor)?</td>\n",
              "      <td>Apa yang akan terjadi jika pemerintah India me...</td>\n",
              "    </tr>\n",
              "    <tr>\n",
              "      <th>2</th>\n",
              "      <td>Bagaimana cara meningkatkan kecepatan koneksi ...</td>\n",
              "      <td>Bagaimana kecepatan Internet dapat ditingkatka...</td>\n",
              "    </tr>\n",
              "    <tr>\n",
              "      <th>3</th>\n",
              "      <td>Mengapa saya secara mental sangat kesepian? Ba...</td>\n",
              "      <td>Temukan sisanya ketika [math] 23 ^ {24} [/ mat...</td>\n",
              "    </tr>\n",
              "    <tr>\n",
              "      <th>4</th>\n",
              "      <td>Manakah yang larut dalam air seperti gula pasi...</td>\n",
              "      <td>Ikan apa yang akan bertahan hidup di air asin?</td>\n",
              "    </tr>\n",
              "    <tr>\n",
              "      <th>...</th>\n",
              "      <td>...</td>\n",
              "      <td>...</td>\n",
              "    </tr>\n",
              "    <tr>\n",
              "      <th>404285</th>\n",
              "      <td>Ada berapa kata kunci dalam bahasa pemrograman...</td>\n",
              "      <td>Ada berapa kata kunci dalam Bahasa Pemrograman...</td>\n",
              "    </tr>\n",
              "    <tr>\n",
              "      <th>404286</th>\n",
              "      <td>Apakah Anda percaya ada kehidupan setelah kema...</td>\n",
              "      <td>Benarkah ada kehidupan setelah kematian?</td>\n",
              "    </tr>\n",
              "    <tr>\n",
              "      <th>404287</th>\n",
              "      <td>Apa satu koin?</td>\n",
              "      <td>Koin apa ini?</td>\n",
              "    </tr>\n",
              "    <tr>\n",
              "      <th>404288</th>\n",
              "      <td>Berapa perkiraan biaya hidup tahunan selama be...</td>\n",
              "      <td>Saya mengalami sedikit masalah rambut rontok t...</td>\n",
              "    </tr>\n",
              "    <tr>\n",
              "      <th>404289</th>\n",
              "      <td>Bagaimana rasanya berhubungan seks dengan sepupu?</td>\n",
              "      <td>Bagaimana rasanya berhubungan seks dengan sepu...</td>\n",
              "    </tr>\n",
              "  </tbody>\n",
              "</table>\n",
              "<p>404290 rows × 2 columns</p>\n",
              "</div>"
            ],
            "text/plain": [
              "                                                question1                                          question2\n",
              "0       Apa panduan langkah demi langkah untuk berinve...  Apa panduan langkah demi langkah untuk berinve...\n",
              "1          Bagaimana kisah Berlian Kohinoor (Koh-i-Noor)?  Apa yang akan terjadi jika pemerintah India me...\n",
              "2       Bagaimana cara meningkatkan kecepatan koneksi ...  Bagaimana kecepatan Internet dapat ditingkatka...\n",
              "3       Mengapa saya secara mental sangat kesepian? Ba...  Temukan sisanya ketika [math] 23 ^ {24} [/ mat...\n",
              "4       Manakah yang larut dalam air seperti gula pasi...     Ikan apa yang akan bertahan hidup di air asin?\n",
              "...                                                   ...                                                ...\n",
              "404285  Ada berapa kata kunci dalam bahasa pemrograman...  Ada berapa kata kunci dalam Bahasa Pemrograman...\n",
              "404286  Apakah Anda percaya ada kehidupan setelah kema...           Benarkah ada kehidupan setelah kematian?\n",
              "404287                                     Apa satu koin?                                      Koin apa ini?\n",
              "404288  Berapa perkiraan biaya hidup tahunan selama be...  Saya mengalami sedikit masalah rambut rontok t...\n",
              "404289  Bagaimana rasanya berhubungan seks dengan sepupu?  Bagaimana rasanya berhubungan seks dengan sepu...\n",
              "\n",
              "[404290 rows x 2 columns]"
            ]
          },
          "metadata": {
            "tags": []
          },
          "execution_count": 23
        }
      ]
    },
    {
      "cell_type": "code",
      "metadata": {
        "id": "eD6gHbz8y3F8"
      },
      "source": [
        "#Embedding for Indonesian language (vector with 128 dimension)\n",
        "embed = hub.KerasLayer(\"https://tfhub.dev/google/nnlm-id-dim128-with-normalization/2\",input_shape=[], dtype=tf.string)\n",
        "embed.trainable=False\n",
        "#Model runtime will increase if tranable=True to about 900-1000s per epoch"
      ],
      "execution_count": null,
      "outputs": []
    },
    {
      "cell_type": "code",
      "metadata": {
        "id": "3sSxwalsMSkK"
      },
      "source": [
        "xt1=embed(Q1_train)\n",
        "xt2=embed(Q2_train)\n",
        "xte1=embed(Q1_test)\n",
        "xte2=embed(Q2_test)"
      ],
      "execution_count": null,
      "outputs": []
    },
    {
      "cell_type": "code",
      "metadata": {
        "colab": {
          "base_uri": "https://localhost:8080/"
        },
        "id": "ogL4saosmMVV",
        "outputId": "21f664ca-4e9c-4f9b-8bb2-a0db7f2bb96e"
      },
      "source": [
        "xt1"
      ],
      "execution_count": null,
      "outputs": [
        {
          "output_type": "execute_result",
          "data": {
            "text/plain": [
              "<tf.Tensor: shape=(323430, 128), dtype=float32, numpy=\n",
              "array([[ 0.03792422, -0.08203722, -0.03952134, ..., -0.03751129,\n",
              "        -0.13026127, -0.21294448],\n",
              "       [ 0.16049062,  0.05221158, -0.03756306, ..., -0.06843793,\n",
              "        -0.16083518,  0.00526717],\n",
              "       [ 0.00541904,  0.03682816, -0.10739181, ..., -0.05703003,\n",
              "        -0.12414219, -0.05216019],\n",
              "       ...,\n",
              "       [ 0.17406467,  0.06946962, -0.02178098, ..., -0.05727712,\n",
              "        -0.17851247, -0.00691927],\n",
              "       [ 0.14288372, -0.16400667,  0.03347619, ...,  0.04388543,\n",
              "        -0.12863201, -0.02391369],\n",
              "       [-0.02106932, -0.22670205, -0.11702876, ..., -0.13742013,\n",
              "        -0.11424292,  0.08969257]], dtype=float32)>"
            ]
          },
          "metadata": {
            "tags": []
          },
          "execution_count": 14
        }
      ]
    },
    {
      "cell_type": "code",
      "metadata": {
        "id": "0AI-Xuhm7qnk"
      },
      "source": [
        "##Will run 1 epoch about 2 minutes\n",
        "model=tf.keras.Sequential([tf.keras.layers.Bidirectional(tf.keras.layers.LSTM(64, return_sequences=True)),\n",
        "                           tf.keras.layers.Bidirectional(tf.keras.layers.LSTM(32)),\n",
        "                           tf.keras.layers.Dense(200,activation='relu'),\n",
        "                           tf.keras.layers.Dropout(0.2),\n",
        "                           tf.keras.layers.BatchNormalization(),\n",
        "                           tf.keras.layers.Dense(200,activation='relu'),\n",
        "                           tf.keras.layers.Dropout(0.2),\n",
        "                           tf.keras.layers.BatchNormalization(),\n",
        "                           tf.keras.layers.Dense(200,activation='relu'),\n",
        "                           tf.keras.layers.Dropout(0.2),\n",
        "                           tf.keras.layers.BatchNormalization(),\n",
        "                           tf.keras.layers.Dense(200,activation='relu'),\n",
        "                           tf.keras.layers.Dropout(0.2),\n",
        "                           tf.keras.layers.BatchNormalization(),\n",
        "                           tf.keras.layers.Dense(1, activation=\"sigmoid\")\n",
        "])\n",
        "#model.build((1,2,128))"
      ],
      "execution_count": null,
      "outputs": []
    },
    {
      "cell_type": "code",
      "metadata": {
        "colab": {
          "base_uri": "https://localhost:8080/"
        },
        "id": "4GvI4xl8gADS",
        "outputId": "f9fa1fe6-bac0-4871-8ec8-f34134818570"
      },
      "source": [
        "model.summary()"
      ],
      "execution_count": null,
      "outputs": [
        {
          "output_type": "stream",
          "text": [
            "Model: \"sequential\"\n",
            "_________________________________________________________________\n",
            "Layer (type)                 Output Shape              Param #   \n",
            "=================================================================\n",
            "bidirectional (Bidirectional (None, 2, 128)            98816     \n",
            "_________________________________________________________________\n",
            "bidirectional_1 (Bidirection (None, 64)                41216     \n",
            "_________________________________________________________________\n",
            "dense (Dense)                (None, 200)               13000     \n",
            "_________________________________________________________________\n",
            "dropout (Dropout)            (None, 200)               0         \n",
            "_________________________________________________________________\n",
            "batch_normalization (BatchNo (None, 200)               800       \n",
            "_________________________________________________________________\n",
            "dense_1 (Dense)              (None, 200)               40200     \n",
            "_________________________________________________________________\n",
            "dropout_1 (Dropout)          (None, 200)               0         \n",
            "_________________________________________________________________\n",
            "batch_normalization_1 (Batch (None, 200)               800       \n",
            "_________________________________________________________________\n",
            "dense_2 (Dense)              (None, 200)               40200     \n",
            "_________________________________________________________________\n",
            "dropout_2 (Dropout)          (None, 200)               0         \n",
            "_________________________________________________________________\n",
            "batch_normalization_2 (Batch (None, 200)               800       \n",
            "_________________________________________________________________\n",
            "dense_3 (Dense)              (None, 200)               40200     \n",
            "_________________________________________________________________\n",
            "dropout_3 (Dropout)          (None, 200)               0         \n",
            "_________________________________________________________________\n",
            "batch_normalization_3 (Batch (None, 200)               800       \n",
            "_________________________________________________________________\n",
            "dense_4 (Dense)              (None, 1)                 201       \n",
            "=================================================================\n",
            "Total params: 277,033\n",
            "Trainable params: 275,433\n",
            "Non-trainable params: 1,600\n",
            "_________________________________________________________________\n"
          ],
          "name": "stdout"
        }
      ]
    },
    {
      "cell_type": "code",
      "metadata": {
        "id": "5lh_IkfGB1_o"
      },
      "source": [
        "model.compile(loss='binary_crossentropy', optimizer='adam', metrics=['accuracy'])"
      ],
      "execution_count": null,
      "outputs": []
    },
    {
      "cell_type": "code",
      "metadata": {
        "colab": {
          "base_uri": "https://localhost:8080/"
        },
        "id": "7srafr_9Kg_F",
        "outputId": "bf2970da-dc7c-44a1-b8d7-8a1e2265552a"
      },
      "source": [
        "history = model.fit(np.stack((xt1, xt2), axis=1),\n",
        "                    yt,\n",
        "                    epochs=5,\n",
        "                    validation_data=(np.stack((xte1, xte2), axis=1), yte),\n",
        "                    verbose=2)"
      ],
      "execution_count": null,
      "outputs": [
        {
          "output_type": "stream",
          "text": [
            "Epoch 1/5\n",
            "10108/10108 - 127s - loss: 0.5713 - accuracy: 0.7028 - val_loss: 0.5203 - val_accuracy: 0.7332\n",
            "Epoch 2/5\n",
            "10108/10108 - 89s - loss: 0.4990 - accuracy: 0.7478 - val_loss: 0.4760 - val_accuracy: 0.7597\n",
            "Epoch 3/5\n",
            "10108/10108 - 87s - loss: 0.4668 - accuracy: 0.7676 - val_loss: 0.4600 - val_accuracy: 0.7681\n",
            "Epoch 4/5\n",
            "10108/10108 - 86s - loss: 0.4468 - accuracy: 0.7809 - val_loss: 0.4450 - val_accuracy: 0.7805\n",
            "Epoch 5/5\n",
            "10108/10108 - 86s - loss: 0.4299 - accuracy: 0.7923 - val_loss: 0.4362 - val_accuracy: 0.7875\n"
          ],
          "name": "stdout"
        }
      ]
    },
    {
      "cell_type": "code",
      "metadata": {
        "colab": {
          "base_uri": "https://localhost:8080/"
        },
        "id": "6ZbM5pm9iju4",
        "outputId": "7674fff4-2713-4807-8bdf-cc11668f30de"
      },
      "source": [
        "xt[0].shape"
      ],
      "execution_count": null,
      "outputs": [
        {
          "output_type": "execute_result",
          "data": {
            "text/plain": [
              "(2,)"
            ]
          },
          "metadata": {
            "tags": []
          },
          "execution_count": 19
        }
      ]
    },
    {
      "cell_type": "code",
      "metadata": {
        "id": "kmftLH2m03W7"
      },
      "source": [
        "## 1 epoch is about 150-200s, added GRU Layer between the stacked Bidirectional LSTM layer\n",
        "model3=tf.keras.Sequential([tf.keras.layers.Bidirectional(tf.keras.layers.LSTM(64, return_sequences=True)),\n",
        "                            tf.keras.layers.GRU(64, return_sequences=True),\n",
        "                            tf.keras.layers.Bidirectional(tf.keras.layers.LSTM(32)),\n",
        "                            tf.keras.layers.Dense(256,activation='relu'),\n",
        "                            tf.keras.layers.Dropout(0.2),\n",
        "                            tf.keras.layers.BatchNormalization(),\n",
        "                            tf.keras.layers.Dense(256,activation='relu'),\n",
        "                            tf.keras.layers.Dropout(0.2),\n",
        "                            tf.keras.layers.BatchNormalization(),\n",
        "                            tf.keras.layers.Dense(256,activation='relu'),\n",
        "                            tf.keras.layers.Dropout(0.2),\n",
        "                            tf.keras.layers.BatchNormalization(),\n",
        "                            tf.keras.layers.Dense(256,activation='relu'),\n",
        "                            tf.keras.layers.Dropout(0.2),\n",
        "                            tf.keras.layers.BatchNormalization(),\n",
        "                            tf.keras.layers.Dense(256,activation='relu'),\n",
        "                            tf.keras.layers.Dropout(0.2),\n",
        "                            tf.keras.layers.BatchNormalization(),\n",
        "                            tf.keras.layers.Dense(1, activation=\"sigmoid\")\n",
        "])"
      ],
      "execution_count": null,
      "outputs": []
    },
    {
      "cell_type": "code",
      "metadata": {
        "id": "lbJ5tfdVwn4t"
      },
      "source": [
        "model3.summary()"
      ],
      "execution_count": null,
      "outputs": []
    },
    {
      "cell_type": "code",
      "metadata": {
        "colab": {
          "base_uri": "https://localhost:8080/"
        },
        "id": "4MUF2zMt113H",
        "outputId": "90bfdf6d-23bb-4d7a-d89b-0b3881d9b750"
      },
      "source": [
        "model3.compile(loss='binary_crossentropy', optimizer='adam', metrics=['accuracy'])\n",
        "history3 = model3.fit(np.stack((xt1, xt2), axis=1),\n",
        "                    yt,\n",
        "                    epochs=5,\n",
        "                    validation_data=(np.stack((xte1, xte2), axis=1), yte),\n",
        "                    verbose=2)"
      ],
      "execution_count": null,
      "outputs": [
        {
          "output_type": "stream",
          "text": [
            "Epoch 1/5\n",
            "10108/10108 - 172s - loss: 0.5752 - accuracy: 0.7000 - val_loss: 0.5065 - val_accuracy: 0.7385\n",
            "Epoch 2/5\n",
            "10108/10108 - 166s - loss: 0.4993 - accuracy: 0.7466 - val_loss: 0.4812 - val_accuracy: 0.7582\n",
            "Epoch 3/5\n",
            "10108/10108 - 169s - loss: 0.4704 - accuracy: 0.7663 - val_loss: 0.4679 - val_accuracy: 0.7670\n",
            "Epoch 4/5\n",
            "10108/10108 - 171s - loss: 0.4508 - accuracy: 0.7796 - val_loss: 0.4520 - val_accuracy: 0.7793\n",
            "Epoch 5/5\n",
            "10108/10108 - 166s - loss: 0.4343 - accuracy: 0.7901 - val_loss: 0.4396 - val_accuracy: 0.7847\n"
          ],
          "name": "stdout"
        }
      ]
    },
    {
      "cell_type": "code",
      "metadata": {
        "colab": {
          "base_uri": "https://localhost:8080/"
        },
        "id": "2NAi6Wj9f_Vy",
        "outputId": "aa391570-458c-464b-9088-d769d162e69f"
      },
      "source": [
        "## Model without Bidirectional LSTM model accuracy is only 66-72%, take 2 inputs, will run 1 epoch about 90s \n",
        "# ques1=tf.keras.Input(shape=(), dtype=tf.string)\n",
        "# ques2=tf.keras.Input(shape=(), dtype=tf.string)\n",
        "\n",
        "# qu1=embed(ques1)\n",
        "# qu2=embed(ques2)\n",
        "# attention=tf.keras.layers.Attention()([qu1,qu2])\n",
        "# #attention=tf.keras.layers.Bidirectional(tf.keras.layers.LSTM(64, return_sequences=True))(attention)\n",
        "# #attention=tf.keras.layers.Attention()(attention)\n",
        "# attention=tf.keras.layers.Flatten()(attention)\n",
        "# attention=tf.keras.layers.Dense(300, activation=\"relu\")(attention)\n",
        "# merged = tf.keras.layers.Dense(200,activation='relu')(attention)\n",
        "# merged = tf.keras.layers.Dropout(0.2)(merged)\n",
        "# merged = tf.keras.layers.BatchNormalization()(merged)\n",
        "# merged = tf.keras.layers.Dense(200,activation='relu')(merged)\n",
        "# merged = tf.keras.layers.Dropout(0.2)(merged)\n",
        "# merged = tf.keras.layers.BatchNormalization()(merged)\n",
        "# merged = tf.keras.layers.Dense(200,activation='relu')(merged)\n",
        "# merged = tf.keras.layers.Dropout(0.2)(merged)\n",
        "# merged = tf.keras.layers.BatchNormalization()(merged)\n",
        "# merged = tf.keras.layers.Dense(200,activation='relu')(merged)\n",
        "# merged = tf.keras.layers.Dropout(0.2)(merged)\n",
        "# merged = tf.keras.layers.BatchNormalization()(merged)\n",
        "\n",
        "# is_duplicate = tf.keras.layers.Dense(1, activation=\"sigmoid\")(merged)\n",
        "# model2 = tf.keras.models.Model(inputs=[ques1,ques2], outputs=is_duplicate)\n",
        "# model2.summary()"
      ],
      "execution_count": null,
      "outputs": [
        {
          "output_type": "stream",
          "text": [
            "Model: \"model\"\n",
            "__________________________________________________________________________________________________\n",
            "Layer (type)                    Output Shape         Param #     Connected to                     \n",
            "==================================================================================================\n",
            "input_1 (InputLayer)            [(None,)]            0                                            \n",
            "__________________________________________________________________________________________________\n",
            "input_2 (InputLayer)            [(None,)]            0                                            \n",
            "__________________________________________________________________________________________________\n",
            "keras_layer (KerasLayer)        (None, 128)          112461824   input_1[0][0]                    \n",
            "                                                                 input_2[0][0]                    \n",
            "__________________________________________________________________________________________________\n",
            "attention (Attention)           (None, 128)          0           keras_layer[2][0]                \n",
            "                                                                 keras_layer[3][0]                \n",
            "__________________________________________________________________________________________________\n",
            "flatten (Flatten)               (None, 128)          0           attention[0][0]                  \n",
            "__________________________________________________________________________________________________\n",
            "dense_16 (Dense)                (None, 300)          38700       flatten[0][0]                    \n",
            "__________________________________________________________________________________________________\n",
            "dense_17 (Dense)                (None, 200)          60200       dense_16[0][0]                   \n",
            "__________________________________________________________________________________________________\n",
            "dropout_13 (Dropout)            (None, 200)          0           dense_17[0][0]                   \n",
            "__________________________________________________________________________________________________\n",
            "batch_normalization_13 (BatchNo (None, 200)          800         dropout_13[0][0]                 \n",
            "__________________________________________________________________________________________________\n",
            "dense_18 (Dense)                (None, 200)          40200       batch_normalization_13[0][0]     \n",
            "__________________________________________________________________________________________________\n",
            "dropout_14 (Dropout)            (None, 200)          0           dense_18[0][0]                   \n",
            "__________________________________________________________________________________________________\n",
            "batch_normalization_14 (BatchNo (None, 200)          800         dropout_14[0][0]                 \n",
            "__________________________________________________________________________________________________\n",
            "dense_19 (Dense)                (None, 200)          40200       batch_normalization_14[0][0]     \n",
            "__________________________________________________________________________________________________\n",
            "dropout_15 (Dropout)            (None, 200)          0           dense_19[0][0]                   \n",
            "__________________________________________________________________________________________________\n",
            "batch_normalization_15 (BatchNo (None, 200)          800         dropout_15[0][0]                 \n",
            "__________________________________________________________________________________________________\n",
            "dense_20 (Dense)                (None, 200)          40200       batch_normalization_15[0][0]     \n",
            "__________________________________________________________________________________________________\n",
            "dropout_16 (Dropout)            (None, 200)          0           dense_20[0][0]                   \n",
            "__________________________________________________________________________________________________\n",
            "batch_normalization_16 (BatchNo (None, 200)          800         dropout_16[0][0]                 \n",
            "__________________________________________________________________________________________________\n",
            "dense_21 (Dense)                (None, 1)            201         batch_normalization_16[0][0]     \n",
            "==================================================================================================\n",
            "Total params: 112,684,725\n",
            "Trainable params: 221,301\n",
            "Non-trainable params: 112,463,424\n",
            "__________________________________________________________________________________________________\n"
          ],
          "name": "stdout"
        }
      ]
    },
    {
      "cell_type": "code",
      "metadata": {
        "colab": {
          "base_uri": "https://localhost:8080/"
        },
        "id": "ZjAR5pmQ8O7q",
        "outputId": "21e3e9ca-bda4-466d-c88b-311490365e25"
      },
      "source": [
        "# model2.compile(loss='binary_crossentropy', optimizer='adam', metrics=['accuracy'])\n",
        "# history2 = model2.fit([Q1_train, Q2_train],\n",
        "#                     yt,\n",
        "#                     epochs=5,\n",
        "#                     validation_data=([Q1_test,Q2_test], yte),\n",
        "#                     verbose=2)"
      ],
      "execution_count": null,
      "outputs": [
        {
          "output_type": "stream",
          "text": [
            "Epoch 1/5\n",
            "10108/10108 - 87s - loss: 0.6506 - accuracy: 0.6347 - val_loss: 1.0374 - val_accuracy: 0.5443\n",
            "Epoch 2/5\n",
            "10108/10108 - 87s - loss: 0.6365 - accuracy: 0.6497 - val_loss: 0.6807 - val_accuracy: 0.6189\n",
            "Epoch 3/5\n",
            "10108/10108 - 89s - loss: 0.6330 - accuracy: 0.6540 - val_loss: 0.7115 - val_accuracy: 0.6095\n",
            "Epoch 4/5\n",
            "10108/10108 - 86s - loss: 0.6312 - accuracy: 0.6559 - val_loss: 0.8011 - val_accuracy: 0.5844\n",
            "Epoch 5/5\n",
            "10108/10108 - 89s - loss: 0.6305 - accuracy: 0.6563 - val_loss: 0.6913 - val_accuracy: 0.6308\n"
          ],
          "name": "stdout"
        }
      ]
    },
    {
      "cell_type": "code",
      "metadata": {
        "colab": {
          "base_uri": "https://localhost:8080/"
        },
        "id": "XmJdCMUv2UsX",
        "outputId": "5e1f1112-4dd5-45bc-f346-ee0878ee39d5"
      },
      "source": [
        "#Model with Bidirectional LSTM, Attention layer, take 2 inputs, will run about 150s for 1 epoch\n",
        "ques1=tf.keras.Input(shape=(), dtype=tf.string)\n",
        "ques2=tf.keras.Input(shape=(), dtype=tf.string)\n",
        "\n",
        "qu1=embed(ques1)\n",
        "qu2=embed(ques2)\n",
        "\n",
        "q1=tf.expand_dims(qu1, axis=1)\n",
        "q2=tf.expand_dims(qu2, axis=1)\n",
        "q1=tf.keras.layers.Bidirectional(tf.keras.layers.LSTM(64, return_sequences=True))(q1)\n",
        "q2=tf.keras.layers.Bidirectional(tf.keras.layers.LSTM(64, return_sequences=True))(q2)\n",
        "\n",
        "attention=tf.keras.layers.Attention()([q1,q2])\n",
        "#attention=tf.keras.layers.Flatten()(attention)\n",
        "attention=tf.keras.layers.Dense(300, activation=\"relu\")(attention)\n",
        "#attention=tf.keras.layers.Reshape((2,128))(attention)\n",
        "\n",
        "#merged = tf.keras.layers.Add([q1,attention])\n",
        "#merged = tf.keras.layers.Flatten()(attention)\n",
        "merged = tf.keras.layers.Dense(200,activation='relu')(attention)\n",
        "merged = tf.keras.layers.Dropout(0.2)(merged)\n",
        "merged = tf.keras.layers.BatchNormalization()(merged)\n",
        "merged = tf.keras.layers.Dense(200,activation='relu')(merged)\n",
        "merged = tf.keras.layers.Dropout(0.2)(merged)\n",
        "merged = tf.keras.layers.BatchNormalization()(merged)\n",
        "merged = tf.keras.layers.Dense(200,activation='relu')(merged)\n",
        "merged = tf.keras.layers.Dropout(0.2)(merged)\n",
        "merged = tf.keras.layers.BatchNormalization()(merged)\n",
        "merged = tf.keras.layers.Dense(200,activation='relu')(merged)\n",
        "merged = tf.keras.layers.Dropout(0.2)(merged)\n",
        "merged = tf.keras.layers.BatchNormalization()(merged)\n",
        "\n",
        "is_duplicate = tf.keras.layers.Dense(1, activation=\"sigmoid\")(merged)\n",
        "model1 = tf.keras.models.Model(inputs=[ques1,ques2], outputs=is_duplicate)\n",
        "model1.summary()"
      ],
      "execution_count": null,
      "outputs": [
        {
          "output_type": "stream",
          "text": [
            "Model: \"model_3\"\n",
            "__________________________________________________________________________________________________\n",
            "Layer (type)                    Output Shape         Param #     Connected to                     \n",
            "==================================================================================================\n",
            "input_21 (InputLayer)           [(None,)]            0                                            \n",
            "__________________________________________________________________________________________________\n",
            "input_22 (InputLayer)           [(None,)]            0                                            \n",
            "__________________________________________________________________________________________________\n",
            "keras_layer (KerasLayer)        (None, 128)          112461824   input_21[0][0]                   \n",
            "                                                                 input_22[0][0]                   \n",
            "__________________________________________________________________________________________________\n",
            "tf.expand_dims_6 (TFOpLambda)   (None, 1, 128)       0           keras_layer[10][0]               \n",
            "__________________________________________________________________________________________________\n",
            "tf.expand_dims_7 (TFOpLambda)   (None, 1, 128)       0           keras_layer[11][0]               \n",
            "__________________________________________________________________________________________________\n",
            "bidirectional_58 (Bidirectional (None, 1, 128)       98816       tf.expand_dims_6[0][0]           \n",
            "__________________________________________________________________________________________________\n",
            "bidirectional_59 (Bidirectional (None, 1, 128)       98816       tf.expand_dims_7[0][0]           \n",
            "__________________________________________________________________________________________________\n",
            "attention_4 (Attention)         (None, 1, 128)       0           bidirectional_58[0][0]           \n",
            "                                                                 bidirectional_59[0][0]           \n",
            "__________________________________________________________________________________________________\n",
            "dense_196 (Dense)               (None, 1, 300)       38700       attention_4[0][0]                \n",
            "__________________________________________________________________________________________________\n",
            "dense_197 (Dense)               (None, 1, 200)       60200       dense_196[0][0]                  \n",
            "__________________________________________________________________________________________________\n",
            "dropout_155 (Dropout)           (None, 1, 200)       0           dense_197[0][0]                  \n",
            "__________________________________________________________________________________________________\n",
            "batch_normalization_155 (BatchN (None, 1, 200)       800         dropout_155[0][0]                \n",
            "__________________________________________________________________________________________________\n",
            "dense_198 (Dense)               (None, 1, 200)       40200       batch_normalization_155[0][0]    \n",
            "__________________________________________________________________________________________________\n",
            "dropout_156 (Dropout)           (None, 1, 200)       0           dense_198[0][0]                  \n",
            "__________________________________________________________________________________________________\n",
            "batch_normalization_156 (BatchN (None, 1, 200)       800         dropout_156[0][0]                \n",
            "__________________________________________________________________________________________________\n",
            "dense_199 (Dense)               (None, 1, 200)       40200       batch_normalization_156[0][0]    \n",
            "__________________________________________________________________________________________________\n",
            "dropout_157 (Dropout)           (None, 1, 200)       0           dense_199[0][0]                  \n",
            "__________________________________________________________________________________________________\n",
            "batch_normalization_157 (BatchN (None, 1, 200)       800         dropout_157[0][0]                \n",
            "__________________________________________________________________________________________________\n",
            "dense_200 (Dense)               (None, 1, 200)       40200       batch_normalization_157[0][0]    \n",
            "__________________________________________________________________________________________________\n",
            "dropout_158 (Dropout)           (None, 1, 200)       0           dense_200[0][0]                  \n",
            "__________________________________________________________________________________________________\n",
            "batch_normalization_158 (BatchN (None, 1, 200)       800         dropout_158[0][0]                \n",
            "__________________________________________________________________________________________________\n",
            "dense_201 (Dense)               (None, 1, 1)         201         batch_normalization_158[0][0]    \n",
            "==================================================================================================\n",
            "Total params: 112,882,357\n",
            "Trainable params: 418,933\n",
            "Non-trainable params: 112,463,424\n",
            "__________________________________________________________________________________________________\n"
          ],
          "name": "stdout"
        }
      ]
    },
    {
      "cell_type": "code",
      "metadata": {
        "id": "RjDaDGv593CS"
      },
      "source": [
        "model1.compile(loss='binary_crossentropy', optimizer='adam', metrics=['accuracy'])"
      ],
      "execution_count": null,
      "outputs": []
    },
    {
      "cell_type": "code",
      "metadata": {
        "colab": {
          "base_uri": "https://localhost:8080/"
        },
        "id": "6Fmf3aHiF_Kt",
        "outputId": "fdef9f2c-72aa-496f-9bb1-7cb83f075ac4"
      },
      "source": [
        "history1 = model1.fit([Q1_train, Q2_train],\n",
        "                    yt,\n",
        "                    epochs=5,\n",
        "                    validation_data=([Q1_test,Q2_test], yte),\n",
        "                    verbose=2)"
      ],
      "execution_count": null,
      "outputs": [
        {
          "output_type": "stream",
          "text": [
            "Epoch 1/5\n",
            "10108/10108 - 158s - loss: 0.6065 - accuracy: 0.6718 - val_loss: 0.5756 - val_accuracy: 0.6970\n",
            "Epoch 2/5\n",
            "10108/10108 - 150s - loss: 0.5720 - accuracy: 0.7036 - val_loss: 0.5628 - val_accuracy: 0.7107\n",
            "Epoch 3/5\n",
            "10108/10108 - 150s - loss: 0.5572 - accuracy: 0.7153 - val_loss: 0.5507 - val_accuracy: 0.7214\n",
            "Epoch 4/5\n",
            "10108/10108 - 152s - loss: 0.5445 - accuracy: 0.7252 - val_loss: 0.5390 - val_accuracy: 0.7288\n",
            "Epoch 5/5\n",
            "10108/10108 - 149s - loss: 0.5343 - accuracy: 0.7333 - val_loss: 0.5355 - val_accuracy: 0.7312\n"
          ],
          "name": "stdout"
        }
      ]
    },
    {
      "cell_type": "code",
      "metadata": {
        "id": "WdKnfeH_T7sb"
      },
      "source": [
        "a=embed([\"saya memukul kursi\"])\n",
        "a2=embed([\"kursi dipukul oleh saya\"])"
      ],
      "execution_count": null,
      "outputs": []
    },
    {
      "cell_type": "code",
      "metadata": {
        "colab": {
          "base_uri": "https://localhost:8080/"
        },
        "id": "cWPsoB3ibSdl",
        "outputId": "060211b4-79e8-4f63-c424-965793caf5ff"
      },
      "source": [
        "prediction1 = model1.predict([np.asarray([\"dia memainkan gitar\"]),np.asarray([\"gitar dimainkan oleh dia\"])])\n",
        "print(prediction1)"
      ],
      "execution_count": null,
      "outputs": [
        {
          "output_type": "stream",
          "text": [
            "[[[0.3716218]]]\n"
          ],
          "name": "stdout"
        }
      ]
    },
    {
      "cell_type": "code",
      "metadata": {
        "colab": {
          "base_uri": "https://localhost:8080/"
        },
        "id": "KeNvxB8eLFom",
        "outputId": "d57414de-7162-43be-892a-106c3156aad4"
      },
      "source": [
        "prediction = model.predict(np.stack((a,a2),axis=1))\n",
        "print(prediction)"
      ],
      "execution_count": null,
      "outputs": [
        {
          "output_type": "stream",
          "text": [
            "[[0.6698727]]\n"
          ],
          "name": "stdout"
        }
      ]
    },
    {
      "cell_type": "code",
      "metadata": {
        "colab": {
          "base_uri": "https://localhost:8080/"
        },
        "id": "0aPqijm5XqXP",
        "outputId": "d6621094-9e81-4bd5-eeb0-2f8e5e575287"
      },
      "source": [
        "prediction = model3.predict(np.stack((a,a2),axis=1))\n",
        "print(prediction)"
      ],
      "execution_count": null,
      "outputs": [
        {
          "output_type": "stream",
          "text": [
            "[[0.6323676]]\n"
          ],
          "name": "stdout"
        }
      ]
    },
    {
      "cell_type": "code",
      "metadata": {
        "colab": {
          "base_uri": "https://localhost:8080/"
        },
        "id": "_X_RJoUuEbtf",
        "outputId": "1bce1b92-e6c5-4b37-bb18-07a3f87ab65a"
      },
      "source": [
        "# Model with Bidirectional LSTM, GRU, without Attention, will run for about 150-200s per epoch\n",
        "qstn1=tf.keras.Input(shape=(), dtype=tf.string)\n",
        "qstn2=tf.keras.Input(shape=(), dtype=tf.string)\n",
        "\n",
        "qu1=embed(qstn1)\n",
        "qu2=embed(qstn2)\n",
        "concat=tf.keras.layers.concatenate([qu1,qu2])\n",
        "concat=tf.keras.layers.Reshape((2,128))(concat)\n",
        "concat=tf.keras.layers.Bidirectional(tf.keras.layers.LSTM(64, return_sequences=True))(concat)\n",
        "concat=tf.keras.layers.GRU(64, return_sequences=True)(concat)\n",
        "concat=tf.keras.layers.Bidirectional(tf.keras.layers.LSTM(32))(concat)\n",
        "concat=tf.keras.layers.Dense(256,activation='relu')(concat)\n",
        "concat=tf.keras.layers.Dropout(0.2)(concat)\n",
        "concat=tf.keras.layers.BatchNormalization()(concat)\n",
        "concat=tf.keras.layers.Dense(256,activation='relu')(concat)\n",
        "concat=tf.keras.layers.Dropout(0.2)(concat)\n",
        "concat=tf.keras.layers.BatchNormalization()(concat)\n",
        "concat=tf.keras.layers.Dense(256,activation='relu')(concat)\n",
        "concat=tf.keras.layers.Dropout(0.2)(concat)\n",
        "concat=tf.keras.layers.BatchNormalization()(concat)\n",
        "concat=tf.keras.layers.Dense(256,activation='relu')(concat)\n",
        "concat=tf.keras.layers.Dropout(0.2)(concat)\n",
        "concat=tf.keras.layers.BatchNormalization()(concat)\n",
        "concat=tf.keras.layers.Dense(256,activation='relu')(concat)\n",
        "concat=tf.keras.layers.Dropout(0.2)(concat)\n",
        "concat=tf.keras.layers.BatchNormalization()(concat)\n",
        "is_dupe=tf.keras.layers.Dense(1, activation=\"sigmoid\")(concat)\n",
        "\n",
        "model4 = tf.keras.models.Model(inputs=[qstn1,qstn2], outputs=is_dupe)\n",
        "model4.summary()"
      ],
      "execution_count": null,
      "outputs": [
        {
          "output_type": "stream",
          "text": [
            "Model: \"model_1\"\n",
            "__________________________________________________________________________________________________\n",
            "Layer (type)                    Output Shape         Param #     Connected to                     \n",
            "==================================================================================================\n",
            "input_15 (InputLayer)           [(None,)]            0                                            \n",
            "__________________________________________________________________________________________________\n",
            "input_16 (InputLayer)           [(None,)]            0                                            \n",
            "__________________________________________________________________________________________________\n",
            "keras_layer (KerasLayer)        (None, 128)          112461824   input_15[0][0]                   \n",
            "                                                                 input_16[0][0]                   \n",
            "__________________________________________________________________________________________________\n",
            "concatenate_31 (Concatenate)    (None, 256)          0           keras_layer[14][0]               \n",
            "                                                                 keras_layer[15][0]               \n",
            "__________________________________________________________________________________________________\n",
            "reshape_41 (Reshape)            (None, 2, 128)       0           concatenate_31[0][0]             \n",
            "__________________________________________________________________________________________________\n",
            "bidirectional_7 (Bidirectional) (None, 2, 128)       98816       reshape_41[0][0]                 \n",
            "__________________________________________________________________________________________________\n",
            "gru_1 (GRU)                     (None, 2, 64)        37248       bidirectional_7[0][0]            \n",
            "__________________________________________________________________________________________________\n",
            "bidirectional_8 (Bidirectional) (None, 64)           24832       gru_1[0][0]                      \n",
            "__________________________________________________________________________________________________\n",
            "dense_6 (Dense)                 (None, 256)          16640       bidirectional_8[0][0]            \n",
            "__________________________________________________________________________________________________\n",
            "dropout_5 (Dropout)             (None, 256)          0           dense_6[0][0]                    \n",
            "__________________________________________________________________________________________________\n",
            "batch_normalization_5 (BatchNor (None, 256)          1024        dropout_5[0][0]                  \n",
            "__________________________________________________________________________________________________\n",
            "dense_7 (Dense)                 (None, 256)          65792       batch_normalization_5[0][0]      \n",
            "__________________________________________________________________________________________________\n",
            "dropout_6 (Dropout)             (None, 256)          0           dense_7[0][0]                    \n",
            "__________________________________________________________________________________________________\n",
            "batch_normalization_6 (BatchNor (None, 256)          1024        dropout_6[0][0]                  \n",
            "__________________________________________________________________________________________________\n",
            "dense_8 (Dense)                 (None, 256)          65792       batch_normalization_6[0][0]      \n",
            "__________________________________________________________________________________________________\n",
            "dropout_7 (Dropout)             (None, 256)          0           dense_8[0][0]                    \n",
            "__________________________________________________________________________________________________\n",
            "batch_normalization_7 (BatchNor (None, 256)          1024        dropout_7[0][0]                  \n",
            "__________________________________________________________________________________________________\n",
            "dense_9 (Dense)                 (None, 256)          65792       batch_normalization_7[0][0]      \n",
            "__________________________________________________________________________________________________\n",
            "dropout_8 (Dropout)             (None, 256)          0           dense_9[0][0]                    \n",
            "__________________________________________________________________________________________________\n",
            "batch_normalization_8 (BatchNor (None, 256)          1024        dropout_8[0][0]                  \n",
            "__________________________________________________________________________________________________\n",
            "dense_10 (Dense)                (None, 256)          65792       batch_normalization_8[0][0]      \n",
            "__________________________________________________________________________________________________\n",
            "dropout_9 (Dropout)             (None, 256)          0           dense_10[0][0]                   \n",
            "__________________________________________________________________________________________________\n",
            "batch_normalization_9 (BatchNor (None, 256)          1024        dropout_9[0][0]                  \n",
            "__________________________________________________________________________________________________\n",
            "dense_11 (Dense)                (None, 1)            257         batch_normalization_9[0][0]      \n",
            "==================================================================================================\n",
            "Total params: 112,907,905\n",
            "Trainable params: 443,521\n",
            "Non-trainable params: 112,464,384\n",
            "__________________________________________________________________________________________________\n"
          ],
          "name": "stdout"
        }
      ]
    },
    {
      "cell_type": "code",
      "metadata": {
        "id": "6sKIQ9bKNEKQ"
      },
      "source": [
        "# a=embed([\"abc\"])\n",
        "# b=embed([\"bcd\"])\n",
        "# aa=tf.keras.layers.Reshape((1,128))(a)\n",
        "# bb=tf.keras.layers.Reshape((1,128))(b)\n",
        "# ab=tf.keras.layers.concatenate([a,b])\n",
        "# tf.keras.layers.Reshape((2,128))(ab)"
      ],
      "execution_count": null,
      "outputs": []
    },
    {
      "cell_type": "code",
      "metadata": {
        "id": "zvpdiVS3S8qx"
      },
      "source": [
        "model4.compile(loss='binary_crossentropy', optimizer='adam', metrics=['accuracy'])"
      ],
      "execution_count": null,
      "outputs": []
    },
    {
      "cell_type": "code",
      "metadata": {
        "colab": {
          "base_uri": "https://localhost:8080/"
        },
        "id": "0uowvG1fGIzG",
        "outputId": "0b12753b-3571-45dc-d2a5-149d53e51256"
      },
      "source": [
        "history4 = model4.fit([Q1_train, Q2_train],\n",
        "                    yt,\n",
        "                    epochs=10,\n",
        "                    validation_data=([Q1_test,Q2_test], yte),\n",
        "                    verbose=2)"
      ],
      "execution_count": null,
      "outputs": [
        {
          "output_type": "stream",
          "text": [
            "Epoch 1/10\n",
            "10108/10108 - 150s - loss: 0.4198 - accuracy: 0.7990 - val_loss: 0.4313 - val_accuracy: 0.7890\n",
            "Epoch 2/10\n",
            "10108/10108 - 152s - loss: 0.4079 - accuracy: 0.8069 - val_loss: 0.4330 - val_accuracy: 0.7894\n",
            "Epoch 3/10\n",
            "10108/10108 - 152s - loss: 0.3980 - accuracy: 0.8131 - val_loss: 0.4282 - val_accuracy: 0.7911\n",
            "Epoch 4/10\n",
            "10108/10108 - 151s - loss: 0.3872 - accuracy: 0.8188 - val_loss: 0.4216 - val_accuracy: 0.7967\n",
            "Epoch 5/10\n",
            "10108/10108 - 151s - loss: 0.3782 - accuracy: 0.8236 - val_loss: 0.4262 - val_accuracy: 0.7959\n",
            "Epoch 6/10\n",
            "10108/10108 - 151s - loss: 0.3688 - accuracy: 0.8293 - val_loss: 0.4221 - val_accuracy: 0.8013\n",
            "Epoch 7/10\n",
            "10108/10108 - 150s - loss: 0.3597 - accuracy: 0.8350 - val_loss: 0.4660 - val_accuracy: 0.7975\n",
            "Epoch 8/10\n",
            "10108/10108 - 149s - loss: 0.3524 - accuracy: 0.8396 - val_loss: 0.4424 - val_accuracy: 0.7912\n",
            "Epoch 9/10\n",
            "10108/10108 - 150s - loss: 0.3442 - accuracy: 0.8434 - val_loss: 0.4298 - val_accuracy: 0.8007\n",
            "Epoch 10/10\n",
            "10108/10108 - 154s - loss: 0.3364 - accuracy: 0.8481 - val_loss: 0.4279 - val_accuracy: 0.7993\n"
          ],
          "name": "stdout"
        }
      ]
    },
    {
      "cell_type": "code",
      "metadata": {
        "colab": {
          "base_uri": "https://localhost:8080/"
        },
        "id": "0w15c6I6GPmA",
        "outputId": "b625d09a-57e6-4801-90a3-101cb80835df"
      },
      "source": [
        "prediction4 = model4.predict([np.asarray([\"saya memukul kursi\"]),np.asarray([\"kursi dipukul oleh saya\"])])\n",
        "print(prediction4)"
      ],
      "execution_count": null,
      "outputs": [
        {
          "output_type": "stream",
          "text": [
            "[[0.8118279]]\n"
          ],
          "name": "stdout"
        }
      ]
    }
  ]
}
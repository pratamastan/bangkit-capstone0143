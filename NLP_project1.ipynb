{
  "nbformat": 4,
  "nbformat_minor": 0,
  "metadata": {
    "colab": {
      "name": "NLP project1.ipynb",
      "provenance": [],
      "collapsed_sections": [],
      "toc_visible": true,
      "include_colab_link": true
    },
    "kernelspec": {
      "name": "python3",
      "display_name": "Python 3"
    },
    "language_info": {
      "name": "python"
    },
    "accelerator": "GPU"
  },
  "cells": [
    {
      "cell_type": "markdown",
      "metadata": {
        "id": "view-in-github",
        "colab_type": "text"
      },
      "source": [
        "<a href=\"https://colab.research.google.com/github/pratamastan/bangkit-capstone0143/blob/main/NLP_project1.ipynb\" target=\"_parent\"><img src=\"https://colab.research.google.com/assets/colab-badge.svg\" alt=\"Open In Colab\"/></a>"
      ]
    },
    {
      "cell_type": "markdown",
      "metadata": {
        "id": "G6n07cVbuvC5"
      },
      "source": [
        "# Data Fetching and train-test split"
      ]
    },
    {
      "cell_type": "code",
      "metadata": {
        "colab": {
          "base_uri": "https://localhost:8080/"
        },
        "id": "XlhC6gY_tuRR",
        "outputId": "146e4c0f-c9af-40ec-b9e2-55e5054d6f53"
      },
      "source": [
        "from google.colab import drive\n",
        "drive.mount('/content/drive')"
      ],
      "execution_count": null,
      "outputs": [
        {
          "output_type": "stream",
          "text": [
            "Mounted at /content/drive\n"
          ],
          "name": "stdout"
        }
      ]
    },
    {
      "cell_type": "code",
      "metadata": {
        "id": "cvUNWk0MuW86"
      },
      "source": [
        "import pandas as pd\n",
        "import numpy as np\n",
        "import tensorflow as tf\n",
        "import tensorflow_hub as hub\n",
        "# import pathlib\n",
        "# from os import getcwd"
      ],
      "execution_count": null,
      "outputs": []
    },
    {
      "cell_type": "markdown",
      "metadata": {
        "id": "TgTlju_Eu8tQ"
      },
      "source": [
        "Training data is taken from Quora Questions Pairs dataset (training set only) https://www.kaggle.com/c/quora-question-pairs/overview translated to Indonesian with Google Translate"
      ]
    },
    {
      "cell_type": "code",
      "metadata": {
        "id": "3fI-9jMRuzYc"
      },
      "source": [
        "data1=pd.read_csv(\"/content/drive/MyDrive/Quora question pair dataset/train complete indo.csv\")"
      ],
      "execution_count": null,
      "outputs": []
    },
    {
      "cell_type": "code",
      "metadata": {
        "id": "f4MP2chBv9E8"
      },
      "source": [
        "data1=data1.dropna()"
      ],
      "execution_count": null,
      "outputs": []
    },
    {
      "cell_type": "code",
      "metadata": {
        "colab": {
          "base_uri": "https://localhost:8080/",
          "height": 195
        },
        "id": "xn3iNxPtPGJJ",
        "outputId": "74f724ea-4f67-42b4-e8bd-b18d71ec2068"
      },
      "source": [
        "data1.head()"
      ],
      "execution_count": null,
      "outputs": [
        {
          "output_type": "execute_result",
          "data": {
            "text/html": [
              "<div>\n",
              "<style scoped>\n",
              "    .dataframe tbody tr th:only-of-type {\n",
              "        vertical-align: middle;\n",
              "    }\n",
              "\n",
              "    .dataframe tbody tr th {\n",
              "        vertical-align: top;\n",
              "    }\n",
              "\n",
              "    .dataframe thead th {\n",
              "        text-align: right;\n",
              "    }\n",
              "</style>\n",
              "<table border=\"1\" class=\"dataframe\">\n",
              "  <thead>\n",
              "    <tr style=\"text-align: right;\">\n",
              "      <th></th>\n",
              "      <th>id</th>\n",
              "      <th>qid1</th>\n",
              "      <th>qid2</th>\n",
              "      <th>question1</th>\n",
              "      <th>question2</th>\n",
              "      <th>is_duplicate</th>\n",
              "    </tr>\n",
              "  </thead>\n",
              "  <tbody>\n",
              "    <tr>\n",
              "      <th>0</th>\n",
              "      <td>0</td>\n",
              "      <td>1</td>\n",
              "      <td>2</td>\n",
              "      <td>Apa panduan langkah demi langkah untuk berinve...</td>\n",
              "      <td>Apa panduan langkah demi langkah untuk berinve...</td>\n",
              "      <td>0</td>\n",
              "    </tr>\n",
              "    <tr>\n",
              "      <th>1</th>\n",
              "      <td>1</td>\n",
              "      <td>3</td>\n",
              "      <td>4</td>\n",
              "      <td>Bagaimana kisah Berlian Kohinoor (Koh-i-Noor)?</td>\n",
              "      <td>Apa yang akan terjadi jika pemerintah India me...</td>\n",
              "      <td>0</td>\n",
              "    </tr>\n",
              "    <tr>\n",
              "      <th>2</th>\n",
              "      <td>2</td>\n",
              "      <td>5</td>\n",
              "      <td>6</td>\n",
              "      <td>Bagaimana cara meningkatkan kecepatan koneksi ...</td>\n",
              "      <td>Bagaimana kecepatan Internet dapat ditingkatka...</td>\n",
              "      <td>0</td>\n",
              "    </tr>\n",
              "    <tr>\n",
              "      <th>3</th>\n",
              "      <td>3</td>\n",
              "      <td>7</td>\n",
              "      <td>8</td>\n",
              "      <td>Mengapa saya secara mental sangat kesepian? Ba...</td>\n",
              "      <td>Temukan sisanya ketika [math] 23 ^ {24} [/ mat...</td>\n",
              "      <td>0</td>\n",
              "    </tr>\n",
              "    <tr>\n",
              "      <th>4</th>\n",
              "      <td>4</td>\n",
              "      <td>9</td>\n",
              "      <td>10</td>\n",
              "      <td>Manakah yang larut dalam air seperti gula pasi...</td>\n",
              "      <td>Ikan apa yang akan bertahan hidup di air asin?</td>\n",
              "      <td>0</td>\n",
              "    </tr>\n",
              "  </tbody>\n",
              "</table>\n",
              "</div>"
            ],
            "text/plain": [
              "   id  qid1  ...                                          question2 is_duplicate\n",
              "0   0     1  ...  Apa panduan langkah demi langkah untuk berinve...            0\n",
              "1   1     3  ...  Apa yang akan terjadi jika pemerintah India me...            0\n",
              "2   2     5  ...  Bagaimana kecepatan Internet dapat ditingkatka...            0\n",
              "3   3     7  ...  Temukan sisanya ketika [math] 23 ^ {24} [/ mat...            0\n",
              "4   4     9  ...     Ikan apa yang akan bertahan hidup di air asin?            0\n",
              "\n",
              "[5 rows x 6 columns]"
            ]
          },
          "metadata": {
            "tags": []
          },
          "execution_count": 97
        }
      ]
    },
    {
      "cell_type": "code",
      "metadata": {
        "colab": {
          "base_uri": "https://localhost:8080/"
        },
        "id": "znGtTGTXBeRk",
        "outputId": "4c783af3-4297-43d4-b4e4-c967dbf1bca8"
      },
      "source": [
        "data1.question1.str.len().max()"
      ],
      "execution_count": null,
      "outputs": [
        {
          "output_type": "execute_result",
          "data": {
            "text/plain": [
              "717"
            ]
          },
          "metadata": {
            "tags": []
          },
          "execution_count": 17
        }
      ]
    },
    {
      "cell_type": "code",
      "metadata": {
        "colab": {
          "base_uri": "https://localhost:8080/"
        },
        "id": "bEd4Pu71BkXg",
        "outputId": "f9ae063f-1cc7-43f5-e383-153a30a36850"
      },
      "source": [
        "data1.question2.str.len().max()"
      ],
      "execution_count": null,
      "outputs": [
        {
          "output_type": "execute_result",
          "data": {
            "text/plain": [
              "1395"
            ]
          },
          "metadata": {
            "tags": []
          },
          "execution_count": 18
        }
      ]
    },
    {
      "cell_type": "markdown",
      "metadata": {
        "id": "mJrW1Onzvic0"
      },
      "source": [
        "Train-test split 80% 20%"
      ]
    },
    {
      "cell_type": "code",
      "metadata": {
        "id": "kfSXEkPBw9fB"
      },
      "source": [
        "from sklearn.model_selection import train_test_split\n",
        "X_train, X_test, y_train, y_test = train_test_split(data1[[\"question1\", \"question2\"]], data1[\"is_duplicate\"], test_size=0.2, random_state=42)"
      ],
      "execution_count": null,
      "outputs": []
    },
    {
      "cell_type": "markdown",
      "metadata": {
        "id": "JvExtpCyv6Uf"
      },
      "source": [
        "Transform the dataframe to NumPy array as TensorFlow takes NumPy arrays"
      ]
    },
    {
      "cell_type": "code",
      "metadata": {
        "id": "cqNOcymh-DyD"
      },
      "source": [
        "xt=X_train.to_numpy()\n",
        "yt=y_train.to_numpy()\n",
        "\n",
        "xte=X_test.to_numpy()\n",
        "yte=y_test.to_numpy()\n",
        "\n",
        "Q1_train = X_train[\"question1\"].to_numpy()\n",
        "Q2_train = X_train[\"question2\"].to_numpy()\n",
        "Q1_test = X_test[\"question1\"].to_numpy()\n",
        "Q2_test = X_test[\"question2\"].to_numpy()"
      ],
      "execution_count": null,
      "outputs": []
    },
    {
      "cell_type": "code",
      "metadata": {
        "colab": {
          "base_uri": "https://localhost:8080/"
        },
        "id": "hnz0bVT_cTkG",
        "outputId": "47b658fe-7f98-4923-eb6b-6d52f9085f51"
      },
      "source": [
        "Q1_train"
      ],
      "execution_count": null,
      "outputs": [
        {
          "output_type": "execute_result",
          "data": {
            "text/plain": [
              "array(['Apa sajakah cerita pendeknya?',\n",
              "       'Apa jawaban terbaik untuk pertanyaan HR, \"Anda berasal dari latar belakang ECE, jadi mengapa Anda ingin bergabung dengan perusahaan IT\"?',\n",
              "       'Bagaimana cara membulatkan 1,44 ke persen terdekat?', ...,\n",
              "       'Siapa yang saat ini memenangkan pemilihan presiden?',\n",
              "       'Apa sajakah film Telugu / Tamil / Hindi yang pemeran utamanya menjadi mafia atau tidak?',\n",
              "       'Berapa peringkat yang dipotong untuk perguruan tinggi Kedokteran Rohtak dalam kuota negara bagian?'],\n",
              "      dtype=object)"
            ]
          },
          "metadata": {
            "tags": []
          },
          "execution_count": 20
        }
      ]
    },
    {
      "cell_type": "code",
      "metadata": {
        "colab": {
          "base_uri": "https://localhost:8080/",
          "height": 35
        },
        "id": "kE2tOVZKMkER",
        "outputId": "cda191fa-6c5f-4476-b65d-620a14d5c7b4"
      },
      "source": [
        "data1[\"question1\"][0]"
      ],
      "execution_count": null,
      "outputs": [
        {
          "output_type": "execute_result",
          "data": {
            "application/vnd.google.colaboratory.intrinsic+json": {
              "type": "string"
            },
            "text/plain": [
              "'Apa panduan langkah demi langkah untuk berinvestasi di pasar saham di India?'"
            ]
          },
          "metadata": {
            "tags": []
          },
          "execution_count": 105
        }
      ]
    },
    {
      "cell_type": "code",
      "metadata": {
        "colab": {
          "base_uri": "https://localhost:8080/",
          "height": 402
        },
        "id": "DGECNKybyvld",
        "outputId": "f28f17f4-93d4-4ae7-e9a8-ec854731e118"
      },
      "source": [
        "data1[[\"question1\",\"question2\"]]"
      ],
      "execution_count": null,
      "outputs": [
        {
          "output_type": "execute_result",
          "data": {
            "text/html": [
              "<div>\n",
              "<style scoped>\n",
              "    .dataframe tbody tr th:only-of-type {\n",
              "        vertical-align: middle;\n",
              "    }\n",
              "\n",
              "    .dataframe tbody tr th {\n",
              "        vertical-align: top;\n",
              "    }\n",
              "\n",
              "    .dataframe thead th {\n",
              "        text-align: right;\n",
              "    }\n",
              "</style>\n",
              "<table border=\"1\" class=\"dataframe\">\n",
              "  <thead>\n",
              "    <tr style=\"text-align: right;\">\n",
              "      <th></th>\n",
              "      <th>question1</th>\n",
              "      <th>question2</th>\n",
              "    </tr>\n",
              "  </thead>\n",
              "  <tbody>\n",
              "    <tr>\n",
              "      <th>0</th>\n",
              "      <td>Apa panduan langkah demi langkah untuk berinve...</td>\n",
              "      <td>Apa panduan langkah demi langkah untuk berinve...</td>\n",
              "    </tr>\n",
              "    <tr>\n",
              "      <th>1</th>\n",
              "      <td>Bagaimana kisah Berlian Kohinoor (Koh-i-Noor)?</td>\n",
              "      <td>Apa yang akan terjadi jika pemerintah India me...</td>\n",
              "    </tr>\n",
              "    <tr>\n",
              "      <th>2</th>\n",
              "      <td>Bagaimana cara meningkatkan kecepatan koneksi ...</td>\n",
              "      <td>Bagaimana kecepatan Internet dapat ditingkatka...</td>\n",
              "    </tr>\n",
              "    <tr>\n",
              "      <th>3</th>\n",
              "      <td>Mengapa saya secara mental sangat kesepian? Ba...</td>\n",
              "      <td>Temukan sisanya ketika [math] 23 ^ {24} [/ mat...</td>\n",
              "    </tr>\n",
              "    <tr>\n",
              "      <th>4</th>\n",
              "      <td>Manakah yang larut dalam air seperti gula pasi...</td>\n",
              "      <td>Ikan apa yang akan bertahan hidup di air asin?</td>\n",
              "    </tr>\n",
              "    <tr>\n",
              "      <th>...</th>\n",
              "      <td>...</td>\n",
              "      <td>...</td>\n",
              "    </tr>\n",
              "    <tr>\n",
              "      <th>404285</th>\n",
              "      <td>Ada berapa kata kunci dalam bahasa pemrograman...</td>\n",
              "      <td>Ada berapa kata kunci dalam Bahasa Pemrograman...</td>\n",
              "    </tr>\n",
              "    <tr>\n",
              "      <th>404286</th>\n",
              "      <td>Apakah Anda percaya ada kehidupan setelah kema...</td>\n",
              "      <td>Benarkah ada kehidupan setelah kematian?</td>\n",
              "    </tr>\n",
              "    <tr>\n",
              "      <th>404287</th>\n",
              "      <td>Apa satu koin?</td>\n",
              "      <td>Koin apa ini?</td>\n",
              "    </tr>\n",
              "    <tr>\n",
              "      <th>404288</th>\n",
              "      <td>Berapa perkiraan biaya hidup tahunan selama be...</td>\n",
              "      <td>Saya mengalami sedikit masalah rambut rontok t...</td>\n",
              "    </tr>\n",
              "    <tr>\n",
              "      <th>404289</th>\n",
              "      <td>Bagaimana rasanya berhubungan seks dengan sepupu?</td>\n",
              "      <td>Bagaimana rasanya berhubungan seks dengan sepu...</td>\n",
              "    </tr>\n",
              "  </tbody>\n",
              "</table>\n",
              "<p>404290 rows × 2 columns</p>\n",
              "</div>"
            ],
            "text/plain": [
              "                                                question1                                          question2\n",
              "0       Apa panduan langkah demi langkah untuk berinve...  Apa panduan langkah demi langkah untuk berinve...\n",
              "1          Bagaimana kisah Berlian Kohinoor (Koh-i-Noor)?  Apa yang akan terjadi jika pemerintah India me...\n",
              "2       Bagaimana cara meningkatkan kecepatan koneksi ...  Bagaimana kecepatan Internet dapat ditingkatka...\n",
              "3       Mengapa saya secara mental sangat kesepian? Ba...  Temukan sisanya ketika [math] 23 ^ {24} [/ mat...\n",
              "4       Manakah yang larut dalam air seperti gula pasi...     Ikan apa yang akan bertahan hidup di air asin?\n",
              "...                                                   ...                                                ...\n",
              "404285  Ada berapa kata kunci dalam bahasa pemrograman...  Ada berapa kata kunci dalam Bahasa Pemrograman...\n",
              "404286  Apakah Anda percaya ada kehidupan setelah kema...           Benarkah ada kehidupan setelah kematian?\n",
              "404287                                     Apa satu koin?                                      Koin apa ini?\n",
              "404288  Berapa perkiraan biaya hidup tahunan selama be...  Saya mengalami sedikit masalah rambut rontok t...\n",
              "404289  Bagaimana rasanya berhubungan seks dengan sepupu?  Bagaimana rasanya berhubungan seks dengan sepu...\n",
              "\n",
              "[404290 rows x 2 columns]"
            ]
          },
          "metadata": {
            "tags": []
          },
          "execution_count": 23
        }
      ]
    },
    {
      "cell_type": "markdown",
      "metadata": {
        "id": "fK_67Efdw32S"
      },
      "source": [
        "# Transfer Learning for Indonesian language embedding\n",
        "### Embedding to vector with 128 dimension"
      ]
    },
    {
      "cell_type": "code",
      "metadata": {
        "id": "eD6gHbz8y3F8"
      },
      "source": [
        "#Model runtime will increase if tranable=True to about 900-1000s per epoch\n",
        "embed = hub.KerasLayer(\"https://tfhub.dev/google/nnlm-id-dim128-with-normalization/2\",input_shape=[], dtype=tf.string)\n",
        "#embed.trainable=True"
      ],
      "execution_count": null,
      "outputs": []
    },
    {
      "cell_type": "code",
      "metadata": {
        "id": "3sSxwalsMSkK"
      },
      "source": [
        "xt1=embed(Q1_train)\n",
        "xt2=embed(Q2_train)\n",
        "xte1=embed(Q1_test)\n",
        "xte2=embed(Q2_test)"
      ],
      "execution_count": null,
      "outputs": []
    },
    {
      "cell_type": "code",
      "metadata": {
        "colab": {
          "base_uri": "https://localhost:8080/"
        },
        "id": "ogL4saosmMVV",
        "outputId": "21f664ca-4e9c-4f9b-8bb2-a0db7f2bb96e"
      },
      "source": [
        "xt1"
      ],
      "execution_count": null,
      "outputs": [
        {
          "output_type": "execute_result",
          "data": {
            "text/plain": [
              "<tf.Tensor: shape=(323430, 128), dtype=float32, numpy=\n",
              "array([[ 0.03792422, -0.08203722, -0.03952134, ..., -0.03751129,\n",
              "        -0.13026127, -0.21294448],\n",
              "       [ 0.16049062,  0.05221158, -0.03756306, ..., -0.06843793,\n",
              "        -0.16083518,  0.00526717],\n",
              "       [ 0.00541904,  0.03682816, -0.10739181, ..., -0.05703003,\n",
              "        -0.12414219, -0.05216019],\n",
              "       ...,\n",
              "       [ 0.17406467,  0.06946962, -0.02178098, ..., -0.05727712,\n",
              "        -0.17851247, -0.00691927],\n",
              "       [ 0.14288372, -0.16400667,  0.03347619, ...,  0.04388543,\n",
              "        -0.12863201, -0.02391369],\n",
              "       [-0.02106932, -0.22670205, -0.11702876, ..., -0.13742013,\n",
              "        -0.11424292,  0.08969257]], dtype=float32)>"
            ]
          },
          "metadata": {
            "tags": []
          },
          "execution_count": 14
        }
      ]
    },
    {
      "cell_type": "markdown",
      "metadata": {
        "id": "KHFsGIoyuWey"
      },
      "source": [
        "# Base Models without embedding integrated"
      ]
    },
    {
      "cell_type": "code",
      "metadata": {
        "id": "0AI-Xuhm7qnk"
      },
      "source": [
        "##Will run 1 epoch about 2 minutes\n",
        "model=tf.keras.Sequential([tf.keras.layers.Bidirectional(tf.keras.layers.LSTM(64, return_sequences=True)),\n",
        "                           tf.keras.layers.Bidirectional(tf.keras.layers.LSTM(32)),\n",
        "                           tf.keras.layers.Dense(200,activation='relu'),\n",
        "                           tf.keras.layers.Dropout(0.2),\n",
        "                           tf.keras.layers.BatchNormalization(),\n",
        "                           tf.keras.layers.Dense(200,activation='relu'),\n",
        "                           tf.keras.layers.Dropout(0.2),\n",
        "                           tf.keras.layers.BatchNormalization(),\n",
        "                           tf.keras.layers.Dense(200,activation='relu'),\n",
        "                           tf.keras.layers.Dropout(0.2),\n",
        "                           tf.keras.layers.BatchNormalization(),\n",
        "                           tf.keras.layers.Dense(200,activation='relu'),\n",
        "                           tf.keras.layers.Dropout(0.2),\n",
        "                           tf.keras.layers.BatchNormalization(),\n",
        "                           tf.keras.layers.Dense(1, activation=\"sigmoid\")\n",
        "])\n",
        "#model.build((1,2,128))"
      ],
      "execution_count": null,
      "outputs": []
    },
    {
      "cell_type": "code",
      "metadata": {
        "colab": {
          "base_uri": "https://localhost:8080/"
        },
        "id": "4GvI4xl8gADS",
        "outputId": "f9fa1fe6-bac0-4871-8ec8-f34134818570"
      },
      "source": [
        "#fit the model first and then run this cell, if not, this cell won't run properly\n",
        "model.summary()"
      ],
      "execution_count": null,
      "outputs": [
        {
          "output_type": "stream",
          "text": [
            "Model: \"sequential\"\n",
            "_________________________________________________________________\n",
            "Layer (type)                 Output Shape              Param #   \n",
            "=================================================================\n",
            "bidirectional (Bidirectional (None, 2, 128)            98816     \n",
            "_________________________________________________________________\n",
            "bidirectional_1 (Bidirection (None, 64)                41216     \n",
            "_________________________________________________________________\n",
            "dense (Dense)                (None, 200)               13000     \n",
            "_________________________________________________________________\n",
            "dropout (Dropout)            (None, 200)               0         \n",
            "_________________________________________________________________\n",
            "batch_normalization (BatchNo (None, 200)               800       \n",
            "_________________________________________________________________\n",
            "dense_1 (Dense)              (None, 200)               40200     \n",
            "_________________________________________________________________\n",
            "dropout_1 (Dropout)          (None, 200)               0         \n",
            "_________________________________________________________________\n",
            "batch_normalization_1 (Batch (None, 200)               800       \n",
            "_________________________________________________________________\n",
            "dense_2 (Dense)              (None, 200)               40200     \n",
            "_________________________________________________________________\n",
            "dropout_2 (Dropout)          (None, 200)               0         \n",
            "_________________________________________________________________\n",
            "batch_normalization_2 (Batch (None, 200)               800       \n",
            "_________________________________________________________________\n",
            "dense_3 (Dense)              (None, 200)               40200     \n",
            "_________________________________________________________________\n",
            "dropout_3 (Dropout)          (None, 200)               0         \n",
            "_________________________________________________________________\n",
            "batch_normalization_3 (Batch (None, 200)               800       \n",
            "_________________________________________________________________\n",
            "dense_4 (Dense)              (None, 1)                 201       \n",
            "=================================================================\n",
            "Total params: 277,033\n",
            "Trainable params: 275,433\n",
            "Non-trainable params: 1,600\n",
            "_________________________________________________________________\n"
          ],
          "name": "stdout"
        }
      ]
    },
    {
      "cell_type": "code",
      "metadata": {
        "id": "5lh_IkfGB1_o"
      },
      "source": [
        "model.compile(loss='binary_crossentropy', optimizer='adam', metrics=['accuracy'])"
      ],
      "execution_count": null,
      "outputs": []
    },
    {
      "cell_type": "code",
      "metadata": {
        "colab": {
          "base_uri": "https://localhost:8080/"
        },
        "id": "7srafr_9Kg_F",
        "outputId": "bf2970da-dc7c-44a1-b8d7-8a1e2265552a"
      },
      "source": [
        "history = model.fit(np.stack((xt1, xt2), axis=1),\n",
        "                    yt,\n",
        "                    epochs=5,\n",
        "                    validation_data=(np.stack((xte1, xte2), axis=1), yte),\n",
        "                    verbose=2)"
      ],
      "execution_count": null,
      "outputs": [
        {
          "output_type": "stream",
          "text": [
            "Epoch 1/5\n",
            "10108/10108 - 127s - loss: 0.5713 - accuracy: 0.7028 - val_loss: 0.5203 - val_accuracy: 0.7332\n",
            "Epoch 2/5\n",
            "10108/10108 - 89s - loss: 0.4990 - accuracy: 0.7478 - val_loss: 0.4760 - val_accuracy: 0.7597\n",
            "Epoch 3/5\n",
            "10108/10108 - 87s - loss: 0.4668 - accuracy: 0.7676 - val_loss: 0.4600 - val_accuracy: 0.7681\n",
            "Epoch 4/5\n",
            "10108/10108 - 86s - loss: 0.4468 - accuracy: 0.7809 - val_loss: 0.4450 - val_accuracy: 0.7805\n",
            "Epoch 5/5\n",
            "10108/10108 - 86s - loss: 0.4299 - accuracy: 0.7923 - val_loss: 0.4362 - val_accuracy: 0.7875\n"
          ],
          "name": "stdout"
        }
      ]
    },
    {
      "cell_type": "code",
      "metadata": {
        "colab": {
          "base_uri": "https://localhost:8080/"
        },
        "id": "6ZbM5pm9iju4",
        "outputId": "7674fff4-2713-4807-8bdf-cc11668f30de"
      },
      "source": [
        "xt[0].shape"
      ],
      "execution_count": null,
      "outputs": [
        {
          "output_type": "execute_result",
          "data": {
            "text/plain": [
              "(2,)"
            ]
          },
          "metadata": {
            "tags": []
          },
          "execution_count": 19
        }
      ]
    },
    {
      "cell_type": "code",
      "metadata": {
        "id": "kmftLH2m03W7"
      },
      "source": [
        "## 1 epoch is about 150-200s, added GRU Layer between the stacked Bidirectional LSTM layer\n",
        "model3=tf.keras.Sequential([tf.keras.layers.Bidirectional(tf.keras.layers.LSTM(64, return_sequences=True)),\n",
        "                            tf.keras.layers.GRU(64, return_sequences=True),\n",
        "                            tf.keras.layers.Bidirectional(tf.keras.layers.LSTM(32)),\n",
        "                            tf.keras.layers.Dense(256,activation='relu'),\n",
        "                            tf.keras.layers.Dropout(0.2),\n",
        "                            tf.keras.layers.BatchNormalization(),\n",
        "                            tf.keras.layers.Dense(256,activation='relu'),\n",
        "                            tf.keras.layers.Dropout(0.2),\n",
        "                            tf.keras.layers.BatchNormalization(),\n",
        "                            tf.keras.layers.Dense(256,activation='relu'),\n",
        "                            tf.keras.layers.Dropout(0.2),\n",
        "                            tf.keras.layers.BatchNormalization(),\n",
        "                            tf.keras.layers.Dense(256,activation='relu'),\n",
        "                            tf.keras.layers.Dropout(0.2),\n",
        "                            tf.keras.layers.BatchNormalization(),\n",
        "                            tf.keras.layers.Dense(256,activation='relu'),\n",
        "                            tf.keras.layers.Dropout(0.2),\n",
        "                            tf.keras.layers.BatchNormalization(),\n",
        "                            tf.keras.layers.Dense(1, activation=\"sigmoid\")\n",
        "])"
      ],
      "execution_count": null,
      "outputs": []
    },
    {
      "cell_type": "code",
      "metadata": {
        "id": "lbJ5tfdVwn4t"
      },
      "source": [
        "#fit the model first and then run this cell, if not, this cell won't run properly\n",
        "model3.summary()"
      ],
      "execution_count": null,
      "outputs": []
    },
    {
      "cell_type": "code",
      "metadata": {
        "colab": {
          "base_uri": "https://localhost:8080/"
        },
        "id": "4MUF2zMt113H",
        "outputId": "90bfdf6d-23bb-4d7a-d89b-0b3881d9b750"
      },
      "source": [
        "model3.compile(loss='binary_crossentropy', optimizer='adam', metrics=['accuracy'])\n",
        "history3 = model3.fit(np.stack((xt1, xt2), axis=1),\n",
        "                    yt,\n",
        "                    epochs=5,\n",
        "                    validation_data=(np.stack((xte1, xte2), axis=1), yte),\n",
        "                    verbose=2)"
      ],
      "execution_count": null,
      "outputs": [
        {
          "output_type": "stream",
          "text": [
            "Epoch 1/5\n",
            "10108/10108 - 172s - loss: 0.5752 - accuracy: 0.7000 - val_loss: 0.5065 - val_accuracy: 0.7385\n",
            "Epoch 2/5\n",
            "10108/10108 - 166s - loss: 0.4993 - accuracy: 0.7466 - val_loss: 0.4812 - val_accuracy: 0.7582\n",
            "Epoch 3/5\n",
            "10108/10108 - 169s - loss: 0.4704 - accuracy: 0.7663 - val_loss: 0.4679 - val_accuracy: 0.7670\n",
            "Epoch 4/5\n",
            "10108/10108 - 171s - loss: 0.4508 - accuracy: 0.7796 - val_loss: 0.4520 - val_accuracy: 0.7793\n",
            "Epoch 5/5\n",
            "10108/10108 - 166s - loss: 0.4343 - accuracy: 0.7901 - val_loss: 0.4396 - val_accuracy: 0.7847\n"
          ],
          "name": "stdout"
        }
      ]
    },
    {
      "cell_type": "code",
      "metadata": {
        "id": "WdKnfeH_T7sb"
      },
      "source": [
        "a=embed([\"saya memukul kursi\"])\n",
        "a2=embed([\"kursi dipukul oleh saya\"])"
      ],
      "execution_count": null,
      "outputs": []
    },
    {
      "cell_type": "code",
      "metadata": {
        "colab": {
          "base_uri": "https://localhost:8080/"
        },
        "id": "KeNvxB8eLFom",
        "outputId": "d57414de-7162-43be-892a-106c3156aad4"
      },
      "source": [
        "prediction = model.predict(np.stack((a,a2),axis=1))\n",
        "print(prediction)"
      ],
      "execution_count": null,
      "outputs": [
        {
          "output_type": "stream",
          "text": [
            "[[0.6698727]]\n"
          ],
          "name": "stdout"
        }
      ]
    },
    {
      "cell_type": "code",
      "metadata": {
        "colab": {
          "base_uri": "https://localhost:8080/"
        },
        "id": "0aPqijm5XqXP",
        "outputId": "d6621094-9e81-4bd5-eeb0-2f8e5e575287"
      },
      "source": [
        "prediction = model3.predict(np.stack((a,a2),axis=1))\n",
        "print(prediction)"
      ],
      "execution_count": null,
      "outputs": [
        {
          "output_type": "stream",
          "text": [
            "[[0.6323676]]\n"
          ],
          "name": "stdout"
        }
      ]
    },
    {
      "cell_type": "markdown",
      "metadata": {
        "id": "IN4qLrbLwfKx"
      },
      "source": [
        "# Models with two inputs and embedding integrated into the models"
      ]
    },
    {
      "cell_type": "code",
      "metadata": {
        "colab": {
          "base_uri": "https://localhost:8080/"
        },
        "id": "2NAi6Wj9f_Vy",
        "outputId": "aa391570-458c-464b-9088-d769d162e69f"
      },
      "source": [
        "## Model without Bidirectional LSTM model accuracy is only 66-72%, take 2 inputs, will run 1 epoch about 90s \n",
        "# ques1=tf.keras.Input(shape=(), dtype=tf.string)\n",
        "# ques2=tf.keras.Input(shape=(), dtype=tf.string)\n",
        "\n",
        "# qu1=embed(ques1)\n",
        "# qu2=embed(ques2)\n",
        "# attention=tf.keras.layers.Attention()([qu1,qu2])\n",
        "# #attention=tf.keras.layers.Bidirectional(tf.keras.layers.LSTM(64, return_sequences=True))(attention)\n",
        "# #attention=tf.keras.layers.Attention()(attention)\n",
        "# attention=tf.keras.layers.Flatten()(attention)\n",
        "# attention=tf.keras.layers.Dense(300, activation=\"relu\")(attention)\n",
        "# merged = tf.keras.layers.Dense(200,activation='relu')(attention)\n",
        "# merged = tf.keras.layers.Dropout(0.2)(merged)\n",
        "# merged = tf.keras.layers.BatchNormalization()(merged)\n",
        "# merged = tf.keras.layers.Dense(200,activation='relu')(merged)\n",
        "# merged = tf.keras.layers.Dropout(0.2)(merged)\n",
        "# merged = tf.keras.layers.BatchNormalization()(merged)\n",
        "# merged = tf.keras.layers.Dense(200,activation='relu')(merged)\n",
        "# merged = tf.keras.layers.Dropout(0.2)(merged)\n",
        "# merged = tf.keras.layers.BatchNormalization()(merged)\n",
        "# merged = tf.keras.layers.Dense(200,activation='relu')(merged)\n",
        "# merged = tf.keras.layers.Dropout(0.2)(merged)\n",
        "# merged = tf.keras.layers.BatchNormalization()(merged)\n",
        "\n",
        "# is_duplicate = tf.keras.layers.Dense(1, activation=\"sigmoid\")(merged)\n",
        "# model2 = tf.keras.models.Model(inputs=[ques1,ques2], outputs=is_duplicate)\n",
        "# model2.summary()"
      ],
      "execution_count": null,
      "outputs": [
        {
          "output_type": "stream",
          "text": [
            "Model: \"model\"\n",
            "__________________________________________________________________________________________________\n",
            "Layer (type)                    Output Shape         Param #     Connected to                     \n",
            "==================================================================================================\n",
            "input_1 (InputLayer)            [(None,)]            0                                            \n",
            "__________________________________________________________________________________________________\n",
            "input_2 (InputLayer)            [(None,)]            0                                            \n",
            "__________________________________________________________________________________________________\n",
            "keras_layer (KerasLayer)        (None, 128)          112461824   input_1[0][0]                    \n",
            "                                                                 input_2[0][0]                    \n",
            "__________________________________________________________________________________________________\n",
            "attention (Attention)           (None, 128)          0           keras_layer[2][0]                \n",
            "                                                                 keras_layer[3][0]                \n",
            "__________________________________________________________________________________________________\n",
            "flatten (Flatten)               (None, 128)          0           attention[0][0]                  \n",
            "__________________________________________________________________________________________________\n",
            "dense_16 (Dense)                (None, 300)          38700       flatten[0][0]                    \n",
            "__________________________________________________________________________________________________\n",
            "dense_17 (Dense)                (None, 200)          60200       dense_16[0][0]                   \n",
            "__________________________________________________________________________________________________\n",
            "dropout_13 (Dropout)            (None, 200)          0           dense_17[0][0]                   \n",
            "__________________________________________________________________________________________________\n",
            "batch_normalization_13 (BatchNo (None, 200)          800         dropout_13[0][0]                 \n",
            "__________________________________________________________________________________________________\n",
            "dense_18 (Dense)                (None, 200)          40200       batch_normalization_13[0][0]     \n",
            "__________________________________________________________________________________________________\n",
            "dropout_14 (Dropout)            (None, 200)          0           dense_18[0][0]                   \n",
            "__________________________________________________________________________________________________\n",
            "batch_normalization_14 (BatchNo (None, 200)          800         dropout_14[0][0]                 \n",
            "__________________________________________________________________________________________________\n",
            "dense_19 (Dense)                (None, 200)          40200       batch_normalization_14[0][0]     \n",
            "__________________________________________________________________________________________________\n",
            "dropout_15 (Dropout)            (None, 200)          0           dense_19[0][0]                   \n",
            "__________________________________________________________________________________________________\n",
            "batch_normalization_15 (BatchNo (None, 200)          800         dropout_15[0][0]                 \n",
            "__________________________________________________________________________________________________\n",
            "dense_20 (Dense)                (None, 200)          40200       batch_normalization_15[0][0]     \n",
            "__________________________________________________________________________________________________\n",
            "dropout_16 (Dropout)            (None, 200)          0           dense_20[0][0]                   \n",
            "__________________________________________________________________________________________________\n",
            "batch_normalization_16 (BatchNo (None, 200)          800         dropout_16[0][0]                 \n",
            "__________________________________________________________________________________________________\n",
            "dense_21 (Dense)                (None, 1)            201         batch_normalization_16[0][0]     \n",
            "==================================================================================================\n",
            "Total params: 112,684,725\n",
            "Trainable params: 221,301\n",
            "Non-trainable params: 112,463,424\n",
            "__________________________________________________________________________________________________\n"
          ],
          "name": "stdout"
        }
      ]
    },
    {
      "cell_type": "code",
      "metadata": {
        "colab": {
          "base_uri": "https://localhost:8080/"
        },
        "id": "ZjAR5pmQ8O7q",
        "outputId": "21e3e9ca-bda4-466d-c88b-311490365e25"
      },
      "source": [
        "# model2.compile(loss='binary_crossentropy', optimizer='adam', metrics=['accuracy'])\n",
        "# history2 = model2.fit([Q1_train, Q2_train],\n",
        "#                     yt,\n",
        "#                     epochs=5,\n",
        "#                     validation_data=([Q1_test,Q2_test], yte),\n",
        "#                     verbose=2)"
      ],
      "execution_count": null,
      "outputs": [
        {
          "output_type": "stream",
          "text": [
            "Epoch 1/5\n",
            "10108/10108 - 87s - loss: 0.6506 - accuracy: 0.6347 - val_loss: 1.0374 - val_accuracy: 0.5443\n",
            "Epoch 2/5\n",
            "10108/10108 - 87s - loss: 0.6365 - accuracy: 0.6497 - val_loss: 0.6807 - val_accuracy: 0.6189\n",
            "Epoch 3/5\n",
            "10108/10108 - 89s - loss: 0.6330 - accuracy: 0.6540 - val_loss: 0.7115 - val_accuracy: 0.6095\n",
            "Epoch 4/5\n",
            "10108/10108 - 86s - loss: 0.6312 - accuracy: 0.6559 - val_loss: 0.8011 - val_accuracy: 0.5844\n",
            "Epoch 5/5\n",
            "10108/10108 - 89s - loss: 0.6305 - accuracy: 0.6563 - val_loss: 0.6913 - val_accuracy: 0.6308\n"
          ],
          "name": "stdout"
        }
      ]
    },
    {
      "cell_type": "code",
      "metadata": {
        "colab": {
          "base_uri": "https://localhost:8080/"
        },
        "id": "XmJdCMUv2UsX",
        "outputId": "5e1f1112-4dd5-45bc-f346-ee0878ee39d5"
      },
      "source": [
        "#Model with Bidirectional LSTM, Attention layer, take 2 inputs, will run about 150s for 1 epoch\n",
        "ques1=tf.keras.Input(shape=(), dtype=tf.string)\n",
        "ques2=tf.keras.Input(shape=(), dtype=tf.string)\n",
        "\n",
        "qu1=embed(ques1)\n",
        "qu2=embed(ques2)\n",
        "\n",
        "q1=tf.expand_dims(qu1, axis=1)\n",
        "q2=tf.expand_dims(qu2, axis=1)\n",
        "q1=tf.keras.layers.Bidirectional(tf.keras.layers.LSTM(64, return_sequences=True))(q1)\n",
        "q2=tf.keras.layers.Bidirectional(tf.keras.layers.LSTM(64, return_sequences=True))(q2)\n",
        "\n",
        "attention=tf.keras.layers.Attention()([q1,q2])\n",
        "#attention=tf.keras.layers.Flatten()(attention)\n",
        "attention=tf.keras.layers.Dense(300, activation=\"relu\")(attention)\n",
        "#attention=tf.keras.layers.Reshape((2,128))(attention)\n",
        "\n",
        "#merged = tf.keras.layers.Add([q1,attention])\n",
        "#merged = tf.keras.layers.Flatten()(attention)\n",
        "merged = tf.keras.layers.Dense(200,activation='relu')(attention)\n",
        "merged = tf.keras.layers.Dropout(0.2)(merged)\n",
        "merged = tf.keras.layers.BatchNormalization()(merged)\n",
        "merged = tf.keras.layers.Dense(200,activation='relu')(merged)\n",
        "merged = tf.keras.layers.Dropout(0.2)(merged)\n",
        "merged = tf.keras.layers.BatchNormalization()(merged)\n",
        "merged = tf.keras.layers.Dense(200,activation='relu')(merged)\n",
        "merged = tf.keras.layers.Dropout(0.2)(merged)\n",
        "merged = tf.keras.layers.BatchNormalization()(merged)\n",
        "merged = tf.keras.layers.Dense(200,activation='relu')(merged)\n",
        "merged = tf.keras.layers.Dropout(0.2)(merged)\n",
        "merged = tf.keras.layers.BatchNormalization()(merged)\n",
        "\n",
        "is_duplicate = tf.keras.layers.Dense(1, activation=\"sigmoid\")(merged)\n",
        "model1 = tf.keras.models.Model(inputs=[ques1,ques2], outputs=is_duplicate)\n",
        "model1.summary()"
      ],
      "execution_count": null,
      "outputs": [
        {
          "output_type": "stream",
          "text": [
            "Model: \"model_3\"\n",
            "__________________________________________________________________________________________________\n",
            "Layer (type)                    Output Shape         Param #     Connected to                     \n",
            "==================================================================================================\n",
            "input_21 (InputLayer)           [(None,)]            0                                            \n",
            "__________________________________________________________________________________________________\n",
            "input_22 (InputLayer)           [(None,)]            0                                            \n",
            "__________________________________________________________________________________________________\n",
            "keras_layer (KerasLayer)        (None, 128)          112461824   input_21[0][0]                   \n",
            "                                                                 input_22[0][0]                   \n",
            "__________________________________________________________________________________________________\n",
            "tf.expand_dims_6 (TFOpLambda)   (None, 1, 128)       0           keras_layer[10][0]               \n",
            "__________________________________________________________________________________________________\n",
            "tf.expand_dims_7 (TFOpLambda)   (None, 1, 128)       0           keras_layer[11][0]               \n",
            "__________________________________________________________________________________________________\n",
            "bidirectional_58 (Bidirectional (None, 1, 128)       98816       tf.expand_dims_6[0][0]           \n",
            "__________________________________________________________________________________________________\n",
            "bidirectional_59 (Bidirectional (None, 1, 128)       98816       tf.expand_dims_7[0][0]           \n",
            "__________________________________________________________________________________________________\n",
            "attention_4 (Attention)         (None, 1, 128)       0           bidirectional_58[0][0]           \n",
            "                                                                 bidirectional_59[0][0]           \n",
            "__________________________________________________________________________________________________\n",
            "dense_196 (Dense)               (None, 1, 300)       38700       attention_4[0][0]                \n",
            "__________________________________________________________________________________________________\n",
            "dense_197 (Dense)               (None, 1, 200)       60200       dense_196[0][0]                  \n",
            "__________________________________________________________________________________________________\n",
            "dropout_155 (Dropout)           (None, 1, 200)       0           dense_197[0][0]                  \n",
            "__________________________________________________________________________________________________\n",
            "batch_normalization_155 (BatchN (None, 1, 200)       800         dropout_155[0][0]                \n",
            "__________________________________________________________________________________________________\n",
            "dense_198 (Dense)               (None, 1, 200)       40200       batch_normalization_155[0][0]    \n",
            "__________________________________________________________________________________________________\n",
            "dropout_156 (Dropout)           (None, 1, 200)       0           dense_198[0][0]                  \n",
            "__________________________________________________________________________________________________\n",
            "batch_normalization_156 (BatchN (None, 1, 200)       800         dropout_156[0][0]                \n",
            "__________________________________________________________________________________________________\n",
            "dense_199 (Dense)               (None, 1, 200)       40200       batch_normalization_156[0][0]    \n",
            "__________________________________________________________________________________________________\n",
            "dropout_157 (Dropout)           (None, 1, 200)       0           dense_199[0][0]                  \n",
            "__________________________________________________________________________________________________\n",
            "batch_normalization_157 (BatchN (None, 1, 200)       800         dropout_157[0][0]                \n",
            "__________________________________________________________________________________________________\n",
            "dense_200 (Dense)               (None, 1, 200)       40200       batch_normalization_157[0][0]    \n",
            "__________________________________________________________________________________________________\n",
            "dropout_158 (Dropout)           (None, 1, 200)       0           dense_200[0][0]                  \n",
            "__________________________________________________________________________________________________\n",
            "batch_normalization_158 (BatchN (None, 1, 200)       800         dropout_158[0][0]                \n",
            "__________________________________________________________________________________________________\n",
            "dense_201 (Dense)               (None, 1, 1)         201         batch_normalization_158[0][0]    \n",
            "==================================================================================================\n",
            "Total params: 112,882,357\n",
            "Trainable params: 418,933\n",
            "Non-trainable params: 112,463,424\n",
            "__________________________________________________________________________________________________\n"
          ],
          "name": "stdout"
        }
      ]
    },
    {
      "cell_type": "code",
      "metadata": {
        "id": "RjDaDGv593CS"
      },
      "source": [
        "model1.compile(loss='binary_crossentropy', optimizer='adam', metrics=['accuracy'])"
      ],
      "execution_count": null,
      "outputs": []
    },
    {
      "cell_type": "code",
      "metadata": {
        "colab": {
          "base_uri": "https://localhost:8080/"
        },
        "id": "6Fmf3aHiF_Kt",
        "outputId": "fdef9f2c-72aa-496f-9bb1-7cb83f075ac4"
      },
      "source": [
        "history1 = model1.fit([Q1_train, Q2_train],\n",
        "                    yt,\n",
        "                    epochs=5,\n",
        "                    validation_data=([Q1_test,Q2_test], yte),\n",
        "                    verbose=2)"
      ],
      "execution_count": null,
      "outputs": [
        {
          "output_type": "stream",
          "text": [
            "Epoch 1/5\n",
            "10108/10108 - 158s - loss: 0.6065 - accuracy: 0.6718 - val_loss: 0.5756 - val_accuracy: 0.6970\n",
            "Epoch 2/5\n",
            "10108/10108 - 150s - loss: 0.5720 - accuracy: 0.7036 - val_loss: 0.5628 - val_accuracy: 0.7107\n",
            "Epoch 3/5\n",
            "10108/10108 - 150s - loss: 0.5572 - accuracy: 0.7153 - val_loss: 0.5507 - val_accuracy: 0.7214\n",
            "Epoch 4/5\n",
            "10108/10108 - 152s - loss: 0.5445 - accuracy: 0.7252 - val_loss: 0.5390 - val_accuracy: 0.7288\n",
            "Epoch 5/5\n",
            "10108/10108 - 149s - loss: 0.5343 - accuracy: 0.7333 - val_loss: 0.5355 - val_accuracy: 0.7312\n"
          ],
          "name": "stdout"
        }
      ]
    },
    {
      "cell_type": "code",
      "metadata": {
        "colab": {
          "base_uri": "https://localhost:8080/"
        },
        "id": "cWPsoB3ibSdl",
        "outputId": "060211b4-79e8-4f63-c424-965793caf5ff"
      },
      "source": [
        "prediction1 = model1.predict([np.asarray([\"dia memainkan gitar\"]),np.asarray([\"gitar dimainkan oleh dia\"])])\n",
        "print(prediction1)"
      ],
      "execution_count": null,
      "outputs": [
        {
          "output_type": "stream",
          "text": [
            "[[[0.3716218]]]\n"
          ],
          "name": "stdout"
        }
      ]
    },
    {
      "cell_type": "markdown",
      "metadata": {
        "id": "t84oM73yxTDs"
      },
      "source": [
        "# Final Models\n",
        "## Models with two inputs and embedding integrated"
      ]
    },
    {
      "cell_type": "markdown",
      "metadata": {
        "id": "Nlm2F8Idx-Ln"
      },
      "source": [
        "## Model with GRU layer"
      ]
    },
    {
      "cell_type": "code",
      "metadata": {
        "colab": {
          "base_uri": "https://localhost:8080/"
        },
        "id": "_X_RJoUuEbtf",
        "outputId": "75286609-fde7-4433-f158-70a6f54cf198"
      },
      "source": [
        "# Model with Bidirectional LSTM, GRU, without Attention, will run for about 150-200s per epoch\n",
        "qstn1=tf.keras.Input(shape=(), dtype=tf.string)\n",
        "qstn2=tf.keras.Input(shape=(), dtype=tf.string)\n",
        "\n",
        "qu1=embed(qstn1)\n",
        "qu2=embed(qstn2)\n",
        "concat=tf.keras.layers.concatenate([qu1,qu2])\n",
        "concat=tf.keras.layers.Reshape((2,128))(concat)\n",
        "concat=tf.keras.layers.Bidirectional(tf.keras.layers.LSTM(64, return_sequences=True))(concat)\n",
        "concat=tf.keras.layers.GRU(64, return_sequences=True)(concat)\n",
        "concat=tf.keras.layers.Bidirectional(tf.keras.layers.LSTM(32))(concat)\n",
        "concat=tf.keras.layers.Dense(256,activation='relu')(concat)\n",
        "concat=tf.keras.layers.Dropout(0.2)(concat)\n",
        "concat=tf.keras.layers.BatchNormalization()(concat)\n",
        "concat=tf.keras.layers.Dense(256,activation='relu')(concat)\n",
        "concat=tf.keras.layers.Dropout(0.2)(concat)\n",
        "concat=tf.keras.layers.BatchNormalization()(concat)\n",
        "concat=tf.keras.layers.Dense(256,activation='relu')(concat)\n",
        "concat=tf.keras.layers.Dropout(0.2)(concat)\n",
        "concat=tf.keras.layers.BatchNormalization()(concat)\n",
        "concat=tf.keras.layers.Dense(256,activation='relu')(concat)\n",
        "concat=tf.keras.layers.Dropout(0.2)(concat)\n",
        "concat=tf.keras.layers.BatchNormalization()(concat)\n",
        "concat=tf.keras.layers.Dense(256,activation='relu')(concat)\n",
        "concat=tf.keras.layers.Dropout(0.2)(concat)\n",
        "concat=tf.keras.layers.BatchNormalization()(concat)\n",
        "is_dupe=tf.keras.layers.Dense(1, activation=\"sigmoid\")(concat)\n",
        "\n",
        "model4 = tf.keras.models.Model(inputs=[qstn1,qstn2], outputs=is_dupe)\n",
        "model4.summary()"
      ],
      "execution_count": null,
      "outputs": [
        {
          "output_type": "stream",
          "text": [
            "Model: \"model\"\n",
            "__________________________________________________________________________________________________\n",
            "Layer (type)                    Output Shape         Param #     Connected to                     \n",
            "==================================================================================================\n",
            "input_1 (InputLayer)            [(None,)]            0                                            \n",
            "__________________________________________________________________________________________________\n",
            "input_2 (InputLayer)            [(None,)]            0                                            \n",
            "__________________________________________________________________________________________________\n",
            "keras_layer (KerasLayer)        (None, 128)          112461824   input_1[0][0]                    \n",
            "                                                                 input_2[0][0]                    \n",
            "__________________________________________________________________________________________________\n",
            "concatenate (Concatenate)       (None, 256)          0           keras_layer[0][0]                \n",
            "                                                                 keras_layer[1][0]                \n",
            "__________________________________________________________________________________________________\n",
            "reshape (Reshape)               (None, 2, 128)       0           concatenate[0][0]                \n",
            "__________________________________________________________________________________________________\n",
            "bidirectional (Bidirectional)   (None, 2, 128)       98816       reshape[0][0]                    \n",
            "__________________________________________________________________________________________________\n",
            "gru (GRU)                       (None, 2, 64)        37248       bidirectional[0][0]              \n",
            "__________________________________________________________________________________________________\n",
            "bidirectional_1 (Bidirectional) (None, 64)           24832       gru[0][0]                        \n",
            "__________________________________________________________________________________________________\n",
            "dense (Dense)                   (None, 256)          16640       bidirectional_1[0][0]            \n",
            "__________________________________________________________________________________________________\n",
            "dropout (Dropout)               (None, 256)          0           dense[0][0]                      \n",
            "__________________________________________________________________________________________________\n",
            "batch_normalization (BatchNorma (None, 256)          1024        dropout[0][0]                    \n",
            "__________________________________________________________________________________________________\n",
            "dense_1 (Dense)                 (None, 256)          65792       batch_normalization[0][0]        \n",
            "__________________________________________________________________________________________________\n",
            "dropout_1 (Dropout)             (None, 256)          0           dense_1[0][0]                    \n",
            "__________________________________________________________________________________________________\n",
            "batch_normalization_1 (BatchNor (None, 256)          1024        dropout_1[0][0]                  \n",
            "__________________________________________________________________________________________________\n",
            "dense_2 (Dense)                 (None, 256)          65792       batch_normalization_1[0][0]      \n",
            "__________________________________________________________________________________________________\n",
            "dropout_2 (Dropout)             (None, 256)          0           dense_2[0][0]                    \n",
            "__________________________________________________________________________________________________\n",
            "batch_normalization_2 (BatchNor (None, 256)          1024        dropout_2[0][0]                  \n",
            "__________________________________________________________________________________________________\n",
            "dense_3 (Dense)                 (None, 256)          65792       batch_normalization_2[0][0]      \n",
            "__________________________________________________________________________________________________\n",
            "dropout_3 (Dropout)             (None, 256)          0           dense_3[0][0]                    \n",
            "__________________________________________________________________________________________________\n",
            "batch_normalization_3 (BatchNor (None, 256)          1024        dropout_3[0][0]                  \n",
            "__________________________________________________________________________________________________\n",
            "dense_4 (Dense)                 (None, 256)          65792       batch_normalization_3[0][0]      \n",
            "__________________________________________________________________________________________________\n",
            "dropout_4 (Dropout)             (None, 256)          0           dense_4[0][0]                    \n",
            "__________________________________________________________________________________________________\n",
            "batch_normalization_4 (BatchNor (None, 256)          1024        dropout_4[0][0]                  \n",
            "__________________________________________________________________________________________________\n",
            "dense_5 (Dense)                 (None, 1)            257         batch_normalization_4[0][0]      \n",
            "==================================================================================================\n",
            "Total params: 112,907,905\n",
            "Trainable params: 443,521\n",
            "Non-trainable params: 112,464,384\n",
            "__________________________________________________________________________________________________\n"
          ],
          "name": "stdout"
        }
      ]
    },
    {
      "cell_type": "code",
      "metadata": {
        "id": "6sKIQ9bKNEKQ"
      },
      "source": [
        "# a=embed([\"abc\"])\n",
        "# b=embed([\"bcd\"])\n",
        "# aa=tf.keras.layers.Reshape((1,128))(a)\n",
        "# bb=tf.keras.layers.Reshape((1,128))(b)\n",
        "# ab=tf.keras.layers.concatenate([a,b])\n",
        "# tf.keras.layers.Reshape((2,128))(ab)"
      ],
      "execution_count": null,
      "outputs": []
    },
    {
      "cell_type": "code",
      "metadata": {
        "id": "efdigMD3ubQa"
      },
      "source": [
        "tf.keras.utils.plot_model(model4, show_shapes=True)"
      ],
      "execution_count": null,
      "outputs": []
    },
    {
      "cell_type": "code",
      "metadata": {
        "id": "zvpdiVS3S8qx"
      },
      "source": [
        "model4.compile(loss='binary_crossentropy', optimizer='adam', metrics=['accuracy'])"
      ],
      "execution_count": null,
      "outputs": []
    },
    {
      "cell_type": "code",
      "metadata": {
        "colab": {
          "base_uri": "https://localhost:8080/"
        },
        "id": "0uowvG1fGIzG",
        "outputId": "3c56e9e0-3089-4d68-8daa-f4822473b5a6"
      },
      "source": [
        "history4 = model4.fit([Q1_train, Q2_train],\n",
        "                    yt,\n",
        "                    epochs=10,\n",
        "                    validation_data=([Q1_test,Q2_test], yte),\n",
        "                    verbose=2)"
      ],
      "execution_count": null,
      "outputs": [
        {
          "output_type": "stream",
          "text": [
            "Epoch 1/10\n",
            "10108/10108 - 253s - loss: 0.5762 - accuracy: 0.6988 - val_loss: 0.5281 - val_accuracy: 0.7285\n",
            "Epoch 2/10\n",
            "10108/10108 - 218s - loss: 0.5016 - accuracy: 0.7464 - val_loss: 0.4768 - val_accuracy: 0.7610\n",
            "Epoch 3/10\n",
            "10108/10108 - 210s - loss: 0.4701 - accuracy: 0.7662 - val_loss: 0.4647 - val_accuracy: 0.7710\n",
            "Epoch 4/10\n",
            "10108/10108 - 211s - loss: 0.4495 - accuracy: 0.7799 - val_loss: 0.4487 - val_accuracy: 0.7809\n",
            "Epoch 5/10\n",
            "10108/10108 - 211s - loss: 0.4339 - accuracy: 0.7906 - val_loss: 0.4371 - val_accuracy: 0.7867\n",
            "Epoch 6/10\n",
            "10108/10108 - 212s - loss: 0.4195 - accuracy: 0.7997 - val_loss: 0.4341 - val_accuracy: 0.7876\n",
            "Epoch 7/10\n",
            "10108/10108 - 212s - loss: 0.4073 - accuracy: 0.8071 - val_loss: 0.4389 - val_accuracy: 0.7868\n",
            "Epoch 8/10\n",
            "10108/10108 - 211s - loss: 0.3961 - accuracy: 0.8139 - val_loss: 0.4296 - val_accuracy: 0.7960\n",
            "Epoch 9/10\n",
            "10108/10108 - 215s - loss: 0.3858 - accuracy: 0.8207 - val_loss: 0.4220 - val_accuracy: 0.7987\n",
            "Epoch 10/10\n",
            "10108/10108 - 213s - loss: 0.3761 - accuracy: 0.8261 - val_loss: 0.4758 - val_accuracy: 0.7977\n"
          ],
          "name": "stdout"
        }
      ]
    },
    {
      "cell_type": "code",
      "metadata": {
        "colab": {
          "base_uri": "https://localhost:8080/"
        },
        "id": "0w15c6I6GPmA",
        "outputId": "478eb770-335a-4a3c-a423-5c6fc554ddbc"
      },
      "source": [
        "prediction4 = model4.predict([np.asarray([\"saya memukul kursi\"]),np.asarray([\"kursi dipukul oleh saya\"])])\n",
        "print(prediction4)"
      ],
      "execution_count": null,
      "outputs": [
        {
          "output_type": "stream",
          "text": [
            "[[0.90333223]]\n"
          ],
          "name": "stdout"
        }
      ]
    },
    {
      "cell_type": "code",
      "metadata": {
        "colab": {
          "base_uri": "https://localhost:8080/"
        },
        "id": "Y8zkZNFAsku3",
        "outputId": "7f8ad577-40a4-43f8-81d1-f13fb8b440f7"
      },
      "source": [
        "model4.predict([np.asarray([\"saya yang mempunyai gitar yamaha itu\"]),np.asarray([\"gitar yamaha itu milik saya\"])])"
      ],
      "execution_count": null,
      "outputs": [
        {
          "output_type": "execute_result",
          "data": {
            "text/plain": [
              "array([[0.84960437]], dtype=float32)"
            ]
          },
          "metadata": {
            "tags": []
          },
          "execution_count": 30
        }
      ]
    },
    {
      "cell_type": "code",
      "metadata": {
        "colab": {
          "base_uri": "https://localhost:8080/"
        },
        "id": "vpo835vrshlM",
        "outputId": "0ae813e9-15a3-4179-eef4-ca6a429fad8b"
      },
      "source": [
        "model4.predict([np.asarray([\"saya bermain di atas meja\"]),np.asarray([\"kursi diduduki oleh saya\"])])"
      ],
      "execution_count": null,
      "outputs": [
        {
          "output_type": "execute_result",
          "data": {
            "text/plain": [
              "array([[0.05997301]], dtype=float32)"
            ]
          },
          "metadata": {
            "tags": []
          },
          "execution_count": 28
        }
      ]
    },
    {
      "cell_type": "markdown",
      "metadata": {
        "id": "FC_hXADLxhGY"
      },
      "source": [
        "### Save the first model"
      ]
    },
    {
      "cell_type": "code",
      "metadata": {
        "colab": {
          "base_uri": "https://localhost:8080/"
        },
        "id": "wm003Wz0rKXa",
        "outputId": "65084c28-b42e-4db9-9d43-55b9e62d68de"
      },
      "source": [
        "export_dir1 = 'saved_model/model_gru1'\n",
        "tf.saved_model.save(model4, export_dir=export_dir1)"
      ],
      "execution_count": null,
      "outputs": [
        {
          "output_type": "stream",
          "text": [
            "WARNING:absl:Found untraced functions such as gru_cell_layer_call_fn, gru_cell_layer_call_and_return_conditional_losses, lstm_cell_1_layer_call_fn, lstm_cell_1_layer_call_and_return_conditional_losses, lstm_cell_2_layer_call_fn while saving (showing 5 of 25). These functions will not be directly callable after loading.\n",
            "WARNING:absl:Found untraced functions such as gru_cell_layer_call_fn, gru_cell_layer_call_and_return_conditional_losses, lstm_cell_1_layer_call_fn, lstm_cell_1_layer_call_and_return_conditional_losses, lstm_cell_2_layer_call_fn while saving (showing 5 of 25). These functions will not be directly callable after loading.\n"
          ],
          "name": "stderr"
        },
        {
          "output_type": "stream",
          "text": [
            "INFO:tensorflow:Assets written to: saved_model/model_gru1/assets\n"
          ],
          "name": "stdout"
        },
        {
          "output_type": "stream",
          "text": [
            "INFO:tensorflow:Assets written to: saved_model/model_gru1/assets\n"
          ],
          "name": "stderr"
        }
      ]
    },
    {
      "cell_type": "code",
      "metadata": {
        "colab": {
          "base_uri": "https://localhost:8080/"
        },
        "id": "3DjSP9sbVeGf",
        "outputId": "87b664a7-a1d4-4f56-bb57-3bd5851772f5"
      },
      "source": [
        "new_model4 = tf.keras.models.load_model(export_dir1)\n",
        "# nnew_model4 = tf.keras.models.load_model(\"/content/drive/MyDrive/saved_model/model_gru1\")\n",
        "new_model4.summary()\n",
        "# nnew_model4.summary()"
      ],
      "execution_count": null,
      "outputs": [
        {
          "output_type": "stream",
          "text": [
            "WARNING:tensorflow:5 out of the last 8 calls to <function recreate_function.<locals>.restored_function_body at 0x7f568649ec20> triggered tf.function retracing. Tracing is expensive and the excessive number of tracings could be due to (1) creating @tf.function repeatedly in a loop, (2) passing tensors with different shapes, (3) passing Python objects instead of tensors. For (1), please define your @tf.function outside of the loop. For (2), @tf.function has experimental_relax_shapes=True option that relaxes argument shapes that can avoid unnecessary retracing. For (3), please refer to https://www.tensorflow.org/guide/function#controlling_retracing and https://www.tensorflow.org/api_docs/python/tf/function for  more details.\n"
          ],
          "name": "stdout"
        },
        {
          "output_type": "stream",
          "text": [
            "WARNING:tensorflow:5 out of the last 8 calls to <function recreate_function.<locals>.restored_function_body at 0x7f568649ec20> triggered tf.function retracing. Tracing is expensive and the excessive number of tracings could be due to (1) creating @tf.function repeatedly in a loop, (2) passing tensors with different shapes, (3) passing Python objects instead of tensors. For (1), please define your @tf.function outside of the loop. For (2), @tf.function has experimental_relax_shapes=True option that relaxes argument shapes that can avoid unnecessary retracing. For (3), please refer to https://www.tensorflow.org/guide/function#controlling_retracing and https://www.tensorflow.org/api_docs/python/tf/function for  more details.\n"
          ],
          "name": "stderr"
        },
        {
          "output_type": "stream",
          "text": [
            "Model: \"model\"\n",
            "__________________________________________________________________________________________________\n",
            "Layer (type)                    Output Shape         Param #     Connected to                     \n",
            "==================================================================================================\n",
            "input_1 (InputLayer)            [(None,)]            0                                            \n",
            "__________________________________________________________________________________________________\n",
            "input_2 (InputLayer)            [(None,)]            0                                            \n",
            "__________________________________________________________________________________________________\n",
            "keras_layer (KerasLayer)        (None, 128)          112461824   input_1[0][0]                    \n",
            "                                                                 input_2[0][0]                    \n",
            "__________________________________________________________________________________________________\n",
            "concatenate (Concatenate)       (None, 256)          0           keras_layer[0][0]                \n",
            "                                                                 keras_layer[1][0]                \n",
            "__________________________________________________________________________________________________\n",
            "reshape (Reshape)               (None, 2, 128)       0           concatenate[0][0]                \n",
            "__________________________________________________________________________________________________\n",
            "bidirectional (Bidirectional)   (None, 2, 128)       98816       reshape[0][0]                    \n",
            "__________________________________________________________________________________________________\n",
            "gru (GRU)                       (None, 2, 64)        37248       bidirectional[0][0]              \n",
            "__________________________________________________________________________________________________\n",
            "bidirectional_1 (Bidirectional) (None, 64)           24832       gru[0][0]                        \n",
            "__________________________________________________________________________________________________\n",
            "dense (Dense)                   (None, 256)          16640       bidirectional_1[0][0]            \n",
            "__________________________________________________________________________________________________\n",
            "dropout (Dropout)               (None, 256)          0           dense[0][0]                      \n",
            "__________________________________________________________________________________________________\n",
            "batch_normalization (BatchNorma (None, 256)          1024        dropout[0][0]                    \n",
            "__________________________________________________________________________________________________\n",
            "dense_1 (Dense)                 (None, 256)          65792       batch_normalization[0][0]        \n",
            "__________________________________________________________________________________________________\n",
            "dropout_1 (Dropout)             (None, 256)          0           dense_1[0][0]                    \n",
            "__________________________________________________________________________________________________\n",
            "batch_normalization_1 (BatchNor (None, 256)          1024        dropout_1[0][0]                  \n",
            "__________________________________________________________________________________________________\n",
            "dense_2 (Dense)                 (None, 256)          65792       batch_normalization_1[0][0]      \n",
            "__________________________________________________________________________________________________\n",
            "dropout_2 (Dropout)             (None, 256)          0           dense_2[0][0]                    \n",
            "__________________________________________________________________________________________________\n",
            "batch_normalization_2 (BatchNor (None, 256)          1024        dropout_2[0][0]                  \n",
            "__________________________________________________________________________________________________\n",
            "dense_3 (Dense)                 (None, 256)          65792       batch_normalization_2[0][0]      \n",
            "__________________________________________________________________________________________________\n",
            "dropout_3 (Dropout)             (None, 256)          0           dense_3[0][0]                    \n",
            "__________________________________________________________________________________________________\n",
            "batch_normalization_3 (BatchNor (None, 256)          1024        dropout_3[0][0]                  \n",
            "__________________________________________________________________________________________________\n",
            "dense_4 (Dense)                 (None, 256)          65792       batch_normalization_3[0][0]      \n",
            "__________________________________________________________________________________________________\n",
            "dropout_4 (Dropout)             (None, 256)          0           dense_4[0][0]                    \n",
            "__________________________________________________________________________________________________\n",
            "batch_normalization_4 (BatchNor (None, 256)          1024        dropout_4[0][0]                  \n",
            "__________________________________________________________________________________________________\n",
            "dense_5 (Dense)                 (None, 1)            257         batch_normalization_4[0][0]      \n",
            "==================================================================================================\n",
            "Total params: 112,907,905\n",
            "Trainable params: 112,905,345\n",
            "Non-trainable params: 2,560\n",
            "__________________________________________________________________________________________________\n"
          ],
          "name": "stdout"
        }
      ]
    },
    {
      "cell_type": "code",
      "metadata": {
        "colab": {
          "base_uri": "https://localhost:8080/"
        },
        "id": "Dpch0IMIWMou",
        "outputId": "ae7376e7-dfad-4339-a3ff-d2604738a41d"
      },
      "source": [
        "new_model4.predict([np.asarray([\"saya memukul kursi\"]),np.asarray([\"kursi dipukul oleh saya\"])])\n",
        "# nnew_model4.predict([np.asarray([\"saya memukul kursi\"]),np.asarray([\"kursi dipukul oleh saya\"])])"
      ],
      "execution_count": null,
      "outputs": [
        {
          "output_type": "execute_result",
          "data": {
            "text/plain": [
              "array([[0.90333223]], dtype=float32)"
            ]
          },
          "metadata": {
            "tags": []
          },
          "execution_count": 15
        }
      ]
    },
    {
      "cell_type": "markdown",
      "metadata": {
        "id": "nwGsW8AyVI2H"
      },
      "source": [
        "### TFLite conversion for the GRU model (does not work unfortunately)"
      ]
    },
    {
      "cell_type": "code",
      "metadata": {
        "id": "qcIt9nej0ZhV"
      },
      "source": [
        "# optimization = tf.lite.Optimize.OPTIMIZE_FOR_LATENCY"
      ],
      "execution_count": null,
      "outputs": []
    },
    {
      "cell_type": "code",
      "metadata": {
        "colab": {
          "base_uri": "https://localhost:8080/",
          "height": 659
        },
        "id": "gbUsIaBG0nZ5",
        "outputId": "90b88abc-c599-4188-aff5-6f4f9a90f493"
      },
      "source": [
        "converter = tf.lite.TFLiteConverter.from_saved_model(export_dir)\n",
        "\n",
        "# Set the optimzations\n",
        "converter.optimizations = [optimization]\n",
        "\n",
        "# Invoke the converter to finally generate the TFLite model\n",
        "converter.allow_custom_ops = True\n",
        "tflite_model = converter.convert()"
      ],
      "execution_count": null,
      "outputs": [
        {
          "output_type": "stream",
          "text": [
            "WARNING:tensorflow:9 out of the last 12 calls to <function recreate_function.<locals>.restored_function_body at 0x7fcc2c4f0cb0> triggered tf.function retracing. Tracing is expensive and the excessive number of tracings could be due to (1) creating @tf.function repeatedly in a loop, (2) passing tensors with different shapes, (3) passing Python objects instead of tensors. For (1), please define your @tf.function outside of the loop. For (2), @tf.function has experimental_relax_shapes=True option that relaxes argument shapes that can avoid unnecessary retracing. For (3), please refer to https://www.tensorflow.org/guide/function#controlling_retracing and https://www.tensorflow.org/api_docs/python/tf/function for  more details.\n"
          ],
          "name": "stdout"
        },
        {
          "output_type": "stream",
          "text": [
            "WARNING:tensorflow:9 out of the last 12 calls to <function recreate_function.<locals>.restored_function_body at 0x7fcc2c4f0cb0> triggered tf.function retracing. Tracing is expensive and the excessive number of tracings could be due to (1) creating @tf.function repeatedly in a loop, (2) passing tensors with different shapes, (3) passing Python objects instead of tensors. For (1), please define your @tf.function outside of the loop. For (2), @tf.function has experimental_relax_shapes=True option that relaxes argument shapes that can avoid unnecessary retracing. For (3), please refer to https://www.tensorflow.org/guide/function#controlling_retracing and https://www.tensorflow.org/api_docs/python/tf/function for  more details.\n"
          ],
          "name": "stderr"
        },
        {
          "output_type": "stream",
          "text": [
            "WARNING:tensorflow:10 out of the last 13 calls to <function recreate_function.<locals>.restored_function_body at 0x7fcba52f8ef0> triggered tf.function retracing. Tracing is expensive and the excessive number of tracings could be due to (1) creating @tf.function repeatedly in a loop, (2) passing tensors with different shapes, (3) passing Python objects instead of tensors. For (1), please define your @tf.function outside of the loop. For (2), @tf.function has experimental_relax_shapes=True option that relaxes argument shapes that can avoid unnecessary retracing. For (3), please refer to https://www.tensorflow.org/guide/function#controlling_retracing and https://www.tensorflow.org/api_docs/python/tf/function for  more details.\n"
          ],
          "name": "stdout"
        },
        {
          "output_type": "stream",
          "text": [
            "WARNING:tensorflow:10 out of the last 13 calls to <function recreate_function.<locals>.restored_function_body at 0x7fcba52f8ef0> triggered tf.function retracing. Tracing is expensive and the excessive number of tracings could be due to (1) creating @tf.function repeatedly in a loop, (2) passing tensors with different shapes, (3) passing Python objects instead of tensors. For (1), please define your @tf.function outside of the loop. For (2), @tf.function has experimental_relax_shapes=True option that relaxes argument shapes that can avoid unnecessary retracing. For (3), please refer to https://www.tensorflow.org/guide/function#controlling_retracing and https://www.tensorflow.org/api_docs/python/tf/function for  more details.\n"
          ],
          "name": "stderr"
        },
        {
          "output_type": "stream",
          "text": [
            "WARNING:tensorflow:11 out of the last 14 calls to <function recreate_function.<locals>.restored_function_body at 0x7fcba528b170> triggered tf.function retracing. Tracing is expensive and the excessive number of tracings could be due to (1) creating @tf.function repeatedly in a loop, (2) passing tensors with different shapes, (3) passing Python objects instead of tensors. For (1), please define your @tf.function outside of the loop. For (2), @tf.function has experimental_relax_shapes=True option that relaxes argument shapes that can avoid unnecessary retracing. For (3), please refer to https://www.tensorflow.org/guide/function#controlling_retracing and https://www.tensorflow.org/api_docs/python/tf/function for  more details.\n"
          ],
          "name": "stdout"
        },
        {
          "output_type": "stream",
          "text": [
            "WARNING:tensorflow:11 out of the last 14 calls to <function recreate_function.<locals>.restored_function_body at 0x7fcba528b170> triggered tf.function retracing. Tracing is expensive and the excessive number of tracings could be due to (1) creating @tf.function repeatedly in a loop, (2) passing tensors with different shapes, (3) passing Python objects instead of tensors. For (1), please define your @tf.function outside of the loop. For (2), @tf.function has experimental_relax_shapes=True option that relaxes argument shapes that can avoid unnecessary retracing. For (3), please refer to https://www.tensorflow.org/guide/function#controlling_retracing and https://www.tensorflow.org/api_docs/python/tf/function for  more details.\n"
          ],
          "name": "stderr"
        },
        {
          "output_type": "stream",
          "text": [
            "WARNING:tensorflow:11 out of the last 11 calls to <function recreate_function.<locals>.restored_function_body at 0x7fcc74a49830> triggered tf.function retracing. Tracing is expensive and the excessive number of tracings could be due to (1) creating @tf.function repeatedly in a loop, (2) passing tensors with different shapes, (3) passing Python objects instead of tensors. For (1), please define your @tf.function outside of the loop. For (2), @tf.function has experimental_relax_shapes=True option that relaxes argument shapes that can avoid unnecessary retracing. For (3), please refer to https://www.tensorflow.org/guide/function#controlling_retracing and https://www.tensorflow.org/api_docs/python/tf/function for  more details.\n"
          ],
          "name": "stdout"
        },
        {
          "output_type": "stream",
          "text": [
            "WARNING:tensorflow:11 out of the last 11 calls to <function recreate_function.<locals>.restored_function_body at 0x7fcc74a49830> triggered tf.function retracing. Tracing is expensive and the excessive number of tracings could be due to (1) creating @tf.function repeatedly in a loop, (2) passing tensors with different shapes, (3) passing Python objects instead of tensors. For (1), please define your @tf.function outside of the loop. For (2), @tf.function has experimental_relax_shapes=True option that relaxes argument shapes that can avoid unnecessary retracing. For (3), please refer to https://www.tensorflow.org/guide/function#controlling_retracing and https://www.tensorflow.org/api_docs/python/tf/function for  more details.\n"
          ],
          "name": "stderr"
        },
        {
          "output_type": "error",
          "ename": "ConverterError",
          "evalue": "ignored",
          "traceback": [
            "\u001b[0;31m---------------------------------------------------------------------------\u001b[0m",
            "\u001b[0;31mException\u001b[0m                                 Traceback (most recent call last)",
            "\u001b[0;32m/usr/local/lib/python3.7/dist-packages/tensorflow/lite/python/convert.py\u001b[0m in \u001b[0;36mtoco_convert_protos\u001b[0;34m(model_flags_str, toco_flags_str, input_data_str, debug_info_str, enable_mlir_converter)\u001b[0m\n\u001b[1;32m    212\u001b[0m                                                  \u001b[0mdebug_info_str\u001b[0m\u001b[0;34m,\u001b[0m\u001b[0;34m\u001b[0m\u001b[0;34m\u001b[0m\u001b[0m\n\u001b[0;32m--> 213\u001b[0;31m                                                  enable_mlir_converter)\n\u001b[0m\u001b[1;32m    214\u001b[0m       \u001b[0;32mreturn\u001b[0m \u001b[0mmodel_str\u001b[0m\u001b[0;34m\u001b[0m\u001b[0;34m\u001b[0m\u001b[0m\n",
            "\u001b[0;32m/usr/local/lib/python3.7/dist-packages/tensorflow/lite/python/wrap_toco.py\u001b[0m in \u001b[0;36mwrapped_toco_convert\u001b[0;34m(model_flags_str, toco_flags_str, input_data_str, debug_info_str, enable_mlir_converter)\u001b[0m\n\u001b[1;32m     37\u001b[0m       \u001b[0mdebug_info_str\u001b[0m\u001b[0;34m,\u001b[0m\u001b[0;34m\u001b[0m\u001b[0;34m\u001b[0m\u001b[0m\n\u001b[0;32m---> 38\u001b[0;31m       enable_mlir_converter)\n\u001b[0m\u001b[1;32m     39\u001b[0m \u001b[0;34m\u001b[0m\u001b[0m\n",
            "\u001b[0;31mException\u001b[0m: <unknown>:0: error: loc(callsite(callsite(\"model/keras_layer/StatefulPartitionedCall_1@__inference__wrapped_model_275138\" at \"StatefulPartitionedCall@__inference_signature_wrapper_294212\") at \"StatefulPartitionedCall_2\")): could not rewrite use of immutable bound input\n<unknown>:0: note: loc(\"StatefulPartitionedCall_2\"): called from\n",
            "\nDuring handling of the above exception, another exception occurred:\n",
            "\u001b[0;31mConverterError\u001b[0m                            Traceback (most recent call last)",
            "\u001b[0;32m<ipython-input-18-46dc95553513>\u001b[0m in \u001b[0;36m<module>\u001b[0;34m()\u001b[0m\n\u001b[1;32m      6\u001b[0m \u001b[0;31m# Invoke the converter to finally generate the TFLite model\u001b[0m\u001b[0;34m\u001b[0m\u001b[0;34m\u001b[0m\u001b[0;34m\u001b[0m\u001b[0m\n\u001b[1;32m      7\u001b[0m \u001b[0mconverter\u001b[0m\u001b[0;34m.\u001b[0m\u001b[0mallow_custom_ops\u001b[0m \u001b[0;34m=\u001b[0m \u001b[0;32mTrue\u001b[0m\u001b[0;34m\u001b[0m\u001b[0;34m\u001b[0m\u001b[0m\n\u001b[0;32m----> 8\u001b[0;31m \u001b[0mtflite_model\u001b[0m \u001b[0;34m=\u001b[0m \u001b[0mconverter\u001b[0m\u001b[0;34m.\u001b[0m\u001b[0mconvert\u001b[0m\u001b[0;34m(\u001b[0m\u001b[0;34m)\u001b[0m\u001b[0;34m\u001b[0m\u001b[0;34m\u001b[0m\u001b[0m\n\u001b[0m",
            "\u001b[0;32m/usr/local/lib/python3.7/dist-packages/tensorflow/lite/python/lite.py\u001b[0m in \u001b[0;36mconvert\u001b[0;34m(self)\u001b[0m\n\u001b[1;32m    737\u001b[0m     \u001b[0mconverter_kwargs\u001b[0m\u001b[0;34m.\u001b[0m\u001b[0mupdate\u001b[0m\u001b[0;34m(\u001b[0m\u001b[0mquant_mode\u001b[0m\u001b[0;34m.\u001b[0m\u001b[0mconverter_flags\u001b[0m\u001b[0;34m(\u001b[0m\u001b[0;34m)\u001b[0m\u001b[0;34m)\u001b[0m\u001b[0;34m\u001b[0m\u001b[0;34m\u001b[0m\u001b[0m\n\u001b[1;32m    738\u001b[0m \u001b[0;34m\u001b[0m\u001b[0m\n\u001b[0;32m--> 739\u001b[0;31m     \u001b[0mresult\u001b[0m \u001b[0;34m=\u001b[0m \u001b[0m_convert_saved_model\u001b[0m\u001b[0;34m(\u001b[0m\u001b[0;34m**\u001b[0m\u001b[0mconverter_kwargs\u001b[0m\u001b[0;34m)\u001b[0m\u001b[0;34m\u001b[0m\u001b[0;34m\u001b[0m\u001b[0m\n\u001b[0m\u001b[1;32m    740\u001b[0m     \u001b[0mcalibrate_and_quantize\u001b[0m\u001b[0;34m,\u001b[0m \u001b[0mflags\u001b[0m \u001b[0;34m=\u001b[0m \u001b[0mquant_mode\u001b[0m\u001b[0;34m.\u001b[0m\u001b[0mquantizer_flags\u001b[0m\u001b[0;34m(\u001b[0m\u001b[0;34m)\u001b[0m\u001b[0;34m\u001b[0m\u001b[0;34m\u001b[0m\u001b[0m\n\u001b[1;32m    741\u001b[0m     \u001b[0;32mif\u001b[0m \u001b[0mcalibrate_and_quantize\u001b[0m\u001b[0;34m:\u001b[0m\u001b[0;34m\u001b[0m\u001b[0;34m\u001b[0m\u001b[0m\n",
            "\u001b[0;32m/usr/local/lib/python3.7/dist-packages/tensorflow/lite/python/convert.py\u001b[0m in \u001b[0;36mconvert_saved_model\u001b[0;34m(saved_model_dir, saved_model_version, saved_model_tags, saved_model_exported_names, **kwargs)\u001b[0m\n\u001b[1;32m    635\u001b[0m       \u001b[0;32mNone\u001b[0m\u001b[0;34m,\u001b[0m  \u001b[0;31m# input_data, unused\u001b[0m\u001b[0;34m\u001b[0m\u001b[0;34m\u001b[0m\u001b[0m\n\u001b[1;32m    636\u001b[0m       \u001b[0;32mNone\u001b[0m\u001b[0;34m,\u001b[0m  \u001b[0;31m# debug_info_str, unused\u001b[0m\u001b[0;34m\u001b[0m\u001b[0;34m\u001b[0m\u001b[0m\n\u001b[0;32m--> 637\u001b[0;31m       enable_mlir_converter=True)\n\u001b[0m\u001b[1;32m    638\u001b[0m   \u001b[0;32mreturn\u001b[0m \u001b[0mdata\u001b[0m\u001b[0;34m\u001b[0m\u001b[0;34m\u001b[0m\u001b[0m\n\u001b[1;32m    639\u001b[0m \u001b[0;34m\u001b[0m\u001b[0m\n",
            "\u001b[0;32m/usr/local/lib/python3.7/dist-packages/tensorflow/lite/python/convert.py\u001b[0m in \u001b[0;36mtoco_convert_protos\u001b[0;34m(model_flags_str, toco_flags_str, input_data_str, debug_info_str, enable_mlir_converter)\u001b[0m\n\u001b[1;32m    214\u001b[0m       \u001b[0;32mreturn\u001b[0m \u001b[0mmodel_str\u001b[0m\u001b[0;34m\u001b[0m\u001b[0;34m\u001b[0m\u001b[0m\n\u001b[1;32m    215\u001b[0m     \u001b[0;32mexcept\u001b[0m \u001b[0mException\u001b[0m \u001b[0;32mas\u001b[0m \u001b[0me\u001b[0m\u001b[0;34m:\u001b[0m\u001b[0;34m\u001b[0m\u001b[0;34m\u001b[0m\u001b[0m\n\u001b[0;32m--> 216\u001b[0;31m       \u001b[0;32mraise\u001b[0m \u001b[0mConverterError\u001b[0m\u001b[0;34m(\u001b[0m\u001b[0mstr\u001b[0m\u001b[0;34m(\u001b[0m\u001b[0me\u001b[0m\u001b[0;34m)\u001b[0m\u001b[0;34m)\u001b[0m\u001b[0;34m\u001b[0m\u001b[0;34m\u001b[0m\u001b[0m\n\u001b[0m\u001b[1;32m    217\u001b[0m \u001b[0;34m\u001b[0m\u001b[0m\n\u001b[1;32m    218\u001b[0m   \u001b[0;32mif\u001b[0m \u001b[0mdistutils\u001b[0m\u001b[0;34m.\u001b[0m\u001b[0mspawn\u001b[0m\u001b[0;34m.\u001b[0m\u001b[0mfind_executable\u001b[0m\u001b[0;34m(\u001b[0m\u001b[0m_toco_from_proto_bin\u001b[0m\u001b[0;34m)\u001b[0m \u001b[0;32mis\u001b[0m \u001b[0;32mNone\u001b[0m\u001b[0;34m:\u001b[0m\u001b[0;34m\u001b[0m\u001b[0;34m\u001b[0m\u001b[0m\n",
            "\u001b[0;31mConverterError\u001b[0m: <unknown>:0: error: loc(callsite(callsite(\"model/keras_layer/StatefulPartitionedCall_1@__inference__wrapped_model_275138\" at \"StatefulPartitionedCall@__inference_signature_wrapper_294212\") at \"StatefulPartitionedCall_2\")): could not rewrite use of immutable bound input\n<unknown>:0: note: loc(\"StatefulPartitionedCall_2\"): called from\n"
          ]
        }
      ]
    },
    {
      "cell_type": "markdown",
      "metadata": {
        "id": "gCL7MkXaVw8v"
      },
      "source": [
        "## Model without GRU Layer"
      ]
    },
    {
      "cell_type": "code",
      "metadata": {
        "colab": {
          "base_uri": "https://localhost:8080/"
        },
        "id": "mQ18sa5a_yYL",
        "outputId": "51478725-f323-4a97-d353-179703c295df"
      },
      "source": [
        "# Model with Bidirectional LSTM, without Attention, will run for about 150-200s per epoch\n",
        "qstn1=tf.keras.Input(shape=(), dtype=tf.string)\n",
        "qstn2=tf.keras.Input(shape=(), dtype=tf.string)\n",
        "\n",
        "qu1=embed(qstn1)\n",
        "# qu1= hub.KerasLayer(\"https://tfhub.dev/google/nnlm-id-dim128-with-normalization/2\",input_shape=[], dtype=tf.string, trainable=False)(qstn1)\n",
        "qu2=embed(qstn2)\n",
        "# qu2= hub.KerasLayer(\"https://tfhub.dev/google/nnlm-id-dim128-with-normalization/2\",input_shape=[], dtype=tf.string, trainable=False)(qstn2)\n",
        "concat=tf.keras.layers.concatenate([qu1,qu2])\n",
        "concat=tf.keras.layers.Reshape((2,128))(concat)\n",
        "concat=tf.keras.layers.Bidirectional(tf.keras.layers.LSTM(64, return_sequences=True))(concat)\n",
        "concat=tf.keras.layers.Bidirectional(tf.keras.layers.LSTM(32))(concat)\n",
        "concat=tf.keras.layers.Dense(256,activation='relu')(concat)\n",
        "concat=tf.keras.layers.Dropout(0.2)(concat)\n",
        "concat=tf.keras.layers.BatchNormalization()(concat)\n",
        "concat=tf.keras.layers.Dense(256,activation='relu')(concat)\n",
        "concat=tf.keras.layers.Dropout(0.2)(concat)\n",
        "concat=tf.keras.layers.BatchNormalization()(concat)\n",
        "concat=tf.keras.layers.Dense(256,activation='relu')(concat)\n",
        "concat=tf.keras.layers.Dropout(0.2)(concat)\n",
        "concat=tf.keras.layers.BatchNormalization()(concat)\n",
        "concat=tf.keras.layers.Dense(256,activation='relu')(concat)\n",
        "concat=tf.keras.layers.Dropout(0.2)(concat)\n",
        "concat=tf.keras.layers.BatchNormalization()(concat)\n",
        "concat=tf.keras.layers.Dense(256,activation='relu')(concat)\n",
        "concat=tf.keras.layers.Dropout(0.2)(concat)\n",
        "concat=tf.keras.layers.BatchNormalization()(concat)\n",
        "is_dupe=tf.keras.layers.Dense(1, activation=\"sigmoid\")(concat)\n",
        "\n",
        "model5 = tf.keras.models.Model(inputs=[qstn1,qstn2], outputs=is_dupe)\n",
        "model5.summary()"
      ],
      "execution_count": null,
      "outputs": [
        {
          "output_type": "stream",
          "text": [
            "WARNING:tensorflow:6 out of the last 9 calls to <function recreate_function.<locals>.restored_function_body at 0x7f562040d8c0> triggered tf.function retracing. Tracing is expensive and the excessive number of tracings could be due to (1) creating @tf.function repeatedly in a loop, (2) passing tensors with different shapes, (3) passing Python objects instead of tensors. For (1), please define your @tf.function outside of the loop. For (2), @tf.function has experimental_relax_shapes=True option that relaxes argument shapes that can avoid unnecessary retracing. For (3), please refer to https://www.tensorflow.org/guide/function#controlling_retracing and https://www.tensorflow.org/api_docs/python/tf/function for  more details.\n"
          ],
          "name": "stdout"
        },
        {
          "output_type": "stream",
          "text": [
            "WARNING:tensorflow:6 out of the last 9 calls to <function recreate_function.<locals>.restored_function_body at 0x7f562040d8c0> triggered tf.function retracing. Tracing is expensive and the excessive number of tracings could be due to (1) creating @tf.function repeatedly in a loop, (2) passing tensors with different shapes, (3) passing Python objects instead of tensors. For (1), please define your @tf.function outside of the loop. For (2), @tf.function has experimental_relax_shapes=True option that relaxes argument shapes that can avoid unnecessary retracing. For (3), please refer to https://www.tensorflow.org/guide/function#controlling_retracing and https://www.tensorflow.org/api_docs/python/tf/function for  more details.\n"
          ],
          "name": "stderr"
        },
        {
          "output_type": "stream",
          "text": [
            "WARNING:tensorflow:7 out of the last 10 calls to <function recreate_function.<locals>.restored_function_body at 0x7f56204139e0> triggered tf.function retracing. Tracing is expensive and the excessive number of tracings could be due to (1) creating @tf.function repeatedly in a loop, (2) passing tensors with different shapes, (3) passing Python objects instead of tensors. For (1), please define your @tf.function outside of the loop. For (2), @tf.function has experimental_relax_shapes=True option that relaxes argument shapes that can avoid unnecessary retracing. For (3), please refer to https://www.tensorflow.org/guide/function#controlling_retracing and https://www.tensorflow.org/api_docs/python/tf/function for  more details.\n"
          ],
          "name": "stdout"
        },
        {
          "output_type": "stream",
          "text": [
            "WARNING:tensorflow:7 out of the last 10 calls to <function recreate_function.<locals>.restored_function_body at 0x7f56204139e0> triggered tf.function retracing. Tracing is expensive and the excessive number of tracings could be due to (1) creating @tf.function repeatedly in a loop, (2) passing tensors with different shapes, (3) passing Python objects instead of tensors. For (1), please define your @tf.function outside of the loop. For (2), @tf.function has experimental_relax_shapes=True option that relaxes argument shapes that can avoid unnecessary retracing. For (3), please refer to https://www.tensorflow.org/guide/function#controlling_retracing and https://www.tensorflow.org/api_docs/python/tf/function for  more details.\n"
          ],
          "name": "stderr"
        },
        {
          "output_type": "stream",
          "text": [
            "WARNING:tensorflow:8 out of the last 11 calls to <function recreate_function.<locals>.restored_function_body at 0x7f561cefff80> triggered tf.function retracing. Tracing is expensive and the excessive number of tracings could be due to (1) creating @tf.function repeatedly in a loop, (2) passing tensors with different shapes, (3) passing Python objects instead of tensors. For (1), please define your @tf.function outside of the loop. For (2), @tf.function has experimental_relax_shapes=True option that relaxes argument shapes that can avoid unnecessary retracing. For (3), please refer to https://www.tensorflow.org/guide/function#controlling_retracing and https://www.tensorflow.org/api_docs/python/tf/function for  more details.\n"
          ],
          "name": "stdout"
        },
        {
          "output_type": "stream",
          "text": [
            "WARNING:tensorflow:8 out of the last 11 calls to <function recreate_function.<locals>.restored_function_body at 0x7f561cefff80> triggered tf.function retracing. Tracing is expensive and the excessive number of tracings could be due to (1) creating @tf.function repeatedly in a loop, (2) passing tensors with different shapes, (3) passing Python objects instead of tensors. For (1), please define your @tf.function outside of the loop. For (2), @tf.function has experimental_relax_shapes=True option that relaxes argument shapes that can avoid unnecessary retracing. For (3), please refer to https://www.tensorflow.org/guide/function#controlling_retracing and https://www.tensorflow.org/api_docs/python/tf/function for  more details.\n"
          ],
          "name": "stderr"
        },
        {
          "output_type": "stream",
          "text": [
            "WARNING:tensorflow:8 out of the last 11 calls to <function recreate_function.<locals>.restored_function_body at 0x7f561ceff200> triggered tf.function retracing. Tracing is expensive and the excessive number of tracings could be due to (1) creating @tf.function repeatedly in a loop, (2) passing tensors with different shapes, (3) passing Python objects instead of tensors. For (1), please define your @tf.function outside of the loop. For (2), @tf.function has experimental_relax_shapes=True option that relaxes argument shapes that can avoid unnecessary retracing. For (3), please refer to https://www.tensorflow.org/guide/function#controlling_retracing and https://www.tensorflow.org/api_docs/python/tf/function for  more details.\n"
          ],
          "name": "stdout"
        },
        {
          "output_type": "stream",
          "text": [
            "WARNING:tensorflow:8 out of the last 11 calls to <function recreate_function.<locals>.restored_function_body at 0x7f561ceff200> triggered tf.function retracing. Tracing is expensive and the excessive number of tracings could be due to (1) creating @tf.function repeatedly in a loop, (2) passing tensors with different shapes, (3) passing Python objects instead of tensors. For (1), please define your @tf.function outside of the loop. For (2), @tf.function has experimental_relax_shapes=True option that relaxes argument shapes that can avoid unnecessary retracing. For (3), please refer to https://www.tensorflow.org/guide/function#controlling_retracing and https://www.tensorflow.org/api_docs/python/tf/function for  more details.\n"
          ],
          "name": "stderr"
        },
        {
          "output_type": "stream",
          "text": [
            "Model: \"model_1\"\n",
            "__________________________________________________________________________________________________\n",
            "Layer (type)                    Output Shape         Param #     Connected to                     \n",
            "==================================================================================================\n",
            "input_3 (InputLayer)            [(None,)]            0                                            \n",
            "__________________________________________________________________________________________________\n",
            "input_4 (InputLayer)            [(None,)]            0                                            \n",
            "__________________________________________________________________________________________________\n",
            "keras_layer_1 (KerasLayer)      (None, 128)          112461824   input_3[0][0]                    \n",
            "__________________________________________________________________________________________________\n",
            "keras_layer_2 (KerasLayer)      (None, 128)          112461824   input_4[0][0]                    \n",
            "__________________________________________________________________________________________________\n",
            "concatenate_1 (Concatenate)     (None, 256)          0           keras_layer_1[0][0]              \n",
            "                                                                 keras_layer_2[0][0]              \n",
            "__________________________________________________________________________________________________\n",
            "reshape_1 (Reshape)             (None, 2, 128)       0           concatenate_1[0][0]              \n",
            "__________________________________________________________________________________________________\n",
            "bidirectional_2 (Bidirectional) (None, 2, 128)       98816       reshape_1[0][0]                  \n",
            "__________________________________________________________________________________________________\n",
            "bidirectional_3 (Bidirectional) (None, 64)           41216       bidirectional_2[0][0]            \n",
            "__________________________________________________________________________________________________\n",
            "dense_6 (Dense)                 (None, 256)          16640       bidirectional_3[0][0]            \n",
            "__________________________________________________________________________________________________\n",
            "dropout_5 (Dropout)             (None, 256)          0           dense_6[0][0]                    \n",
            "__________________________________________________________________________________________________\n",
            "batch_normalization_5 (BatchNor (None, 256)          1024        dropout_5[0][0]                  \n",
            "__________________________________________________________________________________________________\n",
            "dense_7 (Dense)                 (None, 256)          65792       batch_normalization_5[0][0]      \n",
            "__________________________________________________________________________________________________\n",
            "dropout_6 (Dropout)             (None, 256)          0           dense_7[0][0]                    \n",
            "__________________________________________________________________________________________________\n",
            "batch_normalization_6 (BatchNor (None, 256)          1024        dropout_6[0][0]                  \n",
            "__________________________________________________________________________________________________\n",
            "dense_8 (Dense)                 (None, 256)          65792       batch_normalization_6[0][0]      \n",
            "__________________________________________________________________________________________________\n",
            "dropout_7 (Dropout)             (None, 256)          0           dense_8[0][0]                    \n",
            "__________________________________________________________________________________________________\n",
            "batch_normalization_7 (BatchNor (None, 256)          1024        dropout_7[0][0]                  \n",
            "__________________________________________________________________________________________________\n",
            "dense_9 (Dense)                 (None, 256)          65792       batch_normalization_7[0][0]      \n",
            "__________________________________________________________________________________________________\n",
            "dropout_8 (Dropout)             (None, 256)          0           dense_9[0][0]                    \n",
            "__________________________________________________________________________________________________\n",
            "batch_normalization_8 (BatchNor (None, 256)          1024        dropout_8[0][0]                  \n",
            "__________________________________________________________________________________________________\n",
            "dense_10 (Dense)                (None, 256)          65792       batch_normalization_8[0][0]      \n",
            "__________________________________________________________________________________________________\n",
            "dropout_9 (Dropout)             (None, 256)          0           dense_10[0][0]                   \n",
            "__________________________________________________________________________________________________\n",
            "batch_normalization_9 (BatchNor (None, 256)          1024        dropout_9[0][0]                  \n",
            "__________________________________________________________________________________________________\n",
            "dense_11 (Dense)                (None, 1)            257         batch_normalization_9[0][0]      \n",
            "==================================================================================================\n",
            "Total params: 225,348,865\n",
            "Trainable params: 422,657\n",
            "Non-trainable params: 224,926,208\n",
            "__________________________________________________________________________________________________\n"
          ],
          "name": "stdout"
        }
      ]
    },
    {
      "cell_type": "code",
      "metadata": {
        "id": "6wgyq_HBunEq"
      },
      "source": [
        "tf.keras.utils.plot_model(model5, show_shapes=True)"
      ],
      "execution_count": null,
      "outputs": []
    },
    {
      "cell_type": "code",
      "metadata": {
        "id": "DxHzd3cK_55O"
      },
      "source": [
        "model5.compile(loss='binary_crossentropy', optimizer='adam', metrics=['accuracy'])"
      ],
      "execution_count": null,
      "outputs": []
    },
    {
      "cell_type": "code",
      "metadata": {
        "colab": {
          "base_uri": "https://localhost:8080/"
        },
        "id": "SACWoxKi_83D",
        "outputId": "dce6c33f-1662-41a0-dea4-a6278d9481cb"
      },
      "source": [
        "history5 = model5.fit([Q1_train, Q2_train],\n",
        "                    yt,\n",
        "                    epochs=10,\n",
        "                    validation_data=([Q1_test,Q2_test], yte),\n",
        "                    verbose=2)"
      ],
      "execution_count": null,
      "outputs": [
        {
          "output_type": "stream",
          "text": [
            "Epoch 1/10\n",
            "10108/10108 - 200s - loss: 0.5704 - accuracy: 0.7023 - val_loss: 0.5327 - val_accuracy: 0.7357\n",
            "Epoch 2/10\n",
            "10108/10108 - 192s - loss: 0.5002 - accuracy: 0.7468 - val_loss: 0.4786 - val_accuracy: 0.7594\n",
            "Epoch 3/10\n",
            "10108/10108 - 191s - loss: 0.4695 - accuracy: 0.7658 - val_loss: 0.4754 - val_accuracy: 0.7636\n",
            "Epoch 4/10\n",
            "10108/10108 - 191s - loss: 0.4497 - accuracy: 0.7800 - val_loss: 0.4516 - val_accuracy: 0.7807\n",
            "Epoch 5/10\n",
            "10108/10108 - 193s - loss: 0.4329 - accuracy: 0.7914 - val_loss: 0.4403 - val_accuracy: 0.7866\n",
            "Epoch 6/10\n",
            "10108/10108 - 193s - loss: 0.4198 - accuracy: 0.7993 - val_loss: 0.4339 - val_accuracy: 0.7907\n",
            "Epoch 7/10\n",
            "10108/10108 - 193s - loss: 0.4071 - accuracy: 0.8072 - val_loss: 0.4233 - val_accuracy: 0.7950\n",
            "Epoch 8/10\n",
            "10108/10108 - 193s - loss: 0.3963 - accuracy: 0.8144 - val_loss: 0.4256 - val_accuracy: 0.7918\n",
            "Epoch 9/10\n",
            "10108/10108 - 196s - loss: 0.3852 - accuracy: 0.8201 - val_loss: 0.4348 - val_accuracy: 0.7929\n",
            "Epoch 10/10\n",
            "10108/10108 - 194s - loss: 0.3747 - accuracy: 0.8261 - val_loss: 0.4244 - val_accuracy: 0.7950\n"
          ],
          "name": "stdout"
        }
      ]
    },
    {
      "cell_type": "code",
      "metadata": {
        "colab": {
          "base_uri": "https://localhost:8080/"
        },
        "id": "9HdNy_D0WXGx",
        "outputId": "666085a6-1780-4e33-9c80-3396d00bb881"
      },
      "source": [
        "model5.predict([np.asarray([\"saya memukul kursi\"]),np.asarray([\"kursi dipukul oleh saya\"])])"
      ],
      "execution_count": null,
      "outputs": [
        {
          "output_type": "execute_result",
          "data": {
            "text/plain": [
              "array([[0.674969]], dtype=float32)"
            ]
          },
          "metadata": {
            "tags": []
          },
          "execution_count": 19
        }
      ]
    },
    {
      "cell_type": "code",
      "metadata": {
        "colab": {
          "base_uri": "https://localhost:8080/"
        },
        "id": "QxBBtliKs7VT",
        "outputId": "b40ef982-610f-4321-9132-bef01f685066"
      },
      "source": [
        "model5.predict([np.asarray([\"saya yang mempunyai gitar yamaha itu\"]),np.asarray([\"gitar yamaha itu milik saya\"])])"
      ],
      "execution_count": null,
      "outputs": [
        {
          "output_type": "execute_result",
          "data": {
            "text/plain": [
              "array([[0.76135254]], dtype=float32)"
            ]
          },
          "metadata": {
            "tags": []
          },
          "execution_count": 31
        }
      ]
    },
    {
      "cell_type": "code",
      "metadata": {
        "colab": {
          "base_uri": "https://localhost:8080/"
        },
        "id": "CMGLF3H5rr3C",
        "outputId": "4c61b561-e3b8-4075-8604-c725d1a66c92"
      },
      "source": [
        "model5.predict([np.asarray([\"saya bermain di atas meja\"]),np.asarray([\"kursi diduduki oleh saya\"])])"
      ],
      "execution_count": null,
      "outputs": [
        {
          "output_type": "execute_result",
          "data": {
            "text/plain": [
              "array([[0.03563059]], dtype=float32)"
            ]
          },
          "metadata": {
            "tags": []
          },
          "execution_count": 27
        }
      ]
    },
    {
      "cell_type": "markdown",
      "metadata": {
        "id": "pX3MS_tVyLtn"
      },
      "source": [
        "### Save the second model"
      ]
    },
    {
      "cell_type": "code",
      "metadata": {
        "colab": {
          "base_uri": "https://localhost:8080/"
        },
        "id": "aTjHUTmnF9lw",
        "outputId": "de082521-47b9-47a1-c835-a9c6f72bc431"
      },
      "source": [
        "export_dir2 = 'saved_model/model_2'\n",
        "tf.saved_model.save(model5, export_dir=export_dir2)"
      ],
      "execution_count": null,
      "outputs": [
        {
          "output_type": "stream",
          "text": [
            "WARNING:absl:Found untraced functions such as lstm_cell_13_layer_call_fn, lstm_cell_13_layer_call_and_return_conditional_losses, lstm_cell_14_layer_call_fn, lstm_cell_14_layer_call_and_return_conditional_losses, lstm_cell_16_layer_call_fn while saving (showing 5 of 20). These functions will not be directly callable after loading.\n",
            "WARNING:absl:Found untraced functions such as lstm_cell_13_layer_call_fn, lstm_cell_13_layer_call_and_return_conditional_losses, lstm_cell_14_layer_call_fn, lstm_cell_14_layer_call_and_return_conditional_losses, lstm_cell_16_layer_call_fn while saving (showing 5 of 20). These functions will not be directly callable after loading.\n"
          ],
          "name": "stderr"
        },
        {
          "output_type": "stream",
          "text": [
            "INFO:tensorflow:Assets written to: saved_model/model_2/assets\n"
          ],
          "name": "stdout"
        },
        {
          "output_type": "stream",
          "text": [
            "INFO:tensorflow:Assets written to: saved_model/model_2/assets\n"
          ],
          "name": "stderr"
        }
      ]
    },
    {
      "cell_type": "code",
      "metadata": {
        "colab": {
          "base_uri": "https://localhost:8080/"
        },
        "id": "hgcba_iHWCUV",
        "outputId": "e305a219-e09e-4499-ff2b-96cd164b42eb"
      },
      "source": [
        "new_model5 = tf.keras.models.load_model(export_dir2)\n",
        "# nnew_model5 = tf.keras.models.load_model(\"/content/drive/MyDrive/saved_model/model_2\")\n",
        "new_model5.summary()\n",
        "# nnew_model5.summary()"
      ],
      "execution_count": null,
      "outputs": [
        {
          "output_type": "stream",
          "text": [
            "WARNING:tensorflow:8 out of the last 11 calls to <function recreate_function.<locals>.restored_function_body at 0x7f560edfcb00> triggered tf.function retracing. Tracing is expensive and the excessive number of tracings could be due to (1) creating @tf.function repeatedly in a loop, (2) passing tensors with different shapes, (3) passing Python objects instead of tensors. For (1), please define your @tf.function outside of the loop. For (2), @tf.function has experimental_relax_shapes=True option that relaxes argument shapes that can avoid unnecessary retracing. For (3), please refer to https://www.tensorflow.org/guide/function#controlling_retracing and https://www.tensorflow.org/api_docs/python/tf/function for  more details.\n"
          ],
          "name": "stdout"
        },
        {
          "output_type": "stream",
          "text": [
            "WARNING:tensorflow:8 out of the last 11 calls to <function recreate_function.<locals>.restored_function_body at 0x7f560edfcb00> triggered tf.function retracing. Tracing is expensive and the excessive number of tracings could be due to (1) creating @tf.function repeatedly in a loop, (2) passing tensors with different shapes, (3) passing Python objects instead of tensors. For (1), please define your @tf.function outside of the loop. For (2), @tf.function has experimental_relax_shapes=True option that relaxes argument shapes that can avoid unnecessary retracing. For (3), please refer to https://www.tensorflow.org/guide/function#controlling_retracing and https://www.tensorflow.org/api_docs/python/tf/function for  more details.\n"
          ],
          "name": "stderr"
        },
        {
          "output_type": "stream",
          "text": [
            "WARNING:tensorflow:9 out of the last 12 calls to <function recreate_function.<locals>.restored_function_body at 0x7f560edb0950> triggered tf.function retracing. Tracing is expensive and the excessive number of tracings could be due to (1) creating @tf.function repeatedly in a loop, (2) passing tensors with different shapes, (3) passing Python objects instead of tensors. For (1), please define your @tf.function outside of the loop. For (2), @tf.function has experimental_relax_shapes=True option that relaxes argument shapes that can avoid unnecessary retracing. For (3), please refer to https://www.tensorflow.org/guide/function#controlling_retracing and https://www.tensorflow.org/api_docs/python/tf/function for  more details.\n"
          ],
          "name": "stdout"
        },
        {
          "output_type": "stream",
          "text": [
            "WARNING:tensorflow:9 out of the last 12 calls to <function recreate_function.<locals>.restored_function_body at 0x7f560edb0950> triggered tf.function retracing. Tracing is expensive and the excessive number of tracings could be due to (1) creating @tf.function repeatedly in a loop, (2) passing tensors with different shapes, (3) passing Python objects instead of tensors. For (1), please define your @tf.function outside of the loop. For (2), @tf.function has experimental_relax_shapes=True option that relaxes argument shapes that can avoid unnecessary retracing. For (3), please refer to https://www.tensorflow.org/guide/function#controlling_retracing and https://www.tensorflow.org/api_docs/python/tf/function for  more details.\n"
          ],
          "name": "stderr"
        },
        {
          "output_type": "stream",
          "text": [
            "WARNING:tensorflow:10 out of the last 13 calls to <function recreate_function.<locals>.restored_function_body at 0x7f560ee1f680> triggered tf.function retracing. Tracing is expensive and the excessive number of tracings could be due to (1) creating @tf.function repeatedly in a loop, (2) passing tensors with different shapes, (3) passing Python objects instead of tensors. For (1), please define your @tf.function outside of the loop. For (2), @tf.function has experimental_relax_shapes=True option that relaxes argument shapes that can avoid unnecessary retracing. For (3), please refer to https://www.tensorflow.org/guide/function#controlling_retracing and https://www.tensorflow.org/api_docs/python/tf/function for  more details.\n"
          ],
          "name": "stdout"
        },
        {
          "output_type": "stream",
          "text": [
            "WARNING:tensorflow:10 out of the last 13 calls to <function recreate_function.<locals>.restored_function_body at 0x7f560ee1f680> triggered tf.function retracing. Tracing is expensive and the excessive number of tracings could be due to (1) creating @tf.function repeatedly in a loop, (2) passing tensors with different shapes, (3) passing Python objects instead of tensors. For (1), please define your @tf.function outside of the loop. For (2), @tf.function has experimental_relax_shapes=True option that relaxes argument shapes that can avoid unnecessary retracing. For (3), please refer to https://www.tensorflow.org/guide/function#controlling_retracing and https://www.tensorflow.org/api_docs/python/tf/function for  more details.\n"
          ],
          "name": "stderr"
        },
        {
          "output_type": "stream",
          "text": [
            "WARNING:tensorflow:11 out of the last 14 calls to <function recreate_function.<locals>.restored_function_body at 0x7f560edbe050> triggered tf.function retracing. Tracing is expensive and the excessive number of tracings could be due to (1) creating @tf.function repeatedly in a loop, (2) passing tensors with different shapes, (3) passing Python objects instead of tensors. For (1), please define your @tf.function outside of the loop. For (2), @tf.function has experimental_relax_shapes=True option that relaxes argument shapes that can avoid unnecessary retracing. For (3), please refer to https://www.tensorflow.org/guide/function#controlling_retracing and https://www.tensorflow.org/api_docs/python/tf/function for  more details.\n"
          ],
          "name": "stdout"
        },
        {
          "output_type": "stream",
          "text": [
            "WARNING:tensorflow:11 out of the last 14 calls to <function recreate_function.<locals>.restored_function_body at 0x7f560edbe050> triggered tf.function retracing. Tracing is expensive and the excessive number of tracings could be due to (1) creating @tf.function repeatedly in a loop, (2) passing tensors with different shapes, (3) passing Python objects instead of tensors. For (1), please define your @tf.function outside of the loop. For (2), @tf.function has experimental_relax_shapes=True option that relaxes argument shapes that can avoid unnecessary retracing. For (3), please refer to https://www.tensorflow.org/guide/function#controlling_retracing and https://www.tensorflow.org/api_docs/python/tf/function for  more details.\n"
          ],
          "name": "stderr"
        },
        {
          "output_type": "stream",
          "text": [
            "Model: \"model_1\"\n",
            "__________________________________________________________________________________________________\n",
            "Layer (type)                    Output Shape         Param #     Connected to                     \n",
            "==================================================================================================\n",
            "input_3 (InputLayer)            [(None,)]            0                                            \n",
            "__________________________________________________________________________________________________\n",
            "input_4 (InputLayer)            [(None,)]            0                                            \n",
            "__________________________________________________________________________________________________\n",
            "keras_layer_1 (KerasLayer)      (None, 128)          112461824   input_3[0][0]                    \n",
            "__________________________________________________________________________________________________\n",
            "keras_layer_2 (KerasLayer)      (None, 128)          112461824   input_4[0][0]                    \n",
            "__________________________________________________________________________________________________\n",
            "concatenate_1 (Concatenate)     (None, 256)          0           keras_layer_1[0][0]              \n",
            "                                                                 keras_layer_2[0][0]              \n",
            "__________________________________________________________________________________________________\n",
            "reshape_1 (Reshape)             (None, 2, 128)       0           concatenate_1[0][0]              \n",
            "__________________________________________________________________________________________________\n",
            "bidirectional_2 (Bidirectional) (None, 2, 128)       98816       reshape_1[0][0]                  \n",
            "__________________________________________________________________________________________________\n",
            "bidirectional_3 (Bidirectional) (None, 64)           41216       bidirectional_2[0][0]            \n",
            "__________________________________________________________________________________________________\n",
            "dense_6 (Dense)                 (None, 256)          16640       bidirectional_3[0][0]            \n",
            "__________________________________________________________________________________________________\n",
            "dropout_5 (Dropout)             (None, 256)          0           dense_6[0][0]                    \n",
            "__________________________________________________________________________________________________\n",
            "batch_normalization_5 (BatchNor (None, 256)          1024        dropout_5[0][0]                  \n",
            "__________________________________________________________________________________________________\n",
            "dense_7 (Dense)                 (None, 256)          65792       batch_normalization_5[0][0]      \n",
            "__________________________________________________________________________________________________\n",
            "dropout_6 (Dropout)             (None, 256)          0           dense_7[0][0]                    \n",
            "__________________________________________________________________________________________________\n",
            "batch_normalization_6 (BatchNor (None, 256)          1024        dropout_6[0][0]                  \n",
            "__________________________________________________________________________________________________\n",
            "dense_8 (Dense)                 (None, 256)          65792       batch_normalization_6[0][0]      \n",
            "__________________________________________________________________________________________________\n",
            "dropout_7 (Dropout)             (None, 256)          0           dense_8[0][0]                    \n",
            "__________________________________________________________________________________________________\n",
            "batch_normalization_7 (BatchNor (None, 256)          1024        dropout_7[0][0]                  \n",
            "__________________________________________________________________________________________________\n",
            "dense_9 (Dense)                 (None, 256)          65792       batch_normalization_7[0][0]      \n",
            "__________________________________________________________________________________________________\n",
            "dropout_8 (Dropout)             (None, 256)          0           dense_9[0][0]                    \n",
            "__________________________________________________________________________________________________\n",
            "batch_normalization_8 (BatchNor (None, 256)          1024        dropout_8[0][0]                  \n",
            "__________________________________________________________________________________________________\n",
            "dense_10 (Dense)                (None, 256)          65792       batch_normalization_8[0][0]      \n",
            "__________________________________________________________________________________________________\n",
            "dropout_9 (Dropout)             (None, 256)          0           dense_10[0][0]                   \n",
            "__________________________________________________________________________________________________\n",
            "batch_normalization_9 (BatchNor (None, 256)          1024        dropout_9[0][0]                  \n",
            "__________________________________________________________________________________________________\n",
            "dense_11 (Dense)                (None, 1)            257         batch_normalization_9[0][0]      \n",
            "==================================================================================================\n",
            "Total params: 225,348,865\n",
            "Trainable params: 225,346,305\n",
            "Non-trainable params: 2,560\n",
            "__________________________________________________________________________________________________\n"
          ],
          "name": "stdout"
        }
      ]
    },
    {
      "cell_type": "code",
      "metadata": {
        "colab": {
          "base_uri": "https://localhost:8080/"
        },
        "id": "R1fRqB1kWUbk",
        "outputId": "90804478-aea5-49f3-d5e9-ac0ac07932fc"
      },
      "source": [
        "new_model5.predict([np.asarray([\"saya memukul kursi\"]),np.asarray([\"kursi dipukul oleh saya\"])])\n",
        "# nnew_model5.predict([np.asarray([\"saya memukul kursi\"]),np.asarray([\"kursi dipukul oleh saya\"])])"
      ],
      "execution_count": null,
      "outputs": [
        {
          "output_type": "execute_result",
          "data": {
            "text/plain": [
              "array([[0.674969]], dtype=float32)"
            ]
          },
          "metadata": {
            "tags": []
          },
          "execution_count": 23
        }
      ]
    },
    {
      "cell_type": "markdown",
      "metadata": {
        "id": "1Xvip48NV6J5"
      },
      "source": [
        "### TFLite conversion (also fails for this model unfortunately)"
      ]
    },
    {
      "cell_type": "code",
      "metadata": {
        "colab": {
          "base_uri": "https://localhost:8080/",
          "height": 1000
        },
        "id": "B-VPdyMwGA8y",
        "outputId": "e76e81ef-f718-4e93-bba2-a9f7b6b28c9b"
      },
      "source": [
        "converter = tf.lite.TFLiteConverter.from_keras_model(model5)\n",
        "\n",
        "# Set the optimzations\n",
        "optimization = tf.lite.Optimize.OPTIMIZE_FOR_LATENCY\n",
        "converter.optimizations = [optimization]\n",
        "\n",
        "# Invoke the converter to finally generate the TFLite model\n",
        "converter.allow_custom_ops = True\n",
        "tflite_model = converter.convert()"
      ],
      "execution_count": null,
      "outputs": [
        {
          "output_type": "stream",
          "text": [
            "WARNING:tensorflow:11 out of the last 11 calls to <function recreate_function.<locals>.restored_function_body at 0x7fcba5297170> triggered tf.function retracing. Tracing is expensive and the excessive number of tracings could be due to (1) creating @tf.function repeatedly in a loop, (2) passing tensors with different shapes, (3) passing Python objects instead of tensors. For (1), please define your @tf.function outside of the loop. For (2), @tf.function has experimental_relax_shapes=True option that relaxes argument shapes that can avoid unnecessary retracing. For (3), please refer to https://www.tensorflow.org/guide/function#controlling_retracing and https://www.tensorflow.org/api_docs/python/tf/function for  more details.\n"
          ],
          "name": "stdout"
        },
        {
          "output_type": "stream",
          "text": [
            "WARNING:tensorflow:11 out of the last 11 calls to <function recreate_function.<locals>.restored_function_body at 0x7fcba5297170> triggered tf.function retracing. Tracing is expensive and the excessive number of tracings could be due to (1) creating @tf.function repeatedly in a loop, (2) passing tensors with different shapes, (3) passing Python objects instead of tensors. For (1), please define your @tf.function outside of the loop. For (2), @tf.function has experimental_relax_shapes=True option that relaxes argument shapes that can avoid unnecessary retracing. For (3), please refer to https://www.tensorflow.org/guide/function#controlling_retracing and https://www.tensorflow.org/api_docs/python/tf/function for  more details.\n",
            "Exception ignored in: <function CapturableResourceDeleter.__del__ at 0x7fcdca490830>\n",
            "Traceback (most recent call last):\n",
            "  File \"/usr/local/lib/python3.7/dist-packages/tensorflow/python/training/tracking/tracking.py\", line 208, in __del__\n",
            "    self._destroy_resource()\n",
            "  File \"/usr/local/lib/python3.7/dist-packages/tensorflow/python/eager/def_function.py\", line 828, in __call__\n",
            "    result = self._call(*args, **kwds)\n",
            "  File \"/usr/local/lib/python3.7/dist-packages/tensorflow/python/eager/def_function.py\", line 871, in _call\n",
            "    self._initialize(args, kwds, add_initializers_to=initializers)\n",
            "  File \"/usr/local/lib/python3.7/dist-packages/tensorflow/python/eager/def_function.py\", line 726, in _initialize\n",
            "    *args, **kwds))\n",
            "  File \"/usr/local/lib/python3.7/dist-packages/tensorflow/python/eager/function.py\", line 2969, in _get_concrete_function_internal_garbage_collected\n",
            "    graph_function, _ = self._maybe_define_function(args, kwargs)\n",
            "  File \"/usr/local/lib/python3.7/dist-packages/tensorflow/python/eager/function.py\", line 3361, in _maybe_define_function\n",
            "    graph_function = self._create_graph_function(args, kwargs)\n",
            "  File \"/usr/local/lib/python3.7/dist-packages/tensorflow/python/eager/function.py\", line 3206, in _create_graph_function\n",
            "    capture_by_value=self._capture_by_value),\n",
            "  File \"/usr/local/lib/python3.7/dist-packages/tensorflow/python/framework/func_graph.py\", line 990, in func_graph_from_py_func\n",
            "    func_outputs = python_func(*func_args, **func_kwargs)\n",
            "  File \"/usr/local/lib/python3.7/dist-packages/tensorflow/python/eager/def_function.py\", line 634, in wrapped_fn\n",
            "    out = weak_wrapped_fn().__wrapped__(*args, **kwds)\n",
            "  File \"/usr/local/lib/python3.7/dist-packages/tensorflow/python/saved_model/function_deserialization.py\", line 253, in restored_function_body\n",
            "    return _call_concrete_function(function, inputs)\n",
            "  File \"/usr/local/lib/python3.7/dist-packages/tensorflow/python/saved_model/function_deserialization.py\", line 75, in _call_concrete_function\n",
            "    result = function._call_flat(tensor_inputs, function._captured_inputs)  # pylint: disable=protected-access\n",
            "  File \"/usr/local/lib/python3.7/dist-packages/tensorflow/python/saved_model/load.py\", line 116, in _call_flat\n",
            "    cancellation_manager)\n",
            "  File \"/usr/local/lib/python3.7/dist-packages/tensorflow/python/eager/function.py\", line 1932, in _call_flat\n",
            "    flat_outputs = forward_function.call(ctx, args_with_tangents)\n",
            "  File \"/usr/local/lib/python3.7/dist-packages/tensorflow/python/eager/function.py\", line 589, in call\n",
            "    executor_type=executor_type)\n",
            "  File \"/usr/local/lib/python3.7/dist-packages/tensorflow/python/ops/functional_ops.py\", line 1206, in partitioned_call\n",
            "    f.add_to_graph(graph)\n",
            "  File \"/usr/local/lib/python3.7/dist-packages/tensorflow/python/eager/function.py\", line 505, in add_to_graph\n",
            "    g._add_function(self)\n",
            "  File \"/usr/local/lib/python3.7/dist-packages/tensorflow/python/framework/ops.py\", line 3396, in _add_function\n",
            "    gradient)\n",
            "tensorflow.python.framework.errors_impl.InvalidArgumentError: 'func' argument to TF_GraphCopyFunction cannot be null\n",
            "WARNING:absl:Found untraced functions such as lstm_cell_7_layer_call_fn, lstm_cell_7_layer_call_and_return_conditional_losses, lstm_cell_8_layer_call_fn, lstm_cell_8_layer_call_and_return_conditional_losses, lstm_cell_10_layer_call_fn while saving (showing 5 of 20). These functions will not be directly callable after loading.\n",
            "WARNING:absl:Found untraced functions such as lstm_cell_7_layer_call_fn, lstm_cell_7_layer_call_and_return_conditional_losses, lstm_cell_8_layer_call_fn, lstm_cell_8_layer_call_and_return_conditional_losses, lstm_cell_10_layer_call_fn while saving (showing 5 of 20). These functions will not be directly callable after loading.\n"
          ],
          "name": "stderr"
        },
        {
          "output_type": "stream",
          "text": [
            "INFO:tensorflow:Assets written to: /tmp/tmpt002z6jz/assets\n"
          ],
          "name": "stdout"
        },
        {
          "output_type": "stream",
          "text": [
            "INFO:tensorflow:Assets written to: /tmp/tmpt002z6jz/assets\n"
          ],
          "name": "stderr"
        },
        {
          "output_type": "stream",
          "text": [
            "WARNING:tensorflow:11 out of the last 11 calls to <function recreate_function.<locals>.restored_function_body at 0x7fcd45d8a170> triggered tf.function retracing. Tracing is expensive and the excessive number of tracings could be due to (1) creating @tf.function repeatedly in a loop, (2) passing tensors with different shapes, (3) passing Python objects instead of tensors. For (1), please define your @tf.function outside of the loop. For (2), @tf.function has experimental_relax_shapes=True option that relaxes argument shapes that can avoid unnecessary retracing. For (3), please refer to https://www.tensorflow.org/guide/function#controlling_retracing and https://www.tensorflow.org/api_docs/python/tf/function for  more details.\n"
          ],
          "name": "stdout"
        },
        {
          "output_type": "stream",
          "text": [
            "WARNING:tensorflow:11 out of the last 11 calls to <function recreate_function.<locals>.restored_function_body at 0x7fcd45d8a170> triggered tf.function retracing. Tracing is expensive and the excessive number of tracings could be due to (1) creating @tf.function repeatedly in a loop, (2) passing tensors with different shapes, (3) passing Python objects instead of tensors. For (1), please define your @tf.function outside of the loop. For (2), @tf.function has experimental_relax_shapes=True option that relaxes argument shapes that can avoid unnecessary retracing. For (3), please refer to https://www.tensorflow.org/guide/function#controlling_retracing and https://www.tensorflow.org/api_docs/python/tf/function for  more details.\n"
          ],
          "name": "stderr"
        },
        {
          "output_type": "stream",
          "text": [
            "WARNING:tensorflow:11 out of the last 11 calls to <function recreate_function.<locals>.restored_function_body at 0x7fcd45da77a0> triggered tf.function retracing. Tracing is expensive and the excessive number of tracings could be due to (1) creating @tf.function repeatedly in a loop, (2) passing tensors with different shapes, (3) passing Python objects instead of tensors. For (1), please define your @tf.function outside of the loop. For (2), @tf.function has experimental_relax_shapes=True option that relaxes argument shapes that can avoid unnecessary retracing. For (3), please refer to https://www.tensorflow.org/guide/function#controlling_retracing and https://www.tensorflow.org/api_docs/python/tf/function for  more details.\n"
          ],
          "name": "stdout"
        },
        {
          "output_type": "stream",
          "text": [
            "WARNING:tensorflow:11 out of the last 11 calls to <function recreate_function.<locals>.restored_function_body at 0x7fcd45da77a0> triggered tf.function retracing. Tracing is expensive and the excessive number of tracings could be due to (1) creating @tf.function repeatedly in a loop, (2) passing tensors with different shapes, (3) passing Python objects instead of tensors. For (1), please define your @tf.function outside of the loop. For (2), @tf.function has experimental_relax_shapes=True option that relaxes argument shapes that can avoid unnecessary retracing. For (3), please refer to https://www.tensorflow.org/guide/function#controlling_retracing and https://www.tensorflow.org/api_docs/python/tf/function for  more details.\n"
          ],
          "name": "stderr"
        },
        {
          "output_type": "error",
          "ename": "ConverterError",
          "evalue": "ignored",
          "traceback": [
            "\u001b[0;31m---------------------------------------------------------------------------\u001b[0m",
            "\u001b[0;31mException\u001b[0m                                 Traceback (most recent call last)",
            "\u001b[0;32m/usr/local/lib/python3.7/dist-packages/tensorflow/lite/python/convert.py\u001b[0m in \u001b[0;36mtoco_convert_protos\u001b[0;34m(model_flags_str, toco_flags_str, input_data_str, debug_info_str, enable_mlir_converter)\u001b[0m\n\u001b[1;32m    212\u001b[0m                                                  \u001b[0mdebug_info_str\u001b[0m\u001b[0;34m,\u001b[0m\u001b[0;34m\u001b[0m\u001b[0;34m\u001b[0m\u001b[0m\n\u001b[0;32m--> 213\u001b[0;31m                                                  enable_mlir_converter)\n\u001b[0m\u001b[1;32m    214\u001b[0m       \u001b[0;32mreturn\u001b[0m \u001b[0mmodel_str\u001b[0m\u001b[0;34m\u001b[0m\u001b[0;34m\u001b[0m\u001b[0m\n",
            "\u001b[0;32m/usr/local/lib/python3.7/dist-packages/tensorflow/lite/python/wrap_toco.py\u001b[0m in \u001b[0;36mwrapped_toco_convert\u001b[0;34m(model_flags_str, toco_flags_str, input_data_str, debug_info_str, enable_mlir_converter)\u001b[0m\n\u001b[1;32m     37\u001b[0m       \u001b[0mdebug_info_str\u001b[0m\u001b[0;34m,\u001b[0m\u001b[0;34m\u001b[0m\u001b[0;34m\u001b[0m\u001b[0m\n\u001b[0;32m---> 38\u001b[0;31m       enable_mlir_converter)\n\u001b[0m\u001b[1;32m     39\u001b[0m \u001b[0;34m\u001b[0m\u001b[0m\n",
            "\u001b[0;31mException\u001b[0m: <unknown>:0: error: loc(callsite(callsite(\"model_1/keras_layer/StatefulPartitionedCall_1@__inference__wrapped_model_855846\" at \"StatefulPartitionedCall@__inference_signature_wrapper_872514\") at \"StatefulPartitionedCall_2\")): could not rewrite use of immutable bound input\n<unknown>:0: note: loc(\"StatefulPartitionedCall_2\"): called from\n",
            "\nDuring handling of the above exception, another exception occurred:\n",
            "\u001b[0;31mConverterError\u001b[0m                            Traceback (most recent call last)",
            "\u001b[0;32m<ipython-input-26-24c821d55de3>\u001b[0m in \u001b[0;36m<module>\u001b[0;34m()\u001b[0m\n\u001b[1;32m      7\u001b[0m \u001b[0;31m# Invoke the converter to finally generate the TFLite model\u001b[0m\u001b[0;34m\u001b[0m\u001b[0;34m\u001b[0m\u001b[0;34m\u001b[0m\u001b[0m\n\u001b[1;32m      8\u001b[0m \u001b[0mconverter\u001b[0m\u001b[0;34m.\u001b[0m\u001b[0mallow_custom_ops\u001b[0m \u001b[0;34m=\u001b[0m \u001b[0;32mTrue\u001b[0m\u001b[0;34m\u001b[0m\u001b[0;34m\u001b[0m\u001b[0m\n\u001b[0;32m----> 9\u001b[0;31m \u001b[0mtflite_model\u001b[0m \u001b[0;34m=\u001b[0m \u001b[0mconverter\u001b[0m\u001b[0;34m.\u001b[0m\u001b[0mconvert\u001b[0m\u001b[0;34m(\u001b[0m\u001b[0;34m)\u001b[0m\u001b[0;34m\u001b[0m\u001b[0;34m\u001b[0m\u001b[0m\n\u001b[0m",
            "\u001b[0;32m/usr/local/lib/python3.7/dist-packages/tensorflow/lite/python/lite.py\u001b[0m in \u001b[0;36mconvert\u001b[0;34m(self)\u001b[0m\n\u001b[1;32m    827\u001b[0m         \u001b[0mInvalid\u001b[0m \u001b[0mquantization\u001b[0m \u001b[0mparameters\u001b[0m\u001b[0;34m.\u001b[0m\u001b[0;34m\u001b[0m\u001b[0;34m\u001b[0m\u001b[0m\n\u001b[1;32m    828\u001b[0m     \"\"\"\n\u001b[0;32m--> 829\u001b[0;31m     \u001b[0msaved_model_convert_result\u001b[0m \u001b[0;34m=\u001b[0m \u001b[0mself\u001b[0m\u001b[0;34m.\u001b[0m\u001b[0m_convert_as_saved_model\u001b[0m\u001b[0;34m(\u001b[0m\u001b[0;34m)\u001b[0m\u001b[0;34m\u001b[0m\u001b[0;34m\u001b[0m\u001b[0m\n\u001b[0m\u001b[1;32m    830\u001b[0m     \u001b[0;32mif\u001b[0m \u001b[0msaved_model_convert_result\u001b[0m\u001b[0;34m:\u001b[0m\u001b[0;34m\u001b[0m\u001b[0;34m\u001b[0m\u001b[0m\n\u001b[1;32m    831\u001b[0m       \u001b[0;32mreturn\u001b[0m \u001b[0msaved_model_convert_result\u001b[0m\u001b[0;34m\u001b[0m\u001b[0;34m\u001b[0m\u001b[0m\n",
            "\u001b[0;32m/usr/local/lib/python3.7/dist-packages/tensorflow/lite/python/lite.py\u001b[0m in \u001b[0;36m_convert_as_saved_model\u001b[0;34m(self)\u001b[0m\n\u001b[1;32m    811\u001b[0m         return super(TFLiteKerasModelConverterV2,\n\u001b[1;32m    812\u001b[0m                      \u001b[0mself\u001b[0m\u001b[0;34m)\u001b[0m\u001b[0;34m.\u001b[0m\u001b[0mconvert\u001b[0m\u001b[0;34m(\u001b[0m\u001b[0mmeta_graph\u001b[0m\u001b[0;34m.\u001b[0m\u001b[0mgraph_def\u001b[0m\u001b[0;34m,\u001b[0m \u001b[0minput_tensors\u001b[0m\u001b[0;34m,\u001b[0m\u001b[0;34m\u001b[0m\u001b[0;34m\u001b[0m\u001b[0m\n\u001b[0;32m--> 813\u001b[0;31m                                    output_tensors)\n\u001b[0m\u001b[1;32m    814\u001b[0m     \u001b[0;32mfinally\u001b[0m\u001b[0;34m:\u001b[0m\u001b[0;34m\u001b[0m\u001b[0;34m\u001b[0m\u001b[0m\n\u001b[1;32m    815\u001b[0m       \u001b[0mshutil\u001b[0m\u001b[0;34m.\u001b[0m\u001b[0mrmtree\u001b[0m\u001b[0;34m(\u001b[0m\u001b[0mtemp_dir\u001b[0m\u001b[0;34m,\u001b[0m \u001b[0;32mTrue\u001b[0m\u001b[0;34m)\u001b[0m\u001b[0;34m\u001b[0m\u001b[0;34m\u001b[0m\u001b[0m\n",
            "\u001b[0;32m/usr/local/lib/python3.7/dist-packages/tensorflow/lite/python/lite.py\u001b[0m in \u001b[0;36mconvert\u001b[0;34m(self, graph_def, input_tensors, output_tensors)\u001b[0m\n\u001b[1;32m    626\u001b[0m         \u001b[0minput_tensors\u001b[0m\u001b[0;34m=\u001b[0m\u001b[0minput_tensors\u001b[0m\u001b[0;34m,\u001b[0m\u001b[0;34m\u001b[0m\u001b[0;34m\u001b[0m\u001b[0m\n\u001b[1;32m    627\u001b[0m         \u001b[0moutput_tensors\u001b[0m\u001b[0;34m=\u001b[0m\u001b[0moutput_tensors\u001b[0m\u001b[0;34m,\u001b[0m\u001b[0;34m\u001b[0m\u001b[0;34m\u001b[0m\u001b[0m\n\u001b[0;32m--> 628\u001b[0;31m         **converter_kwargs)\n\u001b[0m\u001b[1;32m    629\u001b[0m \u001b[0;34m\u001b[0m\u001b[0m\n\u001b[1;32m    630\u001b[0m     \u001b[0mcalibrate_and_quantize\u001b[0m\u001b[0;34m,\u001b[0m \u001b[0mflags\u001b[0m \u001b[0;34m=\u001b[0m \u001b[0mquant_mode\u001b[0m\u001b[0;34m.\u001b[0m\u001b[0mquantizer_flags\u001b[0m\u001b[0;34m(\u001b[0m\u001b[0;34m)\u001b[0m\u001b[0;34m\u001b[0m\u001b[0;34m\u001b[0m\u001b[0m\n",
            "\u001b[0;32m/usr/local/lib/python3.7/dist-packages/tensorflow/lite/python/convert.py\u001b[0m in \u001b[0;36mtoco_convert_impl\u001b[0;34m(input_data, input_tensors, output_tensors, enable_mlir_converter, *args, **kwargs)\u001b[0m\n\u001b[1;32m    611\u001b[0m       \u001b[0minput_data\u001b[0m\u001b[0;34m.\u001b[0m\u001b[0mSerializeToString\u001b[0m\u001b[0;34m(\u001b[0m\u001b[0;34m)\u001b[0m\u001b[0;34m,\u001b[0m\u001b[0;34m\u001b[0m\u001b[0;34m\u001b[0m\u001b[0m\n\u001b[1;32m    612\u001b[0m       \u001b[0mdebug_info_str\u001b[0m\u001b[0;34m=\u001b[0m\u001b[0mdebug_info_str\u001b[0m\u001b[0;34m,\u001b[0m\u001b[0;34m\u001b[0m\u001b[0;34m\u001b[0m\u001b[0m\n\u001b[0;32m--> 613\u001b[0;31m       enable_mlir_converter=enable_mlir_converter)\n\u001b[0m\u001b[1;32m    614\u001b[0m   \u001b[0;32mreturn\u001b[0m \u001b[0mdata\u001b[0m\u001b[0;34m\u001b[0m\u001b[0;34m\u001b[0m\u001b[0m\n\u001b[1;32m    615\u001b[0m \u001b[0;34m\u001b[0m\u001b[0m\n",
            "\u001b[0;32m/usr/local/lib/python3.7/dist-packages/tensorflow/lite/python/convert.py\u001b[0m in \u001b[0;36mtoco_convert_protos\u001b[0;34m(model_flags_str, toco_flags_str, input_data_str, debug_info_str, enable_mlir_converter)\u001b[0m\n\u001b[1;32m    214\u001b[0m       \u001b[0;32mreturn\u001b[0m \u001b[0mmodel_str\u001b[0m\u001b[0;34m\u001b[0m\u001b[0;34m\u001b[0m\u001b[0m\n\u001b[1;32m    215\u001b[0m     \u001b[0;32mexcept\u001b[0m \u001b[0mException\u001b[0m \u001b[0;32mas\u001b[0m \u001b[0me\u001b[0m\u001b[0;34m:\u001b[0m\u001b[0;34m\u001b[0m\u001b[0;34m\u001b[0m\u001b[0m\n\u001b[0;32m--> 216\u001b[0;31m       \u001b[0;32mraise\u001b[0m \u001b[0mConverterError\u001b[0m\u001b[0;34m(\u001b[0m\u001b[0mstr\u001b[0m\u001b[0;34m(\u001b[0m\u001b[0me\u001b[0m\u001b[0;34m)\u001b[0m\u001b[0;34m)\u001b[0m\u001b[0;34m\u001b[0m\u001b[0;34m\u001b[0m\u001b[0m\n\u001b[0m\u001b[1;32m    217\u001b[0m \u001b[0;34m\u001b[0m\u001b[0m\n\u001b[1;32m    218\u001b[0m   \u001b[0;32mif\u001b[0m \u001b[0mdistutils\u001b[0m\u001b[0;34m.\u001b[0m\u001b[0mspawn\u001b[0m\u001b[0;34m.\u001b[0m\u001b[0mfind_executable\u001b[0m\u001b[0;34m(\u001b[0m\u001b[0m_toco_from_proto_bin\u001b[0m\u001b[0;34m)\u001b[0m \u001b[0;32mis\u001b[0m \u001b[0;32mNone\u001b[0m\u001b[0;34m:\u001b[0m\u001b[0;34m\u001b[0m\u001b[0;34m\u001b[0m\u001b[0m\n",
            "\u001b[0;31mConverterError\u001b[0m: <unknown>:0: error: loc(callsite(callsite(\"model_1/keras_layer/StatefulPartitionedCall_1@__inference__wrapped_model_855846\" at \"StatefulPartitionedCall@__inference_signature_wrapper_872514\") at \"StatefulPartitionedCall_2\")): could not rewrite use of immutable bound input\n<unknown>:0: note: loc(\"StatefulPartitionedCall_2\"): called from\n"
          ]
        }
      ]
    },
    {
      "cell_type": "code",
      "metadata": {
        "id": "BXxT5obK0u6i"
      },
      "source": [
        "#DO NOT RUN as tflite conversion fails\n",
        "tflite_model_file = pathlib.Path('./model4.tflite')"
      ],
      "execution_count": null,
      "outputs": []
    },
    {
      "cell_type": "code",
      "metadata": {
        "id": "eT6sY_w_2Se8"
      },
      "source": [
        "# Load the TFLite model and allocate tensors.\n",
        "interpreter = tf.lite.Interpreter(model_content=tflite_model)\n",
        "interpreter.allocate_tensors()\n",
        "\n",
        "# Get input and output tensors.\n",
        "input_details = interpreter.get_input_details()\n",
        "output_details = interpreter.get_output_details()\n",
        "\n",
        "# Test the model on random input data.\n",
        "input_shape = input_details[0]['shape']\n",
        "input_data = [np.asarray([\"saya memukul kursi\"]),np.asarray([\"kursi dipukul oleh saya\"])]\n",
        "interpreter.set_tensor(input_details[0]['index'], input_data)\n",
        "\n",
        "interpreter.invoke()\n",
        "\n",
        "# The function `get_tensor()` returns a copy of the tensor data.\n",
        "# Use `tensor()` in order to get a pointer to the tensor.\n",
        "output_data = interpreter.get_tensor(output_details[0]['index'])\n",
        "print(output_data)"
      ],
      "execution_count": null,
      "outputs": []
    },
    {
      "cell_type": "markdown",
      "metadata": {
        "id": "QJ4Bt7imJpGL"
      },
      "source": [
        "# Model with diff embedding"
      ]
    },
    {
      "cell_type": "markdown",
      "metadata": {
        "id": "v3yycWmlpxP4"
      },
      "source": [
        "It is not working right now, I haven't been able to make it work due to mismatch in dimension."
      ]
    },
    {
      "cell_type": "code",
      "metadata": {
        "id": "ZMdw7ve79uI5"
      },
      "source": [
        "#Embedding for Indonesian language (vector with 128 dimension)\n",
        "\n",
        "# !pip install --quiet tensorflow_text\n",
        "# import tensorflow.compat.v1 as tf1\n",
        "# import tensorflow_text as tf_text\n",
        "# tf1.disable_eager_execution()\n",
        "\n",
        "embed1 = hub.KerasLayer(\"https://tfhub.dev/google/wiki40b-lm-id/1\", signature='word_embeddings', output_key=\"word_embeddings\")"
      ],
      "execution_count": null,
      "outputs": []
    },
    {
      "cell_type": "code",
      "metadata": {
        "colab": {
          "base_uri": "https://localhost:8080/"
        },
        "id": "ZfhQHfSjkJo7",
        "outputId": "12d793c6-fe49-4e95-84fe-03782ad5d15a"
      },
      "source": [
        "embed1(np.array([\"abc\"]))"
      ],
      "execution_count": null,
      "outputs": [
        {
          "output_type": "execute_result",
          "data": {
            "text/plain": [
              "<tf.Tensor 'keras_layer_8/StatefulPartitionedCall:0' shape=(None, None, 768) dtype=float32>"
            ]
          },
          "metadata": {
            "tags": []
          },
          "execution_count": 100
        }
      ]
    },
    {
      "cell_type": "code",
      "metadata": {
        "id": "M7SGLS8TOJkd"
      },
      "source": [
        "# embeddings = embed2([Q1_train[0]], signature=\"word_embeddings\",as_dict=True)[\"word_embeddings\"]"
      ],
      "execution_count": null,
      "outputs": []
    },
    {
      "cell_type": "code",
      "metadata": {
        "id": "S3pDyyvn9yvZ"
      },
      "source": [
        "# xt1=embed(Q1_train)\n",
        "# xt2=embed(Q2_train)\n",
        "# xte1=embed(Q1_test)\n",
        "# xte2=embed(Q2_test)"
      ],
      "execution_count": null,
      "outputs": []
    },
    {
      "cell_type": "code",
      "metadata": {
        "colab": {
          "base_uri": "https://localhost:8080/"
        },
        "id": "S_8J7dKfiA4P",
        "outputId": "ae99bcd1-d444-4bbd-af52-2c26c1491266"
      },
      "source": [
        "qstn1=tf.keras.Input(shape=(), dtype=tf.string)\n",
        "#qstn2=tf.keras.Input(shape=(), dtype=tf.string)\n",
        "qu1=embed1(qstn1)\n",
        "#qu2=embed1(qstn2)\n",
        "#concat=tf.keras.layers.concatenate([qu1,qu2])\n",
        "#concat=tf.keras.layers.Reshape((2,128))(concat)\n",
        "#concat=tf.keras.layers.Bidirectional(tf.keras.layers.LSTM(64, return_sequences=True))(concat)\n",
        "#concat=tf.keras.layers.Bidirectional(tf.keras.layers.LSTM(32))(concat)\n",
        "\n",
        "model7 = tf.keras.models.Model(inputs=[qstn1], outputs=qu1)\n",
        "model7.summary()"
      ],
      "execution_count": null,
      "outputs": [
        {
          "output_type": "stream",
          "text": [
            "Model: \"model_1\"\n",
            "_________________________________________________________________\n",
            "Layer (type)                 Output Shape              Param #   \n",
            "=================================================================\n",
            "input_7 (InputLayer)         [(None,)]                 0         \n",
            "_________________________________________________________________\n",
            "keras_layer_1 (KerasLayer)   {'word_embeddings': (None 116768000 \n",
            "=================================================================\n",
            "Total params: 116,768,000\n",
            "Trainable params: 0\n",
            "Non-trainable params: 116,768,000\n",
            "_________________________________________________________________\n"
          ],
          "name": "stdout"
        }
      ]
    },
    {
      "cell_type": "code",
      "metadata": {
        "colab": {
          "base_uri": "https://localhost:8080/"
        },
        "id": "6QUKBgDOiXCB",
        "outputId": "4a684eaf-389a-4bc0-e2ac-4cb40d3b75fd"
      },
      "source": [
        "model7.predict(np.array([\"abc\"]))"
      ],
      "execution_count": null,
      "outputs": [
        {
          "output_type": "stream",
          "text": [
            "/usr/local/lib/python3.7/dist-packages/tensorflow/python/keras/engine/training.py:2325: UserWarning: `Model.state_updates` will be removed in a future version. This property should not be used in TensorFlow 2.0, as `updates` are applied automatically.\n",
            "  warnings.warn('`Model.state_updates` will be removed in a future version. '\n"
          ],
          "name": "stderr"
        },
        {
          "output_type": "execute_result",
          "data": {
            "text/plain": [
              "array([[[ 1.15195453e-01,  6.62501037e-01,  3.49963069e-01,\n",
              "         -5.74863292e-02, -1.46612573e+00,  3.22761416e-01,\n",
              "          7.45852351e-01,  9.10114825e-01,  3.02208424e-01,\n",
              "          4.80806649e-01, -3.55580121e-01, -3.32741976e+00,\n",
              "          2.47957751e-01,  4.46250051e-01, -2.48991847e-01,\n",
              "          4.71701145e-01, -3.88547033e-02,  1.03991735e+00,\n",
              "          4.21689242e-01,  1.58651364e+00, -1.02430892e+00,\n",
              "         -1.03150338e-01,  2.25313857e-01, -6.67892337e-01,\n",
              "          4.70242053e-01, -4.83143240e-01, -1.05122522e-01,\n",
              "          3.94368261e-01, -1.20789266e+00, -5.23485243e-01,\n",
              "          7.10996389e-02,  9.82663870e-01,  2.00165272e-01,\n",
              "          8.26833844e-01, -8.62367034e-01,  9.92930979e-02,\n",
              "         -6.68423116e-01, -3.84718865e-01, -3.90402526e-01,\n",
              "         -5.94246507e-01,  5.88665605e-02, -5.26681602e-01,\n",
              "          6.62307918e-01,  1.38507760e+00, -3.99313979e-02,\n",
              "         -1.15141466e-01,  1.24471821e-02, -6.85775459e-01,\n",
              "          1.04845572e+00, -1.35175213e-01, -6.27395093e-01,\n",
              "         -2.55767560e+00, -3.25731099e-01,  1.64708514e-02,\n",
              "         -5.42284966e-01, -7.87228644e-02,  1.00834715e+00,\n",
              "          2.90297829e-02,  1.18143165e+00,  1.22712040e+00,\n",
              "          1.16873085e+00,  3.91996503e-01,  2.43189618e-01,\n",
              "          3.71191859e-01,  3.32318157e-01,  7.77802050e-01,\n",
              "         -4.67736483e-01, -4.58466649e-01, -6.58809304e-01,\n",
              "         -1.44060230e+00, -1.20049798e+00,  1.23190381e-01,\n",
              "          1.89585507e-01, -5.91318905e-01, -1.15786982e+00,\n",
              "          3.76307547e-01, -2.50539929e-01,  1.08814991e+00,\n",
              "          1.58071607e-01, -5.52710116e-01, -2.48815671e-01,\n",
              "         -4.92464989e-01, -7.79972970e-01,  7.97353506e-01,\n",
              "          8.98977555e-03, -3.08677971e-01, -9.70629677e-02,\n",
              "          3.19081731e-03, -2.75225699e-01, -2.30921194e-01,\n",
              "         -1.43043222e-02, -1.66472778e-01,  8.08612630e-03,\n",
              "          7.26982355e-01,  3.96836400e-01,  7.12096915e-02,\n",
              "          3.85172987e+00,  1.55566049e+00, -4.25844826e-02,\n",
              "          8.29058707e-01, -2.11913452e-01, -1.33151427e-01,\n",
              "          4.59478706e-01,  9.78264987e-01,  2.02377602e-01,\n",
              "         -2.64450341e-01,  3.58623624e-01,  3.42460573e-01,\n",
              "          5.55141211e-01,  3.24375108e-02, -9.58416387e-02,\n",
              "          3.08366895e-01,  3.09903264e-01, -6.08874738e-01,\n",
              "          7.27307558e-01, -4.76935685e-01, -9.41033959e-01,\n",
              "         -2.88386106e-01,  1.39372006e-01, -2.78313160e-01,\n",
              "         -3.56904119e-01,  8.75720903e-02,  1.78012657e+00,\n",
              "         -2.99165100e-01, -2.92961329e-01,  1.56358592e-02,\n",
              "          2.90131509e-01,  6.76896930e-01, -2.05922708e-01,\n",
              "          1.71195686e-01, -4.95157182e-01, -3.72845829e-01,\n",
              "         -5.21169841e-01, -1.40548810e-01,  8.10003161e-01,\n",
              "         -1.93148509e-01, -4.44316044e-02,  2.33288452e-01,\n",
              "          2.22166276e+00,  5.42973876e-01, -7.75327981e-01,\n",
              "         -6.88381374e-01,  3.17338765e-01, -3.18289459e-01,\n",
              "          1.01925209e-01,  1.20461130e+00, -1.20806766e+00,\n",
              "          6.99888617e-02, -7.60820974e-03,  7.54888177e-01,\n",
              "          5.91254771e-01, -4.06116039e-01,  2.77834982e-01,\n",
              "         -1.46790564e-01,  6.10417485e-01,  2.19143331e-01,\n",
              "         -3.45555127e-01,  5.27788460e-01,  1.63247008e-02,\n",
              "          3.95781636e-01, -5.80081224e-01, -7.15651751e-01,\n",
              "          4.24022555e-01, -2.58899093e-01, -6.57692194e-01,\n",
              "         -6.83252066e-02,  3.26271832e-01,  6.81802571e-01,\n",
              "          6.75850809e-02,  7.79094577e-01,  8.90757740e-01,\n",
              "          7.66152263e-01, -8.40871111e-02, -6.24854028e-01,\n",
              "          6.80750966e-01,  6.64557159e-01,  8.03085625e-01,\n",
              "          1.38193607e-01,  2.48016298e-01,  2.50167660e-02,\n",
              "          2.93740571e-01, -4.72049087e-01, -8.00114870e-02,\n",
              "          1.19363713e+00, -2.50350028e-01,  4.99156900e-02,\n",
              "          7.51495898e-01, -3.09692591e-01, -3.10851634e-01,\n",
              "         -5.73607624e-01, -1.08201616e-01, -4.44743603e-01,\n",
              "         -1.06811333e+00,  5.51573873e-01, -4.53113198e-01,\n",
              "         -1.07534599e+00,  7.98851699e-02, -1.01806693e-01,\n",
              "          3.47770751e-01,  5.07773459e-01, -2.03051224e-01,\n",
              "          6.06557488e-01, -3.54634136e-01,  1.36782452e-02,\n",
              "          8.09939325e-01, -1.18209161e-01, -3.50589216e-01,\n",
              "          4.22143899e-02,  2.21028447e-01, -4.97375309e-01,\n",
              "          3.78075391e-01, -1.71019390e-01,  1.58441871e-01,\n",
              "          6.41746461e-01, -1.85943961e-01, -1.02830589e+00,\n",
              "          7.08378375e-01, -2.07336485e-01, -6.08819962e-01,\n",
              "          6.99106976e-02,  6.61279142e-01, -6.02752447e-01,\n",
              "         -2.84761637e-01,  1.55100193e+01, -3.67554396e-01,\n",
              "          2.06348464e-01,  5.73198080e-01,  9.01713014e-01,\n",
              "          2.16908947e-01, -4.14703131e-01, -4.82043296e-01,\n",
              "         -4.13873553e-01,  4.14862841e-01,  9.71851200e-02,\n",
              "         -2.97334958e-02, -2.30286106e-01, -1.10959709e-01,\n",
              "         -5.93505979e-01, -4.06130493e-01,  1.57365549e+00,\n",
              "         -3.60609144e-01,  5.18017828e-01,  6.36376917e-01,\n",
              "          3.18458974e-01,  7.00674534e-01,  2.95973998e-02,\n",
              "          2.67478734e-01,  1.75048083e-01, -1.24156725e+00,\n",
              "          1.06880879e+00,  3.86727542e-01,  4.68472600e-01,\n",
              "          3.11994046e-01,  6.83615565e-01, -4.63678628e-01,\n",
              "         -5.06781936e-01,  1.57579795e-01, -9.89828557e-02,\n",
              "          6.19584799e-01,  2.99674392e-01, -2.28233337e-01,\n",
              "          2.85316408e-01, -2.38846302e-01,  3.73721987e-01,\n",
              "         -1.05672151e-01,  1.27093559e-02,  6.85059547e-01,\n",
              "         -4.37938929e-01,  4.77954030e-01,  5.62831946e-02,\n",
              "          3.31640303e-01, -4.42175232e-02,  6.52972281e-01,\n",
              "         -1.39499283e+00,  6.61171138e-01,  9.85448658e-01,\n",
              "         -1.43683299e-01, -3.12911302e-01, -6.42952263e-01,\n",
              "          2.23240420e-01, -5.66154957e-01, -4.12005000e-02,\n",
              "         -4.54257637e-01, -8.34854618e-02, -6.87139034e-01,\n",
              "          4.66067523e-01, -2.05769744e-02, -4.42674816e-01,\n",
              "         -5.68702102e-01,  1.96827933e-01,  1.51660904e-01,\n",
              "         -2.62817830e-01,  6.81389272e-01,  4.49814558e-01,\n",
              "          6.59772396e-01, -5.00714660e-01,  4.62159485e-01,\n",
              "          1.47448674e-01, -6.77176058e-01, -2.12937653e-01,\n",
              "          1.59073055e+00,  9.48098361e-01,  1.21784873e-01,\n",
              "          6.24302998e-02,  2.14782566e-01,  5.10111272e-01,\n",
              "          9.23194662e-02, -8.09370995e-01, -5.49097717e-01,\n",
              "         -7.22485483e-01,  2.43083492e-01, -3.86988461e-01,\n",
              "         -8.23118508e-01, -2.77590871e-01,  6.84316695e-01,\n",
              "          2.71202058e-01,  3.10810387e-01, -3.27142596e-01,\n",
              "          7.23779440e-01,  5.00892043e-01,  5.64432502e-01,\n",
              "          2.31993526e-01, -9.24869534e-03, -1.49231195e-01,\n",
              "          4.53002006e-01, -5.72967827e-01, -9.37033474e-01,\n",
              "         -4.69954699e-01, -2.89761931e-01, -1.30879745e-01,\n",
              "          3.46425995e-02, -2.18073297e+00, -2.86200583e-01,\n",
              "         -2.58327603e-01,  2.83442199e-01,  1.05240643e-01,\n",
              "         -7.75238037e-01, -2.76244313e-01,  3.97077262e-01,\n",
              "         -8.78906310e-01, -2.29285926e-01, -5.10456026e-01,\n",
              "         -6.70034766e-01, -4.40899223e-01,  4.61880386e-01,\n",
              "          4.74081226e-02,  1.56990194e+00,  1.10668682e-01,\n",
              "          1.48555458e-01,  3.50393742e-01, -1.52971372e-01,\n",
              "         -2.49310210e-01,  7.05245852e-01,  7.40167558e-01,\n",
              "         -1.06778413e-01,  3.29702273e-02,  5.23199439e-01,\n",
              "         -2.18987346e-01, -3.13743520e+00,  4.08446223e-01,\n",
              "         -8.93629342e-03, -3.03976685e-01, -5.44993103e-01,\n",
              "         -4.86278892e-01,  1.87053204e-01, -1.27414799e+00,\n",
              "          3.61028075e-01,  8.02048862e-01,  4.56800550e-01,\n",
              "          8.13543975e-01, -1.06270174e-02,  1.05197597e+00,\n",
              "         -1.48628622e-01,  4.98112679e-01, -4.90122408e-01,\n",
              "         -1.79641992e-01,  2.70739853e-01,  6.26271307e-01,\n",
              "         -2.83035249e-01,  1.23441732e+00,  8.17850232e-02,\n",
              "         -1.32074714e-01,  4.53849524e-01,  1.61880869e-02,\n",
              "          2.06420466e-01, -3.63454491e-01,  4.42863032e-02,\n",
              "         -2.66592056e-01,  1.20769751e+00, -7.15488568e-02,\n",
              "         -1.97361901e-01,  3.10300440e-01, -1.53993055e-01,\n",
              "          8.12299073e-01, -9.65291023e-01,  4.01989579e-01,\n",
              "          1.59474760e-01,  4.60954696e-01,  5.93607783e-01,\n",
              "          3.82897139e-01,  9.17026341e-01, -4.03265178e-01,\n",
              "          6.73879743e-01,  3.74386400e-01, -2.95648336e+00,\n",
              "         -6.90137506e-01,  1.33251593e-01, -1.01952493e-01,\n",
              "          6.17658734e-01, -2.09505916e-01,  1.23463118e+00,\n",
              "          2.60496616e-01, -8.59439552e-01,  4.44686621e-01,\n",
              "          7.26427808e-02, -2.73716301e-01, -1.81654811e-01,\n",
              "         -1.09475517e+00, -7.83808589e-01,  1.80328786e+00,\n",
              "          3.30389179e-02, -3.90450358e-01,  2.80286044e-01,\n",
              "         -1.83389476e-03,  9.24189389e-01, -2.95634419e-01,\n",
              "         -1.00252397e-01,  2.47899711e-01, -3.52441430e-01,\n",
              "         -3.50612551e-01, -2.92387724e-01, -2.13150695e-01,\n",
              "          5.35749614e-01,  5.48203945e-01, -4.27568436e-01,\n",
              "          1.65159374e-01,  7.40511835e-01, -7.63997436e-01,\n",
              "          2.84936041e-01,  2.40927562e-01, -5.33265918e-02,\n",
              "         -3.53149593e-01,  1.14393258e+00, -7.18525469e-01,\n",
              "         -1.09157130e-01, -1.30131289e-01,  4.68859345e-01,\n",
              "         -3.61595273e-01, -7.26311684e-01, -3.57909679e-01,\n",
              "         -1.87420905e+00,  4.45855647e-01,  2.01951218e+00,\n",
              "         -5.23421109e-01, -4.80542053e-03, -4.15604323e-01,\n",
              "          1.08129375e-01, -5.24891764e-02,  1.76808608e+00,\n",
              "          8.20076883e-01, -3.95221263e-01,  6.32229030e-01,\n",
              "         -1.26229478e-02, -1.76630691e-01,  4.31163400e-01,\n",
              "          1.47810781e+00, -7.32267976e-01,  2.96079248e-01,\n",
              "         -1.24494284e-02,  4.45399731e-02, -5.29595315e-01,\n",
              "          4.32700545e-01, -6.71003640e-01,  5.05950868e-01,\n",
              "          6.85684979e-01, -2.68615246e-01,  2.82741249e-01,\n",
              "         -2.88167298e-01,  1.13375492e-01,  4.24538136e-01,\n",
              "         -9.87307541e-03, -1.84092030e-01,  1.37824130e+00,\n",
              "         -6.66710138e-02,  3.29804748e-01,  1.17129497e-01,\n",
              "          8.46699595e-01, -2.13892817e-01,  7.14221597e-01,\n",
              "          7.39053249e-01, -3.46783906e-01,  1.31807613e+00,\n",
              "         -3.55514772e-02,  4.33903694e-01,  8.56736600e-01,\n",
              "         -5.44505954e-01, -5.04712939e-01, -2.98189104e-01,\n",
              "         -1.72337085e-01, -1.58166051e-01,  6.57237768e-01,\n",
              "          1.09841371e+00,  5.66884503e-02,  3.69084030e-01,\n",
              "          4.34239835e-01,  1.13719344e+00, -1.47908896e-01,\n",
              "         -1.07048047e+00, -8.08245480e-01,  3.23750108e-01,\n",
              "          7.18912542e-01, -3.42777312e-01,  4.52765487e-02,\n",
              "          3.88926566e-01, -2.71975636e-01,  2.25001767e-01,\n",
              "          6.80094212e-03,  1.39541775e-01,  1.26804817e+00,\n",
              "          8.37689519e-01,  3.40888679e-01,  2.75725545e-03,\n",
              "         -4.92792398e-01,  4.49197054e-01, -9.12632048e-02,\n",
              "         -6.84770495e-02, -2.99009625e-02, -8.98980796e-01,\n",
              "          8.93933177e-01, -4.12812769e-01, -4.68925148e-01,\n",
              "          5.27743138e-02, -7.22449601e-01,  2.93280721e-01,\n",
              "         -2.81386137e-01, -3.66368979e-01, -5.39895892e-01,\n",
              "         -5.56816220e-01, -1.09114256e-02, -1.93290457e-01,\n",
              "         -2.40770340e-01, -2.19817251e-01,  4.90679741e-01,\n",
              "         -9.21508968e-02,  2.64793277e-01, -1.23850179e+00,\n",
              "         -4.36526626e-01, -1.20897841e+00, -7.92409573e-03,\n",
              "         -5.17774105e-01,  5.45314476e-02, -1.11788295e-01,\n",
              "          5.32250226e-01,  1.47671010e-02,  2.58608013e-01,\n",
              "          4.89391744e-01, -3.68597120e-01,  9.48162556e-01,\n",
              "          2.57892638e-01, -3.91390055e-01,  7.07560599e-01,\n",
              "          5.81352711e-01,  4.01529551e-01, -3.61201093e-02,\n",
              "          1.49620938e+00,  1.29606146e-02, -7.41693139e-01,\n",
              "          4.81928587e-01, -1.00692883e-01, -3.83680910e-02,\n",
              "          7.59311095e-02,  1.05850792e+00,  8.78213644e-02,\n",
              "         -1.69095218e-01, -2.36757517e-01,  2.56728321e-01,\n",
              "          5.36175370e-01, -6.12528855e-03, -3.29883635e-01,\n",
              "          1.61556661e-01, -2.40998715e-02,  8.19196999e-01,\n",
              "         -2.06328526e-01, -5.44418907e-03, -2.50391692e-01,\n",
              "         -5.92360079e-01, -1.62681580e-01,  3.50056231e-01,\n",
              "          1.03374600e+00,  9.13111269e-02,  6.15178287e-01,\n",
              "         -8.23801577e-01,  2.24452242e-01, -2.59727508e-01,\n",
              "          1.03054404e+00,  1.70987204e-01,  1.40706375e-01,\n",
              "          9.22995582e-02,  9.32654217e-02,  6.56488776e-01,\n",
              "          3.29022527e-01,  2.26154715e-01,  9.51738417e-01,\n",
              "          5.47429919e-01, -8.09226453e-01, -5.52157402e-01,\n",
              "          1.02090287e+00,  9.79994237e-01, -2.48736247e-01,\n",
              "          4.24526095e-01, -7.79590070e-01, -6.96380079e-01,\n",
              "         -7.27488101e-01, -9.17181492e-01,  5.06630123e-01,\n",
              "          6.49874210e-01, -1.56711233e+00,  5.12288272e-01,\n",
              "          3.82417530e-01,  2.11097836e+00,  1.78310370e+00,\n",
              "          3.26165199e-01,  3.37388933e-01, -2.09506135e-02,\n",
              "         -4.57531571e-01,  5.02247572e-01,  2.31684908e-01,\n",
              "          1.73623502e+00,  5.18982112e-01,  8.55884731e-01,\n",
              "         -2.94370621e-01,  2.30808154e-01,  1.65246427e-01,\n",
              "         -7.34638691e-01, -9.28907543e-02,  2.57354170e-01,\n",
              "          1.34526134e+00,  1.23049721e-01,  9.07027870e-02,\n",
              "         -1.23991263e+00,  6.87949657e-01, -1.71478212e-01,\n",
              "         -4.87662017e-01, -8.58190656e-02,  2.17383122e+00,\n",
              "         -1.08908772e+00,  6.26283661e-02,  1.23686427e-02,\n",
              "          8.31069872e-02,  4.92489487e-01,  5.96696913e-01,\n",
              "          3.33146393e-01, -1.99526861e-01,  7.26824760e-01,\n",
              "         -1.58242390e-01, -1.45925969e-01, -3.99705708e-01,\n",
              "          9.51073050e-01,  9.79436576e-01, -2.10376620e-01,\n",
              "         -4.41455990e-01, -5.34736872e-01, -4.04068112e-01,\n",
              "          3.28081548e-01, -1.01687527e+00, -4.14712541e-02,\n",
              "          5.69012649e-02,  4.00136977e-01, -8.14737558e-01,\n",
              "         -7.04984844e-01, -5.55724025e-01, -7.69842118e-02,\n",
              "         -6.42250419e-01,  2.46325803e+00, -6.76749229e-01,\n",
              "          1.01519132e+00, -2.96414256e-01, -1.00266147e+00,\n",
              "         -3.09732556e-01, -8.51683974e-01,  1.06927764e+00,\n",
              "          2.26035994e-02, -1.31835237e-01,  1.07884312e+00,\n",
              "          3.06379229e-01,  2.28748187e-01, -4.95168746e-01,\n",
              "          1.27629906e-01,  1.80452347e-01,  1.61179945e-01,\n",
              "          7.68591821e-01, -5.31246066e-01,  2.80896015e-02,\n",
              "          5.24399459e-01,  3.88033390e-01,  1.54366985e-01,\n",
              "         -1.32866538e+00,  5.03821969e-01,  4.82358932e-01,\n",
              "         -5.40958270e-02,  6.21444821e-01, -1.15640454e-01,\n",
              "          1.32784843e-01,  2.55571216e-01,  5.22786915e-01,\n",
              "          4.74618226e-02,  9.40477848e-01,  4.09435742e-02,\n",
              "         -7.70634055e-01, -3.59997630e-01,  2.16224685e-01,\n",
              "         -5.21613479e-01, -2.63967454e-01, -6.29784048e-01,\n",
              "          1.54409975e-01,  7.58856654e-01,  1.48054153e-01,\n",
              "          6.66318476e-01, -2.80007809e-01, -1.69500168e-02,\n",
              "         -6.02076769e-01, -5.95436871e-01,  2.20318273e-01,\n",
              "          9.67525691e-02, -2.01528370e-01, -8.18265378e-01,\n",
              "         -2.35858846e+00,  1.38377631e+00,  1.10083926e+00,\n",
              "         -2.98596591e-01,  8.49613249e-01,  9.91726756e-01,\n",
              "          9.77715909e-01, -2.33521894e-01,  1.80267668e+00,\n",
              "          2.06043154e-01,  2.34450531e+00, -5.76258838e-01,\n",
              "         -7.10961640e-01, -8.02673399e-01,  2.80328184e-01,\n",
              "          6.90949619e-01,  1.01543553e-01, -4.57061321e-01,\n",
              "          5.26660025e-01,  5.67875981e-01, -6.23953104e-01,\n",
              "         -2.28039876e-01, -7.54675344e-02,  1.32019326e-01,\n",
              "          7.04938352e-01,  5.62285125e-01,  8.35712135e-01,\n",
              "          1.56602108e+00,  1.38308084e+00,  4.76678312e-02,\n",
              "          1.55036300e-01,  2.16094121e-01, -5.20743072e-01,\n",
              "         -9.13688689e-02,  4.49307501e-01, -6.72988296e-01,\n",
              "          4.18174177e-01,  6.80597126e-01,  1.39227593e+00,\n",
              "          4.18614745e-01,  1.75126627e-01, -5.39797068e-01]]],\n",
              "      dtype=float32)"
            ]
          },
          "metadata": {
            "tags": []
          },
          "execution_count": 57
        }
      ]
    },
    {
      "cell_type": "code",
      "metadata": {
        "id": "bZaMmLpj94uX",
        "colab": {
          "base_uri": "https://localhost:8080/"
        },
        "outputId": "88ae1bb1-4437-4257-fc96-8d3f506ee872"
      },
      "source": [
        "#hub_layer = hub.KerasLayer(\"https://tfhub.dev/google/wiki40b-lm-id/1\",signature='word_embeddings' , signature_outputs_as_dict=True,input_shape=[], dtype=tf.string)\n",
        "qstn1=tf.keras.Input(shape=(), dtype=tf.string)\n",
        "qstn2=tf.keras.Input(shape=(), dtype=tf.string)\n",
        "qu1=embed1(qstn1)\n",
        "qu2=embed1(qstn2)\n",
        "concat=tf.keras.layers.concatenate([qu1,qu2])\n",
        "#concat=tf.keras.layers.Reshape((2,768))(concat)\n",
        "concat=tf.keras.layers.Bidirectional(tf.keras.layers.LSTM(384, return_sequences=True))(concat)\n",
        "concat=tf.keras.layers.Bidirectional(tf.keras.layers.LSTM(128))(concat)\n",
        "concat=tf.keras.layers.Dense(256,activation='relu')(concat)\n",
        "concat=tf.keras.layers.Dropout(0.2)(concat)\n",
        "concat=tf.keras.layers.BatchNormalization()(concat)\n",
        "concat=tf.keras.layers.Dense(256,activation='relu')(concat)\n",
        "concat=tf.keras.layers.Dropout(0.2)(concat)\n",
        "concat=tf.keras.layers.BatchNormalization()(concat)\n",
        "concat=tf.keras.layers.Dense(256,activation='relu')(concat)\n",
        "concat=tf.keras.layers.Dropout(0.2)(concat)\n",
        "concat=tf.keras.layers.BatchNormalization()(concat)\n",
        "concat=tf.keras.layers.Dense(256,activation='relu')(concat)\n",
        "concat=tf.keras.layers.Dropout(0.2)(concat)\n",
        "concat=tf.keras.layers.BatchNormalization()(concat)\n",
        "concat=tf.keras.layers.Dense(256,activation='relu')(concat)\n",
        "concat=tf.keras.layers.Dropout(0.2)(concat)\n",
        "concat=tf.keras.layers.BatchNormalization()(concat)\n",
        "is_dupe=tf.keras.layers.Dense(1, activation=\"sigmoid\")(concat)\n",
        "\n",
        "model6 = tf.keras.models.Model(inputs=[qstn1,qstn2], outputs=is_dupe)\n",
        "model6.summary()\n"
      ],
      "execution_count": null,
      "outputs": [
        {
          "output_type": "stream",
          "text": [
            "WARNING:tensorflow:Layer lstm_4 will not use cuDNN kernel since it doesn't meet the cuDNN kernel criteria. It will use generic GPU kernel as fallback when running on GPU\n"
          ],
          "name": "stdout"
        },
        {
          "output_type": "stream",
          "text": [
            "WARNING:tensorflow:Layer lstm_4 will not use cuDNN kernel since it doesn't meet the cuDNN kernel criteria. It will use generic GPU kernel as fallback when running on GPU\n"
          ],
          "name": "stderr"
        },
        {
          "output_type": "stream",
          "text": [
            "WARNING:tensorflow:Layer lstm_4 will not use cuDNN kernel since it doesn't meet the cuDNN kernel criteria. It will use generic GPU kernel as fallback when running on GPU\n"
          ],
          "name": "stdout"
        },
        {
          "output_type": "stream",
          "text": [
            "WARNING:tensorflow:Layer lstm_4 will not use cuDNN kernel since it doesn't meet the cuDNN kernel criteria. It will use generic GPU kernel as fallback when running on GPU\n"
          ],
          "name": "stderr"
        },
        {
          "output_type": "stream",
          "text": [
            "WARNING:tensorflow:Layer lstm_4 will not use cuDNN kernel since it doesn't meet the cuDNN kernel criteria. It will use generic GPU kernel as fallback when running on GPU\n"
          ],
          "name": "stdout"
        },
        {
          "output_type": "stream",
          "text": [
            "WARNING:tensorflow:Layer lstm_4 will not use cuDNN kernel since it doesn't meet the cuDNN kernel criteria. It will use generic GPU kernel as fallback when running on GPU\n"
          ],
          "name": "stderr"
        },
        {
          "output_type": "stream",
          "text": [
            "WARNING:tensorflow:Layer lstm_5 will not use cuDNN kernel since it doesn't meet the cuDNN kernel criteria. It will use generic GPU kernel as fallback when running on GPU\n"
          ],
          "name": "stdout"
        },
        {
          "output_type": "stream",
          "text": [
            "WARNING:tensorflow:Layer lstm_5 will not use cuDNN kernel since it doesn't meet the cuDNN kernel criteria. It will use generic GPU kernel as fallback when running on GPU\n"
          ],
          "name": "stderr"
        },
        {
          "output_type": "stream",
          "text": [
            "WARNING:tensorflow:Layer lstm_5 will not use cuDNN kernel since it doesn't meet the cuDNN kernel criteria. It will use generic GPU kernel as fallback when running on GPU\n"
          ],
          "name": "stdout"
        },
        {
          "output_type": "stream",
          "text": [
            "WARNING:tensorflow:Layer lstm_5 will not use cuDNN kernel since it doesn't meet the cuDNN kernel criteria. It will use generic GPU kernel as fallback when running on GPU\n"
          ],
          "name": "stderr"
        },
        {
          "output_type": "stream",
          "text": [
            "WARNING:tensorflow:Layer lstm_5 will not use cuDNN kernel since it doesn't meet the cuDNN kernel criteria. It will use generic GPU kernel as fallback when running on GPU\n"
          ],
          "name": "stdout"
        },
        {
          "output_type": "stream",
          "text": [
            "WARNING:tensorflow:Layer lstm_5 will not use cuDNN kernel since it doesn't meet the cuDNN kernel criteria. It will use generic GPU kernel as fallback when running on GPU\n"
          ],
          "name": "stderr"
        },
        {
          "output_type": "stream",
          "text": [
            "Model: \"model_7\"\n",
            "__________________________________________________________________________________________________\n",
            "Layer (type)                    Output Shape         Param #     Connected to                     \n",
            "==================================================================================================\n",
            "input_38 (InputLayer)           [(None,)]            0                                            \n",
            "__________________________________________________________________________________________________\n",
            "input_39 (InputLayer)           [(None,)]            0                                            \n",
            "__________________________________________________________________________________________________\n",
            "keras_layer_8 (KerasLayer)      (None, None, 768)    116768000   input_38[0][0]                   \n",
            "                                                                 input_39[0][0]                   \n",
            "__________________________________________________________________________________________________\n",
            "concatenate_8 (Concatenate)     (None, None, 1536)   0           keras_layer_8[16][0]             \n",
            "                                                                 keras_layer_8[17][0]             \n",
            "__________________________________________________________________________________________________\n",
            "bidirectional_4 (Bidirectional) (None, None, 768)    5901312     concatenate_8[0][0]              \n",
            "__________________________________________________________________________________________________\n",
            "bidirectional_5 (Bidirectional) (None, 256)          918528      bidirectional_4[0][0]            \n",
            "__________________________________________________________________________________________________\n",
            "dense_39 (Dense)                (None, 256)          65792       bidirectional_5[0][0]            \n",
            "__________________________________________________________________________________________________\n",
            "dropout_30 (Dropout)            (None, 256)          0           dense_39[0][0]                   \n",
            "__________________________________________________________________________________________________\n",
            "batch_normalization_30 (BatchNo (None, 256)          1024        dropout_30[0][0]                 \n",
            "__________________________________________________________________________________________________\n",
            "dense_40 (Dense)                (None, 256)          65792       batch_normalization_30[0][0]     \n",
            "__________________________________________________________________________________________________\n",
            "dropout_31 (Dropout)            (None, 256)          0           dense_40[0][0]                   \n",
            "__________________________________________________________________________________________________\n",
            "batch_normalization_31 (BatchNo (None, 256)          1024        dropout_31[0][0]                 \n",
            "__________________________________________________________________________________________________\n",
            "dense_41 (Dense)                (None, 256)          65792       batch_normalization_31[0][0]     \n",
            "__________________________________________________________________________________________________\n",
            "dropout_32 (Dropout)            (None, 256)          0           dense_41[0][0]                   \n",
            "__________________________________________________________________________________________________\n",
            "batch_normalization_32 (BatchNo (None, 256)          1024        dropout_32[0][0]                 \n",
            "__________________________________________________________________________________________________\n",
            "dense_42 (Dense)                (None, 256)          65792       batch_normalization_32[0][0]     \n",
            "__________________________________________________________________________________________________\n",
            "dropout_33 (Dropout)            (None, 256)          0           dense_42[0][0]                   \n",
            "__________________________________________________________________________________________________\n",
            "batch_normalization_33 (BatchNo (None, 256)          1024        dropout_33[0][0]                 \n",
            "__________________________________________________________________________________________________\n",
            "dense_43 (Dense)                (None, 256)          65792       batch_normalization_33[0][0]     \n",
            "__________________________________________________________________________________________________\n",
            "dropout_34 (Dropout)            (None, 256)          0           dense_43[0][0]                   \n",
            "__________________________________________________________________________________________________\n",
            "batch_normalization_34 (BatchNo (None, 256)          1024        dropout_34[0][0]                 \n",
            "__________________________________________________________________________________________________\n",
            "dense_44 (Dense)                (None, 1)            257         batch_normalization_34[0][0]     \n",
            "==================================================================================================\n",
            "Total params: 123,922,177\n",
            "Trainable params: 7,151,617\n",
            "Non-trainable params: 116,770,560\n",
            "__________________________________________________________________________________________________\n"
          ],
          "name": "stdout"
        }
      ]
    },
    {
      "cell_type": "code",
      "metadata": {
        "id": "kkjdGNSySY02"
      },
      "source": [
        "model6.compile(loss='binary_crossentropy', optimizer='adam', metrics=['accuracy'])"
      ],
      "execution_count": null,
      "outputs": []
    },
    {
      "cell_type": "code",
      "metadata": {
        "colab": {
          "base_uri": "https://localhost:8080/",
          "height": 512
        },
        "id": "wEbMRyLDSZ3-",
        "outputId": "d15694ff-2b6c-44b8-b652-f312b3a4fe9d"
      },
      "source": [
        "history6 = model6.fit([Q1_train, Q2_train],\n",
        "                    yt,\n",
        "                    epochs=5,\n",
        "                    validation_data=([Q1_test,Q2_test], yte),\n",
        "                    verbose=2)"
      ],
      "execution_count": null,
      "outputs": [
        {
          "output_type": "stream",
          "text": [
            "Train on 323430 samples, validate on 80858 samples\n",
            "Epoch 1/5\n"
          ],
          "name": "stdout"
        },
        {
          "output_type": "error",
          "ename": "InvalidArgumentError",
          "evalue": "ignored",
          "traceback": [
            "\u001b[0;31m---------------------------------------------------------------------------\u001b[0m",
            "\u001b[0;31mInvalidArgumentError\u001b[0m                      Traceback (most recent call last)",
            "\u001b[0;32m<ipython-input-136-071933712b0e>\u001b[0m in \u001b[0;36m<module>\u001b[0;34m()\u001b[0m\n\u001b[1;32m      3\u001b[0m                     \u001b[0mepochs\u001b[0m\u001b[0;34m=\u001b[0m\u001b[0;36m5\u001b[0m\u001b[0;34m,\u001b[0m\u001b[0;34m\u001b[0m\u001b[0;34m\u001b[0m\u001b[0m\n\u001b[1;32m      4\u001b[0m                     \u001b[0mvalidation_data\u001b[0m\u001b[0;34m=\u001b[0m\u001b[0;34m(\u001b[0m\u001b[0;34m[\u001b[0m\u001b[0mQ1_test\u001b[0m\u001b[0;34m,\u001b[0m\u001b[0mQ2_test\u001b[0m\u001b[0;34m]\u001b[0m\u001b[0;34m,\u001b[0m \u001b[0myte\u001b[0m\u001b[0;34m)\u001b[0m\u001b[0;34m,\u001b[0m\u001b[0;34m\u001b[0m\u001b[0;34m\u001b[0m\u001b[0m\n\u001b[0;32m----> 5\u001b[0;31m                     verbose=2)\n\u001b[0m",
            "\u001b[0;32m/usr/local/lib/python3.7/dist-packages/tensorflow/python/keras/engine/training_v1.py\u001b[0m in \u001b[0;36mfit\u001b[0;34m(self, x, y, batch_size, epochs, verbose, callbacks, validation_split, validation_data, shuffle, class_weight, sample_weight, initial_epoch, steps_per_epoch, validation_steps, validation_freq, max_queue_size, workers, use_multiprocessing, **kwargs)\u001b[0m\n\u001b[1;32m    806\u001b[0m         \u001b[0mmax_queue_size\u001b[0m\u001b[0;34m=\u001b[0m\u001b[0mmax_queue_size\u001b[0m\u001b[0;34m,\u001b[0m\u001b[0;34m\u001b[0m\u001b[0;34m\u001b[0m\u001b[0m\n\u001b[1;32m    807\u001b[0m         \u001b[0mworkers\u001b[0m\u001b[0;34m=\u001b[0m\u001b[0mworkers\u001b[0m\u001b[0;34m,\u001b[0m\u001b[0;34m\u001b[0m\u001b[0;34m\u001b[0m\u001b[0m\n\u001b[0;32m--> 808\u001b[0;31m         use_multiprocessing=use_multiprocessing)\n\u001b[0m\u001b[1;32m    809\u001b[0m \u001b[0;34m\u001b[0m\u001b[0m\n\u001b[1;32m    810\u001b[0m   def evaluate(self,\n",
            "\u001b[0;32m/usr/local/lib/python3.7/dist-packages/tensorflow/python/keras/engine/training_arrays_v1.py\u001b[0m in \u001b[0;36mfit\u001b[0;34m(self, model, x, y, batch_size, epochs, verbose, callbacks, validation_split, validation_data, shuffle, class_weight, sample_weight, initial_epoch, steps_per_epoch, validation_steps, validation_freq, **kwargs)\u001b[0m\n\u001b[1;32m    662\u001b[0m         \u001b[0mvalidation_steps\u001b[0m\u001b[0;34m=\u001b[0m\u001b[0mvalidation_steps\u001b[0m\u001b[0;34m,\u001b[0m\u001b[0;34m\u001b[0m\u001b[0;34m\u001b[0m\u001b[0m\n\u001b[1;32m    663\u001b[0m         \u001b[0mvalidation_freq\u001b[0m\u001b[0;34m=\u001b[0m\u001b[0mvalidation_freq\u001b[0m\u001b[0;34m,\u001b[0m\u001b[0;34m\u001b[0m\u001b[0;34m\u001b[0m\u001b[0m\n\u001b[0;32m--> 664\u001b[0;31m         steps_name='steps_per_epoch')\n\u001b[0m\u001b[1;32m    665\u001b[0m \u001b[0;34m\u001b[0m\u001b[0m\n\u001b[1;32m    666\u001b[0m   def evaluate(self,\n",
            "\u001b[0;32m/usr/local/lib/python3.7/dist-packages/tensorflow/python/keras/engine/training_arrays_v1.py\u001b[0m in \u001b[0;36mmodel_iteration\u001b[0;34m(model, inputs, targets, sample_weights, batch_size, epochs, verbose, callbacks, val_inputs, val_targets, val_sample_weights, shuffle, initial_epoch, steps_per_epoch, validation_steps, validation_freq, mode, validation_in_fit, prepared_feed_values_from_dataset, steps_name, **kwargs)\u001b[0m\n\u001b[1;32m    382\u001b[0m \u001b[0;34m\u001b[0m\u001b[0m\n\u001b[1;32m    383\u001b[0m         \u001b[0;31m# Get outputs.\u001b[0m\u001b[0;34m\u001b[0m\u001b[0;34m\u001b[0m\u001b[0;34m\u001b[0m\u001b[0m\n\u001b[0;32m--> 384\u001b[0;31m         \u001b[0mbatch_outs\u001b[0m \u001b[0;34m=\u001b[0m \u001b[0mf\u001b[0m\u001b[0;34m(\u001b[0m\u001b[0mins_batch\u001b[0m\u001b[0;34m)\u001b[0m\u001b[0;34m\u001b[0m\u001b[0;34m\u001b[0m\u001b[0m\n\u001b[0m\u001b[1;32m    385\u001b[0m         \u001b[0;32mif\u001b[0m \u001b[0;32mnot\u001b[0m \u001b[0misinstance\u001b[0m\u001b[0;34m(\u001b[0m\u001b[0mbatch_outs\u001b[0m\u001b[0;34m,\u001b[0m \u001b[0mlist\u001b[0m\u001b[0;34m)\u001b[0m\u001b[0;34m:\u001b[0m\u001b[0;34m\u001b[0m\u001b[0;34m\u001b[0m\u001b[0m\n\u001b[1;32m    386\u001b[0m           \u001b[0mbatch_outs\u001b[0m \u001b[0;34m=\u001b[0m \u001b[0;34m[\u001b[0m\u001b[0mbatch_outs\u001b[0m\u001b[0;34m]\u001b[0m\u001b[0;34m\u001b[0m\u001b[0;34m\u001b[0m\u001b[0m\n",
            "\u001b[0;32m/usr/local/lib/python3.7/dist-packages/tensorflow/python/keras/backend.py\u001b[0m in \u001b[0;36m__call__\u001b[0;34m(self, inputs)\u001b[0m\n\u001b[1;32m   3955\u001b[0m \u001b[0;34m\u001b[0m\u001b[0m\n\u001b[1;32m   3956\u001b[0m     fetched = self._callable_fn(*array_vals,\n\u001b[0;32m-> 3957\u001b[0;31m                                 run_metadata=self.run_metadata)\n\u001b[0m\u001b[1;32m   3958\u001b[0m     \u001b[0mself\u001b[0m\u001b[0;34m.\u001b[0m\u001b[0m_call_fetch_callbacks\u001b[0m\u001b[0;34m(\u001b[0m\u001b[0mfetched\u001b[0m\u001b[0;34m[\u001b[0m\u001b[0;34m-\u001b[0m\u001b[0mlen\u001b[0m\u001b[0;34m(\u001b[0m\u001b[0mself\u001b[0m\u001b[0;34m.\u001b[0m\u001b[0m_fetches\u001b[0m\u001b[0;34m)\u001b[0m\u001b[0;34m:\u001b[0m\u001b[0;34m]\u001b[0m\u001b[0;34m)\u001b[0m\u001b[0;34m\u001b[0m\u001b[0;34m\u001b[0m\u001b[0m\n\u001b[1;32m   3959\u001b[0m     output_structure = nest.pack_sequence_as(\n",
            "\u001b[0;32m/usr/local/lib/python3.7/dist-packages/tensorflow/python/client/session.py\u001b[0m in \u001b[0;36m__call__\u001b[0;34m(self, *args, **kwargs)\u001b[0m\n\u001b[1;32m   1480\u001b[0m         ret = tf_session.TF_SessionRunCallable(self._session._session,\n\u001b[1;32m   1481\u001b[0m                                                \u001b[0mself\u001b[0m\u001b[0;34m.\u001b[0m\u001b[0m_handle\u001b[0m\u001b[0;34m,\u001b[0m \u001b[0margs\u001b[0m\u001b[0;34m,\u001b[0m\u001b[0;34m\u001b[0m\u001b[0;34m\u001b[0m\u001b[0m\n\u001b[0;32m-> 1482\u001b[0;31m                                                run_metadata_ptr)\n\u001b[0m\u001b[1;32m   1483\u001b[0m         \u001b[0;32mif\u001b[0m \u001b[0mrun_metadata\u001b[0m\u001b[0;34m:\u001b[0m\u001b[0;34m\u001b[0m\u001b[0;34m\u001b[0m\u001b[0m\n\u001b[1;32m   1484\u001b[0m           \u001b[0mproto_data\u001b[0m \u001b[0;34m=\u001b[0m \u001b[0mtf_session\u001b[0m\u001b[0;34m.\u001b[0m\u001b[0mTF_GetBuffer\u001b[0m\u001b[0;34m(\u001b[0m\u001b[0mrun_metadata_ptr\u001b[0m\u001b[0;34m)\u001b[0m\u001b[0;34m\u001b[0m\u001b[0;34m\u001b[0m\u001b[0m\n",
            "\u001b[0;31mInvalidArgumentError\u001b[0m: 2 root error(s) found.\n  (0) Invalid argument: ConcatOp : Dimensions of inputs should match: shape[0] = [32,32,768] vs. shape[1] = [32,23,768]\n\t [[{{node concatenate_8/concat}}]]\n\t [[dropout_32/cond/then/_6719/dropout/Mul/_10835]]\n  (1) Invalid argument: ConcatOp : Dimensions of inputs should match: shape[0] = [32,32,768] vs. shape[1] = [32,23,768]\n\t [[{{node concatenate_8/concat}}]]\n0 successful operations.\n0 derived errors ignored."
          ]
        }
      ]
    },
    {
      "cell_type": "markdown",
      "metadata": {
        "id": "E2xHr5-SylWu"
      },
      "source": [
        "# Save the models to Drive"
      ]
    },
    {
      "cell_type": "code",
      "metadata": {
        "id": "AnOgM0thq5Bv"
      },
      "source": [
        "#save model to MyDrive\n",
        "!cp -r /content/saved_model /content/drive/MyDrive/"
      ],
      "execution_count": null,
      "outputs": []
    }
  ]
}
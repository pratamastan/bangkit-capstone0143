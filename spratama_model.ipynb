{
  "cells": [
    {
      "cell_type": "markdown",
      "metadata": {
        "id": "G6n07cVbuvC5"
      },
      "source": [
        "# Data Fetching and train-test split"
      ]
    },
    {
      "cell_type": "markdown",
      "metadata": {},
      "source": [
        "## Import libraries and data"
      ]
    },
    {
      "cell_type": "code",
      "execution_count": 38,
      "metadata": {
        "colab": {
          "base_uri": "https://localhost:8080/"
        },
        "id": "XlhC6gY_tuRR",
        "outputId": "76ef3536-a200-478c-e889-7d52ef47f828"
      },
      "outputs": [],
      "source": [
        "# from google.colab import drive\n",
        "# drive.mount('/content/drive')"
      ]
    },
    {
      "cell_type": "code",
      "execution_count": 39,
      "metadata": {
        "colab": {
          "base_uri": "https://localhost:8080/"
        },
        "id": "_77SFlJETFEm",
        "outputId": "789dc69b-8869-45db-babe-40f0175fb548"
      },
      "outputs": [],
      "source": [
        "# pip install -q -U keras-tuner"
      ]
    },
    {
      "cell_type": "code",
      "execution_count": 1,
      "metadata": {
        "id": "cvUNWk0MuW86"
      },
      "outputs": [],
      "source": [
        "import pandas as pd\n",
        "import numpy as np\n",
        "import tensorflow as tf\n",
        "import tensorflow_hub as hub\n",
        "from tensorboard.plugins.hparams import api as hp\n",
        "import keras_tuner as kt\n",
        "from sklearn.metrics.pairwise import cosine_similarity\n",
        "from sklearn.metrics import confusion_matrix\n",
        "from scipy.spatial import distance\n",
        "# import pydot\n",
        "# import graphviz\n",
        "import matplotlib.pyplot as plt\n",
        "# import pathlib\n",
        "# from os import getcwd"
      ]
    },
    {
      "cell_type": "markdown",
      "metadata": {
        "id": "TgTlju_Eu8tQ"
      },
      "source": [
        "Training data is taken from Quora Questions Pairs dataset (training set only) https://www.kaggle.com/c/quora-question-pairs/overview translated to Indonesian with Google Translate"
      ]
    },
    {
      "cell_type": "code",
      "execution_count": 2,
      "metadata": {
        "id": "3fI-9jMRuzYc"
      },
      "outputs": [],
      "source": [
        "data1=pd.read_csv(\"D:/Documents/GitHub/bangkit-capstone0143/train complete indo.csv\")"
      ]
    },
    {
      "cell_type": "code",
      "execution_count": 3,
      "metadata": {},
      "outputs": [
        {
          "data": {
            "text/plain": [
              "(404290, 6)"
            ]
          },
          "execution_count": 3,
          "metadata": {},
          "output_type": "execute_result"
        }
      ],
      "source": [
        "data1.shape"
      ]
    },
    {
      "cell_type": "code",
      "execution_count": 88,
      "metadata": {},
      "outputs": [
        {
          "data": {
            "text/plain": [
              "0    255027\n",
              "1    149263\n",
              "Name: is_duplicate, dtype: int64"
            ]
          },
          "execution_count": 88,
          "metadata": {},
          "output_type": "execute_result"
        }
      ],
      "source": [
        "pd.value_counts(data1['is_duplicate'])"
      ]
    },
    {
      "cell_type": "code",
      "execution_count": 86,
      "metadata": {},
      "outputs": [
        {
          "name": "stdout",
          "output_type": "stream",
          "text": [
            "            id    qid1    qid2  \\\n",
            "105780  105780  174363  174364   \n",
            "201841  201841  303951  174364   \n",
            "\n",
            "                                             question1 question2  is_duplicate  \n",
            "105780  Bagaimana cara mengembangkan aplikasi Android?       NaN             0  \n",
            "201841        Bagaimana cara membuat aplikasi Android?       NaN             0  \n"
          ]
        }
      ],
      "source": [
        "is_NaN = data1.isnull()\n",
        "\n",
        "row_has_NaN = is_NaN.any(axis=1)\n",
        "\n",
        "rows_with_NaN = data1[row_has_NaN]\n",
        "print(rows_with_NaN)"
      ]
    },
    {
      "cell_type": "code",
      "execution_count": 3,
      "metadata": {
        "id": "f4MP2chBv9E8"
      },
      "outputs": [],
      "source": [
        "data1=data1.dropna()"
      ]
    },
    {
      "cell_type": "code",
      "execution_count": 43,
      "metadata": {
        "colab": {
          "base_uri": "https://localhost:8080/",
          "height": 195
        },
        "id": "xn3iNxPtPGJJ",
        "outputId": "74f724ea-4f67-42b4-e8bd-b18d71ec2068"
      },
      "outputs": [
        {
          "data": {
            "text/html": [
              "<div>\n",
              "<style scoped>\n",
              "    .dataframe tbody tr th:only-of-type {\n",
              "        vertical-align: middle;\n",
              "    }\n",
              "\n",
              "    .dataframe tbody tr th {\n",
              "        vertical-align: top;\n",
              "    }\n",
              "\n",
              "    .dataframe thead th {\n",
              "        text-align: right;\n",
              "    }\n",
              "</style>\n",
              "<table border=\"1\" class=\"dataframe\">\n",
              "  <thead>\n",
              "    <tr style=\"text-align: right;\">\n",
              "      <th></th>\n",
              "      <th>id</th>\n",
              "      <th>qid1</th>\n",
              "      <th>qid2</th>\n",
              "      <th>question1</th>\n",
              "      <th>question2</th>\n",
              "      <th>is_duplicate</th>\n",
              "    </tr>\n",
              "  </thead>\n",
              "  <tbody>\n",
              "    <tr>\n",
              "      <th>0</th>\n",
              "      <td>0</td>\n",
              "      <td>1</td>\n",
              "      <td>2</td>\n",
              "      <td>Apa panduan langkah demi langkah untuk berinve...</td>\n",
              "      <td>Apa panduan langkah demi langkah untuk berinve...</td>\n",
              "      <td>0</td>\n",
              "    </tr>\n",
              "    <tr>\n",
              "      <th>1</th>\n",
              "      <td>1</td>\n",
              "      <td>3</td>\n",
              "      <td>4</td>\n",
              "      <td>Bagaimana kisah Berlian Kohinoor (Koh-i-Noor)?</td>\n",
              "      <td>Apa yang akan terjadi jika pemerintah India me...</td>\n",
              "      <td>0</td>\n",
              "    </tr>\n",
              "    <tr>\n",
              "      <th>2</th>\n",
              "      <td>2</td>\n",
              "      <td>5</td>\n",
              "      <td>6</td>\n",
              "      <td>Bagaimana cara meningkatkan kecepatan koneksi ...</td>\n",
              "      <td>Bagaimana kecepatan Internet dapat ditingkatka...</td>\n",
              "      <td>0</td>\n",
              "    </tr>\n",
              "    <tr>\n",
              "      <th>3</th>\n",
              "      <td>3</td>\n",
              "      <td>7</td>\n",
              "      <td>8</td>\n",
              "      <td>Mengapa saya secara mental sangat kesepian? Ba...</td>\n",
              "      <td>Temukan sisanya ketika [math] 23 ^ {24} [/ mat...</td>\n",
              "      <td>0</td>\n",
              "    </tr>\n",
              "    <tr>\n",
              "      <th>4</th>\n",
              "      <td>4</td>\n",
              "      <td>9</td>\n",
              "      <td>10</td>\n",
              "      <td>Manakah yang larut dalam air seperti gula pasi...</td>\n",
              "      <td>Ikan apa yang akan bertahan hidup di air asin?</td>\n",
              "      <td>0</td>\n",
              "    </tr>\n",
              "  </tbody>\n",
              "</table>\n",
              "</div>"
            ],
            "text/plain": [
              "   id  qid1  qid2                                          question1  \\\n",
              "0   0     1     2  Apa panduan langkah demi langkah untuk berinve...   \n",
              "1   1     3     4     Bagaimana kisah Berlian Kohinoor (Koh-i-Noor)?   \n",
              "2   2     5     6  Bagaimana cara meningkatkan kecepatan koneksi ...   \n",
              "3   3     7     8  Mengapa saya secara mental sangat kesepian? Ba...   \n",
              "4   4     9    10  Manakah yang larut dalam air seperti gula pasi...   \n",
              "\n",
              "                                           question2  is_duplicate  \n",
              "0  Apa panduan langkah demi langkah untuk berinve...             0  \n",
              "1  Apa yang akan terjadi jika pemerintah India me...             0  \n",
              "2  Bagaimana kecepatan Internet dapat ditingkatka...             0  \n",
              "3  Temukan sisanya ketika [math] 23 ^ {24} [/ mat...             0  \n",
              "4     Ikan apa yang akan bertahan hidup di air asin?             0  "
            ]
          },
          "execution_count": 43,
          "metadata": {},
          "output_type": "execute_result"
        }
      ],
      "source": [
        "data1.head()"
      ]
    },
    {
      "cell_type": "code",
      "execution_count": 84,
      "metadata": {
        "id": "On35PmaWvpHt"
      },
      "outputs": [
        {
          "data": {
            "text/plain": [
              "<AxesSubplot:>"
            ]
          },
          "execution_count": 84,
          "metadata": {},
          "output_type": "execute_result"
        },
        {
          "data": {
            "image/png": "[encoded data removed]",
            "text/plain": [
              "<Figure size 432x288 with 1 Axes>"
            ]
          },
          "metadata": {
            "needs_background": "light"
          },
          "output_type": "display_data"
        }
      ],
      "source": [
        "pd.value_counts(data1['is_duplicate']).plot.bar()"
      ]
    },
    {
      "cell_type": "code",
      "execution_count": 21,
      "metadata": {
        "colab": {
          "base_uri": "https://localhost:8080/"
        },
        "id": "znGtTGTXBeRk",
        "outputId": "4c783af3-4297-43d4-b4e4-c967dbf1bca8"
      },
      "outputs": [
        {
          "data": {
            "text/plain": [
              "717"
            ]
          },
          "execution_count": 21,
          "metadata": {},
          "output_type": "execute_result"
        }
      ],
      "source": [
        "data1.question1.str.len().max()"
      ]
    },
    {
      "cell_type": "code",
      "execution_count": 22,
      "metadata": {
        "colab": {
          "base_uri": "https://localhost:8080/"
        },
        "id": "bEd4Pu71BkXg",
        "outputId": "f9ae063f-1cc7-43f5-e383-153a30a36850"
      },
      "outputs": [
        {
          "data": {
            "text/plain": [
              "1395"
            ]
          },
          "execution_count": 22,
          "metadata": {},
          "output_type": "execute_result"
        }
      ],
      "source": [
        "data1.question2.str.len().max()"
      ]
    },
    {
      "cell_type": "markdown",
      "metadata": {
        "id": "mJrW1Onzvic0"
      },
      "source": [
        "## Train,val,test split 80% 10% 10%"
      ]
    },
    {
      "cell_type": "code",
      "execution_count": 4,
      "metadata": {
        "id": "kfSXEkPBw9fB"
      },
      "outputs": [],
      "source": [
        "# The validation will be split later in the model training and hyperparameter tuning\n",
        "from sklearn.model_selection import train_test_split\n",
        "X_train, X_test, y_train, y_test = train_test_split(data1[[\"question1\", \"question2\"]], data1[\"is_duplicate\"], test_size=0.1, random_state=42)"
      ]
    },
    {
      "cell_type": "markdown",
      "metadata": {
        "id": "JvExtpCyv6Uf"
      },
      "source": [
        "Transform the dataframe to NumPy array as TensorFlow takes NumPy arrays"
      ]
    },
    {
      "cell_type": "code",
      "execution_count": 5,
      "metadata": {
        "id": "cqNOcymh-DyD"
      },
      "outputs": [],
      "source": [
        "xt=X_train.to_numpy()\n",
        "yt=y_train.to_numpy()\n",
        "\n",
        "xte=X_test.to_numpy()\n",
        "yte=y_test.to_numpy()\n",
        "\n",
        "Q1_train = X_train[\"question1\"].to_numpy()\n",
        "Q2_train = X_train[\"question2\"].to_numpy()\n",
        "Q1_test = X_test[\"question1\"].to_numpy()\n",
        "Q2_test = X_test[\"question2\"].to_numpy()"
      ]
    },
    {
      "cell_type": "code",
      "execution_count": 8,
      "metadata": {},
      "outputs": [
        {
          "data": {
            "text/plain": [
              "(363859, 2)"
            ]
          },
          "execution_count": 8,
          "metadata": {},
          "output_type": "execute_result"
        }
      ],
      "source": [
        "xt.shape"
      ]
    },
    {
      "cell_type": "code",
      "execution_count": 7,
      "metadata": {},
      "outputs": [
        {
          "data": {
            "text/plain": [
              "(40429, 2)"
            ]
          },
          "execution_count": 7,
          "metadata": {},
          "output_type": "execute_result"
        }
      ],
      "source": [
        "xte.shape"
      ]
    },
    {
      "cell_type": "code",
      "execution_count": 25,
      "metadata": {
        "colab": {
          "base_uri": "https://localhost:8080/"
        },
        "id": "hnz0bVT_cTkG",
        "outputId": "684ef36d-5fea-4ecb-dae8-f396adad0735"
      },
      "outputs": [
        {
          "data": {
            "text/plain": [
              "array(['Apa sajakah proyek teknik mesin?',\n",
              "       'Bagaimana Anda tahu jika dia tertarik pada Anda?',\n",
              "       'Bisakah kita menemukan ketinggian ponsel dari tanah secara akurat.?\\xa0â € ¦Jika tidak, bagaimana bisa mengatasinya.?',\n",
              "       ..., 'Siapa yang saat ini memenangkan pemilihan presiden?',\n",
              "       'Apa sajakah film Telugu / Tamil / Hindi yang pemeran utamanya menjadi mafia atau tidak?',\n",
              "       'Berapa peringkat yang dipotong untuk perguruan tinggi Kedokteran Rohtak dalam kuota negara bagian?'],\n",
              "      dtype=object)"
            ]
          },
          "execution_count": 25,
          "metadata": {},
          "output_type": "execute_result"
        }
      ],
      "source": [
        "Q1_train"
      ]
    },
    {
      "cell_type": "code",
      "execution_count": 26,
      "metadata": {
        "colab": {
          "base_uri": "https://localhost:8080/",
          "height": 35
        },
        "id": "kE2tOVZKMkER",
        "outputId": "cda191fa-6c5f-4476-b65d-620a14d5c7b4"
      },
      "outputs": [
        {
          "data": {
            "text/plain": [
              "'Apa panduan langkah demi langkah untuk berinvestasi di pasar saham di India?'"
            ]
          },
          "execution_count": 26,
          "metadata": {},
          "output_type": "execute_result"
        }
      ],
      "source": [
        "data1[\"question1\"][0]"
      ]
    },
    {
      "cell_type": "code",
      "execution_count": 27,
      "metadata": {
        "colab": {
          "base_uri": "https://localhost:8080/",
          "height": 402
        },
        "id": "DGECNKybyvld",
        "outputId": "f28f17f4-93d4-4ae7-e9a8-ec854731e118"
      },
      "outputs": [
        {
          "data": {
            "text/html": [
              "<div>\n",
              "<style scoped>\n",
              "    .dataframe tbody tr th:only-of-type {\n",
              "        vertical-align: middle;\n",
              "    }\n",
              "\n",
              "    .dataframe tbody tr th {\n",
              "        vertical-align: top;\n",
              "    }\n",
              "\n",
              "    .dataframe thead th {\n",
              "        text-align: right;\n",
              "    }\n",
              "</style>\n",
              "<table border=\"1\" class=\"dataframe\">\n",
              "  <thead>\n",
              "    <tr style=\"text-align: right;\">\n",
              "      <th></th>\n",
              "      <th>question1</th>\n",
              "      <th>question2</th>\n",
              "    </tr>\n",
              "  </thead>\n",
              "  <tbody>\n",
              "    <tr>\n",
              "      <th>0</th>\n",
              "      <td>Apa panduan langkah demi langkah untuk berinve...</td>\n",
              "      <td>Apa panduan langkah demi langkah untuk berinve...</td>\n",
              "    </tr>\n",
              "    <tr>\n",
              "      <th>1</th>\n",
              "      <td>Bagaimana kisah Berlian Kohinoor (Koh-i-Noor)?</td>\n",
              "      <td>Apa yang akan terjadi jika pemerintah India me...</td>\n",
              "    </tr>\n",
              "    <tr>\n",
              "      <th>2</th>\n",
              "      <td>Bagaimana cara meningkatkan kecepatan koneksi ...</td>\n",
              "      <td>Bagaimana kecepatan Internet dapat ditingkatka...</td>\n",
              "    </tr>\n",
              "    <tr>\n",
              "      <th>3</th>\n",
              "      <td>Mengapa saya secara mental sangat kesepian? Ba...</td>\n",
              "      <td>Temukan sisanya ketika [math] 23 ^ {24} [/ mat...</td>\n",
              "    </tr>\n",
              "    <tr>\n",
              "      <th>4</th>\n",
              "      <td>Manakah yang larut dalam air seperti gula pasi...</td>\n",
              "      <td>Ikan apa yang akan bertahan hidup di air asin?</td>\n",
              "    </tr>\n",
              "    <tr>\n",
              "      <th>...</th>\n",
              "      <td>...</td>\n",
              "      <td>...</td>\n",
              "    </tr>\n",
              "    <tr>\n",
              "      <th>404285</th>\n",
              "      <td>Ada berapa kata kunci dalam bahasa pemrograman...</td>\n",
              "      <td>Ada berapa kata kunci dalam Bahasa Pemrograman...</td>\n",
              "    </tr>\n",
              "    <tr>\n",
              "      <th>404286</th>\n",
              "      <td>Apakah Anda percaya ada kehidupan setelah kema...</td>\n",
              "      <td>Benarkah ada kehidupan setelah kematian?</td>\n",
              "    </tr>\n",
              "    <tr>\n",
              "      <th>404287</th>\n",
              "      <td>Apa satu koin?</td>\n",
              "      <td>Koin apa ini?</td>\n",
              "    </tr>\n",
              "    <tr>\n",
              "      <th>404288</th>\n",
              "      <td>Berapa perkiraan biaya hidup tahunan selama be...</td>\n",
              "      <td>Saya mengalami sedikit masalah rambut rontok t...</td>\n",
              "    </tr>\n",
              "    <tr>\n",
              "      <th>404289</th>\n",
              "      <td>Bagaimana rasanya berhubungan seks dengan sepupu?</td>\n",
              "      <td>Bagaimana rasanya berhubungan seks dengan sepu...</td>\n",
              "    </tr>\n",
              "  </tbody>\n",
              "</table>\n",
              "<p>404288 rows × 2 columns</p>\n",
              "</div>"
            ],
            "text/plain": [
              "                                                question1  \\\n",
              "0       Apa panduan langkah demi langkah untuk berinve...   \n",
              "1          Bagaimana kisah Berlian Kohinoor (Koh-i-Noor)?   \n",
              "2       Bagaimana cara meningkatkan kecepatan koneksi ...   \n",
              "3       Mengapa saya secara mental sangat kesepian? Ba...   \n",
              "4       Manakah yang larut dalam air seperti gula pasi...   \n",
              "...                                                   ...   \n",
              "404285  Ada berapa kata kunci dalam bahasa pemrograman...   \n",
              "404286  Apakah Anda percaya ada kehidupan setelah kema...   \n",
              "404287                                     Apa satu koin?   \n",
              "404288  Berapa perkiraan biaya hidup tahunan selama be...   \n",
              "404289  Bagaimana rasanya berhubungan seks dengan sepupu?   \n",
              "\n",
              "                                                question2  \n",
              "0       Apa panduan langkah demi langkah untuk berinve...  \n",
              "1       Apa yang akan terjadi jika pemerintah India me...  \n",
              "2       Bagaimana kecepatan Internet dapat ditingkatka...  \n",
              "3       Temukan sisanya ketika [math] 23 ^ {24} [/ mat...  \n",
              "4          Ikan apa yang akan bertahan hidup di air asin?  \n",
              "...                                                   ...  \n",
              "404285  Ada berapa kata kunci dalam Bahasa Pemrograman...  \n",
              "404286           Benarkah ada kehidupan setelah kematian?  \n",
              "404287                                      Koin apa ini?  \n",
              "404288  Saya mengalami sedikit masalah rambut rontok t...  \n",
              "404289  Bagaimana rasanya berhubungan seks dengan sepu...  \n",
              "\n",
              "[404288 rows x 2 columns]"
            ]
          },
          "execution_count": 27,
          "metadata": {},
          "output_type": "execute_result"
        }
      ],
      "source": [
        "data1[[\"question1\",\"question2\"]]"
      ]
    },
    {
      "cell_type": "markdown",
      "metadata": {},
      "source": [
        "## Embbeding layer"
      ]
    },
    {
      "cell_type": "markdown",
      "metadata": {},
      "source": [
        "Fetching from local directory"
      ]
    },
    {
      "cell_type": "code",
      "execution_count": 6,
      "metadata": {},
      "outputs": [],
      "source": [
        "embed=hub.KerasLayer(hub.load(\"C:/Users/stanl/Downloads/nnlm-id-dim128-norm\"), input_shape=[], dtype=tf.string)"
      ]
    },
    {
      "cell_type": "markdown",
      "metadata": {},
      "source": [
        "Fetching directly from the tfhub (requires internet) about 430 MB in size"
      ]
    },
    {
      "cell_type": "code",
      "execution_count": null,
      "metadata": {},
      "outputs": [],
      "source": [
        "# Model runtime will increase if tranable=True to about 900-1000s per epoch\n",
        "# embed = hub.KerasLayer(\"https://tfhub.dev/google/nnlm-id-dim128-with-normalization/2\",input_shape=[], dtype=tf.string)\n",
        "# embed.trainable=True"
      ]
    },
    {
      "cell_type": "markdown",
      "metadata": {},
      "source": [
        "## Cosine Similarity test"
      ]
    },
    {
      "cell_type": "code",
      "execution_count": 8,
      "metadata": {
        "id": "3sSxwalsMSkK"
      },
      "outputs": [],
      "source": [
        "xt1=embed(Q1_train)\n",
        "xt2=embed(Q2_train)\n",
        "xte1=embed(Q1_test)\n",
        "xte2=embed(Q2_test)"
      ]
    },
    {
      "cell_type": "code",
      "execution_count": 31,
      "metadata": {
        "colab": {
          "base_uri": "https://localhost:8080/",
          "height": 171
        },
        "id": "RkuZ_fWKGguG",
        "outputId": "d954a695-b38c-480e-e707-1b188a9d509e"
      },
      "outputs": [
        {
          "data": {
            "text/plain": [
              "<tf.Tensor: shape=(363859, 128), dtype=float32, numpy=\n",
              "array([[-0.053753  , -0.09628158, -0.06266727, ..., -0.03710537,\n",
              "        -0.10238572,  0.02226824],\n",
              "       [ 0.14299224,  0.18877506, -0.03349154, ..., -0.00806341,\n",
              "        -0.07145633,  0.1015135 ],\n",
              "       [ 0.05941568, -0.1906344 ,  0.18621024, ..., -0.088122  ,\n",
              "        -0.22306792,  0.13632292],\n",
              "       ...,\n",
              "       [ 0.23911878, -0.14783452,  0.0107425 , ..., -0.0815316 ,\n",
              "        -0.24931498,  0.05062477],\n",
              "       [ 0.0373978 ,  0.03045387,  0.01306245, ..., -0.16649947,\n",
              "        -0.04637462, -0.02678967],\n",
              "       [ 0.01217015, -0.02358004,  0.0645157 , ..., -0.1297544 ,\n",
              "        -0.13054067,  0.18736517]], dtype=float32)>"
            ]
          },
          "execution_count": 31,
          "metadata": {},
          "output_type": "execute_result"
        }
      ],
      "source": [
        "# xt2"
      ]
    },
    {
      "cell_type": "code",
      "execution_count": 32,
      "metadata": {
        "colab": {
          "base_uri": "https://localhost:8080/"
        },
        "id": "ogL4saosmMVV",
        "outputId": "082c62f9-0968-49d0-b155-55eaee3a148c"
      },
      "outputs": [
        {
          "data": {
            "text/plain": [
              "<tf.Tensor: shape=(363859, 128), dtype=float32, numpy=\n",
              "array([[ 1.90162417e-02, -1.18593588e-01, -9.78335068e-02, ...,\n",
              "         2.17009820e-02, -1.48417562e-01,  1.14940396e-02],\n",
              "       [ 2.64445841e-01,  1.02562383e-01, -8.19351301e-02, ...,\n",
              "         1.63417123e-02, -1.40222088e-01,  1.21525474e-01],\n",
              "       [ 1.03515968e-01, -8.21223408e-02, -6.16349280e-06, ...,\n",
              "        -2.67180860e-01, -1.27561107e-01,  1.11764565e-01],\n",
              "       ...,\n",
              "       [ 1.74064666e-01,  6.94696233e-02, -2.17809826e-02, ...,\n",
              "        -5.72771169e-02, -1.78512469e-01, -6.91926526e-03],\n",
              "       [ 1.42883718e-01, -1.64006665e-01,  3.34761925e-02, ...,\n",
              "         4.38854322e-02, -1.28632009e-01, -2.39136852e-02],\n",
              "       [-2.10693181e-02, -2.26702049e-01, -1.17028758e-01, ...,\n",
              "        -1.37420133e-01, -1.14242919e-01,  8.96925703e-02]], dtype=float32)>"
            ]
          },
          "execution_count": 32,
          "metadata": {},
          "output_type": "execute_result"
        }
      ],
      "source": [
        "# xt1"
      ]
    },
    {
      "cell_type": "code",
      "execution_count": 9,
      "metadata": {},
      "outputs": [],
      "source": [
        "cos_sim_train=[]\n",
        "cos_sim_test=[]\n",
        "for i in range(len(xt1)):\n",
        "    cos_sim_train.append(1-distance.cosine(xt1[i],xt2[i]))\n",
        "for i in range(len(xte1)):\n",
        "    cos_sim_test.append(1-distance.cosine(xte1[i],xte2[i]))"
      ]
    },
    {
      "cell_type": "code",
      "execution_count": 3,
      "metadata": {},
      "outputs": [],
      "source": [
        "test1=embed([\"kucing dan anjing\"])\n",
        "test2=embed([\"anjing dan kucing\"])\n",
        "test3=embed([\"dan anjing kucing\"])"
      ]
    },
    {
      "cell_type": "code",
      "execution_count": 9,
      "metadata": {},
      "outputs": [],
      "source": [
        "test11=embed([\"kucing anjing\"])\n",
        "test12=embed([\"kucing\"])\n",
        "test13=embed([\"anjing\"])"
      ]
    },
    {
      "cell_type": "code",
      "execution_count": 10,
      "metadata": {},
      "outputs": [
        {
          "data": {
            "text/plain": [
              "<tf.Tensor: shape=(1, 128), dtype=float32, numpy=\n",
              "array([[-0.16812997, -0.00759348,  0.03780371, -0.03595867, -0.06934683,\n",
              "        -0.00539866, -0.05020032, -0.12159169,  0.16381314, -0.05194341,\n",
              "         0.10913703, -0.04081987,  0.20021515, -0.06177137, -0.09899464,\n",
              "        -0.08970435,  0.04053309,  0.02928063,  0.11936226, -0.12293857,\n",
              "         0.24125458,  0.02006513, -0.07871483,  0.04063652,  0.16337541,\n",
              "         0.03929602, -0.06251655,  0.18665291,  0.17572622,  0.18225703,\n",
              "        -0.06205942, -0.11025415,  0.07715053, -0.06593005,  0.13781665,\n",
              "        -0.12974054, -0.02315177, -0.07283551,  0.02718993,  0.09988234,\n",
              "         0.20807368,  0.01524868,  0.02729617, -0.0334528 ,  0.03376943,\n",
              "        -0.18161568,  0.2750006 , -0.19823752,  0.08614155,  0.09140126,\n",
              "        -0.07361856, -0.06692415, -0.21191208,  0.20213038, -0.13844648,\n",
              "         0.13312642,  0.08642519,  0.10245437, -0.11232141,  0.04668635,\n",
              "        -0.0180586 ,  0.34764612,  0.01714458,  0.03252869, -0.126979  ,\n",
              "        -0.02557356, -0.19183125, -0.03552571, -0.03734108, -0.00839536,\n",
              "         0.09369845,  0.02716626,  0.03209875, -0.04340152,  0.17026287,\n",
              "        -0.10497334,  0.04647579, -0.14723043,  0.00934486,  0.01286659,\n",
              "         0.02275174, -0.02014173, -0.10436803, -0.04906441, -0.09460727,\n",
              "         0.10228935,  0.05486388,  0.22814472,  0.03945639, -0.00406154,\n",
              "         0.17871964, -0.10789098,  0.15841208, -0.11893247, -0.10535807,\n",
              "         0.16535749, -0.16220564, -0.0473326 ,  0.11931527, -0.17713831,\n",
              "        -0.1879769 , -0.16904539, -0.02432761,  0.02619978, -0.09090306,\n",
              "        -0.0569129 ,  0.08395038,  0.0443336 ,  0.05996172, -0.09615464,\n",
              "        -0.03208089, -0.11681037,  0.0475043 , -0.03004782,  0.19609849,\n",
              "        -0.02746438, -0.02114808,  0.10385725,  0.24476454,  0.07228727,\n",
              "         0.03573765,  0.08298722,  0.06132877, -0.14012732,  0.24438083,\n",
              "         0.14064844,  0.14590111,  0.12411851]], dtype=float32)>"
            ]
          },
          "execution_count": 10,
          "metadata": {},
          "output_type": "execute_result"
        }
      ],
      "source": [
        "test11"
      ]
    },
    {
      "cell_type": "code",
      "execution_count": 15,
      "metadata": {},
      "outputs": [
        {
          "data": {
            "text/plain": [
              "<tf.Tensor: shape=(1, 128), dtype=float32, numpy=\n",
              "array([[-0.16812998, -0.00759348,  0.03780371, -0.03595867, -0.06934684,\n",
              "        -0.00539866, -0.05020033, -0.1215917 ,  0.16381314, -0.05194341,\n",
              "         0.10913704, -0.04081988,  0.20021515, -0.06177137, -0.09899464,\n",
              "        -0.08970435,  0.0405331 ,  0.02928063,  0.11936227, -0.12293857,\n",
              "         0.2412546 ,  0.02006513, -0.07871483,  0.04063652,  0.16337541,\n",
              "         0.03929602, -0.06251655,  0.18665293,  0.17572623,  0.18225703,\n",
              "        -0.06205942, -0.11025415,  0.07715053, -0.06593006,  0.13781665,\n",
              "        -0.12974054, -0.02315177, -0.07283551,  0.02718993,  0.09988234,\n",
              "         0.20807369,  0.01524868,  0.02729617, -0.0334528 ,  0.03376943,\n",
              "        -0.18161568,  0.2750006 , -0.19823754,  0.08614156,  0.09140126,\n",
              "        -0.07361857, -0.06692416, -0.21191208,  0.20213039, -0.13844648,\n",
              "         0.13312642,  0.08642519,  0.10245437, -0.11232141,  0.04668635,\n",
              "        -0.01805861,  0.34764615,  0.01714458,  0.03252869, -0.126979  ,\n",
              "        -0.02557356, -0.19183126, -0.03552571, -0.03734108, -0.00839536,\n",
              "         0.09369845,  0.02716626,  0.03209875, -0.04340152,  0.17026289,\n",
              "        -0.10497335,  0.04647579, -0.14723043,  0.00934486,  0.01286659,\n",
              "         0.02275174, -0.02014173, -0.10436803, -0.04906441, -0.09460727,\n",
              "         0.10228935,  0.05486388,  0.22814474,  0.03945639, -0.00406154,\n",
              "         0.17871964, -0.10789098,  0.1584121 , -0.11893248, -0.10535807,\n",
              "         0.1653575 , -0.16220565, -0.0473326 ,  0.11931527, -0.17713831,\n",
              "        -0.18797691, -0.1690454 , -0.02432762,  0.02619978, -0.09090306,\n",
              "        -0.0569129 ,  0.08395038,  0.0443336 ,  0.05996172, -0.09615465,\n",
              "        -0.03208089, -0.11681037,  0.0475043 , -0.03004782,  0.1960985 ,\n",
              "        -0.02746438, -0.02114808,  0.10385726,  0.24476454,  0.07228728,\n",
              "         0.03573765,  0.08298723,  0.06132878, -0.14012732,  0.24438083,\n",
              "         0.14064844,  0.14590111,  0.12411851]], dtype=float32)>"
            ]
          },
          "execution_count": 15,
          "metadata": {},
          "output_type": "execute_result"
        }
      ],
      "source": [
        "(test12+test13)/np.sqrt([2])[0]"
      ]
    },
    {
      "cell_type": "code",
      "execution_count": 10,
      "metadata": {},
      "outputs": [],
      "source": [
        "cos_sim_train_round=[1 if x>=0 else 0 for x in cos_sim_train]\n",
        "cos_sim_test_round=[1 if x>=0 else 0 for x in cos_sim_test]"
      ]
    },
    {
      "cell_type": "code",
      "execution_count": 63,
      "metadata": {},
      "outputs": [
        {
          "data": {
            "text/plain": [
              "array([[  1091, 228546],\n",
              "       [     9, 134213]], dtype=int64)"
            ]
          },
          "execution_count": 63,
          "metadata": {},
          "output_type": "execute_result"
        }
      ],
      "source": [
        "# confusion_matrix(yt,cos_sim_train_round)"
      ]
    },
    {
      "cell_type": "code",
      "execution_count": 64,
      "metadata": {},
      "outputs": [
        {
          "data": {
            "text/plain": [
              "array([[  116, 25272],\n",
              "       [    0, 15041]], dtype=int64)"
            ]
          },
          "execution_count": 64,
          "metadata": {},
          "output_type": "execute_result"
        }
      ],
      "source": [
        "# confusion_matrix(yte,cos_sim_test_round)"
      ]
    },
    {
      "cell_type": "code",
      "execution_count": 13,
      "metadata": {},
      "outputs": [
        {
          "data": {
            "text/plain": [
              "0.37490415295950924"
            ]
          },
          "execution_count": 13,
          "metadata": {},
          "output_type": "execute_result"
        }
      ],
      "source": [
        "(confusion_matrix(yte,cos_sim_test_round)[0,0]+confusion_matrix(yte,cos_sim_test_round)[1,1])/len(yte)"
      ]
    },
    {
      "cell_type": "markdown",
      "metadata": {
        "id": "t84oM73yxTDs"
      },
      "source": [
        "# Final Models\n",
        "## Models with two inputs and embedding integrated"
      ]
    },
    {
      "cell_type": "markdown",
      "metadata": {},
      "source": [
        "Stacking RNNs did not yield significant result, hence we only use one layer of Bidirectional RNN"
      ]
    },
    {
      "cell_type": "markdown",
      "metadata": {
        "id": "Nlm2F8Idx-Ln"
      },
      "source": [
        "## Model with 1 dense layer"
      ]
    },
    {
      "cell_type": "code",
      "execution_count": 29,
      "metadata": {
        "id": "_X_RJoUuEbtf"
      },
      "outputs": [],
      "source": [
        "# Model with Bidirectional LSTM, GRU, without Attention, will run for about 150-200s per epoch\n",
        "def model_builder_bilstm(hp):\n",
        "  hp_units_L1 = hp.Choice('units_L1',values=[32, 64, 128], default=64)\n",
        "  hp_units1 = hp.Int('units_1', min_value=32, max_value=512, step=32)\n",
        "  hp_rate1 = hp.Float('dropout_1',min_value=0.0,max_value=0.5,default=0.2,step=0.05)\n",
        "\n",
        "  qstn1=tf.keras.Input(shape=(), dtype=tf.string)\n",
        "  qstn2=tf.keras.Input(shape=(), dtype=tf.string)\n",
        "\n",
        "  qu1=embed(qstn1)\n",
        "  qu2=embed(qstn2)\n",
        "  concat=tf.keras.layers.concatenate([qu1,qu2])\n",
        "  concat=tf.keras.layers.Reshape((2,128))(concat)\n",
        "  concat=tf.keras.layers.Bidirectional(tf.keras.layers.LSTM(units=hp_units_L1))(concat)\n",
        "  concat=tf.keras.layers.Dense(units=hp_units1,activation='relu')(concat)\n",
        "  concat=tf.keras.layers.Dropout(rate=hp_rate1)(concat)\n",
        "  is_dupe=tf.keras.layers.Dense(1, activation=\"sigmoid\")(concat)\n",
        "\n",
        "  model = tf.keras.models.Model(inputs=[qstn1,qstn2], outputs=is_dupe)\n",
        "  model.compile(loss='binary_crossentropy', optimizer='adam', metrics=['accuracy'])\n",
        "  return model"
      ]
    },
    {
      "cell_type": "code",
      "execution_count": 7,
      "metadata": {},
      "outputs": [],
      "source": [
        "def model_builder_bigru(hp):\n",
        "  hp_units_L1 = hp.Choice('units_L1',values=[32, 64, 128], default=64)\n",
        "  hp_units1 = hp.Int('units_1', min_value=32, max_value=512, step=32)\n",
        "  hp_rate1 = hp.Float('dropout_1',min_value=0.0,max_value=0.5,default=0.2,step=0.05)\n",
        "\n",
        "  qstn1=tf.keras.Input(shape=(), dtype=tf.string)\n",
        "  qstn2=tf.keras.Input(shape=(), dtype=tf.string)\n",
        "\n",
        "  qu1=embed(qstn1)\n",
        "  qu2=embed(qstn2)\n",
        "  concat=tf.keras.layers.concatenate([qu1,qu2])\n",
        "  concat=tf.keras.layers.Reshape((2,128))(concat)\n",
        "  concat=tf.keras.layers.Bidirectional(tf.keras.layers.GRU(units=hp_units_L1))(concat)\n",
        "  concat=tf.keras.layers.Dense(units=hp_units1,activation='relu')(concat)\n",
        "  concat=tf.keras.layers.Dropout(rate=hp_rate1)(concat)\n",
        "  is_dupe=tf.keras.layers.Dense(1, activation=\"sigmoid\")(concat)\n",
        "\n",
        "  model = tf.keras.models.Model(inputs=[qstn1,qstn2], outputs=is_dupe)\n",
        "  model.compile(loss='binary_crossentropy', optimizer='adam', metrics=['accuracy'])\n",
        "  return model"
      ]
    },
    {
      "cell_type": "markdown",
      "metadata": {
        "id": "hbuA8BpI9m2I"
      },
      "source": [
        "## Model with 2 dense layers"
      ]
    },
    {
      "cell_type": "code",
      "execution_count": 9,
      "metadata": {
        "id": "5-wyYtDW9iBq"
      },
      "outputs": [],
      "source": [
        "# Model with Bidirectional LSTM, GRU, without Attention, will run for about 150-200s per epoch\n",
        "def model_builder_bilstm_2(hp):\n",
        "  hp_units_L1 = hp.Choice('units_L1',values=[32, 64, 128], default=64)\n",
        "  hp_units1 = hp.Int('units_1', min_value=32, max_value=512, step=32)\n",
        "  hp_units2 = hp.Int('units_2', min_value=32, max_value=512, step=32)\n",
        "  hp_rate1 = hp.Float('dropout_1',min_value=0.0,max_value=0.5,default=0.2,step=0.05)\n",
        "  hp_rate2 = hp.Float('dropout_2',min_value=0.0,max_value=0.5,default=0.2,step=0.05)\n",
        "\n",
        "  qstn1=tf.keras.Input(shape=(), dtype=tf.string)\n",
        "  qstn2=tf.keras.Input(shape=(), dtype=tf.string)\n",
        "\n",
        "  qu1=embed(qstn1)\n",
        "  qu2=embed(qstn2)\n",
        "  concat=tf.keras.layers.concatenate([qu1,qu2])\n",
        "  concat=tf.keras.layers.Reshape((2,128))(concat)\n",
        "  concat=tf.keras.layers.Bidirectional(tf.keras.layers.LSTM(units=hp_units_L1))(concat)\n",
        "  concat=tf.keras.layers.Dense(units=hp_units1,activation='relu')(concat)\n",
        "  concat=tf.keras.layers.Dropout(rate=hp_rate1)(concat)\n",
        "  concat=tf.keras.layers.Dense(units=hp_units2,activation='relu')(concat)\n",
        "  concat=tf.keras.layers.Dropout(rate=hp_rate2)(concat)\n",
        "  is_dupe=tf.keras.layers.Dense(1, activation=\"sigmoid\")(concat)\n",
        "\n",
        "  model = tf.keras.models.Model(inputs=[qstn1,qstn2], outputs=is_dupe)\n",
        "  model.compile(loss='binary_crossentropy', optimizer='adam', metrics=['accuracy'])\n",
        "  return model"
      ]
    },
    {
      "cell_type": "code",
      "execution_count": 7,
      "metadata": {},
      "outputs": [],
      "source": [
        "def model_builder_bigru_2(hp):\n",
        "  hp_units_L1 = hp.Choice('units_L1',values=[32, 64, 128], default=64)\n",
        "  hp_units1 = hp.Int('units_1', min_value=64, max_value=512, step=32)\n",
        "  hp_units2 = hp.Int('units_2', min_value=64, max_value=512, step=32)\n",
        "  hp_rate1 = hp.Float('dropout_1',min_value=0.0,max_value=0.5,default=0.2,step=0.05)\n",
        "  hp_rate2 = hp.Float('dropout_2',min_value=0.0,max_value=0.5,default=0.2,step=0.05)\n",
        "  qstn1=tf.keras.Input(shape=(), dtype=tf.string)\n",
        "  qstn2=tf.keras.Input(shape=(), dtype=tf.string)\n",
        "\n",
        "  qu1=embed(qstn1)\n",
        "  qu2=embed(qstn2)\n",
        "  concat=tf.keras.layers.concatenate([qu1,qu2])\n",
        "  concat=tf.keras.layers.Reshape((2,128))(concat)\n",
        "  concat=tf.keras.layers.Bidirectional(tf.keras.layers.GRU(units=hp_units_L1))(concat)\n",
        "  concat=tf.keras.layers.Dense(units=hp_units1,activation='relu')(concat)\n",
        "  concat=tf.keras.layers.Dropout(rate=hp_rate1)(concat)\n",
        "  concat=tf.keras.layers.Dense(units=hp_units2,activation='relu')(concat)\n",
        "  concat=tf.keras.layers.Dropout(rate=hp_rate2)(concat)\n",
        "  is_dupe=tf.keras.layers.Dense(1, activation=\"sigmoid\")(concat)\n",
        "\n",
        "  model = tf.keras.models.Model(inputs=[qstn1,qstn2], outputs=is_dupe)\n",
        "  model.compile(loss='binary_crossentropy', optimizer='adam', metrics=['accuracy'])\n",
        "  return model"
      ]
    },
    {
      "cell_type": "markdown",
      "metadata": {},
      "source": [
        "## Model small testing"
      ]
    },
    {
      "cell_type": "markdown",
      "metadata": {},
      "source": [
        "See if the models work"
      ]
    },
    {
      "cell_type": "code",
      "execution_count": 27,
      "metadata": {},
      "outputs": [
        {
          "name": "stdout",
          "output_type": "stream",
          "text": [
            "Model: \"functional_9\"\n",
            "__________________________________________________________________________________________________\n",
            "Layer (type)                    Output Shape         Param #     Connected to                     \n",
            "==================================================================================================\n",
            "input_9 (InputLayer)            [(None,)]            0                                            \n",
            "__________________________________________________________________________________________________\n",
            "input_10 (InputLayer)           [(None,)]            0                                            \n",
            "__________________________________________________________________________________________________\n",
            "keras_layer (KerasLayer)        (None, 128)          112461824   input_9[0][0]                    \n",
            "                                                                 input_10[0][0]                   \n",
            "__________________________________________________________________________________________________\n",
            "concatenate_4 (Concatenate)     (None, 256)          0           keras_layer[56][0]               \n",
            "                                                                 keras_layer[57][0]               \n",
            "__________________________________________________________________________________________________\n",
            "reshape_4 (Reshape)             (None, 2, 128)       0           concatenate_4[0][0]              \n",
            "__________________________________________________________________________________________________\n",
            "bidirectional_4 (Bidirectional) (None, 256)          198144      reshape_4[0][0]                  \n",
            "__________________________________________________________________________________________________\n",
            "dense_17 (Dense)                (None, 32)           8224        bidirectional_4[0][0]            \n",
            "__________________________________________________________________________________________________\n",
            "dropout_13 (Dropout)            (None, 32)           0           dense_17[0][0]                   \n",
            "__________________________________________________________________________________________________\n",
            "dense_18 (Dense)                (None, 1)            33          dropout_13[0][0]                 \n",
            "==================================================================================================\n",
            "Total params: 112,668,225\n",
            "Trainable params: 206,401\n",
            "Non-trainable params: 112,461,824\n",
            "__________________________________________________________________________________________________\n"
          ]
        }
      ],
      "source": [
        "qstn1=tf.keras.Input(shape=(), dtype=tf.string)\n",
        "qstn2=tf.keras.Input(shape=(), dtype=tf.string)\n",
        "\n",
        "qu1=embed(qstn1)\n",
        "qu2=embed(qstn2)\n",
        "concat=tf.keras.layers.concatenate([qu1,qu2])\n",
        "concat=tf.keras.layers.Reshape((2,128))(concat)\n",
        "concat=tf.keras.layers.Bidirectional(tf.keras.layers.GRU(units=128))(concat)\n",
        "concat=tf.keras.layers.Dense(units=32,activation='relu')(concat)\n",
        "concat=tf.keras.layers.Dropout(rate=0.2)(concat)\n",
        "is_dupe=tf.keras.layers.Dense(1, activation=\"sigmoid\")(concat)\n",
        "\n",
        "model_bigru = tf.keras.models.Model(inputs=[qstn1,qstn2], outputs=is_dupe)\n",
        "model_bigru.compile(loss='binary_crossentropy', optimizer='adam', metrics=['accuracy'])\n",
        "model_bigru.summary()"
      ]
    },
    {
      "cell_type": "code",
      "execution_count": 28,
      "metadata": {},
      "outputs": [
        {
          "name": "stdout",
          "output_type": "stream",
          "text": [
            "Epoch 1/5\n",
            "10234/10234 [==============================] - 50s 5ms/step - loss: 0.5263 - accuracy: 0.7257 - val_loss: 0.4849 - val_accuracy: 0.7553\n",
            "Epoch 2/5\n",
            "10234/10234 [==============================] - 58s 6ms/step - loss: 0.4672 - accuracy: 0.7648 - val_loss: 0.4610 - val_accuracy: 0.7704\n",
            "Epoch 3/5\n",
            "10234/10234 [==============================] - 58s 6ms/step - loss: 0.4412 - accuracy: 0.7812 - val_loss: 0.4462 - val_accuracy: 0.7780\n",
            "Epoch 4/5\n",
            "10234/10234 [==============================] - 53s 5ms/step - loss: 0.4213 - accuracy: 0.7934 - val_loss: 0.4358 - val_accuracy: 0.7854\n",
            "Epoch 5/5\n",
            "10234/10234 [==============================] - 56s 5ms/step - loss: 0.4043 - accuracy: 0.8042 - val_loss: 0.4325 - val_accuracy: 0.7899\n"
          ]
        }
      ],
      "source": [
        "history_bigru = model_bigru.fit([Q1_train, Q2_train], yt, epochs=5, validation_split=0.1)"
      ]
    },
    {
      "cell_type": "code",
      "execution_count": 31,
      "metadata": {},
      "outputs": [
        {
          "data": {
            "image/png": "[encoded data removed]",
            "text/plain": [
              "<Figure size 432x288 with 1 Axes>"
            ]
          },
          "metadata": {
            "needs_background": "light"
          },
          "output_type": "display_data"
        }
      ],
      "source": [
        "plt.plot(history_bigru.history['accuracy'])\n",
        "plt.plot(history_bigru.history['val_accuracy'])\n",
        "plt.title('model accuracy')\n",
        "plt.ylabel('accuracy')\n",
        "plt.xlabel('epoch')\n",
        "plt.legend(['train', 'test'], loc='upper left')\n",
        "plt.show()"
      ]
    },
    {
      "cell_type": "code",
      "execution_count": 29,
      "metadata": {},
      "outputs": [
        {
          "name": "stdout",
          "output_type": "stream",
          "text": [
            "1264/1264 [==============================] - 2s 1ms/step - loss: 0.4306 - accuracy: 0.7917\n",
            "[test loss, test accuracy]: [0.43060511350631714, 0.7916842103004456]\n"
          ]
        }
      ],
      "source": [
        "eval_result = model_bigru.evaluate([Q1_test,Q2_test], yte)\n",
        "print(\"[test loss, test accuracy]:\", eval_result)"
      ]
    },
    {
      "cell_type": "code",
      "execution_count": 30,
      "metadata": {},
      "outputs": [
        {
          "name": "stdout",
          "output_type": "stream",
          "text": [
            "1264/1264 [==============================] - 2s 1ms/step - loss: 0.4467 - accuracy: 0.7806\n",
            "[test loss, test accuracy]: [0.4467344582080841, 0.7805535793304443]\n"
          ]
        }
      ],
      "source": [
        "eval_result = model_bigru.evaluate([Q2_test,Q1_test], yte)\n",
        "print(\"[test loss, test accuracy]:\", eval_result)"
      ]
    },
    {
      "cell_type": "markdown",
      "metadata": {},
      "source": [
        "# Hyperparameter Tuning"
      ]
    },
    {
      "cell_type": "markdown",
      "metadata": {},
      "source": [
        "Hyperband is used as the tuning algorithm and early stopping is used to prevent overfitting and make the tuning quicker"
      ]
    },
    {
      "cell_type": "markdown",
      "metadata": {},
      "source": [
        "The tuning would take about 2-3 hours (this was done with Ryzen 7 5700H and NVIDIA RTX 3060 Laptop GPU) per model, it may takes longer or shorter depending on the hardware used. Using Google Colab is not recommended as it will crash or disconnect due to limited GPU usage before the tuning of one model is finished. It might be still feasible using scheduling or multiple emails."
      ]
    },
    {
      "cell_type": "markdown",
      "metadata": {},
      "source": [
        "The model's size is about 1 GB each and the checkpoints folder is about 13 GB each"
      ]
    },
    {
      "cell_type": "code",
      "execution_count": 33,
      "metadata": {},
      "outputs": [],
      "source": [
        "stop_early = tf.keras.callbacks.EarlyStopping(monitor='val_accuracy', patience=1, restore_best_weights=True)"
      ]
    },
    {
      "cell_type": "markdown",
      "metadata": {},
      "source": [
        "### Model with 1 dense layer"
      ]
    },
    {
      "cell_type": "code",
      "execution_count": 30,
      "metadata": {},
      "outputs": [],
      "source": [
        "tuner_bilstm = kt.Hyperband(model_builder_bilstm,\n",
        "                     objective='val_accuracy',\n",
        "                     max_epochs=16,\n",
        "                     factor=3,\n",
        "                     directory='D:/NLP Model/keras_tuner_checkpoints_4',\n",
        "                     overwrite=False,\n",
        "                     project_name='model_bilstm')"
      ]
    },
    {
      "cell_type": "code",
      "execution_count": 9,
      "metadata": {
        "id": "Wd-LFUtJfbVx"
      },
      "outputs": [
        {
          "name": "stdout",
          "output_type": "stream",
          "text": [
            "WARNING:tensorflow:AutoGraph could not transform <bound method KerasLayer.call of <tensorflow_hub.keras_layer.KerasLayer object at 0x0000022014D8B520>> and will run it as-is.\n",
            "Please report this to the TensorFlow team. When filing the bug, set the verbosity to 10 (on Linux, `export AUTOGRAPH_VERBOSITY=10`) and attach the full output.\n",
            "Cause: module 'gast' has no attribute 'Index'\n",
            "To silence this warning, decorate the function with @tf.autograph.experimental.do_not_convert\n",
            "WARNING: AutoGraph could not transform <bound method KerasLayer.call of <tensorflow_hub.keras_layer.KerasLayer object at 0x0000022014D8B520>> and will run it as-is.\n",
            "Please report this to the TensorFlow team. When filing the bug, set the verbosity to 10 (on Linux, `export AUTOGRAPH_VERBOSITY=10`) and attach the full output.\n",
            "Cause: module 'gast' has no attribute 'Index'\n",
            "To silence this warning, decorate the function with @tf.autograph.experimental.do_not_convert\n"
          ]
        }
      ],
      "source": [
        "tuner_bigru = kt.Hyperband(model_builder_bigru,\n",
        "                     objective='val_accuracy',\n",
        "                     max_epochs=16,\n",
        "                     factor=3,\n",
        "                     directory='D:/NLP Model/keras_tuner_checkpoints_4',\n",
        "                     overwrite=False,\n",
        "                     project_name='model_bigru')"
      ]
    },
    {
      "cell_type": "markdown",
      "metadata": {},
      "source": [
        "### Model with 2 dense layers"
      ]
    },
    {
      "cell_type": "code",
      "execution_count": 14,
      "metadata": {},
      "outputs": [
        {
          "name": "stdout",
          "output_type": "stream",
          "text": [
            "INFO:tensorflow:Reloading Oracle from existing project D:/NLP Model/keras_tuner_checkpoints_3\\model_bilstm_2\\oracle.json\n",
            "INFO:tensorflow:Reloading Tuner from D:/NLP Model/keras_tuner_checkpoints_3\\model_bilstm_2\\tuner0.json\n"
          ]
        }
      ],
      "source": [
        "tuner_bilstm_2 = kt.Hyperband(model_builder_bilstm_2,\n",
        "                     objective='val_accuracy',\n",
        "                     max_epochs=16,\n",
        "                     factor=3,\n",
        "                     directory='D:/NLP Model/keras_tuner_checkpoints_3',\n",
        "                     overwrite=False,\n",
        "                     project_name='model_bilstm_2')"
      ]
    },
    {
      "cell_type": "code",
      "execution_count": 9,
      "metadata": {},
      "outputs": [
        {
          "name": "stdout",
          "output_type": "stream",
          "text": [
            "WARNING:tensorflow:AutoGraph could not transform <bound method KerasLayer.call of <tensorflow_hub.keras_layer.KerasLayer object at 0x000001799ACC8520>> and will run it as-is.\n",
            "Please report this to the TensorFlow team. When filing the bug, set the verbosity to 10 (on Linux, `export AUTOGRAPH_VERBOSITY=10`) and attach the full output.\n",
            "Cause: module 'gast' has no attribute 'Index'\n",
            "To silence this warning, decorate the function with @tf.autograph.experimental.do_not_convert\n",
            "WARNING: AutoGraph could not transform <bound method KerasLayer.call of <tensorflow_hub.keras_layer.KerasLayer object at 0x000001799ACC8520>> and will run it as-is.\n",
            "Please report this to the TensorFlow team. When filing the bug, set the verbosity to 10 (on Linux, `export AUTOGRAPH_VERBOSITY=10`) and attach the full output.\n",
            "Cause: module 'gast' has no attribute 'Index'\n",
            "To silence this warning, decorate the function with @tf.autograph.experimental.do_not_convert\n"
          ]
        }
      ],
      "source": [
        "tuner_bigru_2 = kt.Hyperband(model_builder_bigru_2,\n",
        "                     objective='val_accuracy',\n",
        "                     max_epochs=16,\n",
        "                     factor=3,\n",
        "                     directory='D:/NLP Model/keras_tuner_checkpoints_3',\n",
        "                     overwrite=False,\n",
        "                     project_name='model_bigru_2')"
      ]
    },
    {
      "cell_type": "markdown",
      "metadata": {},
      "source": [
        "## Hyperparameter Result"
      ]
    },
    {
      "cell_type": "markdown",
      "metadata": {},
      "source": [
        "### Model with 1 dense layer"
      ]
    },
    {
      "cell_type": "code",
      "execution_count": 34,
      "metadata": {},
      "outputs": [
        {
          "name": "stdout",
          "output_type": "stream",
          "text": [
            "Trial 32 Complete [00h 08m 39s]\n",
            "val_accuracy: 0.8088550567626953\n",
            "\n",
            "Best val_accuracy So Far: 0.8093222379684448\n",
            "Total elapsed time: 01h 53m 55s\n",
            "INFO:tensorflow:Oracle triggered exit\n",
            "\n",
            "The hyperparameter search is complete. The optimal number of units RNN is 128, \n",
            "in the densely-connected\n",
            "layers is 256 and the optimal droupout rate\n",
            "is 0.45.\n",
            "\n"
          ]
        }
      ],
      "source": [
        "tuner_bilstm.search([Q1_train, Q2_train], yt, epochs=16, validation_split=0.1, callbacks=[stop_early])\n",
        "\n",
        "# Get the optimal hyperparameters\n",
        "best_hps_bilstm=tuner_bilstm.get_best_hyperparameters(num_trials=1)[0]\n",
        "\n",
        "print(f\"\"\"\n",
        "The hyperparameter search is complete. The optimal number of units RNN layer is {best_hps_bilstm.get(\"units_L1\")}, \n",
        "in the densely-connected\n",
        "layer is {best_hps_bilstm.get('units_1')}, and the optimal droupout rate for the optimizer\n",
        "is {best_hps_bilstm.get('dropout_1')}.\n",
        "\"\"\")"
      ]
    },
    {
      "cell_type": "code",
      "execution_count": 10,
      "metadata": {
        "colab": {
          "base_uri": "https://localhost:8080/",
          "height": 812
        },
        "id": "_hHKoa2of2Rh",
        "outputId": "ad180ad1-bed5-4bd7-f424-1c59ba175c42"
      },
      "outputs": [
        {
          "name": "stdout",
          "output_type": "stream",
          "text": [
            "Trial 30 Complete [00h 03m 01s]\n",
            "val_accuracy: 0.7812620401382446\n",
            "\n",
            "Best val_accuracy So Far: 0.8091298937797546\n",
            "Total elapsed time: 01h 37m 05s\n",
            "INFO:tensorflow:Oracle triggered exit\n",
            "\n",
            "The hyperparameter search is complete. The optimal number of units in the RNN layer is 128, in the densely-connected\n",
            "layer is 320, and the optimal droupout rate for the optimizer\n",
            "is 0.45.\n",
            "\n"
          ]
        }
      ],
      "source": [
        "tuner_bigru.search([Q1_train, Q2_train], yt, epochs=16, validation_split=0.1, callbacks=[stop_early])\n",
        "\n",
        "# Get the optimal hyperparameters\n",
        "best_hps_bigru=tuner_bigru.get_best_hyperparameters(num_trials=1)[0]\n",
        "\n",
        "print(f\"\"\"\n",
        "The hyperparameter search is complete. The optimal number of units in the RNN layer is {best_hps_bigru.get(\"units_L1\")}, in the densely-connected\n",
        "layer is {best_hps_bigru.get('units_1')}, and the optimal droupout rate for the optimizer\n",
        "is {best_hps_bigru.get('dropout_1')}.\n",
        "\"\"\")"
      ]
    },
    {
      "cell_type": "markdown",
      "metadata": {},
      "source": [
        "### Model with 2 dense layers"
      ]
    },
    {
      "cell_type": "code",
      "execution_count": 15,
      "metadata": {},
      "outputs": [
        {
          "name": "stdout",
          "output_type": "stream",
          "text": [
            "Trial 17 Complete [00h 04m 41s]\n",
            "val_accuracy: 0.7932721376419067\n",
            "\n",
            "Best val_accuracy So Far: 0.8106414675712585\n",
            "Total elapsed time: 01h 48m 40s\n",
            "INFO:tensorflow:Oracle triggered exit\n",
            "\n",
            "The hyperparameter search is complete. The optimal number of units in the RNN layer is 128, the densely-connected\n",
            "layers are 352, 256, and the optimal droupout rate for the optimizer\n",
            "is 0.30000000000000004, 0.1.\n",
            "\n"
          ]
        }
      ],
      "source": [
        "tuner_bilstm_2.search([Q1_train, Q2_train], yt, epochs=16, validation_split=0.1, callbacks=[stop_early])\n",
        "\n",
        "# Get the optimal hyperparameters\n",
        "best_hps_bilstm_2=tuner_bilstm_2.get_best_hyperparameters(num_trials=1)[0]\n",
        "\n",
        "print(f\"\"\"\n",
        "The hyperparameter search is complete. The optimal number of units in the RNN layer is {best_hps_bilstm_2.get('units_L1')}, the densely-connected\n",
        "layers are {best_hps_bilstm_2.get('units_1')}, {best_hps_bilstm_2.get('units_2')}, and the optimal droupout rate for the optimizer\n",
        "is {best_hps_bilstm_2.get('dropout_1')}, {best_hps_bilstm_2.get('dropout_2')}.\n",
        "\"\"\")"
      ]
    },
    {
      "cell_type": "code",
      "execution_count": 10,
      "metadata": {},
      "outputs": [
        {
          "name": "stdout",
          "output_type": "stream",
          "text": [
            "Trial 30 Complete [00h 05m 48s]\n",
            "val_accuracy: 0.7869784832000732\n",
            "\n",
            "Best val_accuracy So Far: 0.8093772530555725\n",
            "Total elapsed time: 01h 56m 20s\n",
            "INFO:tensorflow:Oracle triggered exit\n",
            "\n",
            "The hyperparameter search is complete. The optimal number of units in the RNN layer is \n",
            "128, the densely-connected\n",
            "layers are 320, 480, and the optimal droupout rate for the optimizer\n",
            "is 0.2, 0.25.\n",
            "\n"
          ]
        }
      ],
      "source": [
        "tuner_bigru_2.search([Q1_train, Q2_train], yt, epochs=16, validation_split=0.1, callbacks=[stop_early])\n",
        "\n",
        "# Get the optimal hyperparameters\n",
        "best_hps_bigru_2=tuner_bigru_2.get_best_hyperparameters(num_trials=1)[0]\n",
        "\n",
        "print(f\"\"\"\n",
        "The hyperparameter search is complete. The optimal number of units in the RNN layer is \n",
        "{best_hps_bigru_2.get('units_L1')}, the densely-connected\n",
        "layers are {best_hps_bigru_2.get('units_1')}, {best_hps_bigru_2.get('units_2')}, and the optimal droupout rate for the optimizer\n",
        "is {best_hps_bigru_2.get('dropout_1')}, {best_hps_bigru_2.get('dropout_2')}.\n",
        "\"\"\")"
      ]
    },
    {
      "cell_type": "markdown",
      "metadata": {},
      "source": [
        "## Models after tuned"
      ]
    },
    {
      "cell_type": "markdown",
      "metadata": {},
      "source": [
        "### Model with 1 dense layer"
      ]
    },
    {
      "cell_type": "code",
      "execution_count": 35,
      "metadata": {},
      "outputs": [
        {
          "name": "stdout",
          "output_type": "stream",
          "text": [
            "Model: \"functional_1\"\n",
            "__________________________________________________________________________________________________\n",
            "Layer (type)                    Output Shape         Param #     Connected to                     \n",
            "==================================================================================================\n",
            "input_1 (InputLayer)            [(None,)]            0                                            \n",
            "__________________________________________________________________________________________________\n",
            "input_2 (InputLayer)            [(None,)]            0                                            \n",
            "__________________________________________________________________________________________________\n",
            "keras_layer (KerasLayer)        (None, 128)          112461824   input_1[0][0]                    \n",
            "                                                                 input_2[0][0]                    \n",
            "__________________________________________________________________________________________________\n",
            "concatenate (Concatenate)       (None, 256)          0           keras_layer[128][0]              \n",
            "                                                                 keras_layer[129][0]              \n",
            "__________________________________________________________________________________________________\n",
            "reshape (Reshape)               (None, 2, 128)       0           concatenate[0][0]                \n",
            "__________________________________________________________________________________________________\n",
            "bidirectional (Bidirectional)   (None, 256)          263168      reshape[0][0]                    \n",
            "__________________________________________________________________________________________________\n",
            "dense (Dense)                   (None, 256)          65792       bidirectional[0][0]              \n",
            "__________________________________________________________________________________________________\n",
            "dropout (Dropout)               (None, 256)          0           dense[0][0]                      \n",
            "__________________________________________________________________________________________________\n",
            "dense_1 (Dense)                 (None, 1)            257         dropout[0][0]                    \n",
            "==================================================================================================\n",
            "Total params: 112,791,041\n",
            "Trainable params: 329,217\n",
            "Non-trainable params: 112,461,824\n",
            "__________________________________________________________________________________________________\n"
          ]
        }
      ],
      "source": [
        "best_model_bilstm = tuner_bilstm.get_best_models()[0]\n",
        "best_model_bilstm.summary()"
      ]
    },
    {
      "cell_type": "code",
      "execution_count": 11,
      "metadata": {},
      "outputs": [
        {
          "name": "stdout",
          "output_type": "stream",
          "text": [
            "Model: \"functional_1\"\n",
            "__________________________________________________________________________________________________\n",
            "Layer (type)                    Output Shape         Param #     Connected to                     \n",
            "==================================================================================================\n",
            "input_1 (InputLayer)            [(None,)]            0                                            \n",
            "__________________________________________________________________________________________________\n",
            "input_2 (InputLayer)            [(None,)]            0                                            \n",
            "__________________________________________________________________________________________________\n",
            "keras_layer (KerasLayer)        (None, 128)          112461824   input_1[0][0]                    \n",
            "                                                                 input_2[0][0]                    \n",
            "__________________________________________________________________________________________________\n",
            "concatenate (Concatenate)       (None, 256)          0           keras_layer[62][0]               \n",
            "                                                                 keras_layer[63][0]               \n",
            "__________________________________________________________________________________________________\n",
            "reshape (Reshape)               (None, 2, 128)       0           concatenate[0][0]                \n",
            "__________________________________________________________________________________________________\n",
            "bidirectional (Bidirectional)   (None, 256)          198144      reshape[0][0]                    \n",
            "__________________________________________________________________________________________________\n",
            "dense (Dense)                   (None, 320)          82240       bidirectional[0][0]              \n",
            "__________________________________________________________________________________________________\n",
            "dropout (Dropout)               (None, 320)          0           dense[0][0]                      \n",
            "__________________________________________________________________________________________________\n",
            "dense_1 (Dense)                 (None, 1)            321         dropout[0][0]                    \n",
            "==================================================================================================\n",
            "Total params: 112,742,529\n",
            "Trainable params: 280,705\n",
            "Non-trainable params: 112,461,824\n",
            "__________________________________________________________________________________________________\n"
          ]
        }
      ],
      "source": [
        "best_model_bigru = tuner_bigru.get_best_models()[0]\n",
        "best_model_bigru.summary()"
      ]
    },
    {
      "cell_type": "markdown",
      "metadata": {},
      "source": [
        "### Model with 2 dense layer"
      ]
    },
    {
      "cell_type": "code",
      "execution_count": 16,
      "metadata": {
        "colab": {
          "base_uri": "https://localhost:8080/"
        },
        "id": "_v0OYgGy0EHO",
        "outputId": "848b189f-8c20-4428-ab4f-8af718663e4e"
      },
      "outputs": [
        {
          "name": "stdout",
          "output_type": "stream",
          "text": [
            "Model: \"functional_1\"\n",
            "__________________________________________________________________________________________________\n",
            "Layer (type)                    Output Shape         Param #     Connected to                     \n",
            "==================================================================================================\n",
            "input_1 (InputLayer)            [(None,)]            0                                            \n",
            "__________________________________________________________________________________________________\n",
            "input_2 (InputLayer)            [(None,)]            0                                            \n",
            "__________________________________________________________________________________________________\n",
            "keras_layer (KerasLayer)        (None, 128)          112461824   input_1[0][0]                    \n",
            "                                                                 input_2[0][0]                    \n",
            "__________________________________________________________________________________________________\n",
            "concatenate (Concatenate)       (None, 256)          0           keras_layer[66][0]               \n",
            "                                                                 keras_layer[67][0]               \n",
            "__________________________________________________________________________________________________\n",
            "reshape (Reshape)               (None, 2, 128)       0           concatenate[0][0]                \n",
            "__________________________________________________________________________________________________\n",
            "bidirectional (Bidirectional)   (None, 256)          263168      reshape[0][0]                    \n",
            "__________________________________________________________________________________________________\n",
            "dense (Dense)                   (None, 352)          90464       bidirectional[0][0]              \n",
            "__________________________________________________________________________________________________\n",
            "dropout (Dropout)               (None, 352)          0           dense[0][0]                      \n",
            "__________________________________________________________________________________________________\n",
            "dense_1 (Dense)                 (None, 256)          90368       dropout[0][0]                    \n",
            "__________________________________________________________________________________________________\n",
            "dropout_1 (Dropout)             (None, 256)          0           dense_1[0][0]                    \n",
            "__________________________________________________________________________________________________\n",
            "dense_2 (Dense)                 (None, 1)            257         dropout_1[0][0]                  \n",
            "==================================================================================================\n",
            "Total params: 112,906,081\n",
            "Trainable params: 444,257\n",
            "Non-trainable params: 112,461,824\n",
            "__________________________________________________________________________________________________\n"
          ]
        }
      ],
      "source": [
        "best_model_bilstm_2 = tuner_bilstm_2.get_best_models()[0]\n",
        "best_model_bilstm_2.summary()"
      ]
    },
    {
      "cell_type": "code",
      "execution_count": 11,
      "metadata": {},
      "outputs": [
        {
          "name": "stdout",
          "output_type": "stream",
          "text": [
            "Model: \"functional_1\"\n",
            "__________________________________________________________________________________________________\n",
            "Layer (type)                    Output Shape         Param #     Connected to                     \n",
            "==================================================================================================\n",
            "input_1 (InputLayer)            [(None,)]            0                                            \n",
            "__________________________________________________________________________________________________\n",
            "input_2 (InputLayer)            [(None,)]            0                                            \n",
            "__________________________________________________________________________________________________\n",
            "keras_layer (KerasLayer)        (None, 128)          112461824   input_1[0][0]                    \n",
            "                                                                 input_2[0][0]                    \n",
            "__________________________________________________________________________________________________\n",
            "concatenate (Concatenate)       (None, 256)          0           keras_layer[62][0]               \n",
            "                                                                 keras_layer[63][0]               \n",
            "__________________________________________________________________________________________________\n",
            "reshape (Reshape)               (None, 2, 128)       0           concatenate[0][0]                \n",
            "__________________________________________________________________________________________________\n",
            "bidirectional (Bidirectional)   (None, 256)          198144      reshape[0][0]                    \n",
            "__________________________________________________________________________________________________\n",
            "dense (Dense)                   (None, 320)          82240       bidirectional[0][0]              \n",
            "__________________________________________________________________________________________________\n",
            "dropout (Dropout)               (None, 320)          0           dense[0][0]                      \n",
            "__________________________________________________________________________________________________\n",
            "dense_1 (Dense)                 (None, 480)          154080      dropout[0][0]                    \n",
            "__________________________________________________________________________________________________\n",
            "dropout_1 (Dropout)             (None, 480)          0           dense_1[0][0]                    \n",
            "__________________________________________________________________________________________________\n",
            "dense_2 (Dense)                 (None, 1)            481         dropout_1[0][0]                  \n",
            "==================================================================================================\n",
            "Total params: 112,896,769\n",
            "Trainable params: 434,945\n",
            "Non-trainable params: 112,461,824\n",
            "__________________________________________________________________________________________________\n"
          ]
        }
      ],
      "source": [
        "best_model_bigru_2 = tuner_bigru_2.get_best_models()[0]\n",
        "best_model_bigru_2.summary()"
      ]
    },
    {
      "cell_type": "markdown",
      "metadata": {},
      "source": [
        "# Evaluation"
      ]
    },
    {
      "cell_type": "markdown",
      "metadata": {},
      "source": [
        "## Test set evaluation"
      ]
    },
    {
      "cell_type": "markdown",
      "metadata": {},
      "source": [
        "### Model with 1 dense layer"
      ]
    },
    {
      "cell_type": "code",
      "execution_count": 36,
      "metadata": {},
      "outputs": [
        {
          "name": "stdout",
          "output_type": "stream",
          "text": [
            "1264/1264 [==============================] - 3s 2ms/step - loss: 0.4397 - accuracy: 0.8086\n",
            "[test loss, test accuracy]: [0.4396616816520691, 0.8086274862289429]\n"
          ]
        }
      ],
      "source": [
        "eval_result = best_model_bilstm.evaluate([Q1_test,Q2_test], yte)\n",
        "print(\"[test loss, test accuracy]:\", eval_result)"
      ]
    },
    {
      "cell_type": "code",
      "execution_count": 37,
      "metadata": {},
      "outputs": [
        {
          "name": "stdout",
          "output_type": "stream",
          "text": [
            "1264/1264 [==============================] - 3s 2ms/step - loss: 0.4712 - accuracy: 0.7935\n",
            "[test loss, test accuracy]: [0.47118642926216125, 0.7935145497322083]\n"
          ]
        }
      ],
      "source": [
        "eval_result = best_model_bilstm.evaluate([Q2_test,Q1_test], yte)\n",
        "print(\"[test loss, test accuracy]:\", eval_result)"
      ]
    },
    {
      "cell_type": "code",
      "execution_count": 12,
      "metadata": {
        "colab": {
          "base_uri": "https://localhost:8080/"
        },
        "id": "UYm6rhsR2NUX",
        "outputId": "8f1d015e-e103-4289-bfed-147de4b19070"
      },
      "outputs": [
        {
          "name": "stdout",
          "output_type": "stream",
          "text": [
            "1264/1264 [==============================] - 2s 2ms/step - loss: 0.4236 - accuracy: 0.8091\n",
            "[test loss, test accuracy]: [0.423641175031662, 0.8091221451759338]\n"
          ]
        }
      ],
      "source": [
        "eval_result = best_model_bigru.evaluate([Q1_test,Q2_test], yte)\n",
        "print(\"[test loss, test accuracy]:\", eval_result)"
      ]
    },
    {
      "cell_type": "code",
      "execution_count": 13,
      "metadata": {},
      "outputs": [
        {
          "name": "stdout",
          "output_type": "stream",
          "text": [
            "1264/1264 [==============================] - 2s 2ms/step - loss: 0.4547 - accuracy: 0.7949\n",
            "[test loss, test accuracy]: [0.4546811580657959, 0.7949244379997253]\n"
          ]
        }
      ],
      "source": [
        "eval_result = best_model_bigru.evaluate([Q2_test,Q1_test], yte)\n",
        "print(\"[test loss, test accuracy]:\", eval_result)"
      ]
    },
    {
      "cell_type": "markdown",
      "metadata": {},
      "source": [
        "### Model with 2 dense layers"
      ]
    },
    {
      "cell_type": "code",
      "execution_count": 17,
      "metadata": {},
      "outputs": [
        {
          "name": "stdout",
          "output_type": "stream",
          "text": [
            "1264/1264 [==============================] - 3s 2ms/step - loss: 0.4115 - accuracy: 0.8087\n",
            "[test loss, test accuracy]: [0.4115205705165863, 0.80872642993927]\n"
          ]
        }
      ],
      "source": [
        "eval_result = best_model_bilstm_2.evaluate([Q1_test,Q2_test], yte)\n",
        "print(\"[test loss, test accuracy]:\", eval_result)"
      ]
    },
    {
      "cell_type": "code",
      "execution_count": 12,
      "metadata": {},
      "outputs": [
        {
          "name": "stdout",
          "output_type": "stream",
          "text": [
            "1264/1264 [==============================] - 3s 2ms/step - loss: 0.4155 - accuracy: 0.8101\n",
            "[test loss, test accuracy]: [0.4155394732952118, 0.8100621104240417]\n"
          ]
        }
      ],
      "source": [
        "eval_result = best_model_bigru_2.evaluate([Q1_test,Q2_test], yte)\n",
        "print(\"[test loss, test accuracy]:\", eval_result)"
      ]
    },
    {
      "cell_type": "code",
      "execution_count": 18,
      "metadata": {
        "colab": {
          "base_uri": "https://localhost:8080/",
          "height": 1000
        },
        "id": "efdigMD3ubQa",
        "outputId": "dde62131-b7af-4838-b4ac-19dd4cfe82b3"
      },
      "outputs": [
        {
          "name": "stdout",
          "output_type": "stream",
          "text": [
            "('Failed to import pydot. You must `pip install pydot` and install graphviz (https://graphviz.gitlab.io/download/), ', 'for `pydotprint` to work.')\n"
          ]
        }
      ],
      "source": [
        "# tf.keras.utils.plot_model(best_model, show_shapes=True)"
      ]
    },
    {
      "cell_type": "markdown",
      "metadata": {},
      "source": [
        "## Self test 1"
      ]
    },
    {
      "cell_type": "code",
      "execution_count": 43,
      "metadata": {},
      "outputs": [
        {
          "data": {
            "text/plain": [
              "0.7853306531906128"
            ]
          },
          "execution_count": 43,
          "metadata": {},
          "output_type": "execute_result"
        }
      ],
      "source": [
        "1-distance.cosine(embed([\"saya memukul kursi\"]),embed([\"kursi dipukul oleh saya\"]))"
      ]
    },
    {
      "cell_type": "markdown",
      "metadata": {},
      "source": [
        "### Model with 1 dense layer"
      ]
    },
    {
      "cell_type": "code",
      "execution_count": 39,
      "metadata": {},
      "outputs": [
        {
          "data": {
            "text/plain": [
              "array([[0.9237914]], dtype=float32)"
            ]
          },
          "execution_count": 39,
          "metadata": {},
          "output_type": "execute_result"
        }
      ],
      "source": [
        "best_model_bilstm.predict([np.asarray([\"saya memukul kursi\"]),np.asarray([\"kursi dipukul oleh saya\"])])"
      ]
    },
    {
      "cell_type": "code",
      "execution_count": 14,
      "metadata": {},
      "outputs": [
        {
          "data": {
            "text/plain": [
              "array([[0.7112619]], dtype=float32)"
            ]
          },
          "execution_count": 14,
          "metadata": {},
          "output_type": "execute_result"
        }
      ],
      "source": [
        "best_model_bigru.predict([np.asarray([\"saya memukul kursi\"]),np.asarray([\"kursi dipukul oleh saya\"])])"
      ]
    },
    {
      "cell_type": "markdown",
      "metadata": {},
      "source": [
        "### Model with 2 dense layers"
      ]
    },
    {
      "cell_type": "code",
      "execution_count": 18,
      "metadata": {},
      "outputs": [
        {
          "data": {
            "text/plain": [
              "array([[0.9781507]], dtype=float32)"
            ]
          },
          "execution_count": 18,
          "metadata": {},
          "output_type": "execute_result"
        }
      ],
      "source": [
        "best_model_bilstm_2.predict([np.asarray([\"saya memukul kursi\"]),np.asarray([\"kursi dipukul oleh saya\"])])"
      ]
    },
    {
      "cell_type": "code",
      "execution_count": 13,
      "metadata": {},
      "outputs": [
        {
          "data": {
            "text/plain": [
              "array([[0.7762622]], dtype=float32)"
            ]
          },
          "execution_count": 13,
          "metadata": {},
          "output_type": "execute_result"
        }
      ],
      "source": [
        "best_model_bigru_2.predict([np.asarray([\"saya memukul kursi\"]),np.asarray([\"kursi dipukul oleh saya\"])])"
      ]
    },
    {
      "cell_type": "markdown",
      "metadata": {},
      "source": [
        "## Self Test 2"
      ]
    },
    {
      "cell_type": "code",
      "execution_count": 44,
      "metadata": {},
      "outputs": [
        {
          "data": {
            "text/plain": [
              "0.8023244142532349"
            ]
          },
          "execution_count": 44,
          "metadata": {},
          "output_type": "execute_result"
        }
      ],
      "source": [
        "1-distance.cosine(embed([\"saya yang mempunyai gitar yamaha itu\"]),embed([\"gitar yamaha itu milik saya\"]))"
      ]
    },
    {
      "cell_type": "markdown",
      "metadata": {},
      "source": [
        "### Model with 1 dense layer"
      ]
    },
    {
      "cell_type": "code",
      "execution_count": 40,
      "metadata": {},
      "outputs": [
        {
          "data": {
            "text/plain": [
              "array([[0.99347925]], dtype=float32)"
            ]
          },
          "execution_count": 40,
          "metadata": {},
          "output_type": "execute_result"
        }
      ],
      "source": [
        "best_model_bilstm.predict([np.asarray([\"saya yang mempunyai gitar yamaha itu\"]),np.asarray([\"gitar yamaha itu milik saya\"])])"
      ]
    },
    {
      "cell_type": "code",
      "execution_count": 15,
      "metadata": {},
      "outputs": [
        {
          "data": {
            "text/plain": [
              "array([[0.531066]], dtype=float32)"
            ]
          },
          "execution_count": 15,
          "metadata": {},
          "output_type": "execute_result"
        }
      ],
      "source": [
        "best_model_bigru.predict([np.asarray([\"saya yang mempunyai gitar yamaha itu\"]),np.asarray([\"gitar yamaha itu milik saya\"])])"
      ]
    },
    {
      "cell_type": "markdown",
      "metadata": {},
      "source": [
        "### Model with 2 dense layers"
      ]
    },
    {
      "cell_type": "code",
      "execution_count": 21,
      "metadata": {},
      "outputs": [
        {
          "data": {
            "text/plain": [
              "array([[0.9375986]], dtype=float32)"
            ]
          },
          "execution_count": 21,
          "metadata": {},
          "output_type": "execute_result"
        }
      ],
      "source": [
        "best_model_bilstm_2.predict([np.asarray([\"saya yang mempunyai gitar yamaha itu\"]),np.asarray([\"gitar yamaha itu milik saya\"])])"
      ]
    },
    {
      "cell_type": "code",
      "execution_count": 16,
      "metadata": {},
      "outputs": [
        {
          "data": {
            "text/plain": [
              "array([[0.8876405]], dtype=float32)"
            ]
          },
          "execution_count": 16,
          "metadata": {},
          "output_type": "execute_result"
        }
      ],
      "source": [
        "best_model_bigru_2.predict([np.asarray([\"saya yang mempunyai gitar yamaha itu\"]),np.asarray([\"gitar yamaha itu milik saya\"])])"
      ]
    },
    {
      "cell_type": "markdown",
      "metadata": {},
      "source": [
        "## Self Test 3"
      ]
    },
    {
      "cell_type": "code",
      "execution_count": 45,
      "metadata": {},
      "outputs": [
        {
          "data": {
            "text/plain": [
              "0.3774293065071106"
            ]
          },
          "execution_count": 45,
          "metadata": {},
          "output_type": "execute_result"
        }
      ],
      "source": [
        "1-distance.cosine(embed([\"saya bermain di atas meja\"]),embed([\"kursi diduduki oleh saya\"]))"
      ]
    },
    {
      "cell_type": "markdown",
      "metadata": {},
      "source": [
        "### Model with 1 dense layer"
      ]
    },
    {
      "cell_type": "code",
      "execution_count": 41,
      "metadata": {},
      "outputs": [
        {
          "data": {
            "text/plain": [
              "array([[9.612484e-09]], dtype=float32)"
            ]
          },
          "execution_count": 41,
          "metadata": {},
          "output_type": "execute_result"
        }
      ],
      "source": [
        "best_model_bilstm.predict([np.asarray([\"saya bermain di atas meja\"]),np.asarray([\"kursi diduduki oleh saya\"])])"
      ]
    },
    {
      "cell_type": "code",
      "execution_count": 16,
      "metadata": {},
      "outputs": [
        {
          "data": {
            "text/plain": [
              "array([[2.4448345e-05]], dtype=float32)"
            ]
          },
          "execution_count": 16,
          "metadata": {},
          "output_type": "execute_result"
        }
      ],
      "source": [
        "best_model_bigru.predict([np.asarray([\"saya bermain di atas meja\"]),np.asarray([\"kursi diduduki oleh saya\"])])"
      ]
    },
    {
      "cell_type": "markdown",
      "metadata": {},
      "source": [
        "### Model with 2 dense layers"
      ]
    },
    {
      "cell_type": "code",
      "execution_count": 22,
      "metadata": {},
      "outputs": [
        {
          "data": {
            "text/plain": [
              "array([[0.00117615]], dtype=float32)"
            ]
          },
          "execution_count": 22,
          "metadata": {},
          "output_type": "execute_result"
        }
      ],
      "source": [
        "best_model_bilstm_2.predict([np.asarray([\"saya bermain di atas meja\"]),np.asarray([\"kursi diduduki oleh saya\"])])"
      ]
    },
    {
      "cell_type": "code",
      "execution_count": 17,
      "metadata": {},
      "outputs": [
        {
          "data": {
            "text/plain": [
              "array([[0.00150797]], dtype=float32)"
            ]
          },
          "execution_count": 17,
          "metadata": {},
          "output_type": "execute_result"
        }
      ],
      "source": [
        "best_model_bigru_2.predict([np.asarray([\"saya bermain di atas meja\"]),np.asarray([\"kursi diduduki oleh saya\"])])"
      ]
    },
    {
      "cell_type": "markdown",
      "metadata": {},
      "source": [
        "## Self Test 4"
      ]
    },
    {
      "cell_type": "code",
      "execution_count": 82,
      "metadata": {},
      "outputs": [
        {
          "data": {
            "text/plain": [
              "0.8519383668899536"
            ]
          },
          "execution_count": 82,
          "metadata": {},
          "output_type": "execute_result"
        }
      ],
      "source": [
        "1-distance.cosine(embed([\"saya gemar berbohong\"]),embed([\"saya suka berdusta\"]))"
      ]
    },
    {
      "cell_type": "markdown",
      "metadata": {},
      "source": [
        "### Model with 1 dense layer"
      ]
    },
    {
      "cell_type": "code",
      "execution_count": 43,
      "metadata": {},
      "outputs": [
        {
          "data": {
            "text/plain": [
              "array([[0.59930557]], dtype=float32)"
            ]
          },
          "execution_count": 43,
          "metadata": {},
          "output_type": "execute_result"
        }
      ],
      "source": [
        "best_model_bilstm.predict([np.asarray([\"saya gemar berbohong\"]),np.asarray([\"saya suka berdusta\"])])"
      ]
    },
    {
      "cell_type": "code",
      "execution_count": 17,
      "metadata": {},
      "outputs": [
        {
          "data": {
            "text/plain": [
              "array([[0.32377148]], dtype=float32)"
            ]
          },
          "execution_count": 17,
          "metadata": {},
          "output_type": "execute_result"
        }
      ],
      "source": [
        "best_model_bigru.predict([np.asarray([\"saya gemar berbohong\"]),np.asarray([\"saya suka berdusta\"])])"
      ]
    },
    {
      "cell_type": "markdown",
      "metadata": {},
      "source": [
        "### Model with 2 dense layers"
      ]
    },
    {
      "cell_type": "code",
      "execution_count": 25,
      "metadata": {},
      "outputs": [
        {
          "data": {
            "text/plain": [
              "array([[0.20613614]], dtype=float32)"
            ]
          },
          "execution_count": 25,
          "metadata": {},
          "output_type": "execute_result"
        }
      ],
      "source": [
        "best_model_bilstm_2.predict([np.asarray([\"saya gemar berbohong\"]),np.asarray([\"saya suka berdusta\"])])"
      ]
    },
    {
      "cell_type": "code",
      "execution_count": 22,
      "metadata": {},
      "outputs": [
        {
          "data": {
            "text/plain": [
              "array([[0.3811031]], dtype=float32)"
            ]
          },
          "execution_count": 22,
          "metadata": {},
          "output_type": "execute_result"
        }
      ],
      "source": [
        "best_model_bigru_2.predict([np.asarray([\"saya gemar berbohong\"]),np.asarray([\"saya suka berdusta\"])])"
      ]
    },
    {
      "cell_type": "markdown",
      "metadata": {},
      "source": [
        "## Self Test 5"
      ]
    },
    {
      "cell_type": "code",
      "execution_count": 47,
      "metadata": {},
      "outputs": [
        {
          "data": {
            "text/plain": [
              "0.7384970188140869"
            ]
          },
          "execution_count": 47,
          "metadata": {},
          "output_type": "execute_result"
        }
      ],
      "source": [
        "1-distance.cosine(embed([\"saya suka mencuri\"]),embed([\"saya demen maling\"]))"
      ]
    },
    {
      "cell_type": "markdown",
      "metadata": {},
      "source": [
        "### Model with 1 dense layer"
      ]
    },
    {
      "cell_type": "code",
      "execution_count": 44,
      "metadata": {},
      "outputs": [
        {
          "data": {
            "text/plain": [
              "array([[0.8710226]], dtype=float32)"
            ]
          },
          "execution_count": 44,
          "metadata": {},
          "output_type": "execute_result"
        }
      ],
      "source": [
        "best_model_bilstm.predict([np.asarray([\"saya suka mencuri\"]),np.asarray([\"saya demen maling\"])])"
      ]
    },
    {
      "cell_type": "code",
      "execution_count": 18,
      "metadata": {},
      "outputs": [
        {
          "data": {
            "text/plain": [
              "array([[0.8081641]], dtype=float32)"
            ]
          },
          "execution_count": 18,
          "metadata": {},
          "output_type": "execute_result"
        }
      ],
      "source": [
        "best_model_bigru.predict([np.asarray([\"saya suka mencuri\"]),np.asarray([\"saya demen maling\"])])"
      ]
    },
    {
      "cell_type": "markdown",
      "metadata": {},
      "source": [
        "### Model with 2 dense layers"
      ]
    },
    {
      "cell_type": "code",
      "execution_count": 27,
      "metadata": {},
      "outputs": [
        {
          "data": {
            "text/plain": [
              "array([[0.5882704]], dtype=float32)"
            ]
          },
          "execution_count": 27,
          "metadata": {},
          "output_type": "execute_result"
        }
      ],
      "source": [
        "best_model_bilstm_2.predict([np.asarray([\"saya suka mencuri\"]),np.asarray([\"saya demen maling\"])])"
      ]
    },
    {
      "cell_type": "code",
      "execution_count": 24,
      "metadata": {},
      "outputs": [
        {
          "data": {
            "text/plain": [
              "array([[0.4279458]], dtype=float32)"
            ]
          },
          "execution_count": 24,
          "metadata": {},
          "output_type": "execute_result"
        }
      ],
      "source": [
        "best_model_bigru_2.predict([np.asarray([\"saya suka mencuri\"]),np.asarray([\"saya demen maling\"])])"
      ]
    },
    {
      "cell_type": "markdown",
      "metadata": {},
      "source": [
        "## Self Test 6"
      ]
    },
    {
      "cell_type": "code",
      "execution_count": 48,
      "metadata": {},
      "outputs": [
        {
          "data": {
            "text/plain": [
              "0.7920330166816711"
            ]
          },
          "execution_count": 48,
          "metadata": {},
          "output_type": "execute_result"
        }
      ],
      "source": [
        "1-distance.cosine(embed([\"saya mencuri berlian itu\"]),embed([\"dia mencuri berlian mahal\"]))"
      ]
    },
    {
      "cell_type": "markdown",
      "metadata": {},
      "source": [
        "### Model with 1 dense layer"
      ]
    },
    {
      "cell_type": "code",
      "execution_count": 45,
      "metadata": {},
      "outputs": [
        {
          "data": {
            "text/plain": [
              "array([[0.973176]], dtype=float32)"
            ]
          },
          "execution_count": 45,
          "metadata": {},
          "output_type": "execute_result"
        }
      ],
      "source": [
        "best_model_bilstm.predict([np.asarray([\"saya mencuri berlian itu\"]),np.asarray([\"dia mencuri berlian mahal\"])])"
      ]
    },
    {
      "cell_type": "code",
      "execution_count": 19,
      "metadata": {},
      "outputs": [
        {
          "data": {
            "text/plain": [
              "array([[0.9600246]], dtype=float32)"
            ]
          },
          "execution_count": 19,
          "metadata": {},
          "output_type": "execute_result"
        }
      ],
      "source": [
        "best_model_bigru.predict([np.asarray([\"saya mencuri berlian itu\"]),np.asarray([\"dia mencuri berlian mahal\"])])"
      ]
    },
    {
      "cell_type": "markdown",
      "metadata": {},
      "source": [
        "### Model with 2 dense layers"
      ]
    },
    {
      "cell_type": "code",
      "execution_count": 28,
      "metadata": {},
      "outputs": [
        {
          "data": {
            "text/plain": [
              "array([[0.1565274]], dtype=float32)"
            ]
          },
          "execution_count": 28,
          "metadata": {},
          "output_type": "execute_result"
        }
      ],
      "source": [
        "best_model_bilstm_2.predict([np.asarray([\"saya mencuri berlian itu\"]),np.asarray([\"dia mencuri berlian mahal\"])])"
      ]
    },
    {
      "cell_type": "code",
      "execution_count": 25,
      "metadata": {},
      "outputs": [
        {
          "data": {
            "text/plain": [
              "array([[0.72732526]], dtype=float32)"
            ]
          },
          "execution_count": 25,
          "metadata": {},
          "output_type": "execute_result"
        }
      ],
      "source": [
        "best_model_bigru_2.predict([np.asarray([\"saya mencuri berlian itu\"]),np.asarray([\"dia mencuri berlian mahal\"])])"
      ]
    },
    {
      "cell_type": "markdown",
      "metadata": {},
      "source": [
        "## Self Test 7"
      ]
    },
    {
      "cell_type": "code",
      "execution_count": 49,
      "metadata": {},
      "outputs": [
        {
          "data": {
            "text/plain": [
              "0.9622410535812378"
            ]
          },
          "execution_count": 49,
          "metadata": {},
          "output_type": "execute_result"
        }
      ],
      "source": [
        "1-distance.cosine(embed([\"anto anak bandel namun pintar\"]),embed([\"anto anak bandel namun pandai\"]))"
      ]
    },
    {
      "cell_type": "markdown",
      "metadata": {},
      "source": [
        "### Model with 1 dense layer"
      ]
    },
    {
      "cell_type": "code",
      "execution_count": 46,
      "metadata": {},
      "outputs": [
        {
          "data": {
            "text/plain": [
              "array([[0.9972695]], dtype=float32)"
            ]
          },
          "execution_count": 46,
          "metadata": {},
          "output_type": "execute_result"
        }
      ],
      "source": [
        "best_model_bilstm.predict([np.asarray([\"anto anak bandel namun pintar\"]),np.asarray([\"anto anak nakal namun pandai\"])])"
      ]
    },
    {
      "cell_type": "code",
      "execution_count": 20,
      "metadata": {},
      "outputs": [
        {
          "data": {
            "text/plain": [
              "array([[0.99980605]], dtype=float32)"
            ]
          },
          "execution_count": 20,
          "metadata": {},
          "output_type": "execute_result"
        }
      ],
      "source": [
        "best_model_bigru.predict([np.asarray([\"anto anak bandel namun pintar\"]),np.asarray([\"anto anak nakal namun pandai\"])])"
      ]
    },
    {
      "cell_type": "markdown",
      "metadata": {},
      "source": [
        "### Model with 2 dense layers"
      ]
    },
    {
      "cell_type": "code",
      "execution_count": 29,
      "metadata": {},
      "outputs": [
        {
          "data": {
            "text/plain": [
              "array([[0.99967176]], dtype=float32)"
            ]
          },
          "execution_count": 29,
          "metadata": {},
          "output_type": "execute_result"
        }
      ],
      "source": [
        "best_model_bilstm_2.predict([np.asarray([\"anto anak bandel namun pintar\"]),np.asarray([\"anto anak nakal namun pandai\"])])"
      ]
    },
    {
      "cell_type": "code",
      "execution_count": 26,
      "metadata": {},
      "outputs": [
        {
          "data": {
            "text/plain": [
              "array([[0.8545632]], dtype=float32)"
            ]
          },
          "execution_count": 26,
          "metadata": {},
          "output_type": "execute_result"
        }
      ],
      "source": [
        "best_model_bigru_2.predict([np.asarray([\"anto anak bandel namun pintar\"]),np.asarray([\"anto anak nakal namun pandai\"])])"
      ]
    },
    {
      "cell_type": "markdown",
      "metadata": {},
      "source": [
        "# Retrain the models based from the hyperparameter tuning result"
      ]
    },
    {
      "cell_type": "markdown",
      "metadata": {},
      "source": [
        "## Model with 1 dense layer"
      ]
    },
    {
      "cell_type": "markdown",
      "metadata": {},
      "source": [
        "### BiLSTM"
      ]
    },
    {
      "cell_type": "code",
      "execution_count": 49,
      "metadata": {},
      "outputs": [
        {
          "name": "stdout",
          "output_type": "stream",
          "text": [
            "Model: \"functional_1\"\n",
            "__________________________________________________________________________________________________\n",
            "Layer (type)                    Output Shape         Param #     Connected to                     \n",
            "==================================================================================================\n",
            "input_1 (InputLayer)            [(None,)]            0                                            \n",
            "__________________________________________________________________________________________________\n",
            "input_2 (InputLayer)            [(None,)]            0                                            \n",
            "__________________________________________________________________________________________________\n",
            "keras_layer (KerasLayer)        (None, 128)          112461824   input_1[0][0]                    \n",
            "                                                                 input_2[0][0]                    \n",
            "__________________________________________________________________________________________________\n",
            "concatenate (Concatenate)       (None, 256)          0           keras_layer[132][0]              \n",
            "                                                                 keras_layer[133][0]              \n",
            "__________________________________________________________________________________________________\n",
            "reshape (Reshape)               (None, 2, 128)       0           concatenate[0][0]                \n",
            "__________________________________________________________________________________________________\n",
            "bidirectional (Bidirectional)   (None, 256)          263168      reshape[0][0]                    \n",
            "__________________________________________________________________________________________________\n",
            "dense (Dense)                   (None, 256)          65792       bidirectional[0][0]              \n",
            "__________________________________________________________________________________________________\n",
            "dropout (Dropout)               (None, 256)          0           dense[0][0]                      \n",
            "__________________________________________________________________________________________________\n",
            "dense_1 (Dense)                 (None, 1)            257         dropout[0][0]                    \n",
            "==================================================================================================\n",
            "Total params: 112,791,041\n",
            "Trainable params: 329,217\n",
            "Non-trainable params: 112,461,824\n",
            "__________________________________________________________________________________________________\n"
          ]
        }
      ],
      "source": [
        "# Get the models with the tuned hyperparameters\n",
        "# Manually inputting the hyperparameter result from the hyperparameter tuning also works\n",
        "model_bilstm=tuner_bilstm.hypermodel.build(best_hps_bilstm)\n",
        "model_bilstm.summary()"
      ]
    },
    {
      "cell_type": "code",
      "execution_count": 50,
      "metadata": {},
      "outputs": [
        {
          "name": "stdout",
          "output_type": "stream",
          "text": [
            "Epoch 1/16\n",
            "10234/10234 [==============================] - 63s 6ms/step - loss: 0.5273 - accuracy: 0.7266 - val_loss: 0.4855 - val_accuracy: 0.7502\n",
            "Epoch 2/16\n",
            "10234/10234 [==============================] - 61s 6ms/step - loss: 0.4619 - accuracy: 0.7679 - val_loss: 0.4536 - val_accuracy: 0.7739\n",
            "Epoch 3/16\n",
            "10234/10234 [==============================] - 44s 4ms/step - loss: 0.4333 - accuracy: 0.7862 - val_loss: 0.4387 - val_accuracy: 0.7844\n",
            "Epoch 4/16\n",
            "10234/10234 [==============================] - 43s 4ms/step - loss: 0.4111 - accuracy: 0.7996 - val_loss: 0.4285 - val_accuracy: 0.7907\n",
            "Epoch 5/16\n",
            "10234/10234 [==============================] - 44s 4ms/step - loss: 0.3909 - accuracy: 0.8111 - val_loss: 0.4196 - val_accuracy: 0.7982\n",
            "Epoch 6/16\n",
            "10234/10234 [==============================] - 44s 4ms/step - loss: 0.3725 - accuracy: 0.8219 - val_loss: 0.4164 - val_accuracy: 0.7999\n",
            "Epoch 7/16\n",
            "10234/10234 [==============================] - 52s 5ms/step - loss: 0.3551 - accuracy: 0.8317 - val_loss: 0.4188 - val_accuracy: 0.8028\n",
            "Epoch 8/16\n",
            "10234/10234 [==============================] - 64s 6ms/step - loss: 0.3374 - accuracy: 0.8419 - val_loss: 0.4193 - val_accuracy: 0.8064\n",
            "Epoch 9/16\n",
            "10234/10234 [==============================] - 62s 6ms/step - loss: 0.3202 - accuracy: 0.8501 - val_loss: 0.4283 - val_accuracy: 0.8083\n",
            "Epoch 10/16\n",
            "10234/10234 [==============================] - 54s 5ms/step - loss: 0.3032 - accuracy: 0.8591 - val_loss: 0.4265 - val_accuracy: 0.8056\n"
          ]
        }
      ],
      "source": [
        "history_bilstm = model_bilstm.fit([Q1_train, Q2_train], yt, epochs=16, validation_split=0.1, callbacks=[stop_early])"
      ]
    },
    {
      "cell_type": "markdown",
      "metadata": {},
      "source": [
        "Evaluation"
      ]
    },
    {
      "cell_type": "code",
      "execution_count": 51,
      "metadata": {},
      "outputs": [
        {
          "name": "stdout",
          "output_type": "stream",
          "text": [
            "1264/1264 [==============================] - 2s 2ms/step - loss: 0.4343 - accuracy: 0.8066\n",
            "[test loss, test accuracy]: [0.4343107044696808, 0.8065991997718811]\n"
          ]
        }
      ],
      "source": [
        "eval_result = model_bilstm.evaluate([Q1_test,Q2_test], yte)\n",
        "print(\"[test loss, test accuracy]:\", eval_result)"
      ]
    },
    {
      "cell_type": "code",
      "execution_count": 52,
      "metadata": {},
      "outputs": [
        {
          "name": "stdout",
          "output_type": "stream",
          "text": [
            "1264/1264 [==============================] - 2s 2ms/step - loss: 0.4579 - accuracy: 0.7945\n",
            "[test loss, test accuracy]: [0.457914799451828, 0.794503927230835]\n"
          ]
        }
      ],
      "source": [
        "eval_result = model_bilstm.evaluate([Q2_test,Q1_test], yte)\n",
        "print(\"[test loss, test accuracy]:\", eval_result)"
      ]
    },
    {
      "cell_type": "code",
      "execution_count": 60,
      "metadata": {},
      "outputs": [
        {
          "data": {
            "image/png": "[encoded data removed]",
            "text/plain": [
              "<Figure size 432x288 with 1 Axes>"
            ]
          },
          "metadata": {
            "needs_background": "light"
          },
          "output_type": "display_data"
        }
      ],
      "source": [
        "plt.plot(history_bilstm.history['accuracy'])\n",
        "plt.plot(history_bilstm.history['val_accuracy'])\n",
        "plt.title('model accuracy')\n",
        "plt.ylabel('accuracy')\n",
        "plt.xlabel('epoch')\n",
        "plt.xticks(np.arange(0, 10, 1.0))\n",
        "plt.legend(['train', 'validation'], loc='upper left')\n",
        "plt.show()"
      ]
    },
    {
      "cell_type": "code",
      "execution_count": 59,
      "metadata": {},
      "outputs": [
        {
          "data": {
            "image/png": "[encoded data removed]",
            "text/plain": [
              "<Figure size 432x288 with 1 Axes>"
            ]
          },
          "metadata": {
            "needs_background": "light"
          },
          "output_type": "display_data"
        }
      ],
      "source": [
        "plt.plot(history_bilstm.history['loss'])\n",
        "plt.plot(history_bilstm.history['val_loss'])\n",
        "plt.title('model loss')\n",
        "plt.ylabel('loss')\n",
        "plt.xlabel('epoch')\n",
        "plt.xticks(np.arange(0, 10, 1.0))\n",
        "plt.legend(['train', 'validation'], loc='upper right')\n",
        "plt.show()"
      ]
    },
    {
      "cell_type": "markdown",
      "metadata": {},
      "source": [
        "Save the model"
      ]
    },
    {
      "cell_type": "code",
      "execution_count": 55,
      "metadata": {},
      "outputs": [
        {
          "name": "stdout",
          "output_type": "stream",
          "text": [
            "INFO:tensorflow:Assets written to: C:/Users/stanl/Documents/saved_models_4/model_bilstm\\assets\n"
          ]
        }
      ],
      "source": [
        "model_bilstm.save('C:/Users/stanl/Documents/saved_models_4/model_bilstm')"
      ]
    },
    {
      "cell_type": "markdown",
      "metadata": {},
      "source": [
        "### BiGRU"
      ]
    },
    {
      "cell_type": "code",
      "execution_count": 21,
      "metadata": {},
      "outputs": [
        {
          "name": "stdout",
          "output_type": "stream",
          "text": [
            "Model: \"functional_1\"\n",
            "__________________________________________________________________________________________________\n",
            "Layer (type)                    Output Shape         Param #     Connected to                     \n",
            "==================================================================================================\n",
            "input_1 (InputLayer)            [(None,)]            0                                            \n",
            "__________________________________________________________________________________________________\n",
            "input_2 (InputLayer)            [(None,)]            0                                            \n",
            "__________________________________________________________________________________________________\n",
            "keras_layer (KerasLayer)        (None, 128)          112461824   input_1[0][0]                    \n",
            "                                                                 input_2[0][0]                    \n",
            "__________________________________________________________________________________________________\n",
            "concatenate (Concatenate)       (None, 256)          0           keras_layer[64][0]               \n",
            "                                                                 keras_layer[65][0]               \n",
            "__________________________________________________________________________________________________\n",
            "reshape (Reshape)               (None, 2, 128)       0           concatenate[0][0]                \n",
            "__________________________________________________________________________________________________\n",
            "bidirectional (Bidirectional)   (None, 256)          198144      reshape[0][0]                    \n",
            "__________________________________________________________________________________________________\n",
            "dense (Dense)                   (None, 320)          82240       bidirectional[0][0]              \n",
            "__________________________________________________________________________________________________\n",
            "dropout (Dropout)               (None, 320)          0           dense[0][0]                      \n",
            "__________________________________________________________________________________________________\n",
            "dense_1 (Dense)                 (None, 1)            321         dropout[0][0]                    \n",
            "==================================================================================================\n",
            "Total params: 112,742,529\n",
            "Trainable params: 280,705\n",
            "Non-trainable params: 112,461,824\n",
            "__________________________________________________________________________________________________\n"
          ]
        }
      ],
      "source": [
        "model_bigru=tuner_bigru.hypermodel.build(best_hps_bigru)\n",
        "model_bigru.summary()"
      ]
    },
    {
      "cell_type": "code",
      "execution_count": 22,
      "metadata": {},
      "outputs": [
        {
          "name": "stdout",
          "output_type": "stream",
          "text": [
            "Epoch 1/16\n",
            "10234/10234 [==============================] - 59s 6ms/step - loss: 0.5240 - accuracy: 0.7292 - val_loss: 0.4837 - val_accuracy: 0.7556\n",
            "Epoch 2/16\n",
            "10234/10234 [==============================] - 59s 6ms/step - loss: 0.4655 - accuracy: 0.7665 - val_loss: 0.4586 - val_accuracy: 0.7711\n",
            "Epoch 3/16\n",
            "10234/10234 [==============================] - 42s 4ms/step - loss: 0.4389 - accuracy: 0.7837 - val_loss: 0.4425 - val_accuracy: 0.7801\n",
            "Epoch 4/16\n",
            "10234/10234 [==============================] - 41s 4ms/step - loss: 0.4191 - accuracy: 0.7959 - val_loss: 0.4318 - val_accuracy: 0.7896\n",
            "Epoch 5/16\n",
            "10234/10234 [==============================] - 41s 4ms/step - loss: 0.4011 - accuracy: 0.8061 - val_loss: 0.4222 - val_accuracy: 0.7961\n",
            "Epoch 6/16\n",
            "10234/10234 [==============================] - 42s 4ms/step - loss: 0.3840 - accuracy: 0.8160 - val_loss: 0.4169 - val_accuracy: 0.7998\n",
            "Epoch 7/16\n",
            "10234/10234 [==============================] - 41s 4ms/step - loss: 0.3676 - accuracy: 0.8252 - val_loss: 0.4262 - val_accuracy: 0.8012\n",
            "Epoch 8/16\n",
            "10234/10234 [==============================] - 41s 4ms/step - loss: 0.3525 - accuracy: 0.8333 - val_loss: 0.4148 - val_accuracy: 0.8059\n",
            "Epoch 9/16\n",
            "10234/10234 [==============================] - 54s 5ms/step - loss: 0.3364 - accuracy: 0.8421 - val_loss: 0.4162 - val_accuracy: 0.8056\n"
          ]
        }
      ],
      "source": [
        "history_bigru = model_bigru.fit([Q1_train, Q2_train], yt, epochs=16, validation_split=0.1, callbacks=[stop_early])"
      ]
    },
    {
      "cell_type": "markdown",
      "metadata": {},
      "source": [
        "Evaluation"
      ]
    },
    {
      "cell_type": "code",
      "execution_count": 23,
      "metadata": {},
      "outputs": [
        {
          "name": "stdout",
          "output_type": "stream",
          "text": [
            "1264/1264 [==============================] - 2s 1ms/step - loss: 0.4125 - accuracy: 0.8062\n",
            "[test loss, test accuracy]: [0.4125092029571533, 0.8062034845352173]\n"
          ]
        }
      ],
      "source": [
        "eval_result = model_bigru.evaluate([Q1_test,Q2_test], yte)\n",
        "print(\"[test loss, test accuracy]:\", eval_result)"
      ]
    },
    {
      "cell_type": "code",
      "execution_count": 24,
      "metadata": {},
      "outputs": [
        {
          "name": "stdout",
          "output_type": "stream",
          "text": [
            "1264/1264 [==============================] - 2s 2ms/step - loss: 0.4364 - accuracy: 0.7931\n",
            "[test loss, test accuracy]: [0.4364211857318878, 0.7930940389633179]\n"
          ]
        }
      ],
      "source": [
        "eval_result = model_bigru.evaluate([Q2_test,Q1_test], yte)\n",
        "print(\"[test loss, test accuracy]:\", eval_result)"
      ]
    },
    {
      "cell_type": "code",
      "execution_count": 25,
      "metadata": {},
      "outputs": [
        {
          "data": {
            "image/png": "[encoded data removed]",
            "text/plain": [
              "<Figure size 432x288 with 1 Axes>"
            ]
          },
          "metadata": {
            "needs_background": "light"
          },
          "output_type": "display_data"
        }
      ],
      "source": [
        "plt.plot(history_bigru.history['accuracy'])\n",
        "plt.plot(history_bigru.history['val_accuracy'])\n",
        "plt.title('model accuracy')\n",
        "plt.ylabel('accuracy')\n",
        "plt.xlabel('epoch')\n",
        "plt.legend(['train', 'validation'], loc='upper left')\n",
        "plt.show()"
      ]
    },
    {
      "cell_type": "code",
      "execution_count": 26,
      "metadata": {},
      "outputs": [
        {
          "data": {
            "image/png": "[encoded data removed]",
            "text/plain": [
              "<Figure size 432x288 with 1 Axes>"
            ]
          },
          "metadata": {
            "needs_background": "light"
          },
          "output_type": "display_data"
        }
      ],
      "source": [
        "plt.plot(history_bigru.history['loss'])\n",
        "plt.plot(history_bigru.history['val_loss'])\n",
        "plt.title('model loss')\n",
        "plt.ylabel('loss')\n",
        "plt.xlabel('epoch')\n",
        "plt.legend(['train', 'validation'], loc='upper right')\n",
        "plt.show()"
      ]
    },
    {
      "cell_type": "markdown",
      "metadata": {},
      "source": [
        "Save the model"
      ]
    },
    {
      "cell_type": "code",
      "execution_count": 27,
      "metadata": {},
      "outputs": [
        {
          "name": "stdout",
          "output_type": "stream",
          "text": [
            "WARNING:tensorflow:From C:\\Users\\stanl\\anaconda3\\lib\\site-packages\\tensorflow\\python\\training\\tracking\\tracking.py:111: Model.state_updates (from tensorflow.python.keras.engine.training) is deprecated and will be removed in a future version.\n",
            "Instructions for updating:\n",
            "This property should not be used in TensorFlow 2.0, as updates are applied automatically.\n",
            "WARNING:tensorflow:From C:\\Users\\stanl\\anaconda3\\lib\\site-packages\\tensorflow\\python\\training\\tracking\\tracking.py:111: Layer.updates (from tensorflow.python.keras.engine.base_layer) is deprecated and will be removed in a future version.\n",
            "Instructions for updating:\n",
            "This property should not be used in TensorFlow 2.0, as updates are applied automatically.\n",
            "INFO:tensorflow:Assets written to: C:/Users/stanl/Documents/saved_models_4/model_bigru\\assets\n"
          ]
        }
      ],
      "source": [
        "model_bigru.save('C:/Users/stanl/Documents/saved_models_4/model_bigru')"
      ]
    },
    {
      "cell_type": "markdown",
      "metadata": {},
      "source": [
        "## Model with 2 dense layers"
      ]
    },
    {
      "cell_type": "markdown",
      "metadata": {},
      "source": [
        "### BiLSTM"
      ]
    },
    {
      "cell_type": "code",
      "execution_count": 31,
      "metadata": {},
      "outputs": [
        {
          "name": "stdout",
          "output_type": "stream",
          "text": [
            "Model: \"functional_3\"\n",
            "__________________________________________________________________________________________________\n",
            "Layer (type)                    Output Shape         Param #     Connected to                     \n",
            "==================================================================================================\n",
            "input_3 (InputLayer)            [(None,)]            0                                            \n",
            "__________________________________________________________________________________________________\n",
            "input_4 (InputLayer)            [(None,)]            0                                            \n",
            "__________________________________________________________________________________________________\n",
            "keras_layer (KerasLayer)        (None, 128)          112461824   input_3[0][0]                    \n",
            "                                                                 input_4[0][0]                    \n",
            "__________________________________________________________________________________________________\n",
            "concatenate_1 (Concatenate)     (None, 256)          0           keras_layer[68][0]               \n",
            "                                                                 keras_layer[69][0]               \n",
            "__________________________________________________________________________________________________\n",
            "reshape_1 (Reshape)             (None, 2, 128)       0           concatenate_1[0][0]              \n",
            "__________________________________________________________________________________________________\n",
            "bidirectional_1 (Bidirectional) (None, 256)          263168      reshape_1[0][0]                  \n",
            "__________________________________________________________________________________________________\n",
            "dense_3 (Dense)                 (None, 352)          90464       bidirectional_1[0][0]            \n",
            "__________________________________________________________________________________________________\n",
            "dropout_2 (Dropout)             (None, 352)          0           dense_3[0][0]                    \n",
            "__________________________________________________________________________________________________\n",
            "dense_4 (Dense)                 (None, 256)          90368       dropout_2[0][0]                  \n",
            "__________________________________________________________________________________________________\n",
            "dropout_3 (Dropout)             (None, 256)          0           dense_4[0][0]                    \n",
            "__________________________________________________________________________________________________\n",
            "dense_5 (Dense)                 (None, 1)            257         dropout_3[0][0]                  \n",
            "==================================================================================================\n",
            "Total params: 112,906,081\n",
            "Trainable params: 444,257\n",
            "Non-trainable params: 112,461,824\n",
            "__________________________________________________________________________________________________\n"
          ]
        }
      ],
      "source": [
        "model_bilstm_2=tuner_bigru.hypermodel.build(best_hps_bilstm_2)\n",
        "model_bilstm_2.summary()"
      ]
    },
    {
      "cell_type": "code",
      "execution_count": 33,
      "metadata": {},
      "outputs": [
        {
          "name": "stdout",
          "output_type": "stream",
          "text": [
            "Epoch 1/16\n",
            "10234/10234 [==============================] - 74s 7ms/step - loss: 0.5103 - accuracy: 0.7376 - val_loss: 0.4852 - val_accuracy: 0.7514\n",
            "Epoch 2/16\n",
            "10234/10234 [==============================] - 64s 6ms/step - loss: 0.4564 - accuracy: 0.7717 - val_loss: 0.4535 - val_accuracy: 0.7723\n",
            "Epoch 3/16\n",
            "10234/10234 [==============================] - 63s 6ms/step - loss: 0.4277 - accuracy: 0.7899 - val_loss: 0.4318 - val_accuracy: 0.7867\n",
            "Epoch 4/16\n",
            "10234/10234 [==============================] - 66s 6ms/step - loss: 0.4052 - accuracy: 0.8027 - val_loss: 0.4300 - val_accuracy: 0.7924\n",
            "Epoch 5/16\n",
            "10234/10234 [==============================] - 63s 6ms/step - loss: 0.3851 - accuracy: 0.8151 - val_loss: 0.4149 - val_accuracy: 0.7999\n",
            "Epoch 6/16\n",
            "10234/10234 [==============================] - 65s 6ms/step - loss: 0.3659 - accuracy: 0.8268 - val_loss: 0.4122 - val_accuracy: 0.8045\n",
            "Epoch 7/16\n",
            "10234/10234 [==============================] - 65s 6ms/step - loss: 0.3477 - accuracy: 0.8381 - val_loss: 0.4097 - val_accuracy: 0.8038\n"
          ]
        }
      ],
      "source": [
        "history_bilstm_2 = model_bilstm_2.fit([Q1_train, Q2_train], yt, epochs=16, validation_split=0.1, callbacks=[stop_early])"
      ]
    },
    {
      "cell_type": "markdown",
      "metadata": {},
      "source": [
        "Evaluation"
      ]
    },
    {
      "cell_type": "code",
      "execution_count": 34,
      "metadata": {},
      "outputs": [
        {
          "name": "stdout",
          "output_type": "stream",
          "text": [
            "1264/1264 [==============================] - 3s 2ms/step - loss: 0.4139 - accuracy: 0.8040\n",
            "[test loss, test accuracy]: [0.4138576090335846, 0.8039526343345642]\n"
          ]
        }
      ],
      "source": [
        "eval_result = model_bilstm_2.evaluate([Q1_test,Q2_test], yte)\n",
        "print(\"[test loss, test accuracy]:\", eval_result)"
      ]
    },
    {
      "cell_type": "code",
      "execution_count": 35,
      "metadata": {},
      "outputs": [
        {
          "name": "stdout",
          "output_type": "stream",
          "text": [
            "1264/1264 [==============================] - 3s 3ms/step - loss: 0.4352 - accuracy: 0.7934\n",
            "[test loss, test accuracy]: [0.43522021174430847, 0.7933661341667175]\n"
          ]
        }
      ],
      "source": [
        "eval_result = model_bilstm_2.evaluate([Q2_test,Q1_test], yte)\n",
        "print(\"[test loss, test accuracy]:\", eval_result)"
      ]
    },
    {
      "cell_type": "code",
      "execution_count": 39,
      "metadata": {},
      "outputs": [
        {
          "data": {
            "image/png": "[encoded data removed]",
            "text/plain": [
              "<Figure size 432x288 with 1 Axes>"
            ]
          },
          "metadata": {
            "needs_background": "light"
          },
          "output_type": "display_data"
        }
      ],
      "source": [
        "plt.plot(history_bilstm_2.history['accuracy'])\n",
        "plt.plot(history_bilstm_2.history['val_accuracy'])\n",
        "plt.title('model accuracy')\n",
        "plt.ylabel('accuracy')\n",
        "plt.xlabel('epoch')\n",
        "plt.legend(['train', 'validation'], loc='upper left')\n",
        "plt.show()"
      ]
    },
    {
      "cell_type": "code",
      "execution_count": 41,
      "metadata": {},
      "outputs": [
        {
          "data": {
            "image/png": "[encoded data removed]",
            "text/plain": [
              "<Figure size 432x288 with 1 Axes>"
            ]
          },
          "metadata": {
            "needs_background": "light"
          },
          "output_type": "display_data"
        }
      ],
      "source": [
        "plt.plot(history_bilstm_2.history['loss'])\n",
        "plt.plot(history_bilstm_2.history['val_loss'])\n",
        "plt.title('model loss')\n",
        "plt.ylabel('loss')\n",
        "plt.xlabel('epoch')\n",
        "plt.legend(['train', 'validation'], loc='upper right')\n",
        "plt.show()"
      ]
    },
    {
      "cell_type": "markdown",
      "metadata": {},
      "source": [
        "Save the model"
      ]
    },
    {
      "cell_type": "code",
      "execution_count": 38,
      "metadata": {},
      "outputs": [
        {
          "name": "stdout",
          "output_type": "stream",
          "text": [
            "INFO:tensorflow:Assets written to: C:/Users/stanl/Documents/saved_models_3/model_bilstm_2\\assets\n"
          ]
        }
      ],
      "source": [
        "model_bilstm_2.save('C:/Users/stanl/Documents/saved_models_3/model_bilstm_2')"
      ]
    },
    {
      "cell_type": "markdown",
      "metadata": {},
      "source": [
        "### BiGRU"
      ]
    },
    {
      "cell_type": "code",
      "execution_count": 39,
      "metadata": {},
      "outputs": [
        {
          "name": "stdout",
          "output_type": "stream",
          "text": [
            "Model: \"functional_1\"\n",
            "__________________________________________________________________________________________________\n",
            "Layer (type)                    Output Shape         Param #     Connected to                     \n",
            "==================================================================================================\n",
            "input_1 (InputLayer)            [(None,)]            0                                            \n",
            "__________________________________________________________________________________________________\n",
            "input_2 (InputLayer)            [(None,)]            0                                            \n",
            "__________________________________________________________________________________________________\n",
            "keras_layer (KerasLayer)        (None, 128)          112461824   input_1[0][0]                    \n",
            "                                                                 input_2[0][0]                    \n",
            "__________________________________________________________________________________________________\n",
            "concatenate (Concatenate)       (None, 256)          0           keras_layer[66][0]               \n",
            "                                                                 keras_layer[67][0]               \n",
            "__________________________________________________________________________________________________\n",
            "reshape (Reshape)               (None, 2, 128)       0           concatenate[0][0]                \n",
            "__________________________________________________________________________________________________\n",
            "bidirectional (Bidirectional)   (None, 256)          198144      reshape[0][0]                    \n",
            "__________________________________________________________________________________________________\n",
            "dense (Dense)                   (None, 320)          82240       bidirectional[0][0]              \n",
            "__________________________________________________________________________________________________\n",
            "dropout (Dropout)               (None, 320)          0           dense[0][0]                      \n",
            "__________________________________________________________________________________________________\n",
            "dense_1 (Dense)                 (None, 480)          154080      dropout[0][0]                    \n",
            "__________________________________________________________________________________________________\n",
            "dropout_1 (Dropout)             (None, 480)          0           dense_1[0][0]                    \n",
            "__________________________________________________________________________________________________\n",
            "dense_2 (Dense)                 (None, 1)            481         dropout_1[0][0]                  \n",
            "==================================================================================================\n",
            "Total params: 112,896,769\n",
            "Trainable params: 434,945\n",
            "Non-trainable params: 112,461,824\n",
            "__________________________________________________________________________________________________\n"
          ]
        }
      ],
      "source": [
        "model_bigru_2=tuner_bigru_2.hypermodel.build(best_hps_bigru_2)\n",
        "model_bigru_2.summary()"
      ]
    },
    {
      "cell_type": "code",
      "execution_count": 40,
      "metadata": {},
      "outputs": [
        {
          "name": "stdout",
          "output_type": "stream",
          "text": [
            "Epoch 1/16\n",
            "10234/10234 [==============================] - 65s 6ms/step - loss: 0.5204 - accuracy: 0.7310 - val_loss: 0.4813 - val_accuracy: 0.7570\n",
            "Epoch 2/16\n",
            "10234/10234 [==============================] - 63s 6ms/step - loss: 0.4617 - accuracy: 0.7687 - val_loss: 0.4555 - val_accuracy: 0.7708\n",
            "Epoch 3/16\n",
            "10234/10234 [==============================] - 63s 6ms/step - loss: 0.4346 - accuracy: 0.7861 - val_loss: 0.4396 - val_accuracy: 0.7851\n",
            "Epoch 4/16\n",
            "10234/10234 [==============================] - 65s 6ms/step - loss: 0.4136 - accuracy: 0.7991 - val_loss: 0.4234 - val_accuracy: 0.7932\n",
            "Epoch 5/16\n",
            "10234/10234 [==============================] - 63s 6ms/step - loss: 0.3957 - accuracy: 0.8096 - val_loss: 0.4183 - val_accuracy: 0.7961\n",
            "Epoch 6/16\n",
            "10234/10234 [==============================] - 64s 6ms/step - loss: 0.3778 - accuracy: 0.8198 - val_loss: 0.4142 - val_accuracy: 0.8009\n",
            "Epoch 7/16\n",
            "10234/10234 [==============================] - 71s 7ms/step - loss: 0.3620 - accuracy: 0.8288 - val_loss: 0.4092 - val_accuracy: 0.8051\n",
            "Epoch 8/16\n",
            "10234/10234 [==============================] - 64s 6ms/step - loss: 0.3455 - accuracy: 0.8377 - val_loss: 0.4180 - val_accuracy: 0.8026\n"
          ]
        }
      ],
      "source": [
        "history_bigru_2=model_bigru_2.fit([Q1_train, Q2_train], yt, epochs=16, validation_split=0.1, callbacks=[stop_early])"
      ]
    },
    {
      "cell_type": "markdown",
      "metadata": {},
      "source": [
        "Evaluation"
      ]
    },
    {
      "cell_type": "code",
      "execution_count": 41,
      "metadata": {},
      "outputs": [
        {
          "name": "stdout",
          "output_type": "stream",
          "text": [
            "1264/1264 [==============================] - 3s 2ms/step - loss: 0.4098 - accuracy: 0.8073\n",
            "[test loss, test accuracy]: [0.4097546637058258, 0.8072670698165894]\n"
          ]
        }
      ],
      "source": [
        "eval_result = model_bigru_2.evaluate([Q1_test,Q2_test], yte)\n",
        "print(\"[test loss, test accuracy]:\", eval_result)"
      ]
    },
    {
      "cell_type": "code",
      "execution_count": 42,
      "metadata": {},
      "outputs": [
        {
          "name": "stdout",
          "output_type": "stream",
          "text": [
            "1264/1264 [==============================] - 3s 2ms/step - loss: 0.4309 - accuracy: 0.7938\n",
            "[test loss, test accuracy]: [0.43094298243522644, 0.7938361167907715]\n"
          ]
        }
      ],
      "source": [
        "eval_result = model_bigru_2.evaluate([Q2_test,Q1_test], yte)\n",
        "print(\"[test loss, test accuracy]:\", eval_result)"
      ]
    },
    {
      "cell_type": "code",
      "execution_count": 43,
      "metadata": {},
      "outputs": [
        {
          "data": {
            "image/png": "[encoded data removed]",
            "text/plain": [
              "<Figure size 432x288 with 1 Axes>"
            ]
          },
          "metadata": {
            "needs_background": "light"
          },
          "output_type": "display_data"
        }
      ],
      "source": [
        "plt.plot(history_bigru_2.history['accuracy'])\n",
        "plt.plot(history_bigru_2.history['val_accuracy'])\n",
        "plt.title('model accuracy')\n",
        "plt.ylabel('accuracy')\n",
        "plt.xlabel('epoch')\n",
        "plt.legend(['train', 'validation'], loc='upper left')\n",
        "plt.show()"
      ]
    },
    {
      "cell_type": "code",
      "execution_count": 44,
      "metadata": {},
      "outputs": [
        {
          "data": {
            "image/png": "[encoded data removed]",
            "text/plain": [
              "<Figure size 432x288 with 1 Axes>"
            ]
          },
          "metadata": {
            "needs_background": "light"
          },
          "output_type": "display_data"
        }
      ],
      "source": [
        "plt.plot(history_bigru_2.history['loss'])\n",
        "plt.plot(history_bigru_2.history['val_loss'])\n",
        "plt.title('model loss')\n",
        "plt.ylabel('loss')\n",
        "plt.xlabel('epoch')\n",
        "plt.legend(['train', 'validation'], loc='upper right')\n",
        "plt.show()"
      ]
    },
    {
      "cell_type": "markdown",
      "metadata": {},
      "source": [
        "Save the model"
      ]
    },
    {
      "cell_type": "code",
      "execution_count": 45,
      "metadata": {},
      "outputs": [
        {
          "name": "stdout",
          "output_type": "stream",
          "text": [
            "INFO:tensorflow:Assets written to: C:/Users/stanl/Documents/saved_models_3/model_bigru_2\\assets\n"
          ]
        }
      ],
      "source": [
        "model_bigru_2.save('C:/Users/stanl/Documents/saved_models_3/model_bigru_2')"
      ]
    },
    {
      "cell_type": "markdown",
      "metadata": {},
      "source": [
        "# Load Models"
      ]
    },
    {
      "cell_type": "markdown",
      "metadata": {},
      "source": [
        "## Model with 1 dense layer"
      ]
    },
    {
      "cell_type": "code",
      "execution_count": 3,
      "metadata": {},
      "outputs": [],
      "source": [
        "new_model_bilstm = tf.keras.models.load_model('C:/Users/stanl/Documents/saved_models_4/model_bilstm')"
      ]
    },
    {
      "cell_type": "code",
      "execution_count": 6,
      "metadata": {},
      "outputs": [],
      "source": [
        "new_model_bigru = tf.keras.models.load_model('C:/Users/stanl/Documents/saved_models_4/model_bigru')"
      ]
    },
    {
      "cell_type": "code",
      "execution_count": 16,
      "metadata": {},
      "outputs": [
        {
          "data": {
            "text/plain": [
              "array([[0.7981784]], dtype=float32)"
            ]
          },
          "execution_count": 16,
          "metadata": {},
          "output_type": "execute_result"
        }
      ],
      "source": [
        "new_model_bilstm.predict([np.asarray([\"saya gemar melakukan pencurian\"]),np.asarray([\"saya demen mencuri\"])])"
      ]
    },
    {
      "cell_type": "code",
      "execution_count": 7,
      "metadata": {},
      "outputs": [
        {
          "data": {
            "text/plain": [
              "array([[0.34381163]], dtype=float32)"
            ]
          },
          "execution_count": 7,
          "metadata": {},
          "output_type": "execute_result"
        }
      ],
      "source": [
        "new_model_bigru.predict([np.asarray([\"saya pintar\"]),np.asarray([\"saya pandai\"])])"
      ]
    },
    {
      "cell_type": "markdown",
      "metadata": {},
      "source": [
        "## Model with 2 dense layer"
      ]
    },
    {
      "cell_type": "code",
      "execution_count": null,
      "metadata": {},
      "outputs": [],
      "source": [
        "new_model_bilstm_2 = tf.keras.models.load_model('C:/Users/stanl/Documents/saved_models_3/model_bilstm_2')"
      ]
    },
    {
      "cell_type": "code",
      "execution_count": null,
      "metadata": {},
      "outputs": [],
      "source": [
        "new_model_bigru_2 = tf.keras.models.load_model('C:/Users/stanl/Documents/saved_models_3/model_bigru_2')"
      ]
    },
    {
      "cell_type": "markdown",
      "metadata": {
        "id": "1xVxTcV1rBCg"
      },
      "source": [
        "# Save the models to Drive"
      ]
    },
    {
      "cell_type": "markdown",
      "metadata": {},
      "source": [
        "This will only work when using Google Colab"
      ]
    },
    {
      "cell_type": "code",
      "execution_count": null,
      "metadata": {
        "id": "AnOgM0thq5Bv"
      },
      "outputs": [],
      "source": [
        "# save model to MyDrive\n",
        "# (directory of your saved models) (directory of your destination Google Drive's folder) \n",
        "# !cp -r /content/saved_model /content/drive/MyDrive/"
      ]
    },
    {
      "cell_type": "markdown",
      "metadata": {},
      "source": [
        "# Conclusion"
      ]
    },
    {
      "cell_type": "markdown",
      "metadata": {},
      "source": [
        "The best model in term of accuracy and simplicity is the BiGRU with 1 dense layer. GRU will tend to have less parameters than LSTM while still maintaining the same performance"
      ]
    }
  ],
  "metadata": {
    "accelerator": "GPU",
    "colab": {
      "collapsed_sections": [],
      "name": "NLP project 2 HPT.ipynb",
      "provenance": []
    },
    "interpreter": {
      "hash": "3c5c9b93d19a311f1d10b67e7548e5a432832d7c634d12750093fb3c18477f1d"
    },
    "kernelspec": {
      "display_name": "Python 3.8.8 64-bit ('base': conda)",
      "name": "python3"
    },
    "language_info": {
      "codemirror_mode": {
        "name": "ipython",
        "version": 3
      },
      "file_extension": ".py",
      "mimetype": "text/x-python",
      "name": "python",
      "nbconvert_exporter": "python",
      "pygments_lexer": "ipython3",
      "version": "3.8.8"
    }
  },
  "nbformat": 4,
  "nbformat_minor": 2
}

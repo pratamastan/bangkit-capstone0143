{
  "nbformat": 4,
  "nbformat_minor": 2,
  "metadata": {
    "colab": {
      "name": "NLP project 2 HPT.ipynb",
      "provenance": [],
      "collapsed_sections": []
    },
    "kernelspec": {
      "name": "python3",
      "display_name": "Python 3.8.8 64-bit"
    },
    "language_info": {
      "name": "python",
      "version": "3.8.8",
      "mimetype": "text/x-python",
      "codemirror_mode": {
        "name": "ipython",
        "version": 3
      },
      "pygments_lexer": "ipython3",
      "nbconvert_exporter": "python",
      "file_extension": ".py"
    },
    "accelerator": "GPU",
    "interpreter": {
      "hash": "3c5c9b93d19a311f1d10b67e7548e5a432832d7c634d12750093fb3c18477f1d"
    }
  },
  "cells": [
    {
      "cell_type": "markdown",
      "source": [
        "# Data Fetching and train-test split"
      ],
      "metadata": {
        "id": "G6n07cVbuvC5"
      }
    },
    {
      "cell_type": "code",
      "execution_count": 38,
      "source": [
        "# from google.colab import drive\r\n",
        "# drive.mount('/content/drive')"
      ],
      "outputs": [],
      "metadata": {
        "colab": {
          "base_uri": "https://localhost:8080/"
        },
        "id": "XlhC6gY_tuRR",
        "outputId": "76ef3536-a200-478c-e889-7d52ef47f828"
      }
    },
    {
      "cell_type": "code",
      "execution_count": 39,
      "source": [
        "# pip install -q -U keras-tuner"
      ],
      "outputs": [],
      "metadata": {
        "colab": {
          "base_uri": "https://localhost:8080/"
        },
        "id": "_77SFlJETFEm",
        "outputId": "789dc69b-8869-45db-babe-40f0175fb548"
      }
    },
    {
      "cell_type": "code",
      "execution_count": 50,
      "source": [
        "import pandas as pd\r\n",
        "import numpy as np\r\n",
        "import tensorflow as tf\r\n",
        "import tensorflow_hub as hub\r\n",
        "from tensorboard.plugins.hparams import api as hp\r\n",
        "import keras_tuner as kt\r\n",
        "from sklearn.metrics.pairwise import cosine_similarity\r\n",
        "from sklearn.metrics import confusion_matrix\r\n",
        "from scipy.spatial import distance\r\n",
        "# import pathlib\r\n",
        "# from os import getcwd"
      ],
      "outputs": [],
      "metadata": {
        "id": "cvUNWk0MuW86"
      }
    },
    {
      "cell_type": "markdown",
      "source": [
        "Training data is taken from Quora Questions Pairs dataset (training set only) https://www.kaggle.com/c/quora-question-pairs/overview translated to Indonesian with Google Translate"
      ],
      "metadata": {
        "id": "TgTlju_Eu8tQ"
      }
    },
    {
      "cell_type": "code",
      "execution_count": 2,
      "source": [
        "data1=pd.read_csv(\"D:/Documents/GitHub/bangkit-capstone0143/train complete indo.csv\")"
      ],
      "outputs": [],
      "metadata": {
        "id": "3fI-9jMRuzYc"
      }
    },
    {
      "cell_type": "code",
      "execution_count": 3,
      "source": [
        "data1=data1.dropna()"
      ],
      "outputs": [],
      "metadata": {
        "id": "f4MP2chBv9E8"
      }
    },
    {
      "cell_type": "code",
      "execution_count": 43,
      "source": [
        "data1.head()"
      ],
      "outputs": [
        {
          "output_type": "execute_result",
          "data": {
            "text/html": [
              "<div>\n",
              "<style scoped>\n",
              "    .dataframe tbody tr th:only-of-type {\n",
              "        vertical-align: middle;\n",
              "    }\n",
              "\n",
              "    .dataframe tbody tr th {\n",
              "        vertical-align: top;\n",
              "    }\n",
              "\n",
              "    .dataframe thead th {\n",
              "        text-align: right;\n",
              "    }\n",
              "</style>\n",
              "<table border=\"1\" class=\"dataframe\">\n",
              "  <thead>\n",
              "    <tr style=\"text-align: right;\">\n",
              "      <th></th>\n",
              "      <th>id</th>\n",
              "      <th>qid1</th>\n",
              "      <th>qid2</th>\n",
              "      <th>question1</th>\n",
              "      <th>question2</th>\n",
              "      <th>is_duplicate</th>\n",
              "    </tr>\n",
              "  </thead>\n",
              "  <tbody>\n",
              "    <tr>\n",
              "      <th>0</th>\n",
              "      <td>0</td>\n",
              "      <td>1</td>\n",
              "      <td>2</td>\n",
              "      <td>Apa panduan langkah demi langkah untuk berinve...</td>\n",
              "      <td>Apa panduan langkah demi langkah untuk berinve...</td>\n",
              "      <td>0</td>\n",
              "    </tr>\n",
              "    <tr>\n",
              "      <th>1</th>\n",
              "      <td>1</td>\n",
              "      <td>3</td>\n",
              "      <td>4</td>\n",
              "      <td>Bagaimana kisah Berlian Kohinoor (Koh-i-Noor)?</td>\n",
              "      <td>Apa yang akan terjadi jika pemerintah India me...</td>\n",
              "      <td>0</td>\n",
              "    </tr>\n",
              "    <tr>\n",
              "      <th>2</th>\n",
              "      <td>2</td>\n",
              "      <td>5</td>\n",
              "      <td>6</td>\n",
              "      <td>Bagaimana cara meningkatkan kecepatan koneksi ...</td>\n",
              "      <td>Bagaimana kecepatan Internet dapat ditingkatka...</td>\n",
              "      <td>0</td>\n",
              "    </tr>\n",
              "    <tr>\n",
              "      <th>3</th>\n",
              "      <td>3</td>\n",
              "      <td>7</td>\n",
              "      <td>8</td>\n",
              "      <td>Mengapa saya secara mental sangat kesepian? Ba...</td>\n",
              "      <td>Temukan sisanya ketika [math] 23 ^ {24} [/ mat...</td>\n",
              "      <td>0</td>\n",
              "    </tr>\n",
              "    <tr>\n",
              "      <th>4</th>\n",
              "      <td>4</td>\n",
              "      <td>9</td>\n",
              "      <td>10</td>\n",
              "      <td>Manakah yang larut dalam air seperti gula pasi...</td>\n",
              "      <td>Ikan apa yang akan bertahan hidup di air asin?</td>\n",
              "      <td>0</td>\n",
              "    </tr>\n",
              "  </tbody>\n",
              "</table>\n",
              "</div>"
            ],
            "text/plain": [
              "   id  qid1  qid2                                          question1  \\\n",
              "0   0     1     2  Apa panduan langkah demi langkah untuk berinve...   \n",
              "1   1     3     4     Bagaimana kisah Berlian Kohinoor (Koh-i-Noor)?   \n",
              "2   2     5     6  Bagaimana cara meningkatkan kecepatan koneksi ...   \n",
              "3   3     7     8  Mengapa saya secara mental sangat kesepian? Ba...   \n",
              "4   4     9    10  Manakah yang larut dalam air seperti gula pasi...   \n",
              "\n",
              "                                           question2  is_duplicate  \n",
              "0  Apa panduan langkah demi langkah untuk berinve...             0  \n",
              "1  Apa yang akan terjadi jika pemerintah India me...             0  \n",
              "2  Bagaimana kecepatan Internet dapat ditingkatka...             0  \n",
              "3  Temukan sisanya ketika [math] 23 ^ {24} [/ mat...             0  \n",
              "4     Ikan apa yang akan bertahan hidup di air asin?             0  "
            ]
          },
          "metadata": {},
          "execution_count": 43
        }
      ],
      "metadata": {
        "colab": {
          "base_uri": "https://localhost:8080/",
          "height": 195
        },
        "id": "xn3iNxPtPGJJ",
        "outputId": "74f724ea-4f67-42b4-e8bd-b18d71ec2068"
      }
    },
    {
      "cell_type": "code",
      "execution_count": 44,
      "source": [
        "pd.value_counts(data1['is_duplicate']).plot.bar()"
      ],
      "outputs": [
        {
          "output_type": "execute_result",
          "data": {
            "text/plain": [
              "<AxesSubplot:>"
            ]
          },
          "metadata": {},
          "execution_count": 44
        },
        {
          "output_type": "display_data",
          "data": {
            "image/png": "[encoded data removed]",
            "image/svg+xml": "<?xml version=\"1.0\" encoding=\"utf-8\" standalone=\"no\"?>\r\n<!DOCTYPE svg PUBLIC \"-//W3C//DTD SVG 1.1//EN\"\r\n  \"http://www.w3.org/Graphics/SVG/1.1/DTD/svg11.dtd\">\r\n<!-- Created with matplotlib (https://matplotlib.org/) -->\r\n<svg height=\"245.2025pt\" version=\"1.1\" viewBox=\"0 0 394.375 245.2025\" width=\"394.375pt\" xmlns=\"http://www.w3.org/2000/svg\" xmlns:xlink=\"http://www.w3.org/1999/xlink\">\r\n <metadata>\r\n  <rdf:RDF xmlns:cc=\"http://creativecommons.org/ns#\" xmlns:dc=\"http://purl.org/dc/elements/1.1/\" xmlns:rdf=\"http://www.w3.org/1999/02/22-rdf-syntax-ns#\">\r\n   <cc:Work>\r\n    <dc:type rdf:resource=\"http://purl.org/dc/dcmitype/StillImage\"/>\r\n    <dc:date>2021-09-07T09:15:06.997363</dc:date>\r\n    <dc:format>image/svg+xml</dc:format>\r\n    <dc:creator>\r\n     <cc:Agent>\r\n      <dc:title>Matplotlib v3.3.4, https://matplotlib.org/</dc:title>\r\n     </cc:Agent>\r\n    </dc:creator>\r\n   </cc:Work>\r\n  </rdf:RDF>\r\n </metadata>\r\n <defs>\r\n  <style type=\"text/css\">*{stroke-linecap:butt;stroke-linejoin:round;}</style>\r\n </defs>\r\n <g id=\"figure_1\">\r\n  <g id=\"patch_1\">\r\n   <path d=\"M 0 245.2025 \r\nL 394.375 245.2025 \r\nL 394.375 0 \r\nL 0 0 \r\nz\r\n\" style=\"fill:none;\"/>\r\n  </g>\r\n  <g id=\"axes_1\">\r\n   <g id=\"patch_2\">\r\n    <path d=\"M 52.375 224.64 \r\nL 387.175 224.64 \r\nL 387.175 7.2 \r\nL 52.375 7.2 \r\nz\r\n\" style=\"fill:#ffffff;\"/>\r\n   </g>\r\n   <g id=\"patch_3\">\r\n    <path clip-path=\"url(#pcc3e201d2b)\" d=\"M 94.225 224.64 \r\nL 177.925 224.64 \r\nL 177.925 17.554286 \r\nL 94.225 17.554286 \r\nz\r\n\" style=\"fill:#1f77b4;\"/>\r\n   </g>\r\n   <g id=\"patch_4\">\r\n    <path clip-path=\"url(#pcc3e201d2b)\" d=\"M 261.625 224.64 \r\nL 345.325 224.64 \r\nL 345.325 103.435275 \r\nL 261.625 103.435275 \r\nz\r\n\" style=\"fill:#1f77b4;\"/>\r\n   </g>\r\n   <g id=\"matplotlib.axis_1\">\r\n    <g id=\"xtick_1\">\r\n     <g id=\"line2d_1\">\r\n      <defs>\r\n       <path d=\"M 0 0 \r\nL 0 3.5 \r\n\" id=\"m4e7b30fdd9\" style=\"stroke:#000000;stroke-width:0.8;\"/>\r\n      </defs>\r\n      <g>\r\n       <use style=\"stroke:#000000;stroke-width:0.8;\" x=\"136.075\" xlink:href=\"#m4e7b30fdd9\" y=\"224.64\"/>\r\n      </g>\r\n     </g>\r\n     <g id=\"text_1\">\r\n      <!-- 0 -->\r\n      <g transform=\"translate(138.834375 238.0025)rotate(-90)scale(0.1 -0.1)\">\r\n       <defs>\r\n        <path d=\"M 31.78125 66.40625 \r\nQ 24.171875 66.40625 20.328125 58.90625 \r\nQ 16.5 51.421875 16.5 36.375 \r\nQ 16.5 21.390625 20.328125 13.890625 \r\nQ 24.171875 6.390625 31.78125 6.390625 \r\nQ 39.453125 6.390625 43.28125 13.890625 \r\nQ 47.125 21.390625 47.125 36.375 \r\nQ 47.125 51.421875 43.28125 58.90625 \r\nQ 39.453125 66.40625 31.78125 66.40625 \r\nz\r\nM 31.78125 74.21875 \r\nQ 44.046875 74.21875 50.515625 64.515625 \r\nQ 56.984375 54.828125 56.984375 36.375 \r\nQ 56.984375 17.96875 50.515625 8.265625 \r\nQ 44.046875 -1.421875 31.78125 -1.421875 \r\nQ 19.53125 -1.421875 13.0625 8.265625 \r\nQ 6.59375 17.96875 6.59375 36.375 \r\nQ 6.59375 54.828125 13.0625 64.515625 \r\nQ 19.53125 74.21875 31.78125 74.21875 \r\nz\r\n\" id=\"DejaVuSans-48\"/>\r\n       </defs>\r\n       <use xlink:href=\"#DejaVuSans-48\"/>\r\n      </g>\r\n     </g>\r\n    </g>\r\n    <g id=\"xtick_2\">\r\n     <g id=\"line2d_2\">\r\n      <g>\r\n       <use style=\"stroke:#000000;stroke-width:0.8;\" x=\"303.475\" xlink:href=\"#m4e7b30fdd9\" y=\"224.64\"/>\r\n      </g>\r\n     </g>\r\n     <g id=\"text_2\">\r\n      <!-- 1 -->\r\n      <g transform=\"translate(306.234375 238.0025)rotate(-90)scale(0.1 -0.1)\">\r\n       <defs>\r\n        <path d=\"M 12.40625 8.296875 \r\nL 28.515625 8.296875 \r\nL 28.515625 63.921875 \r\nL 10.984375 60.40625 \r\nL 10.984375 69.390625 \r\nL 28.421875 72.90625 \r\nL 38.28125 72.90625 \r\nL 38.28125 8.296875 \r\nL 54.390625 8.296875 \r\nL 54.390625 0 \r\nL 12.40625 0 \r\nz\r\n\" id=\"DejaVuSans-49\"/>\r\n       </defs>\r\n       <use xlink:href=\"#DejaVuSans-49\"/>\r\n      </g>\r\n     </g>\r\n    </g>\r\n   </g>\r\n   <g id=\"matplotlib.axis_2\">\r\n    <g id=\"ytick_1\">\r\n     <g id=\"line2d_3\">\r\n      <defs>\r\n       <path d=\"M 0 0 \r\nL -3.5 0 \r\n\" id=\"m1c6f59934f\" style=\"stroke:#000000;stroke-width:0.8;\"/>\r\n      </defs>\r\n      <g>\r\n       <use style=\"stroke:#000000;stroke-width:0.8;\" x=\"52.375\" xlink:href=\"#m1c6f59934f\" y=\"224.64\"/>\r\n      </g>\r\n     </g>\r\n     <g id=\"text_3\">\r\n      <!-- 0 -->\r\n      <g transform=\"translate(39.0125 228.439219)scale(0.1 -0.1)\">\r\n       <use xlink:href=\"#DejaVuSans-48\"/>\r\n      </g>\r\n     </g>\r\n    </g>\r\n    <g id=\"ytick_2\">\r\n     <g id=\"line2d_4\">\r\n      <g>\r\n       <use style=\"stroke:#000000;stroke-width:0.8;\" x=\"52.375\" xlink:href=\"#m1c6f59934f\" y=\"184.038938\"/>\r\n      </g>\r\n     </g>\r\n     <g id=\"text_4\">\r\n      <!-- 50000 -->\r\n      <g transform=\"translate(13.5625 187.838157)scale(0.1 -0.1)\">\r\n       <defs>\r\n        <path d=\"M 10.796875 72.90625 \r\nL 49.515625 72.90625 \r\nL 49.515625 64.59375 \r\nL 19.828125 64.59375 \r\nL 19.828125 46.734375 \r\nQ 21.96875 47.46875 24.109375 47.828125 \r\nQ 26.265625 48.1875 28.421875 48.1875 \r\nQ 40.625 48.1875 47.75 41.5 \r\nQ 54.890625 34.8125 54.890625 23.390625 \r\nQ 54.890625 11.625 47.5625 5.09375 \r\nQ 40.234375 -1.421875 26.90625 -1.421875 \r\nQ 22.3125 -1.421875 17.546875 -0.640625 \r\nQ 12.796875 0.140625 7.71875 1.703125 \r\nL 7.71875 11.625 \r\nQ 12.109375 9.234375 16.796875 8.0625 \r\nQ 21.484375 6.890625 26.703125 6.890625 \r\nQ 35.15625 6.890625 40.078125 11.328125 \r\nQ 45.015625 15.765625 45.015625 23.390625 \r\nQ 45.015625 31 40.078125 35.4375 \r\nQ 35.15625 39.890625 26.703125 39.890625 \r\nQ 22.75 39.890625 18.8125 39.015625 \r\nQ 14.890625 38.140625 10.796875 36.28125 \r\nz\r\n\" id=\"DejaVuSans-53\"/>\r\n       </defs>\r\n       <use xlink:href=\"#DejaVuSans-53\"/>\r\n       <use x=\"63.623047\" xlink:href=\"#DejaVuSans-48\"/>\r\n       <use x=\"127.246094\" xlink:href=\"#DejaVuSans-48\"/>\r\n       <use x=\"190.869141\" xlink:href=\"#DejaVuSans-48\"/>\r\n       <use x=\"254.492188\" xlink:href=\"#DejaVuSans-48\"/>\r\n      </g>\r\n     </g>\r\n    </g>\r\n    <g id=\"ytick_3\">\r\n     <g id=\"line2d_5\">\r\n      <g>\r\n       <use style=\"stroke:#000000;stroke-width:0.8;\" x=\"52.375\" xlink:href=\"#m1c6f59934f\" y=\"143.437877\"/>\r\n      </g>\r\n     </g>\r\n     <g id=\"text_5\">\r\n      <!-- 100000 -->\r\n      <g transform=\"translate(7.2 147.237096)scale(0.1 -0.1)\">\r\n       <use xlink:href=\"#DejaVuSans-49\"/>\r\n       <use x=\"63.623047\" xlink:href=\"#DejaVuSans-48\"/>\r\n       <use x=\"127.246094\" xlink:href=\"#DejaVuSans-48\"/>\r\n       <use x=\"190.869141\" xlink:href=\"#DejaVuSans-48\"/>\r\n       <use x=\"254.492188\" xlink:href=\"#DejaVuSans-48\"/>\r\n       <use x=\"318.115234\" xlink:href=\"#DejaVuSans-48\"/>\r\n      </g>\r\n     </g>\r\n    </g>\r\n    <g id=\"ytick_4\">\r\n     <g id=\"line2d_6\">\r\n      <g>\r\n       <use style=\"stroke:#000000;stroke-width:0.8;\" x=\"52.375\" xlink:href=\"#m1c6f59934f\" y=\"102.836815\"/>\r\n      </g>\r\n     </g>\r\n     <g id=\"text_6\">\r\n      <!-- 150000 -->\r\n      <g transform=\"translate(7.2 106.636034)scale(0.1 -0.1)\">\r\n       <use xlink:href=\"#DejaVuSans-49\"/>\r\n       <use x=\"63.623047\" xlink:href=\"#DejaVuSans-53\"/>\r\n       <use x=\"127.246094\" xlink:href=\"#DejaVuSans-48\"/>\r\n       <use x=\"190.869141\" xlink:href=\"#DejaVuSans-48\"/>\r\n       <use x=\"254.492188\" xlink:href=\"#DejaVuSans-48\"/>\r\n       <use x=\"318.115234\" xlink:href=\"#DejaVuSans-48\"/>\r\n      </g>\r\n     </g>\r\n    </g>\r\n    <g id=\"ytick_5\">\r\n     <g id=\"line2d_7\">\r\n      <g>\r\n       <use style=\"stroke:#000000;stroke-width:0.8;\" x=\"52.375\" xlink:href=\"#m1c6f59934f\" y=\"62.235754\"/>\r\n      </g>\r\n     </g>\r\n     <g id=\"text_7\">\r\n      <!-- 200000 -->\r\n      <g transform=\"translate(7.2 66.034973)scale(0.1 -0.1)\">\r\n       <defs>\r\n        <path d=\"M 19.1875 8.296875 \r\nL 53.609375 8.296875 \r\nL 53.609375 0 \r\nL 7.328125 0 \r\nL 7.328125 8.296875 \r\nQ 12.9375 14.109375 22.625 23.890625 \r\nQ 32.328125 33.6875 34.8125 36.53125 \r\nQ 39.546875 41.84375 41.421875 45.53125 \r\nQ 43.3125 49.21875 43.3125 52.78125 \r\nQ 43.3125 58.59375 39.234375 62.25 \r\nQ 35.15625 65.921875 28.609375 65.921875 \r\nQ 23.96875 65.921875 18.8125 64.3125 \r\nQ 13.671875 62.703125 7.8125 59.421875 \r\nL 7.8125 69.390625 \r\nQ 13.765625 71.78125 18.9375 73 \r\nQ 24.125 74.21875 28.421875 74.21875 \r\nQ 39.75 74.21875 46.484375 68.546875 \r\nQ 53.21875 62.890625 53.21875 53.421875 \r\nQ 53.21875 48.921875 51.53125 44.890625 \r\nQ 49.859375 40.875 45.40625 35.40625 \r\nQ 44.1875 33.984375 37.640625 27.21875 \r\nQ 31.109375 20.453125 19.1875 8.296875 \r\nz\r\n\" id=\"DejaVuSans-50\"/>\r\n       </defs>\r\n       <use xlink:href=\"#DejaVuSans-50\"/>\r\n       <use x=\"63.623047\" xlink:href=\"#DejaVuSans-48\"/>\r\n       <use x=\"127.246094\" xlink:href=\"#DejaVuSans-48\"/>\r\n       <use x=\"190.869141\" xlink:href=\"#DejaVuSans-48\"/>\r\n       <use x=\"254.492188\" xlink:href=\"#DejaVuSans-48\"/>\r\n       <use x=\"318.115234\" xlink:href=\"#DejaVuSans-48\"/>\r\n      </g>\r\n     </g>\r\n    </g>\r\n    <g id=\"ytick_6\">\r\n     <g id=\"line2d_8\">\r\n      <g>\r\n       <use style=\"stroke:#000000;stroke-width:0.8;\" x=\"52.375\" xlink:href=\"#m1c6f59934f\" y=\"21.634692\"/>\r\n      </g>\r\n     </g>\r\n     <g id=\"text_8\">\r\n      <!-- 250000 -->\r\n      <g transform=\"translate(7.2 25.433911)scale(0.1 -0.1)\">\r\n       <use xlink:href=\"#DejaVuSans-50\"/>\r\n       <use x=\"63.623047\" xlink:href=\"#DejaVuSans-53\"/>\r\n       <use x=\"127.246094\" xlink:href=\"#DejaVuSans-48\"/>\r\n       <use x=\"190.869141\" xlink:href=\"#DejaVuSans-48\"/>\r\n       <use x=\"254.492188\" xlink:href=\"#DejaVuSans-48\"/>\r\n       <use x=\"318.115234\" xlink:href=\"#DejaVuSans-48\"/>\r\n      </g>\r\n     </g>\r\n    </g>\r\n   </g>\r\n   <g id=\"patch_5\">\r\n    <path d=\"M 52.375 224.64 \r\nL 52.375 7.2 \r\n\" style=\"fill:none;stroke:#000000;stroke-linecap:square;stroke-linejoin:miter;stroke-width:0.8;\"/>\r\n   </g>\r\n   <g id=\"patch_6\">\r\n    <path d=\"M 387.175 224.64 \r\nL 387.175 7.2 \r\n\" style=\"fill:none;stroke:#000000;stroke-linecap:square;stroke-linejoin:miter;stroke-width:0.8;\"/>\r\n   </g>\r\n   <g id=\"patch_7\">\r\n    <path d=\"M 52.375 224.64 \r\nL 387.175 224.64 \r\n\" style=\"fill:none;stroke:#000000;stroke-linecap:square;stroke-linejoin:miter;stroke-width:0.8;\"/>\r\n   </g>\r\n   <g id=\"patch_8\">\r\n    <path d=\"M 52.375 7.2 \r\nL 387.175 7.2 \r\n\" style=\"fill:none;stroke:#000000;stroke-linecap:square;stroke-linejoin:miter;stroke-width:0.8;\"/>\r\n   </g>\r\n  </g>\r\n </g>\r\n <defs>\r\n  <clipPath id=\"pcc3e201d2b\">\r\n   <rect height=\"217.44\" width=\"334.8\" x=\"52.375\" y=\"7.2\"/>\r\n  </clipPath>\r\n </defs>\r\n</svg>\r\n",
            "text/plain": [
              "<Figure size 432x288 with 1 Axes>"
            ]
          },
          "metadata": {
            "needs_background": "light"
          }
        }
      ],
      "metadata": {
        "id": "On35PmaWvpHt"
      }
    },
    {
      "cell_type": "code",
      "execution_count": 21,
      "source": [
        "data1.question1.str.len().max()"
      ],
      "outputs": [
        {
          "output_type": "execute_result",
          "data": {
            "text/plain": [
              "717"
            ]
          },
          "metadata": {},
          "execution_count": 21
        }
      ],
      "metadata": {
        "colab": {
          "base_uri": "https://localhost:8080/"
        },
        "id": "znGtTGTXBeRk",
        "outputId": "4c783af3-4297-43d4-b4e4-c967dbf1bca8"
      }
    },
    {
      "cell_type": "code",
      "execution_count": 22,
      "source": [
        "data1.question2.str.len().max()"
      ],
      "outputs": [
        {
          "output_type": "execute_result",
          "data": {
            "text/plain": [
              "1395"
            ]
          },
          "metadata": {},
          "execution_count": 22
        }
      ],
      "metadata": {
        "colab": {
          "base_uri": "https://localhost:8080/"
        },
        "id": "bEd4Pu71BkXg",
        "outputId": "f9ae063f-1cc7-43f5-e383-153a30a36850"
      }
    },
    {
      "cell_type": "markdown",
      "source": [
        "Train-test split 90% 10%"
      ],
      "metadata": {
        "id": "mJrW1Onzvic0"
      }
    },
    {
      "cell_type": "code",
      "execution_count": 4,
      "source": [
        "from sklearn.model_selection import train_test_split\r\n",
        "X_train, X_test, y_train, y_test = train_test_split(data1[[\"question1\", \"question2\"]], data1[\"is_duplicate\"], test_size=0.1, random_state=42)"
      ],
      "outputs": [],
      "metadata": {
        "id": "kfSXEkPBw9fB"
      }
    },
    {
      "cell_type": "markdown",
      "source": [
        "Transform the dataframe to NumPy array as TensorFlow takes NumPy arrays"
      ],
      "metadata": {
        "id": "JvExtpCyv6Uf"
      }
    },
    {
      "cell_type": "code",
      "execution_count": 5,
      "source": [
        "xt=X_train.to_numpy()\r\n",
        "yt=y_train.to_numpy()\r\n",
        "\r\n",
        "xte=X_test.to_numpy()\r\n",
        "yte=y_test.to_numpy()\r\n",
        "\r\n",
        "Q1_train = X_train[\"question1\"].to_numpy()\r\n",
        "Q2_train = X_train[\"question2\"].to_numpy()\r\n",
        "Q1_test = X_test[\"question1\"].to_numpy()\r\n",
        "Q2_test = X_test[\"question2\"].to_numpy()"
      ],
      "outputs": [],
      "metadata": {
        "id": "cqNOcymh-DyD"
      }
    },
    {
      "cell_type": "code",
      "execution_count": 25,
      "source": [
        "Q1_train"
      ],
      "outputs": [
        {
          "output_type": "execute_result",
          "data": {
            "text/plain": [
              "array(['Apa sajakah proyek teknik mesin?',\n",
              "       'Bagaimana Anda tahu jika dia tertarik pada Anda?',\n",
              "       'Bisakah kita menemukan ketinggian ponsel dari tanah secara akurat.?\\xa0â € ¦Jika tidak, bagaimana bisa mengatasinya.?',\n",
              "       ..., 'Siapa yang saat ini memenangkan pemilihan presiden?',\n",
              "       'Apa sajakah film Telugu / Tamil / Hindi yang pemeran utamanya menjadi mafia atau tidak?',\n",
              "       'Berapa peringkat yang dipotong untuk perguruan tinggi Kedokteran Rohtak dalam kuota negara bagian?'],\n",
              "      dtype=object)"
            ]
          },
          "metadata": {},
          "execution_count": 25
        }
      ],
      "metadata": {
        "colab": {
          "base_uri": "https://localhost:8080/"
        },
        "id": "hnz0bVT_cTkG",
        "outputId": "684ef36d-5fea-4ecb-dae8-f396adad0735"
      }
    },
    {
      "cell_type": "code",
      "execution_count": 26,
      "source": [
        "data1[\"question1\"][0]"
      ],
      "outputs": [
        {
          "output_type": "execute_result",
          "data": {
            "text/plain": [
              "'Apa panduan langkah demi langkah untuk berinvestasi di pasar saham di India?'"
            ]
          },
          "metadata": {},
          "execution_count": 26
        }
      ],
      "metadata": {
        "colab": {
          "base_uri": "https://localhost:8080/",
          "height": 35
        },
        "id": "kE2tOVZKMkER",
        "outputId": "cda191fa-6c5f-4476-b65d-620a14d5c7b4"
      }
    },
    {
      "cell_type": "code",
      "execution_count": 27,
      "source": [
        "data1[[\"question1\",\"question2\"]]"
      ],
      "outputs": [
        {
          "output_type": "execute_result",
          "data": {
            "text/html": [
              "<div>\n",
              "<style scoped>\n",
              "    .dataframe tbody tr th:only-of-type {\n",
              "        vertical-align: middle;\n",
              "    }\n",
              "\n",
              "    .dataframe tbody tr th {\n",
              "        vertical-align: top;\n",
              "    }\n",
              "\n",
              "    .dataframe thead th {\n",
              "        text-align: right;\n",
              "    }\n",
              "</style>\n",
              "<table border=\"1\" class=\"dataframe\">\n",
              "  <thead>\n",
              "    <tr style=\"text-align: right;\">\n",
              "      <th></th>\n",
              "      <th>question1</th>\n",
              "      <th>question2</th>\n",
              "    </tr>\n",
              "  </thead>\n",
              "  <tbody>\n",
              "    <tr>\n",
              "      <th>0</th>\n",
              "      <td>Apa panduan langkah demi langkah untuk berinve...</td>\n",
              "      <td>Apa panduan langkah demi langkah untuk berinve...</td>\n",
              "    </tr>\n",
              "    <tr>\n",
              "      <th>1</th>\n",
              "      <td>Bagaimana kisah Berlian Kohinoor (Koh-i-Noor)?</td>\n",
              "      <td>Apa yang akan terjadi jika pemerintah India me...</td>\n",
              "    </tr>\n",
              "    <tr>\n",
              "      <th>2</th>\n",
              "      <td>Bagaimana cara meningkatkan kecepatan koneksi ...</td>\n",
              "      <td>Bagaimana kecepatan Internet dapat ditingkatka...</td>\n",
              "    </tr>\n",
              "    <tr>\n",
              "      <th>3</th>\n",
              "      <td>Mengapa saya secara mental sangat kesepian? Ba...</td>\n",
              "      <td>Temukan sisanya ketika [math] 23 ^ {24} [/ mat...</td>\n",
              "    </tr>\n",
              "    <tr>\n",
              "      <th>4</th>\n",
              "      <td>Manakah yang larut dalam air seperti gula pasi...</td>\n",
              "      <td>Ikan apa yang akan bertahan hidup di air asin?</td>\n",
              "    </tr>\n",
              "    <tr>\n",
              "      <th>...</th>\n",
              "      <td>...</td>\n",
              "      <td>...</td>\n",
              "    </tr>\n",
              "    <tr>\n",
              "      <th>404285</th>\n",
              "      <td>Ada berapa kata kunci dalam bahasa pemrograman...</td>\n",
              "      <td>Ada berapa kata kunci dalam Bahasa Pemrograman...</td>\n",
              "    </tr>\n",
              "    <tr>\n",
              "      <th>404286</th>\n",
              "      <td>Apakah Anda percaya ada kehidupan setelah kema...</td>\n",
              "      <td>Benarkah ada kehidupan setelah kematian?</td>\n",
              "    </tr>\n",
              "    <tr>\n",
              "      <th>404287</th>\n",
              "      <td>Apa satu koin?</td>\n",
              "      <td>Koin apa ini?</td>\n",
              "    </tr>\n",
              "    <tr>\n",
              "      <th>404288</th>\n",
              "      <td>Berapa perkiraan biaya hidup tahunan selama be...</td>\n",
              "      <td>Saya mengalami sedikit masalah rambut rontok t...</td>\n",
              "    </tr>\n",
              "    <tr>\n",
              "      <th>404289</th>\n",
              "      <td>Bagaimana rasanya berhubungan seks dengan sepupu?</td>\n",
              "      <td>Bagaimana rasanya berhubungan seks dengan sepu...</td>\n",
              "    </tr>\n",
              "  </tbody>\n",
              "</table>\n",
              "<p>404288 rows × 2 columns</p>\n",
              "</div>"
            ],
            "text/plain": [
              "                                                question1  \\\n",
              "0       Apa panduan langkah demi langkah untuk berinve...   \n",
              "1          Bagaimana kisah Berlian Kohinoor (Koh-i-Noor)?   \n",
              "2       Bagaimana cara meningkatkan kecepatan koneksi ...   \n",
              "3       Mengapa saya secara mental sangat kesepian? Ba...   \n",
              "4       Manakah yang larut dalam air seperti gula pasi...   \n",
              "...                                                   ...   \n",
              "404285  Ada berapa kata kunci dalam bahasa pemrograman...   \n",
              "404286  Apakah Anda percaya ada kehidupan setelah kema...   \n",
              "404287                                     Apa satu koin?   \n",
              "404288  Berapa perkiraan biaya hidup tahunan selama be...   \n",
              "404289  Bagaimana rasanya berhubungan seks dengan sepupu?   \n",
              "\n",
              "                                                question2  \n",
              "0       Apa panduan langkah demi langkah untuk berinve...  \n",
              "1       Apa yang akan terjadi jika pemerintah India me...  \n",
              "2       Bagaimana kecepatan Internet dapat ditingkatka...  \n",
              "3       Temukan sisanya ketika [math] 23 ^ {24} [/ mat...  \n",
              "4          Ikan apa yang akan bertahan hidup di air asin?  \n",
              "...                                                   ...  \n",
              "404285  Ada berapa kata kunci dalam Bahasa Pemrograman...  \n",
              "404286           Benarkah ada kehidupan setelah kematian?  \n",
              "404287                                      Koin apa ini?  \n",
              "404288  Saya mengalami sedikit masalah rambut rontok t...  \n",
              "404289  Bagaimana rasanya berhubungan seks dengan sepu...  \n",
              "\n",
              "[404288 rows x 2 columns]"
            ]
          },
          "metadata": {},
          "execution_count": 27
        }
      ],
      "metadata": {
        "colab": {
          "base_uri": "https://localhost:8080/",
          "height": 402
        },
        "id": "DGECNKybyvld",
        "outputId": "f28f17f4-93d4-4ae7-e9a8-ec854731e118"
      }
    },
    {
      "cell_type": "code",
      "execution_count": 6,
      "source": [
        "embed=hub.KerasLayer(hub.load(\"C:/Users/stanl/Downloads/nnlm-id-dim128-norm\"), input_shape=[], dtype=tf.string)"
      ],
      "outputs": [],
      "metadata": {}
    },
    {
      "cell_type": "code",
      "execution_count": 29,
      "source": [
        "#Model runtime will increase if tranable=True to about 900-1000s per epoch\r\n",
        "# embed = hub.KerasLayer(\"https://tfhub.dev/google/nnlm-id-dim128-with-normalization/2\",input_shape=[], dtype=tf.string)\r\n",
        "#embed.trainable=True"
      ],
      "outputs": [],
      "metadata": {
        "id": "eD6gHbz8y3F8"
      }
    },
    {
      "cell_type": "code",
      "execution_count": 7,
      "source": [
        "xt1=embed(Q1_train)\r\n",
        "xt2=embed(Q2_train)\r\n",
        "xte1=embed(Q1_test)\r\n",
        "xte2=embed(Q2_test)"
      ],
      "outputs": [],
      "metadata": {
        "id": "3sSxwalsMSkK"
      }
    },
    {
      "cell_type": "code",
      "execution_count": 31,
      "source": [
        "xt2"
      ],
      "outputs": [
        {
          "output_type": "execute_result",
          "data": {
            "text/plain": [
              "<tf.Tensor: shape=(363859, 128), dtype=float32, numpy=\n",
              "array([[-0.053753  , -0.09628158, -0.06266727, ..., -0.03710537,\n",
              "        -0.10238572,  0.02226824],\n",
              "       [ 0.14299224,  0.18877506, -0.03349154, ..., -0.00806341,\n",
              "        -0.07145633,  0.1015135 ],\n",
              "       [ 0.05941568, -0.1906344 ,  0.18621024, ..., -0.088122  ,\n",
              "        -0.22306792,  0.13632292],\n",
              "       ...,\n",
              "       [ 0.23911878, -0.14783452,  0.0107425 , ..., -0.0815316 ,\n",
              "        -0.24931498,  0.05062477],\n",
              "       [ 0.0373978 ,  0.03045387,  0.01306245, ..., -0.16649947,\n",
              "        -0.04637462, -0.02678967],\n",
              "       [ 0.01217015, -0.02358004,  0.0645157 , ..., -0.1297544 ,\n",
              "        -0.13054067,  0.18736517]], dtype=float32)>"
            ]
          },
          "metadata": {},
          "execution_count": 31
        }
      ],
      "metadata": {
        "colab": {
          "base_uri": "https://localhost:8080/",
          "height": 171
        },
        "id": "RkuZ_fWKGguG",
        "outputId": "d954a695-b38c-480e-e707-1b188a9d509e"
      }
    },
    {
      "cell_type": "code",
      "execution_count": 32,
      "source": [
        "xt1"
      ],
      "outputs": [
        {
          "output_type": "execute_result",
          "data": {
            "text/plain": [
              "<tf.Tensor: shape=(363859, 128), dtype=float32, numpy=\n",
              "array([[ 1.90162417e-02, -1.18593588e-01, -9.78335068e-02, ...,\n",
              "         2.17009820e-02, -1.48417562e-01,  1.14940396e-02],\n",
              "       [ 2.64445841e-01,  1.02562383e-01, -8.19351301e-02, ...,\n",
              "         1.63417123e-02, -1.40222088e-01,  1.21525474e-01],\n",
              "       [ 1.03515968e-01, -8.21223408e-02, -6.16349280e-06, ...,\n",
              "        -2.67180860e-01, -1.27561107e-01,  1.11764565e-01],\n",
              "       ...,\n",
              "       [ 1.74064666e-01,  6.94696233e-02, -2.17809826e-02, ...,\n",
              "        -5.72771169e-02, -1.78512469e-01, -6.91926526e-03],\n",
              "       [ 1.42883718e-01, -1.64006665e-01,  3.34761925e-02, ...,\n",
              "         4.38854322e-02, -1.28632009e-01, -2.39136852e-02],\n",
              "       [-2.10693181e-02, -2.26702049e-01, -1.17028758e-01, ...,\n",
              "        -1.37420133e-01, -1.14242919e-01,  8.96925703e-02]], dtype=float32)>"
            ]
          },
          "metadata": {},
          "execution_count": 32
        }
      ],
      "metadata": {
        "colab": {
          "base_uri": "https://localhost:8080/"
        },
        "id": "ogL4saosmMVV",
        "outputId": "082c62f9-0968-49d0-b155-55eaee3a148c"
      }
    },
    {
      "cell_type": "code",
      "execution_count": 30,
      "source": [
        "cos_sim_train=[]\r\n",
        "cos_sim_test=[]\r\n",
        "for i in range(len(xt1)):\r\n",
        "    cos_sim_train.append(1-distance.cosine(xt1[i],xt2[i]))\r\n",
        "for i in range(len(xte1)):\r\n",
        "    cos_sim_test.append(1-distance.cosine(xte1[i],xte2[i]))\r\n"
      ],
      "outputs": [],
      "metadata": {}
    },
    {
      "cell_type": "code",
      "execution_count": 33,
      "source": [
        "1-distance.cosine([1,0,0],[-1,0,0])"
      ],
      "outputs": [
        {
          "output_type": "execute_result",
          "data": {
            "text/plain": [
              "-1.0"
            ]
          },
          "metadata": {},
          "execution_count": 33
        }
      ],
      "metadata": {}
    },
    {
      "cell_type": "code",
      "execution_count": 61,
      "source": [
        "cos_sim_train_round=[1 if x>=0 else 0 for x in cos_sim_train]\r\n",
        "cos_sim_test_round=[1 if x>=0 else 0 for x in cos_sim_test]"
      ],
      "outputs": [],
      "metadata": {}
    },
    {
      "cell_type": "code",
      "execution_count": 62,
      "source": [
        "print(len(cos_sim_train_round), sum(cos_sim_train_round))\r\n",
        "print(len(yt),sum(yt))\r\n",
        "print(len(cos_sim_test_round), sum(cos_sim_test_round))\r\n",
        "print(len(yte),sum(yte))"
      ],
      "outputs": [
        {
          "output_type": "stream",
          "name": "stdout",
          "text": [
            "363859 362759\n",
            "363859 134222\n",
            "40429 40313\n",
            "40429 15041\n"
          ]
        }
      ],
      "metadata": {}
    },
    {
      "cell_type": "code",
      "execution_count": 63,
      "source": [
        "confusion_matrix(yt,cos_sim_train_round)"
      ],
      "outputs": [
        {
          "output_type": "execute_result",
          "data": {
            "text/plain": [
              "array([[  1091, 228546],\n",
              "       [     9, 134213]], dtype=int64)"
            ]
          },
          "metadata": {},
          "execution_count": 63
        }
      ],
      "metadata": {}
    },
    {
      "cell_type": "code",
      "execution_count": 64,
      "source": [
        "confusion_matrix(yte,cos_sim_test_round)"
      ],
      "outputs": [
        {
          "output_type": "execute_result",
          "data": {
            "text/plain": [
              "array([[  116, 25272],\n",
              "       [    0, 15041]], dtype=int64)"
            ]
          },
          "metadata": {},
          "execution_count": 64
        }
      ],
      "metadata": {}
    },
    {
      "cell_type": "markdown",
      "source": [
        "# Final Models\n",
        "## Models with two inputs and embedding integrated"
      ],
      "metadata": {
        "id": "t84oM73yxTDs"
      }
    },
    {
      "cell_type": "markdown",
      "source": [
        "## Model with GRU layer"
      ],
      "metadata": {
        "id": "Nlm2F8Idx-Ln"
      }
    },
    {
      "cell_type": "code",
      "execution_count": 7,
      "source": [
        "# Model with Bidirectional LSTM, GRU, without Attention, will run for about 150-200s per epoch\r\n",
        "def model_builder(hp):\r\n",
        "  hp_units1 = hp.Int('units_1', min_value=64, max_value=512, step=32)\r\n",
        "  hp_units2 = hp.Int('units_2', min_value=64, max_value=512, step=32)\r\n",
        "  hp_units3 = hp.Int('units_3', min_value=64, max_value=512, step=32)\r\n",
        "  hp_units4 = hp.Int('units_4', min_value=64, max_value=512, step=32)\r\n",
        "  hp_rate1 = hp.Float('dropout_1',min_value=0.0,max_value=0.5,default=0.2,step=0.05)\r\n",
        "  hp_rate2 = hp.Float('dropout_2',min_value=0.0,max_value=0.5,default=0.2,step=0.05)\r\n",
        "  hp_rate3 = hp.Float('dropout_3',min_value=0.0,max_value=0.5,default=0.2,step=0.05)\r\n",
        "  hp_rate4 = hp.Float('dropout_4',min_value=0.0,max_value=0.5,default=0.2,step=0.05)\r\n",
        "\r\n",
        "  qstn1=tf.keras.Input(shape=(), dtype=tf.string)\r\n",
        "  qstn2=tf.keras.Input(shape=(), dtype=tf.string)\r\n",
        "\r\n",
        "  qu1=embed(qstn1)\r\n",
        "  qu2=embed(qstn2)\r\n",
        "  concat=tf.keras.layers.concatenate([qu1,qu2])\r\n",
        "  concat=tf.keras.layers.Reshape((2,128))(concat)\r\n",
        "  concat=tf.keras.layers.Bidirectional(tf.keras.layers.LSTM(64, return_sequences=True))(concat)\r\n",
        "  concat=tf.keras.layers.GRU(64, return_sequences=True)(concat)\r\n",
        "  concat=tf.keras.layers.Bidirectional(tf.keras.layers.LSTM(32))(concat)\r\n",
        "  concat=tf.keras.layers.Dense(units=hp_units1,activation='relu')(concat)\r\n",
        "  concat=tf.keras.layers.Dropout(rate=hp_rate1)(concat)\r\n",
        "  concat=tf.keras.layers.BatchNormalization()(concat)\r\n",
        "  concat=tf.keras.layers.Dense(units=hp_units2,activation='relu')(concat)\r\n",
        "  concat=tf.keras.layers.Dropout(rate=hp_rate2)(concat)\r\n",
        "  concat=tf.keras.layers.BatchNormalization()(concat)\r\n",
        "  concat=tf.keras.layers.Dense(units=hp_units3,activation='relu')(concat)\r\n",
        "  concat=tf.keras.layers.Dropout(rate=hp_rate3)(concat)\r\n",
        "  concat=tf.keras.layers.BatchNormalization()(concat)\r\n",
        "  concat=tf.keras.layers.Dense(units=hp_units4,activation='relu')(concat)\r\n",
        "  concat=tf.keras.layers.Dropout(rate=hp_rate4)(concat)\r\n",
        "  concat=tf.keras.layers.BatchNormalization()(concat)\r\n",
        "  is_dupe=tf.keras.layers.Dense(1, activation=\"sigmoid\")(concat)\r\n",
        "\r\n",
        "  model = tf.keras.models.Model(inputs=[qstn1,qstn2], outputs=is_dupe)\r\n",
        "  model.compile(loss='binary_crossentropy', optimizer='adam', metrics=['accuracy'])\r\n",
        "  return model"
      ],
      "outputs": [],
      "metadata": {
        "id": "_X_RJoUuEbtf"
      }
    },
    {
      "cell_type": "code",
      "execution_count": 34,
      "source": [
        "def model_builder_1(hp):\r\n",
        "  hp_units1 = hp.Int('units_1', min_value=64, max_value=512, step=32)\r\n",
        "  hp_units2 = hp.Int('units_2', min_value=64, max_value=512, step=32)\r\n",
        "  hp_units3 = hp.Int('units_3', min_value=64, max_value=512, step=32)\r\n",
        "  hp_units4 = hp.Int('units_4', min_value=64, max_value=512, step=32)\r\n",
        "  hp_rate1 = hp.Float('dropout_1',min_value=0.0,max_value=0.5,default=0.2,step=0.05)\r\n",
        "  hp_rate2 = hp.Float('dropout_2',min_value=0.0,max_value=0.5,default=0.2,step=0.05)\r\n",
        "  hp_rate3 = hp.Float('dropout_3',min_value=0.0,max_value=0.5,default=0.2,step=0.05)\r\n",
        "  hp_rate4 = hp.Float('dropout_4',min_value=0.0,max_value=0.5,default=0.2,step=0.05)\r\n",
        "\r\n",
        "  qstn1=tf.keras.Input(shape=(), dtype=tf.string)\r\n",
        "  qstn2=tf.keras.Input(shape=(), dtype=tf.string)\r\n",
        "\r\n",
        "  qu1=embed(qstn1)\r\n",
        "  qu2=embed(qstn2)\r\n",
        "  concat=tf.keras.layers.concatenate([qu1,qu2])\r\n",
        "  concat=tf.keras.layers.Reshape((2,128))(concat)\r\n",
        "  concat=tf.keras.layers.Bidirectional(tf.keras.layers.LSTM(128, return_sequences=True))(concat)\r\n",
        "  concat=tf.keras.layers.GRU(64, return_sequences=True)(concat)\r\n",
        "  concat=tf.keras.layers.Bidirectional(tf.keras.layers.LSTM(64))(concat)\r\n",
        "  concat=tf.keras.layers.Dense(units=hp_units1,activation='relu')(concat)\r\n",
        "  concat=tf.keras.layers.Dropout(rate=hp_rate1)(concat)\r\n",
        "  concat=tf.keras.layers.BatchNormalization()(concat)\r\n",
        "  concat=tf.keras.layers.Dense(units=hp_units2,activation='relu')(concat)\r\n",
        "  concat=tf.keras.layers.Dropout(rate=hp_rate2)(concat)\r\n",
        "  concat=tf.keras.layers.BatchNormalization()(concat)\r\n",
        "  concat=tf.keras.layers.Dense(units=hp_units3,activation='relu')(concat)\r\n",
        "  concat=tf.keras.layers.Dropout(rate=hp_rate3)(concat)\r\n",
        "  concat=tf.keras.layers.BatchNormalization()(concat)\r\n",
        "  concat=tf.keras.layers.Dense(units=hp_units4,activation='relu')(concat)\r\n",
        "  concat=tf.keras.layers.Dropout(rate=hp_rate4)(concat)\r\n",
        "  concat=tf.keras.layers.BatchNormalization()(concat)\r\n",
        "  is_dupe=tf.keras.layers.Dense(1, activation=\"sigmoid\")(concat)\r\n",
        "\r\n",
        "  model = tf.keras.models.Model(inputs=[qstn1,qstn2], outputs=is_dupe)\r\n",
        "  model.compile(loss='binary_crossentropy', optimizer='adam', metrics=['accuracy'])\r\n",
        "  return model"
      ],
      "outputs": [],
      "metadata": {}
    },
    {
      "cell_type": "code",
      "execution_count": 48,
      "source": [
        "def model_builder_2(hp):\r\n",
        "  hp_units_L1 = hp.Choice('units_L1',values=[32, 64, 128], default=64)\r\n",
        "  hp_units_L2= hp.Choice('units_L2',values=[32, 64, 128], default=64)\r\n",
        "  hp_units_L3 = hp.Choice('units_L3',values=[32, 64, 128], default=32)\r\n",
        "  hp_units1 = hp.Int('units_1', min_value=64, max_value=512, step=32)\r\n",
        "  hp_units2 = hp.Int('units_2', min_value=64, max_value=512, step=32)\r\n",
        "  hp_units3 = hp.Int('units_3', min_value=64, max_value=512, step=32)\r\n",
        "  hp_units4 = hp.Int('units_4', min_value=64, max_value=512, step=32)\r\n",
        "  hp_rate1 = hp.Float('dropout_1',min_value=0.0,max_value=0.5,default=0.2,step=0.05)\r\n",
        "  hp_rate2 = hp.Float('dropout_2',min_value=0.0,max_value=0.5,default=0.2,step=0.05)\r\n",
        "  hp_rate3 = hp.Float('dropout_3',min_value=0.0,max_value=0.5,default=0.2,step=0.05)\r\n",
        "  hp_rate4 = hp.Float('dropout_4',min_value=0.0,max_value=0.5,default=0.2,step=0.05)\r\n",
        "\r\n",
        "  qstn1=tf.keras.Input(shape=(), dtype=tf.string)\r\n",
        "  qstn2=tf.keras.Input(shape=(), dtype=tf.string)\r\n",
        "\r\n",
        "  qu1=embed(qstn1)\r\n",
        "  qu2=embed(qstn2)\r\n",
        "  concat=tf.keras.layers.concatenate([qu1,qu2])\r\n",
        "  concat=tf.keras.layers.Reshape((2,128))(concat)\r\n",
        "  concat=tf.keras.layers.Bidirectional(tf.keras.layers.LSTM(units=hp_units_L1, return_sequences=True))(concat)\r\n",
        "  concat=tf.keras.layers.GRU(units=hp_units_L2, return_sequences=True)(concat)\r\n",
        "  concat=tf.keras.layers.Bidirectional(tf.keras.layers.LSTM(units=hp_units_L3))(concat)\r\n",
        "  concat=tf.keras.layers.Dense(units=hp_units1,activation='relu')(concat)\r\n",
        "  concat=tf.keras.layers.Dropout(rate=hp_rate1)(concat)\r\n",
        "  concat=tf.keras.layers.BatchNormalization()(concat)\r\n",
        "  concat=tf.keras.layers.Dense(units=hp_units2,activation='relu')(concat)\r\n",
        "  concat=tf.keras.layers.Dropout(rate=hp_rate2)(concat)\r\n",
        "  concat=tf.keras.layers.BatchNormalization()(concat)\r\n",
        "  concat=tf.keras.layers.Dense(units=hp_units3,activation='relu')(concat)\r\n",
        "  concat=tf.keras.layers.Dropout(rate=hp_rate3)(concat)\r\n",
        "  concat=tf.keras.layers.BatchNormalization()(concat)\r\n",
        "  concat=tf.keras.layers.Dense(units=hp_units4,activation='relu')(concat)\r\n",
        "  concat=tf.keras.layers.Dropout(rate=hp_rate4)(concat)\r\n",
        "  concat=tf.keras.layers.BatchNormalization()(concat)\r\n",
        "  is_dupe=tf.keras.layers.Dense(1, activation=\"sigmoid\")(concat)\r\n",
        "\r\n",
        "  model = tf.keras.models.Model(inputs=[qstn1,qstn2], outputs=is_dupe)\r\n",
        "  model.compile(loss='binary_crossentropy', optimizer='adam', metrics=['accuracy'])\r\n",
        "  return model"
      ],
      "outputs": [],
      "metadata": {}
    },
    {
      "cell_type": "markdown",
      "source": [
        "## Model with reduced layers"
      ],
      "metadata": {
        "id": "hbuA8BpI9m2I"
      }
    },
    {
      "cell_type": "code",
      "execution_count": 7,
      "source": [
        "# Model with Bidirectional LSTM, GRU, without Attention, will run for about 150-200s per epoch\r\n",
        "def model_builder2(hp):\r\n",
        "  hp_units_L1 = hp.Choice('units_L1',values=[32, 64, 128], default=64)\r\n",
        "  hp_units_L2= hp.Choice('units_L2',values=[32, 64, 128], default=64)\r\n",
        "  hp_units_L3 = hp.Choice('units_L3',values=[32, 64, 128], default=32)\r\n",
        "  hp_units1 = hp.Int('units_1', min_value=32, max_value=512, step=32)\r\n",
        "  hp_units2 = hp.Int('units_2', min_value=32, max_value=512, step=32)\r\n",
        "  hp_units3 = hp.Int('units_3', min_value=32, max_value=512, step=32)\r\n",
        "  hp_rate1 = hp.Float('dropout_1',min_value=0.0,max_value=0.5,default=0.2,step=0.05)\r\n",
        "  hp_rate2 = hp.Float('dropout_2',min_value=0.0,max_value=0.5,default=0.2,step=0.05)\r\n",
        "  hp_rate3 = hp.Float('dropout_3',min_value=0.0,max_value=0.5,default=0.2,step=0.05)\r\n",
        "\r\n",
        "  qstn1=tf.keras.Input(shape=(), dtype=tf.string)\r\n",
        "  qstn2=tf.keras.Input(shape=(), dtype=tf.string)\r\n",
        "\r\n",
        "  qu1=embed(qstn1)\r\n",
        "  qu2=embed(qstn2)\r\n",
        "  concat=tf.keras.layers.concatenate([qu1,qu2])\r\n",
        "  concat=tf.keras.layers.Reshape((2,128))(concat)\r\n",
        "  concat=tf.keras.layers.Bidirectional(tf.keras.layers.LSTM(units=hp_units_L1, return_sequences=True))(concat)\r\n",
        "  concat=tf.keras.layers.GRU(units=hp_units_L2, return_sequences=True)(concat)\r\n",
        "  concat=tf.keras.layers.Bidirectional(tf.keras.layers.LSTM(units=hp_units_L3))(concat)\r\n",
        "  concat=tf.keras.layers.Dense(units=hp_units1,activation='relu')(concat)\r\n",
        "  concat=tf.keras.layers.Dropout(rate=hp_rate1)(concat)\r\n",
        "  concat=tf.keras.layers.BatchNormalization()(concat)\r\n",
        "  concat=tf.keras.layers.Dense(units=hp_units2,activation='relu')(concat)\r\n",
        "  concat=tf.keras.layers.Dropout(rate=hp_rate2)(concat)\r\n",
        "  concat=tf.keras.layers.BatchNormalization()(concat)\r\n",
        "  concat=tf.keras.layers.Dense(units=hp_units3,activation='relu')(concat)\r\n",
        "  concat=tf.keras.layers.Dropout(rate=hp_rate3)(concat)\r\n",
        "  is_dupe=tf.keras.layers.Dense(1, activation=\"sigmoid\")(concat)\r\n",
        "\r\n",
        "  model = tf.keras.models.Model(inputs=[qstn1,qstn2], outputs=is_dupe)\r\n",
        "  model.compile(loss='binary_crossentropy', optimizer='adam', metrics=['accuracy'])\r\n",
        "  return model"
      ],
      "outputs": [],
      "metadata": {
        "id": "5-wyYtDW9iBq"
      }
    },
    {
      "cell_type": "code",
      "execution_count": 1,
      "source": [
        "def model_builder5(hp):\r\n",
        "  hp_units_L1 = hp.Choice('units_L1',values=[32, 64, 128], default=64)\r\n",
        "  hp_units_L2= hp.Choice('units_L2',values=[32, 64, 128], default=64)\r\n",
        "  hp_units1 = hp.Int('units_1', min_value=64, max_value=512, step=32)\r\n",
        "  hp_units2 = hp.Int('units_2', min_value=64, max_value=512, step=32)\r\n",
        "  hp_units3 = hp.Int('units_3', min_value=64, max_value=512, step=32)\r\n",
        "  hp_units4 = hp.Int('units_4', min_value=64, max_value=512, step=32)\r\n",
        "  hp_rate1 = hp.Float('dropout_1',min_value=0.0,max_value=0.5,default=0.2,step=0.05)\r\n",
        "  hp_rate2 = hp.Float('dropout_2',min_value=0.0,max_value=0.5,default=0.2,step=0.05)\r\n",
        "  hp_rate3 = hp.Float('dropout_3',min_value=0.0,max_value=0.5,default=0.2,step=0.05)\r\n",
        "  hp_rate4 = hp.Float('dropout_4',min_value=0.0,max_value=0.5,default=0.2,step=0.05)\r\n",
        "\r\n",
        "  qstn1=tf.keras.Input(shape=(), dtype=tf.string)\r\n",
        "  qstn2=tf.keras.Input(shape=(), dtype=tf.string)\r\n",
        "\r\n",
        "  qu1=embed(qstn1)\r\n",
        "  qu2=embed(qstn2)\r\n",
        "  concat=tf.keras.layers.concatenate([qu1,qu2])\r\n",
        "  concat=tf.keras.layers.Reshape((2,128))(concat)\r\n",
        "  concat=tf.keras.layers.Bidirectional(tf.keras.layers.LSTM(units=hp_units_L1, return_sequences=True))(concat)\r\n",
        "  concat=tf.keras.layers.GRU(units=hp_units_L2)(concat)\r\n",
        "  concat=tf.keras.layers.Dense(units=hp_units1,activation='relu')(concat)\r\n",
        "  concat=tf.keras.layers.Dropout(rate=hp_rate1)(concat)\r\n",
        "  concat=tf.keras.layers.BatchNormalization()(concat)\r\n",
        "  concat=tf.keras.layers.Dense(units=hp_units2,activation='relu')(concat)\r\n",
        "  concat=tf.keras.layers.Dropout(rate=hp_rate2)(concat)\r\n",
        "  concat=tf.keras.layers.BatchNormalization()(concat)\r\n",
        "  concat=tf.keras.layers.Dense(units=hp_units3,activation='relu')(concat)\r\n",
        "  concat=tf.keras.layers.Dropout(rate=hp_rate3)(concat)\r\n",
        "  concat=tf.keras.layers.BatchNormalization()(concat)\r\n",
        "  concat=tf.keras.layers.Dense(units=hp_units4,activation='relu')(concat)\r\n",
        "  concat=tf.keras.layers.Dropout(rate=hp_rate4)(concat)\r\n",
        "  concat=tf.keras.layers.BatchNormalization()(concat)\r\n",
        "  is_dupe=tf.keras.layers.Dense(1, activation=\"sigmoid\")(concat)\r\n",
        "\r\n",
        "  model = tf.keras.models.Model(inputs=[qstn1,qstn2], outputs=is_dupe)\r\n",
        "  model.compile(loss='binary_crossentropy', optimizer='adam', metrics=['accuracy'])\r\n",
        "  return model"
      ],
      "outputs": [],
      "metadata": {}
    },
    {
      "cell_type": "markdown",
      "source": [
        "## Model without GRU layer"
      ],
      "metadata": {}
    },
    {
      "cell_type": "code",
      "execution_count": 27,
      "source": [
        "def model_builder3(hp):\r\n",
        "  hp_units_L1 = hp.Choice('units_L1',values=[32, 64, 128], default=64)\r\n",
        "  hp_units1 = hp.Int('units_1', min_value=64, max_value=512, step=32)\r\n",
        "  hp_units2 = hp.Int('units_2', min_value=64, max_value=512, step=32)\r\n",
        "  hp_units3 = hp.Int('units_3', min_value=64, max_value=512, step=32)\r\n",
        "  hp_units4 = hp.Int('units_4', min_value=64, max_value=512, step=32)\r\n",
        "  hp_rate1 = hp.Float('dropout_1',min_value=0.0,max_value=0.5,default=0.2,step=0.05)\r\n",
        "  hp_rate2 = hp.Float('dropout_2',min_value=0.0,max_value=0.5,default=0.2,step=0.05)\r\n",
        "  hp_rate3 = hp.Float('dropout_3',min_value=0.0,max_value=0.5,default=0.2,step=0.05)\r\n",
        "  hp_rate4 = hp.Float('dropout_4',min_value=0.0,max_value=0.5,default=0.2,step=0.05)\r\n",
        "\r\n",
        "  qstn1=tf.keras.Input(shape=(), dtype=tf.string)\r\n",
        "  qstn2=tf.keras.Input(shape=(), dtype=tf.string)\r\n",
        "\r\n",
        "  qu1=embed(qstn1)\r\n",
        "  qu2=embed(qstn2)\r\n",
        "  concat=tf.keras.layers.concatenate([qu1,qu2])\r\n",
        "  concat=tf.keras.layers.Reshape((2,128))(concat)\r\n",
        "  concat=tf.keras.layers.Bidirectional(tf.keras.layers.LSTM(units=hp_units_L1))(concat)\r\n",
        "  concat=tf.keras.layers.Dense(units=hp_units1,activation='relu')(concat)\r\n",
        "  concat=tf.keras.layers.Dropout(rate=hp_rate1)(concat)\r\n",
        "  concat=tf.keras.layers.BatchNormalization()(concat)\r\n",
        "  concat=tf.keras.layers.Dense(units=hp_units2,activation='relu')(concat)\r\n",
        "  concat=tf.keras.layers.Dropout(rate=hp_rate2)(concat)\r\n",
        "  concat=tf.keras.layers.BatchNormalization()(concat)\r\n",
        "  concat=tf.keras.layers.Dense(units=hp_units3,activation='relu')(concat)\r\n",
        "  concat=tf.keras.layers.Dropout(rate=hp_rate3)(concat)\r\n",
        "  concat=tf.keras.layers.BatchNormalization()(concat)\r\n",
        "  concat=tf.keras.layers.Dense(units=hp_units4,activation='relu')(concat)\r\n",
        "  concat=tf.keras.layers.Dropout(rate=hp_rate4)(concat)\r\n",
        "  concat=tf.keras.layers.BatchNormalization()(concat)\r\n",
        "  is_dupe=tf.keras.layers.Dense(1, activation=\"sigmoid\")(concat)\r\n",
        "\r\n",
        "  model = tf.keras.models.Model(inputs=[qstn1,qstn2], outputs=is_dupe)\r\n",
        "  model.compile(loss='binary_crossentropy', optimizer='adam', metrics=['accuracy'])\r\n",
        "  return model"
      ],
      "outputs": [],
      "metadata": {}
    },
    {
      "cell_type": "code",
      "execution_count": 28,
      "source": [
        "def model_builder4(hp):\r\n",
        "  hp_units_L1 = hp.Choice('units_L1',values=[32, 64, 128], default=64)\r\n",
        "  hp_units_L2= hp.Choice('units_L2',values=[32, 64, 128], default=64)\r\n",
        "  hp_units1 = hp.Int('units_1', min_value=64, max_value=512, step=32)\r\n",
        "  hp_units2 = hp.Int('units_2', min_value=64, max_value=512, step=32)\r\n",
        "  hp_units3 = hp.Int('units_3', min_value=64, max_value=512, step=32)\r\n",
        "  hp_units4 = hp.Int('units_4', min_value=64, max_value=512, step=32)\r\n",
        "  hp_rate1 = hp.Float('dropout_1',min_value=0.0,max_value=0.5,default=0.2,step=0.05)\r\n",
        "  hp_rate2 = hp.Float('dropout_2',min_value=0.0,max_value=0.5,default=0.2,step=0.05)\r\n",
        "  hp_rate3 = hp.Float('dropout_3',min_value=0.0,max_value=0.5,default=0.2,step=0.05)\r\n",
        "  hp_rate4 = hp.Float('dropout_4',min_value=0.0,max_value=0.5,default=0.2,step=0.05)\r\n",
        "\r\n",
        "  qstn1=tf.keras.Input(shape=(), dtype=tf.string)\r\n",
        "  qstn2=tf.keras.Input(shape=(), dtype=tf.string)\r\n",
        "\r\n",
        "  qu1=embed(qstn1)\r\n",
        "  qu2=embed(qstn2)\r\n",
        "  concat=tf.keras.layers.concatenate([qu1,qu2])\r\n",
        "  concat=tf.keras.layers.Reshape((2,128))(concat)\r\n",
        "  concat=tf.keras.layers.Bidirectional(tf.keras.layers.LSTM(units=hp_units_L1, return_sequences=True))(concat)\r\n",
        "  concat=tf.keras.layers.Bidirectional(tf.keras.layers.LSTM(units=hp_units_L2))(concat)\r\n",
        "  concat=tf.keras.layers.Dense(units=hp_units1,activation='relu')(concat)\r\n",
        "  concat=tf.keras.layers.Dropout(rate=hp_rate1)(concat)\r\n",
        "  concat=tf.keras.layers.BatchNormalization()(concat)\r\n",
        "  concat=tf.keras.layers.Dense(units=hp_units2,activation='relu')(concat)\r\n",
        "  concat=tf.keras.layers.Dropout(rate=hp_rate2)(concat)\r\n",
        "  concat=tf.keras.layers.BatchNormalization()(concat)\r\n",
        "  concat=tf.keras.layers.Dense(units=hp_units3,activation='relu')(concat)\r\n",
        "  concat=tf.keras.layers.Dropout(rate=hp_rate3)(concat)\r\n",
        "  concat=tf.keras.layers.BatchNormalization()(concat)\r\n",
        "  concat=tf.keras.layers.Dense(units=hp_units4,activation='relu')(concat)\r\n",
        "  concat=tf.keras.layers.Dropout(rate=hp_rate4)(concat)\r\n",
        "  concat=tf.keras.layers.BatchNormalization()(concat)\r\n",
        "  is_dupe=tf.keras.layers.Dense(1, activation=\"sigmoid\")(concat)\r\n",
        "\r\n",
        "  model = tf.keras.models.Model(inputs=[qstn1,qstn2], outputs=is_dupe)\r\n",
        "  model.compile(loss='binary_crossentropy', optimizer='adam', metrics=['accuracy'])\r\n",
        "  return model"
      ],
      "outputs": [],
      "metadata": {}
    },
    {
      "cell_type": "markdown",
      "source": [
        "## Hyperparameter Tuning"
      ],
      "metadata": {}
    },
    {
      "cell_type": "code",
      "execution_count": 9,
      "source": [
        "stop_early = tf.keras.callbacks.EarlyStopping(monitor='val_accuracy', patience=2)"
      ],
      "outputs": [],
      "metadata": {}
    },
    {
      "cell_type": "code",
      "execution_count": 74,
      "source": [
        "tuner = kt.Hyperband(model_builder,\r\n",
        "                     objective='val_accuracy',\r\n",
        "                     max_epochs=8,\r\n",
        "                     factor=3,\r\n",
        "                     directory='C:/Users/stanl/Documents/keras_tuner_checkpoints',\r\n",
        "                     overwrite=False,\r\n",
        "                     project_name='model_gru1')"
      ],
      "outputs": [],
      "metadata": {
        "id": "Wd-LFUtJfbVx"
      }
    },
    {
      "cell_type": "code",
      "execution_count": 47,
      "source": [
        "tuner_1 = kt.Hyperband(model_builder_1,\r\n",
        "                     objective='val_accuracy',\r\n",
        "                     max_epochs=8,\r\n",
        "                     factor=3,\r\n",
        "                     directory='C:/Users/stanl/Documents/keras_tuner_checkpoints',\r\n",
        "                     overwrite=False,\r\n",
        "                     project_name='model_gru_1')"
      ],
      "outputs": [
        {
          "output_type": "stream",
          "name": "stdout",
          "text": [
            "WARNING:tensorflow:5 out of the last 11 calls to <function recreate_function.<locals>.restored_function_body at 0x000001924DAF9280> triggered tf.function retracing. Tracing is expensive and the excessive number of tracings could be due to (1) creating @tf.function repeatedly in a loop, (2) passing tensors with different shapes, (3) passing Python objects instead of tensors. For (1), please define your @tf.function outside of the loop. For (2), @tf.function has experimental_relax_shapes=True option that relaxes argument shapes that can avoid unnecessary retracing. For (3), please refer to https://www.tensorflow.org/tutorials/customization/performance#python_or_tensor_args and https://www.tensorflow.org/api_docs/python/tf/function for  more details.\n",
            "WARNING:tensorflow:AutoGraph could not transform <bound method KerasLayer.call of <tensorflow_hub.keras_layer.KerasLayer object at 0x000001924C0B8340>> and will run it as-is.\n",
            "Please report this to the TensorFlow team. When filing the bug, set the verbosity to 10 (on Linux, `export AUTOGRAPH_VERBOSITY=10`) and attach the full output.\n",
            "Cause: module 'gast' has no attribute 'Index'\n",
            "To silence this warning, decorate the function with @tf.autograph.experimental.do_not_convert\n",
            "WARNING: AutoGraph could not transform <bound method KerasLayer.call of <tensorflow_hub.keras_layer.KerasLayer object at 0x000001924C0B8340>> and will run it as-is.\n",
            "Please report this to the TensorFlow team. When filing the bug, set the verbosity to 10 (on Linux, `export AUTOGRAPH_VERBOSITY=10`) and attach the full output.\n",
            "Cause: module 'gast' has no attribute 'Index'\n",
            "To silence this warning, decorate the function with @tf.autograph.experimental.do_not_convert\n"
          ]
        }
      ],
      "metadata": {}
    },
    {
      "cell_type": "code",
      "execution_count": 49,
      "source": [
        "tuner_2 = kt.Hyperband(model_builder_2,\r\n",
        "                     objective='val_accuracy',\r\n",
        "                     max_epochs=8,\r\n",
        "                     factor=3,\r\n",
        "                     directory='C:/Users/stanl/Documents/keras_tuner_checkpoints',\r\n",
        "                     overwrite=False,\r\n",
        "                     project_name='model_gru_2')"
      ],
      "outputs": [],
      "metadata": {}
    },
    {
      "cell_type": "code",
      "execution_count": 8,
      "source": [
        "tuner2 = kt.Hyperband(model_builder2,\r\n",
        "                     objective='val_accuracy',\r\n",
        "                     max_epochs=8,\r\n",
        "                     factor=3,\r\n",
        "                     directory='C:/Users/stanl/Documents/keras_tuner_checkpoints',\r\n",
        "                     overwrite=False,\r\n",
        "                     project_name='model_gru_red')"
      ],
      "outputs": [
        {
          "output_type": "stream",
          "name": "stdout",
          "text": [
            "INFO:tensorflow:Reloading Oracle from existing project C:/Users/stanl/Documents/keras_tuner_checkpoints\\model_gru_red\\oracle.json\n",
            "WARNING:tensorflow:AutoGraph could not transform <bound method KerasLayer.call of <tensorflow_hub.keras_layer.KerasLayer object at 0x000001D164A7D0A0>> and will run it as-is.\n",
            "Please report this to the TensorFlow team. When filing the bug, set the verbosity to 10 (on Linux, `export AUTOGRAPH_VERBOSITY=10`) and attach the full output.\n",
            "Cause: module 'gast' has no attribute 'Index'\n",
            "To silence this warning, decorate the function with @tf.autograph.experimental.do_not_convert\n",
            "WARNING: AutoGraph could not transform <bound method KerasLayer.call of <tensorflow_hub.keras_layer.KerasLayer object at 0x000001D164A7D0A0>> and will run it as-is.\n",
            "Please report this to the TensorFlow team. When filing the bug, set the verbosity to 10 (on Linux, `export AUTOGRAPH_VERBOSITY=10`) and attach the full output.\n",
            "Cause: module 'gast' has no attribute 'Index'\n",
            "To silence this warning, decorate the function with @tf.autograph.experimental.do_not_convert\n",
            "INFO:tensorflow:Reloading Tuner from C:/Users/stanl/Documents/keras_tuner_checkpoints\\model_gru_red\\tuner0.json\n"
          ]
        }
      ],
      "metadata": {
        "id": "1ju9Hga5_rAY"
      }
    },
    {
      "cell_type": "code",
      "execution_count": 29,
      "source": [
        "tuner3 = kt.Hyperband(model_builder3,\r\n",
        "                     objective='val_accuracy',\r\n",
        "                     max_epochs=8,\r\n",
        "                     factor=3,\r\n",
        "                     directory='C:/Users/stanl/Documents/keras_tuner_checkpoints',\r\n",
        "                     overwrite=False,\r\n",
        "                     project_name='model_bilstm_red')"
      ],
      "outputs": [
        {
          "output_type": "stream",
          "name": "stdout",
          "text": [
            "INFO:tensorflow:Reloading Oracle from existing project C:/Users/stanl/Documents/keras_tuner_checkpoints\\model_bilstm_red\\oracle.json\n",
            "INFO:tensorflow:Reloading Tuner from C:/Users/stanl/Documents/keras_tuner_checkpoints\\model_bilstm_red\\tuner0.json\n"
          ]
        }
      ],
      "metadata": {}
    },
    {
      "cell_type": "code",
      "execution_count": 30,
      "source": [
        "tuner4 = kt.Hyperband(model_builder4,\r\n",
        "                     objective='val_accuracy',\r\n",
        "                     max_epochs=8,\r\n",
        "                     factor=3,\r\n",
        "                     directory='C:/Users/stanl/Documents/keras_tuner_checkpoints',\r\n",
        "                     overwrite=False,\r\n",
        "                     project_name='model_bilstm_1')"
      ],
      "outputs": [
        {
          "output_type": "stream",
          "name": "stdout",
          "text": [
            "INFO:tensorflow:Reloading Oracle from existing project C:/Users/stanl/Documents/keras_tuner_checkpoints\\model_bilstm_1\\oracle.json\n",
            "INFO:tensorflow:Reloading Tuner from C:/Users/stanl/Documents/keras_tuner_checkpoints\\model_bilstm_1\\tuner0.json\n"
          ]
        }
      ],
      "metadata": {}
    },
    {
      "cell_type": "code",
      "execution_count": 10,
      "source": [
        "tuner5 = kt.Hyperband(model_builder5,\r\n",
        "                     objective='val_accuracy',\r\n",
        "                     max_epochs=8,\r\n",
        "                     factor=3,\r\n",
        "                     directory='C:/Users/stanl/Documents/keras_tuner_checkpoints',\r\n",
        "                     overwrite=False,\r\n",
        "                     project_name='model_gru_0')"
      ],
      "outputs": [
        {
          "output_type": "stream",
          "name": "stdout",
          "text": [
            "INFO:tensorflow:Reloading Oracle from existing project C:/Users/stanl/Documents/keras_tuner_checkpoints\\model_gru_0\\oracle.json\n",
            "WARNING:tensorflow:AutoGraph could not transform <bound method KerasLayer.call of <tensorflow_hub.keras_layer.KerasLayer object at 0x0000019161B15130>> and will run it as-is.\n",
            "Please report this to the TensorFlow team. When filing the bug, set the verbosity to 10 (on Linux, `export AUTOGRAPH_VERBOSITY=10`) and attach the full output.\n",
            "Cause: module 'gast' has no attribute 'Index'\n",
            "To silence this warning, decorate the function with @tf.autograph.experimental.do_not_convert\n",
            "WARNING: AutoGraph could not transform <bound method KerasLayer.call of <tensorflow_hub.keras_layer.KerasLayer object at 0x0000019161B15130>> and will run it as-is.\n",
            "Please report this to the TensorFlow team. When filing the bug, set the verbosity to 10 (on Linux, `export AUTOGRAPH_VERBOSITY=10`) and attach the full output.\n",
            "Cause: module 'gast' has no attribute 'Index'\n",
            "To silence this warning, decorate the function with @tf.autograph.experimental.do_not_convert\n",
            "INFO:tensorflow:Reloading Tuner from C:/Users/stanl/Documents/keras_tuner_checkpoints\\model_gru_0\\tuner0.json\n"
          ]
        }
      ],
      "metadata": {}
    },
    {
      "cell_type": "code",
      "execution_count": 75,
      "source": [
        "tuner.search([Q1_train, Q2_train], yt, epochs=8, validation_split=0.1, callbacks=[stop_early])\r\n",
        "\r\n",
        "# Get the optimal hyperparameters\r\n",
        "best_hps=tuner.get_best_hyperparameters(num_trials=1)[0]\r\n",
        "\r\n",
        "print(f\"\"\"\r\n",
        "The hyperparameter search is complete. The optimal number of units in the densely-connected\r\n",
        "layer are {best_hps.get('units_1')}, {best_hps.get('units_2')}, {best_hps.get('units_3')}, {best_hps.get('units_4')} and the optimal droupout rate for the optimizer\r\n",
        "is {best_hps.get('dropout_1')}, {best_hps.get('dropout_2')}, {best_hps.get('dropout_3')}, {best_hps.get('dropout_4')}.\r\n",
        "\"\"\")"
      ],
      "outputs": [
        {
          "output_type": "stream",
          "name": "stdout",
          "text": [
            "Trial 10 Complete [00h 10m 54s]\n",
            "val_accuracy: 0.7952508926391602\n",
            "\n",
            "Best val_accuracy So Far: 0.7984389662742615\n",
            "Total elapsed time: 01h 11m 52s\n",
            "INFO:tensorflow:Oracle triggered exit\n",
            "\n",
            "The hyperparameter search is complete. The optimal number of units in the densely-connected\n",
            "layer are 128, 128, 384, 480 and the optimal droupout rate for the optimizer\n",
            "is 0.25, 0.2, 0.05, 0.25.\n",
            "\n"
          ]
        }
      ],
      "metadata": {
        "colab": {
          "base_uri": "https://localhost:8080/",
          "height": 812
        },
        "id": "_hHKoa2of2Rh",
        "outputId": "ad180ad1-bed5-4bd7-f424-1c59ba175c42"
      }
    },
    {
      "cell_type": "code",
      "execution_count": 50,
      "source": [
        "tuner_1.search([Q1_train, Q2_train], yt, epochs=8, validation_split=0.1, callbacks=[stop_early])\r\n",
        "\r\n",
        "# Get the optimal hyperparameters\r\n",
        "best_hps_1=tuner_1.get_best_hyperparameters(num_trials=1)[0]\r\n",
        "\r\n",
        "print(f\"\"\"\r\n",
        "The hyperparameter search is complete. The optimal number of units in the densely-connected\r\n",
        "layer are {best_hps_1.get('units_1')}, {best_hps_1.get('units_2')}, {best_hps_1.get('units_3')}, {best_hps_1.get('units_4')} and the optimal droupout rate for the optimizer\r\n",
        "is {best_hps_1.get('dropout_1')}, {best_hps_1.get('dropout_2')}, {best_hps_1.get('dropout_3')}, {best_hps_1.get('dropout_4')}.\r\n",
        "\"\"\")"
      ],
      "outputs": [
        {
          "output_type": "stream",
          "name": "stdout",
          "text": [
            "Trial 10 Complete [00h 18m 01s]\n",
            "val_accuracy: 0.8011048436164856\n",
            "\n",
            "Best val_accuracy So Far: 0.8011048436164856\n",
            "Total elapsed time: 01h 31m 00s\n",
            "INFO:tensorflow:Oracle triggered exit\n",
            "\n",
            "The hyperparameter search is complete. The optimal number of units in the densely-connected\n",
            "layer are 480, 480, 128, 288 and the optimal droupout rate for the optimizer\n",
            "is 0.0, 0.5, 0.25, 0.2.\n",
            "\n"
          ]
        }
      ],
      "metadata": {}
    },
    {
      "cell_type": "code",
      "execution_count": 80,
      "source": [
        "tuner_2.search([Q1_train, Q2_train], yt, epochs=8, validation_split=0.1, callbacks=[stop_early])\r\n",
        "\r\n",
        "# Get the optimal hyperparameters\r\n",
        "best_hps_2=tuner_2.get_best_hyperparameters(num_trials=1)[0]\r\n",
        "\r\n",
        "print(f\"\"\"\r\n",
        "The hyperparameter search is complete. The optimal number of units in the RNN layers are \r\n",
        "{best_hps_2.get('units_L1')}, {best_hps_2.get('units_L2')}, {best_hps_2.get('units_L3')}, the densely-connected\r\n",
        "layers are {best_hps_2.get('units_1')}, {best_hps_2.get('units_2')}, {best_hps_2.get('units_3')}, {best_hps_2.get('units_4')} and the optimal droupout rate for the optimizer\r\n",
        "is {best_hps_2.get('dropout_1')}, {best_hps_2.get('dropout_2')}, {best_hps_2.get('dropout_3')}, {best_hps_2.get('dropout_4')}.\r\n",
        "\"\"\")"
      ],
      "outputs": [
        {
          "output_type": "stream",
          "name": "stdout",
          "text": [
            "Trial 10 Complete [00h 10m 05s]\n",
            "val_accuracy: 0.7849997282028198\n",
            "\n",
            "Best val_accuracy So Far: 0.8016819953918457\n",
            "Total elapsed time: 01h 44m 20s\n",
            "INFO:tensorflow:Oracle triggered exit\n",
            "\n",
            "The hyperparameter search is complete. The optimal number of units in the RNN layers are \n",
            "128, 64, 128, the densely-connected\n",
            "layers are 512, 224, 160, 224 and the optimal droupout rate for the optimizer\n",
            "is 0.45, 0.2, 0.25, 0.4.\n",
            "\n"
          ]
        }
      ],
      "metadata": {}
    },
    {
      "cell_type": "code",
      "execution_count": 14,
      "source": [
        "tuner2.search([Q1_train, Q2_train], yt, epochs=8, validation_split=0.1, callbacks=[stop_early])\r\n",
        "\r\n",
        "# Get the optimal hyperparameters\r\n",
        "best_hps2=tuner2.get_best_hyperparameters(num_trials=1)[0]"
      ],
      "outputs": [
        {
          "output_type": "stream",
          "name": "stdout",
          "text": [
            "Trial 3 Complete [00h 04m 14s]\n",
            "val_accuracy: 0.7827185988426208\n",
            "\n",
            "Best val_accuracy So Far: 0.7913758158683777\n",
            "Total elapsed time: 00h 13m 48s\n",
            "INFO:tensorflow:Oracle triggered exit\n"
          ]
        }
      ],
      "metadata": {
        "colab": {
          "base_uri": "https://localhost:8080/"
        },
        "id": "VfOb7DeW_3mZ",
        "outputId": "fbacb977-76d7-4301-fcbf-763ba9a39c39"
      }
    },
    {
      "cell_type": "code",
      "execution_count": 16,
      "source": [
        "print(f\"\"\"\r\n",
        "The hyperparameter search is complete. The optimal number of units in the RNN layers are \r\n",
        "{best_hps2.get('units_L1')}, {best_hps2.get('units_L2')}, {best_hps2.get('units_L3')}, the densely-connected\r\n",
        "layers are {best_hps2.get('units_1')}, {best_hps2.get('units_2')}, {best_hps2.get('units_3')} and the optimal droupout rates \r\n",
        "are {best_hps2.get('dropout_1')}, {best_hps2.get('dropout_2')}, {best_hps2.get('dropout_3')}.\r\n",
        "\"\"\")"
      ],
      "outputs": [
        {
          "output_type": "stream",
          "name": "stdout",
          "text": [
            "\n",
            "The hyperparameter search is complete. The optimal number of units in the RNN layers are \n",
            "128, 128, 64, the densely-connected\n",
            "layers are 448, 256, 256 and the optimal droupout rates \n",
            "are 0.35000000000000003, 0.45, 0.30000000000000004.\n",
            "\n"
          ]
        }
      ],
      "metadata": {
        "colab": {
          "base_uri": "https://localhost:8080/",
          "height": 298
        },
        "id": "nCYEBUtJEeKE",
        "outputId": "517789ea-f987-4c63-9db5-c12143338015"
      }
    },
    {
      "cell_type": "code",
      "execution_count": 32,
      "source": [
        "tuner3.search([Q1_train, Q2_train], yt, epochs=8, validation_split=0.1, callbacks=[stop_early])\r\n",
        "\r\n",
        "# Get the optimal hyperparameters\r\n",
        "best_hps3=tuner3.get_best_hyperparameters(num_trials=1)[0]\r\n",
        "\r\n",
        "print(f\"\"\"\r\n",
        "The hyperparameter search is complete. The optimal number of units in the RNN layer is \r\n",
        "{best_hps3.get('units_L1')} the densely-connected\r\n",
        "layers are {best_hps3.get('units_1')}, {best_hps3.get('units_2')}, {best_hps3.get('units_3')}, {best_hps3.get('units_4')} and the optimal droupout rates \r\n",
        "are {best_hps3.get('dropout_1')}, {best_hps3.get('dropout_2')}, {best_hps3.get('dropout_3')}, {best_hps3.get('dropout_4')}.\r\n",
        "\"\"\")"
      ],
      "outputs": [
        {
          "output_type": "stream",
          "name": "stdout",
          "text": [
            "Trial 3 Complete [00h 04m 08s]\n",
            "val_accuracy: 0.7767822742462158\n",
            "\n",
            "Best val_accuracy So Far: 0.7884900569915771\n",
            "Total elapsed time: 00h 12m 48s\n",
            "INFO:tensorflow:Oracle triggered exit\n",
            "\n",
            "The hyperparameter search is complete. The optimal number of units in the RNN layer is \n",
            "64 the densely-connected\n",
            "layers are 160, 192, 192, 192 and the optimal droupout rates \n",
            "are 0.2, 0.2, 0.2, 0.4.\n",
            "\n"
          ]
        }
      ],
      "metadata": {}
    },
    {
      "cell_type": "code",
      "execution_count": 34,
      "source": [
        "tuner4.search([Q1_train, Q2_train], yt, epochs=8, validation_split=0.1, callbacks=[stop_early])\r\n",
        "\r\n",
        "# Get the optimal hyperparameters\r\n",
        "best_hps4=tuner4.get_best_hyperparameters(num_trials=1)[0]\r\n",
        "\r\n",
        "print(f\"\"\"\r\n",
        "The hyperparameter search is complete. The optimal number of units in the RNN layers are \r\n",
        "{best_hps4.get('units_L1')},  {best_hps4.get('units_L2')} the densely-connected\r\n",
        "layers are {best_hps4.get('units_1')}, {best_hps4.get('units_2')}, {best_hps4.get('units_3')}, {best_hps4.get('units_4')} and the optimal droupout rates \r\n",
        "are {best_hps4.get('dropout_1')}, {best_hps4.get('dropout_2')}, {best_hps4.get('dropout_3')}, {best_hps4.get('dropout_4')}.\r\n",
        "\"\"\")"
      ],
      "outputs": [
        {
          "output_type": "stream",
          "name": "stdout",
          "text": [
            "Trial 3 Complete [00h 06m 00s]\n",
            "val_accuracy: 0.7782663702964783\n",
            "\n",
            "Best val_accuracy So Far: 0.789369523525238\n",
            "Total elapsed time: 00h 19m 33s\n",
            "INFO:tensorflow:Oracle triggered exit\n",
            "\n",
            "The hyperparameter search is complete. The optimal number of units in the RNN layers are \n",
            "128,  32 the densely-connected\n",
            "layers are 416, 384, 192, 480 and the optimal droupout rates \n",
            "are 0.2, 0.0, 0.05, 0.45.\n",
            "\n"
          ]
        }
      ],
      "metadata": {}
    },
    {
      "cell_type": "code",
      "execution_count": 12,
      "source": [
        "tuner5.search([Q1_train, Q2_train], yt, epochs=8, validation_split=0.1, callbacks=[stop_early])\r\n",
        "\r\n",
        "# Get the optimal hyperparameters\r\n",
        "best_hps5=tuner5.get_best_hyperparameters(num_trials=1)[0]\r\n",
        "\r\n",
        "print(f\"\"\"\r\n",
        "The hyperparameter search is complete. The optimal number of units in the RNN layers are \r\n",
        "{best_hps5.get('units_L1')},  {best_hps5.get('units_L2')} the densely-connected\r\n",
        "layers are {best_hps5.get('units_1')}, {best_hps5.get('units_2')}, {best_hps5.get('units_3')}, {best_hps5.get('units_4')} and the optimal droupout rates \r\n",
        "are {best_hps5.get('dropout_1')}, {best_hps5.get('dropout_2')}, {best_hps5.get('dropout_3')}, {best_hps5.get('dropout_4')}.\r\n",
        "\"\"\")"
      ],
      "outputs": [
        {
          "output_type": "stream",
          "name": "stdout",
          "text": [
            "Trial 3 Complete [00h 05m 08s]\n",
            "val_accuracy: 0.7833782434463501\n",
            "\n",
            "Best val_accuracy So Far: 0.7966250777244568\n",
            "Total elapsed time: 00h 14m 24s\n",
            "INFO:tensorflow:Oracle triggered exit\n",
            "\n",
            "The hyperparameter search is complete. The optimal number of units in the RNN layers are \n",
            "128,  128 the densely-connected\n",
            "layers are 320, 160, 96, 384 and the optimal droupout rates \n",
            "are 0.0, 0.05, 0.05, 0.45.\n",
            "\n"
          ]
        }
      ],
      "metadata": {}
    },
    {
      "cell_type": "markdown",
      "source": [
        "## Models after tuned"
      ],
      "metadata": {}
    },
    {
      "cell_type": "code",
      "execution_count": 76,
      "source": [
        "best_model = tuner.get_best_models()[0]\r\n",
        "best_model.summary()"
      ],
      "outputs": [
        {
          "output_type": "stream",
          "name": "stdout",
          "text": [
            "Model: \"functional_1\"\n",
            "__________________________________________________________________________________________________\n",
            "Layer (type)                    Output Shape         Param #     Connected to                     \n",
            "==================================================================================================\n",
            "input_1 (InputLayer)            [(None,)]            0                                            \n",
            "__________________________________________________________________________________________________\n",
            "input_2 (InputLayer)            [(None,)]            0                                            \n",
            "__________________________________________________________________________________________________\n",
            "keras_layer (KerasLayer)        (None, 128)          112461824   input_1[0][0]                    \n",
            "                                                                 input_2[0][0]                    \n",
            "__________________________________________________________________________________________________\n",
            "concatenate (Concatenate)       (None, 256)          0           keras_layer[44][0]               \n",
            "                                                                 keras_layer[45][0]               \n",
            "__________________________________________________________________________________________________\n",
            "reshape (Reshape)               (None, 2, 128)       0           concatenate[0][0]                \n",
            "__________________________________________________________________________________________________\n",
            "bidirectional (Bidirectional)   (None, 2, 128)       98816       reshape[0][0]                    \n",
            "__________________________________________________________________________________________________\n",
            "gru (GRU)                       (None, 2, 64)        37248       bidirectional[0][0]              \n",
            "__________________________________________________________________________________________________\n",
            "bidirectional_1 (Bidirectional) (None, 64)           24832       gru[0][0]                        \n",
            "__________________________________________________________________________________________________\n",
            "dense (Dense)                   (None, 128)          8320        bidirectional_1[0][0]            \n",
            "__________________________________________________________________________________________________\n",
            "dropout (Dropout)               (None, 128)          0           dense[0][0]                      \n",
            "__________________________________________________________________________________________________\n",
            "batch_normalization (BatchNorma (None, 128)          512         dropout[0][0]                    \n",
            "__________________________________________________________________________________________________\n",
            "dense_1 (Dense)                 (None, 128)          16512       batch_normalization[0][0]        \n",
            "__________________________________________________________________________________________________\n",
            "dropout_1 (Dropout)             (None, 128)          0           dense_1[0][0]                    \n",
            "__________________________________________________________________________________________________\n",
            "batch_normalization_1 (BatchNor (None, 128)          512         dropout_1[0][0]                  \n",
            "__________________________________________________________________________________________________\n",
            "dense_2 (Dense)                 (None, 384)          49536       batch_normalization_1[0][0]      \n",
            "__________________________________________________________________________________________________\n",
            "dropout_2 (Dropout)             (None, 384)          0           dense_2[0][0]                    \n",
            "__________________________________________________________________________________________________\n",
            "batch_normalization_2 (BatchNor (None, 384)          1536        dropout_2[0][0]                  \n",
            "__________________________________________________________________________________________________\n",
            "dense_3 (Dense)                 (None, 480)          184800      batch_normalization_2[0][0]      \n",
            "__________________________________________________________________________________________________\n",
            "dropout_3 (Dropout)             (None, 480)          0           dense_3[0][0]                    \n",
            "__________________________________________________________________________________________________\n",
            "batch_normalization_3 (BatchNor (None, 480)          1920        dropout_3[0][0]                  \n",
            "__________________________________________________________________________________________________\n",
            "dense_4 (Dense)                 (None, 1)            481         batch_normalization_3[0][0]      \n",
            "==================================================================================================\n",
            "Total params: 112,886,849\n",
            "Trainable params: 422,785\n",
            "Non-trainable params: 112,464,064\n",
            "__________________________________________________________________________________________________\n"
          ]
        }
      ],
      "metadata": {
        "colab": {
          "base_uri": "https://localhost:8080/"
        },
        "id": "_v0OYgGy0EHO",
        "outputId": "848b189f-8c20-4428-ab4f-8af718663e4e"
      }
    },
    {
      "cell_type": "code",
      "execution_count": 25,
      "source": [
        "# history = best_model.fit([Q1_train, Q2_train],yt, epochs=3, validation_split=0.1)"
      ],
      "outputs": [
        {
          "output_type": "stream",
          "name": "stdout",
          "text": [
            "Epoch 1/3\n",
            "10234/10234 [==============================] - 71s 7ms/step - loss: 0.4211 - accuracy: 0.7984 - val_loss: 0.4571 - val_accuracy: 0.7803\n",
            "Epoch 2/3\n",
            "10234/10234 [==============================] - 74s 7ms/step - loss: 0.4084 - accuracy: 0.8061 - val_loss: 0.4307 - val_accuracy: 0.7909\n",
            "Epoch 3/3\n",
            "10234/10234 [==============================] - 74s 7ms/step - loss: 0.3986 - accuracy: 0.8129 - val_loss: 0.4470 - val_accuracy: 0.7872\n"
          ]
        }
      ],
      "metadata": {}
    },
    {
      "cell_type": "code",
      "execution_count": 51,
      "source": [
        "best_model_1 = tuner_1.get_best_models()[0]\r\n",
        "best_model_1.summary()"
      ],
      "outputs": [
        {
          "output_type": "stream",
          "name": "stdout",
          "text": [
            "Model: \"functional_1\"\n",
            "__________________________________________________________________________________________________\n",
            "Layer (type)                    Output Shape         Param #     Connected to                     \n",
            "==================================================================================================\n",
            "input_1 (InputLayer)            [(None,)]            0                                            \n",
            "__________________________________________________________________________________________________\n",
            "input_2 (InputLayer)            [(None,)]            0                                            \n",
            "__________________________________________________________________________________________________\n",
            "keras_layer_1 (KerasLayer)      (None, 128)          112461824   input_1[0][0]                    \n",
            "                                                                 input_2[0][0]                    \n",
            "__________________________________________________________________________________________________\n",
            "concatenate (Concatenate)       (None, 256)          0           keras_layer_1[24][0]             \n",
            "                                                                 keras_layer_1[25][0]             \n",
            "__________________________________________________________________________________________________\n",
            "reshape (Reshape)               (None, 2, 128)       0           concatenate[0][0]                \n",
            "__________________________________________________________________________________________________\n",
            "bidirectional (Bidirectional)   (None, 2, 256)       263168      reshape[0][0]                    \n",
            "__________________________________________________________________________________________________\n",
            "gru (GRU)                       (None, 2, 64)        61824       bidirectional[0][0]              \n",
            "__________________________________________________________________________________________________\n",
            "bidirectional_1 (Bidirectional) (None, 128)          66048       gru[0][0]                        \n",
            "__________________________________________________________________________________________________\n",
            "dense (Dense)                   (None, 480)          61920       bidirectional_1[0][0]            \n",
            "__________________________________________________________________________________________________\n",
            "dropout (Dropout)               (None, 480)          0           dense[0][0]                      \n",
            "__________________________________________________________________________________________________\n",
            "batch_normalization (BatchNorma (None, 480)          1920        dropout[0][0]                    \n",
            "__________________________________________________________________________________________________\n",
            "dense_1 (Dense)                 (None, 480)          230880      batch_normalization[0][0]        \n",
            "__________________________________________________________________________________________________\n",
            "dropout_1 (Dropout)             (None, 480)          0           dense_1[0][0]                    \n",
            "__________________________________________________________________________________________________\n",
            "batch_normalization_1 (BatchNor (None, 480)          1920        dropout_1[0][0]                  \n",
            "__________________________________________________________________________________________________\n",
            "dense_2 (Dense)                 (None, 128)          61568       batch_normalization_1[0][0]      \n",
            "__________________________________________________________________________________________________\n",
            "dropout_2 (Dropout)             (None, 128)          0           dense_2[0][0]                    \n",
            "__________________________________________________________________________________________________\n",
            "batch_normalization_2 (BatchNor (None, 128)          512         dropout_2[0][0]                  \n",
            "__________________________________________________________________________________________________\n",
            "dense_3 (Dense)                 (None, 288)          37152       batch_normalization_2[0][0]      \n",
            "__________________________________________________________________________________________________\n",
            "dropout_3 (Dropout)             (None, 288)          0           dense_3[0][0]                    \n",
            "__________________________________________________________________________________________________\n",
            "batch_normalization_3 (BatchNor (None, 288)          1152        dropout_3[0][0]                  \n",
            "__________________________________________________________________________________________________\n",
            "dense_4 (Dense)                 (None, 1)            289         batch_normalization_3[0][0]      \n",
            "==================================================================================================\n",
            "Total params: 113,250,177\n",
            "Trainable params: 785,601\n",
            "Non-trainable params: 112,464,576\n",
            "__________________________________________________________________________________________________\n"
          ]
        }
      ],
      "metadata": {}
    },
    {
      "cell_type": "code",
      "execution_count": 81,
      "source": [
        "best_model_2 = tuner_2.get_best_models()[0]\r\n",
        "best_model_2.summary()"
      ],
      "outputs": [
        {
          "output_type": "stream",
          "name": "stdout",
          "text": [
            "Model: \"functional_1\"\n",
            "__________________________________________________________________________________________________\n",
            "Layer (type)                    Output Shape         Param #     Connected to                     \n",
            "==================================================================================================\n",
            "input_1 (InputLayer)            [(None,)]            0                                            \n",
            "__________________________________________________________________________________________________\n",
            "input_2 (InputLayer)            [(None,)]            0                                            \n",
            "__________________________________________________________________________________________________\n",
            "keras_layer_1 (KerasLayer)      (None, 128)          112461824   input_1[0][0]                    \n",
            "                                                                 input_2[0][0]                    \n",
            "__________________________________________________________________________________________________\n",
            "concatenate (Concatenate)       (None, 256)          0           keras_layer_1[46][0]             \n",
            "                                                                 keras_layer_1[47][0]             \n",
            "__________________________________________________________________________________________________\n",
            "reshape (Reshape)               (None, 2, 128)       0           concatenate[0][0]                \n",
            "__________________________________________________________________________________________________\n",
            "bidirectional (Bidirectional)   (None, 2, 256)       263168      reshape[0][0]                    \n",
            "__________________________________________________________________________________________________\n",
            "gru (GRU)                       (None, 2, 64)        61824       bidirectional[0][0]              \n",
            "__________________________________________________________________________________________________\n",
            "bidirectional_1 (Bidirectional) (None, 256)          197632      gru[0][0]                        \n",
            "__________________________________________________________________________________________________\n",
            "dense (Dense)                   (None, 512)          131584      bidirectional_1[0][0]            \n",
            "__________________________________________________________________________________________________\n",
            "dropout (Dropout)               (None, 512)          0           dense[0][0]                      \n",
            "__________________________________________________________________________________________________\n",
            "batch_normalization (BatchNorma (None, 512)          2048        dropout[0][0]                    \n",
            "__________________________________________________________________________________________________\n",
            "dense_1 (Dense)                 (None, 224)          114912      batch_normalization[0][0]        \n",
            "__________________________________________________________________________________________________\n",
            "dropout_1 (Dropout)             (None, 224)          0           dense_1[0][0]                    \n",
            "__________________________________________________________________________________________________\n",
            "batch_normalization_1 (BatchNor (None, 224)          896         dropout_1[0][0]                  \n",
            "__________________________________________________________________________________________________\n",
            "dense_2 (Dense)                 (None, 160)          36000       batch_normalization_1[0][0]      \n",
            "__________________________________________________________________________________________________\n",
            "dropout_2 (Dropout)             (None, 160)          0           dense_2[0][0]                    \n",
            "__________________________________________________________________________________________________\n",
            "batch_normalization_2 (BatchNor (None, 160)          640         dropout_2[0][0]                  \n",
            "__________________________________________________________________________________________________\n",
            "dense_3 (Dense)                 (None, 224)          36064       batch_normalization_2[0][0]      \n",
            "__________________________________________________________________________________________________\n",
            "dropout_3 (Dropout)             (None, 224)          0           dense_3[0][0]                    \n",
            "__________________________________________________________________________________________________\n",
            "batch_normalization_3 (BatchNor (None, 224)          896         dropout_3[0][0]                  \n",
            "__________________________________________________________________________________________________\n",
            "dense_4 (Dense)                 (None, 1)            225         batch_normalization_3[0][0]      \n",
            "==================================================================================================\n",
            "Total params: 113,307,713\n",
            "Trainable params: 843,649\n",
            "Non-trainable params: 112,464,064\n",
            "__________________________________________________________________________________________________\n"
          ]
        }
      ],
      "metadata": {}
    },
    {
      "cell_type": "code",
      "execution_count": 17,
      "source": [
        "best_model2 = tuner2.get_best_models()[0]\r\n",
        "best_model2.summary()"
      ],
      "outputs": [
        {
          "output_type": "stream",
          "name": "stdout",
          "text": [
            "Model: \"functional_1\"\n",
            "__________________________________________________________________________________________________\n",
            "Layer (type)                    Output Shape         Param #     Connected to                     \n",
            "==================================================================================================\n",
            "input_1 (InputLayer)            [(None,)]            0                                            \n",
            "__________________________________________________________________________________________________\n",
            "input_2 (InputLayer)            [(None,)]            0                                            \n",
            "__________________________________________________________________________________________________\n",
            "keras_layer (KerasLayer)        (None, 128)          112461824   input_1[0][0]                    \n",
            "                                                                 input_2[0][0]                    \n",
            "__________________________________________________________________________________________________\n",
            "concatenate (Concatenate)       (None, 256)          0           keras_layer[8][0]                \n",
            "                                                                 keras_layer[9][0]                \n",
            "__________________________________________________________________________________________________\n",
            "reshape (Reshape)               (None, 2, 128)       0           concatenate[0][0]                \n",
            "__________________________________________________________________________________________________\n",
            "bidirectional (Bidirectional)   (None, 2, 256)       263168      reshape[0][0]                    \n",
            "__________________________________________________________________________________________________\n",
            "gru (GRU)                       (None, 2, 128)       148224      bidirectional[0][0]              \n",
            "__________________________________________________________________________________________________\n",
            "bidirectional_1 (Bidirectional) (None, 128)          98816       gru[0][0]                        \n",
            "__________________________________________________________________________________________________\n",
            "dense (Dense)                   (None, 448)          57792       bidirectional_1[0][0]            \n",
            "__________________________________________________________________________________________________\n",
            "dropout (Dropout)               (None, 448)          0           dense[0][0]                      \n",
            "__________________________________________________________________________________________________\n",
            "batch_normalization (BatchNorma (None, 448)          1792        dropout[0][0]                    \n",
            "__________________________________________________________________________________________________\n",
            "dense_1 (Dense)                 (None, 256)          114944      batch_normalization[0][0]        \n",
            "__________________________________________________________________________________________________\n",
            "dropout_1 (Dropout)             (None, 256)          0           dense_1[0][0]                    \n",
            "__________________________________________________________________________________________________\n",
            "batch_normalization_1 (BatchNor (None, 256)          1024        dropout_1[0][0]                  \n",
            "__________________________________________________________________________________________________\n",
            "dense_2 (Dense)                 (None, 256)          65792       batch_normalization_1[0][0]      \n",
            "__________________________________________________________________________________________________\n",
            "dropout_2 (Dropout)             (None, 256)          0           dense_2[0][0]                    \n",
            "__________________________________________________________________________________________________\n",
            "dense_3 (Dense)                 (None, 1)            257         dropout_2[0][0]                  \n",
            "==================================================================================================\n",
            "Total params: 113,213,633\n",
            "Trainable params: 750,401\n",
            "Non-trainable params: 112,463,232\n",
            "__________________________________________________________________________________________________\n"
          ]
        }
      ],
      "metadata": {
        "id": "31yDYwGKAFsx"
      }
    },
    {
      "cell_type": "code",
      "execution_count": 36,
      "source": [
        "best_model3 = tuner3.get_best_models()[0]\r\n",
        "best_model3.summary()"
      ],
      "outputs": [
        {
          "output_type": "stream",
          "name": "stdout",
          "text": [
            "Model: \"functional_1\"\n",
            "__________________________________________________________________________________________________\n",
            "Layer (type)                    Output Shape         Param #     Connected to                     \n",
            "==================================================================================================\n",
            "input_1 (InputLayer)            [(None,)]            0                                            \n",
            "__________________________________________________________________________________________________\n",
            "input_2 (InputLayer)            [(None,)]            0                                            \n",
            "__________________________________________________________________________________________________\n",
            "keras_layer (KerasLayer)        (None, 128)          112461824   input_1[0][0]                    \n",
            "                                                                 input_2[0][0]                    \n",
            "__________________________________________________________________________________________________\n",
            "concatenate (Concatenate)       (None, 256)          0           keras_layer[26][0]               \n",
            "                                                                 keras_layer[27][0]               \n",
            "__________________________________________________________________________________________________\n",
            "reshape (Reshape)               (None, 2, 128)       0           concatenate[0][0]                \n",
            "__________________________________________________________________________________________________\n",
            "bidirectional (Bidirectional)   (None, 128)          98816       reshape[0][0]                    \n",
            "__________________________________________________________________________________________________\n",
            "dense (Dense)                   (None, 160)          20640       bidirectional[0][0]              \n",
            "__________________________________________________________________________________________________\n",
            "dropout (Dropout)               (None, 160)          0           dense[0][0]                      \n",
            "__________________________________________________________________________________________________\n",
            "batch_normalization (BatchNorma (None, 160)          640         dropout[0][0]                    \n",
            "__________________________________________________________________________________________________\n",
            "dense_1 (Dense)                 (None, 192)          30912       batch_normalization[0][0]        \n",
            "__________________________________________________________________________________________________\n",
            "dropout_1 (Dropout)             (None, 192)          0           dense_1[0][0]                    \n",
            "__________________________________________________________________________________________________\n",
            "batch_normalization_1 (BatchNor (None, 192)          768         dropout_1[0][0]                  \n",
            "__________________________________________________________________________________________________\n",
            "dense_2 (Dense)                 (None, 192)          37056       batch_normalization_1[0][0]      \n",
            "__________________________________________________________________________________________________\n",
            "dropout_2 (Dropout)             (None, 192)          0           dense_2[0][0]                    \n",
            "__________________________________________________________________________________________________\n",
            "batch_normalization_2 (BatchNor (None, 192)          768         dropout_2[0][0]                  \n",
            "__________________________________________________________________________________________________\n",
            "dense_3 (Dense)                 (None, 192)          37056       batch_normalization_2[0][0]      \n",
            "__________________________________________________________________________________________________\n",
            "dropout_3 (Dropout)             (None, 192)          0           dense_3[0][0]                    \n",
            "__________________________________________________________________________________________________\n",
            "batch_normalization_3 (BatchNor (None, 192)          768         dropout_3[0][0]                  \n",
            "__________________________________________________________________________________________________\n",
            "dense_4 (Dense)                 (None, 1)            193         batch_normalization_3[0][0]      \n",
            "==================================================================================================\n",
            "Total params: 112,689,441\n",
            "Trainable params: 226,145\n",
            "Non-trainable params: 112,463,296\n",
            "__________________________________________________________________________________________________\n"
          ]
        }
      ],
      "metadata": {}
    },
    {
      "cell_type": "code",
      "execution_count": 37,
      "source": [
        "best_model4 = tuner4.get_best_models()[0]\r\n",
        "best_model4.summary()"
      ],
      "outputs": [
        {
          "output_type": "stream",
          "name": "stdout",
          "text": [
            "Model: \"functional_1\"\n",
            "__________________________________________________________________________________________________\n",
            "Layer (type)                    Output Shape         Param #     Connected to                     \n",
            "==================================================================================================\n",
            "input_1 (InputLayer)            [(None,)]            0                                            \n",
            "__________________________________________________________________________________________________\n",
            "input_2 (InputLayer)            [(None,)]            0                                            \n",
            "__________________________________________________________________________________________________\n",
            "keras_layer (KerasLayer)        (None, 128)          112461824   input_1[0][0]                    \n",
            "                                                                 input_2[0][0]                    \n",
            "__________________________________________________________________________________________________\n",
            "concatenate (Concatenate)       (None, 256)          0           keras_layer[28][0]               \n",
            "                                                                 keras_layer[29][0]               \n",
            "__________________________________________________________________________________________________\n",
            "reshape (Reshape)               (None, 2, 128)       0           concatenate[0][0]                \n",
            "__________________________________________________________________________________________________\n",
            "bidirectional (Bidirectional)   (None, 2, 256)       263168      reshape[0][0]                    \n",
            "__________________________________________________________________________________________________\n",
            "bidirectional_1 (Bidirectional) (None, 64)           73984       bidirectional[0][0]              \n",
            "__________________________________________________________________________________________________\n",
            "dense (Dense)                   (None, 416)          27040       bidirectional_1[0][0]            \n",
            "__________________________________________________________________________________________________\n",
            "dropout (Dropout)               (None, 416)          0           dense[0][0]                      \n",
            "__________________________________________________________________________________________________\n",
            "batch_normalization (BatchNorma (None, 416)          1664        dropout[0][0]                    \n",
            "__________________________________________________________________________________________________\n",
            "dense_1 (Dense)                 (None, 384)          160128      batch_normalization[0][0]        \n",
            "__________________________________________________________________________________________________\n",
            "dropout_1 (Dropout)             (None, 384)          0           dense_1[0][0]                    \n",
            "__________________________________________________________________________________________________\n",
            "batch_normalization_1 (BatchNor (None, 384)          1536        dropout_1[0][0]                  \n",
            "__________________________________________________________________________________________________\n",
            "dense_2 (Dense)                 (None, 192)          73920       batch_normalization_1[0][0]      \n",
            "__________________________________________________________________________________________________\n",
            "dropout_2 (Dropout)             (None, 192)          0           dense_2[0][0]                    \n",
            "__________________________________________________________________________________________________\n",
            "batch_normalization_2 (BatchNor (None, 192)          768         dropout_2[0][0]                  \n",
            "__________________________________________________________________________________________________\n",
            "dense_3 (Dense)                 (None, 480)          92640       batch_normalization_2[0][0]      \n",
            "__________________________________________________________________________________________________\n",
            "dropout_3 (Dropout)             (None, 480)          0           dense_3[0][0]                    \n",
            "__________________________________________________________________________________________________\n",
            "batch_normalization_3 (BatchNor (None, 480)          1920        dropout_3[0][0]                  \n",
            "__________________________________________________________________________________________________\n",
            "dense_4 (Dense)                 (None, 1)            481         batch_normalization_3[0][0]      \n",
            "==================================================================================================\n",
            "Total params: 113,159,073\n",
            "Trainable params: 694,305\n",
            "Non-trainable params: 112,464,768\n",
            "__________________________________________________________________________________________________\n"
          ]
        }
      ],
      "metadata": {}
    },
    {
      "cell_type": "code",
      "execution_count": 13,
      "source": [
        "best_model5 = tuner5.get_best_models()[0]\r\n",
        "best_model5.summary()"
      ],
      "outputs": [
        {
          "output_type": "stream",
          "name": "stdout",
          "text": [
            "Model: \"functional_1\"\n",
            "__________________________________________________________________________________________________\n",
            "Layer (type)                    Output Shape         Param #     Connected to                     \n",
            "==================================================================================================\n",
            "input_1 (InputLayer)            [(None,)]            0                                            \n",
            "__________________________________________________________________________________________________\n",
            "input_2 (InputLayer)            [(None,)]            0                                            \n",
            "__________________________________________________________________________________________________\n",
            "keras_layer (KerasLayer)        (None, 128)          112461824   input_1[0][0]                    \n",
            "                                                                 input_2[0][0]                    \n",
            "__________________________________________________________________________________________________\n",
            "concatenate (Concatenate)       (None, 256)          0           keras_layer[8][0]                \n",
            "                                                                 keras_layer[9][0]                \n",
            "__________________________________________________________________________________________________\n",
            "reshape (Reshape)               (None, 2, 128)       0           concatenate[0][0]                \n",
            "__________________________________________________________________________________________________\n",
            "bidirectional (Bidirectional)   (None, 2, 256)       263168      reshape[0][0]                    \n",
            "__________________________________________________________________________________________________\n",
            "gru (GRU)                       (None, 128)          148224      bidirectional[0][0]              \n",
            "__________________________________________________________________________________________________\n",
            "dense (Dense)                   (None, 320)          41280       gru[0][0]                        \n",
            "__________________________________________________________________________________________________\n",
            "dropout (Dropout)               (None, 320)          0           dense[0][0]                      \n",
            "__________________________________________________________________________________________________\n",
            "batch_normalization (BatchNorma (None, 320)          1280        dropout[0][0]                    \n",
            "__________________________________________________________________________________________________\n",
            "dense_1 (Dense)                 (None, 160)          51360       batch_normalization[0][0]        \n",
            "__________________________________________________________________________________________________\n",
            "dropout_1 (Dropout)             (None, 160)          0           dense_1[0][0]                    \n",
            "__________________________________________________________________________________________________\n",
            "batch_normalization_1 (BatchNor (None, 160)          640         dropout_1[0][0]                  \n",
            "__________________________________________________________________________________________________\n",
            "dense_2 (Dense)                 (None, 96)           15456       batch_normalization_1[0][0]      \n",
            "__________________________________________________________________________________________________\n",
            "dropout_2 (Dropout)             (None, 96)           0           dense_2[0][0]                    \n",
            "__________________________________________________________________________________________________\n",
            "batch_normalization_2 (BatchNor (None, 96)           384         dropout_2[0][0]                  \n",
            "__________________________________________________________________________________________________\n",
            "dense_3 (Dense)                 (None, 384)          37248       batch_normalization_2[0][0]      \n",
            "__________________________________________________________________________________________________\n",
            "dropout_3 (Dropout)             (None, 384)          0           dense_3[0][0]                    \n",
            "__________________________________________________________________________________________________\n",
            "batch_normalization_3 (BatchNor (None, 384)          1536        dropout_3[0][0]                  \n",
            "__________________________________________________________________________________________________\n",
            "dense_4 (Dense)                 (None, 1)            385         batch_normalization_3[0][0]      \n",
            "==================================================================================================\n",
            "Total params: 113,022,785\n",
            "Trainable params: 559,041\n",
            "Non-trainable params: 112,463,744\n",
            "__________________________________________________________________________________________________\n"
          ]
        }
      ],
      "metadata": {}
    },
    {
      "cell_type": "markdown",
      "source": [
        "## Evaluation"
      ],
      "metadata": {}
    },
    {
      "cell_type": "markdown",
      "source": [
        "### Test set evaluation"
      ],
      "metadata": {}
    },
    {
      "cell_type": "code",
      "execution_count": 77,
      "source": [
        "eval_result = best_model.evaluate([Q1_test,Q2_test], yte)\r\n",
        "print(\"[test loss, test accuracy]:\", eval_result)"
      ],
      "outputs": [
        {
          "output_type": "stream",
          "name": "stdout",
          "text": [
            "1264/1264 [==============================] - 3s 3ms/step - loss: 0.4265 - accuracy: 0.7953\n",
            "[test loss, test accuracy]: [0.4264649748802185, 0.7953449487686157]\n"
          ]
        }
      ],
      "metadata": {
        "colab": {
          "base_uri": "https://localhost:8080/"
        },
        "id": "UYm6rhsR2NUX",
        "outputId": "8f1d015e-e103-4289-bfed-147de4b19070"
      }
    },
    {
      "cell_type": "code",
      "execution_count": 52,
      "source": [
        "eval_result = best_model_1.evaluate([Q1_test,Q2_test], yte)\r\n",
        "print(\"[test loss, test accuracy]:\", eval_result)"
      ],
      "outputs": [
        {
          "output_type": "stream",
          "name": "stdout",
          "text": [
            "1264/1264 [==============================] - 5s 4ms/step - loss: 0.4171 - accuracy: 0.8009\n",
            "[test loss, test accuracy]: [0.4171454608440399, 0.8008854985237122]\n"
          ]
        }
      ],
      "metadata": {}
    },
    {
      "cell_type": "code",
      "execution_count": 82,
      "source": [
        "eval_result = best_model_2.evaluate([Q1_test,Q2_test], yte)\r\n",
        "print(\"[test loss, test accuracy]:\", eval_result)"
      ],
      "outputs": [
        {
          "output_type": "stream",
          "name": "stdout",
          "text": [
            "1264/1264 [==============================] - 9s 7ms/step - loss: 0.4205 - accuracy: 0.8023\n",
            "[test loss, test accuracy]: [0.4205167293548584, 0.8022953867912292]\n"
          ]
        }
      ],
      "metadata": {}
    },
    {
      "cell_type": "code",
      "execution_count": 15,
      "source": [
        "tf.keras.utils.plot_model(best_model2, show_shapes=True)"
      ],
      "outputs": [
        {
          "output_type": "stream",
          "name": "stdout",
          "text": [
            "('Failed to import pydot. You must `pip install pydot` and install graphviz (https://graphviz.gitlab.io/download/), ', 'for `pydotprint` to work.')\n"
          ]
        }
      ],
      "metadata": {
        "id": "efdigMD3ubQa",
        "colab": {
          "base_uri": "https://localhost:8080/",
          "height": 1000
        },
        "outputId": "dde62131-b7af-4838-b4ac-19dd4cfe82b3"
      }
    },
    {
      "cell_type": "code",
      "execution_count": null,
      "source": [
        "# history = best_model.fit([Q1_train, Q2_train],yt, epochs=10, validation_split=0.2)"
      ],
      "outputs": [
        {
          "output_type": "stream",
          "name": "stdout",
          "text": [
            "Epoch 1/10\n",
            "8086/8086 [==============================] - 244s 28ms/step - loss: 0.4806 - accuracy: 0.7601 - val_loss: 0.4638 - val_accuracy: 0.7668\n",
            "Epoch 2/10\n",
            "8086/8086 [==============================] - 222s 27ms/step - loss: 0.4609 - accuracy: 0.7728 - val_loss: 0.4541 - val_accuracy: 0.7744\n",
            "Epoch 3/10\n",
            "8086/8086 [==============================] - 224s 28ms/step - loss: 0.4452 - accuracy: 0.7828 - val_loss: 0.4492 - val_accuracy: 0.7796\n",
            "Epoch 4/10\n",
            "8086/8086 [==============================] - 219s 27ms/step - loss: 0.4329 - accuracy: 0.7908 - val_loss: 0.4411 - val_accuracy: 0.7833\n",
            "Epoch 5/10\n",
            "8086/8086 [==============================] - 221s 27ms/step - loss: 0.4200 - accuracy: 0.7986 - val_loss: 0.4393 - val_accuracy: 0.7830\n",
            "Epoch 6/10\n",
            "8086/8086 [==============================] - 224s 28ms/step - loss: 0.4095 - accuracy: 0.8051 - val_loss: 0.4361 - val_accuracy: 0.7875\n",
            "Epoch 7/10\n",
            "8086/8086 [==============================] - 218s 27ms/step - loss: 0.4000 - accuracy: 0.8107 - val_loss: 0.4308 - val_accuracy: 0.7902\n",
            "Epoch 8/10\n",
            "8086/8086 [==============================] - 222s 27ms/step - loss: 0.3928 - accuracy: 0.8151 - val_loss: 0.4384 - val_accuracy: 0.7918\n",
            "Epoch 9/10\n",
            "8086/8086 [==============================] - 221s 27ms/step - loss: 0.3823 - accuracy: 0.8218 - val_loss: 0.4336 - val_accuracy: 0.7919\n",
            "Epoch 10/10\n",
            "8086/8086 [==============================] - 213s 26ms/step - loss: 0.3745 - accuracy: 0.8262 - val_loss: 0.4383 - val_accuracy: 0.7925\n"
          ]
        }
      ],
      "metadata": {
        "id": "zvpdiVS3S8qx",
        "colab": {
          "base_uri": "https://localhost:8080/"
        },
        "outputId": "2a0c867a-9532-46e0-ae73-d4b0018c8c72"
      }
    },
    {
      "cell_type": "code",
      "execution_count": 55,
      "source": [
        "history2 = best_model2.fit([Q1_train, Q2_train],yt, epochs=1, validation_split=0.1)"
      ],
      "outputs": [
        {
          "output_type": "stream",
          "name": "stdout",
          "text": [
            "10234/10234 [==============================] - 94s 9ms/step - loss: 0.3586 - accuracy: 0.8331 - val_loss: 0.4226 - val_accuracy: 0.8001\n"
          ]
        }
      ],
      "metadata": {
        "colab": {
          "base_uri": "https://localhost:8080/"
        },
        "id": "0uowvG1fGIzG",
        "outputId": "3c56e9e0-3089-4d68-8daa-f4822473b5a6"
      }
    },
    {
      "cell_type": "code",
      "execution_count": 18,
      "source": [
        "eval_result = best_model2.evaluate([Q1_test,Q2_test], yte)\r\n",
        "print(\"[test loss, test accuracy]:\", eval_result)"
      ],
      "outputs": [
        {
          "output_type": "stream",
          "name": "stdout",
          "text": [
            "1264/1264 [==============================] - 4s 3ms/step - loss: 0.4313 - accuracy: 0.7916\n",
            "[test loss, test accuracy]: [0.43130362033843994, 0.7915605306625366]\n"
          ]
        }
      ],
      "metadata": {
        "colab": {
          "base_uri": "https://localhost:8080/"
        },
        "id": "ymfdsJXCCH_o",
        "outputId": "ef3d27f1-4ec7-4379-9600-f5671d2328c2"
      }
    },
    {
      "cell_type": "code",
      "execution_count": 38,
      "source": [
        "eval_result = best_model3.evaluate([Q1_test,Q2_test], yte)\r\n",
        "print(\"[test loss, test accuracy]:\", eval_result)"
      ],
      "outputs": [
        {
          "output_type": "stream",
          "name": "stdout",
          "text": [
            "1264/1264 [==============================] - 2s 2ms/step - loss: 0.4357 - accuracy: 0.7893\n",
            "[test loss, test accuracy]: [0.435689777135849, 0.7893096804618835]\n"
          ]
        }
      ],
      "metadata": {}
    },
    {
      "cell_type": "code",
      "execution_count": 39,
      "source": [
        "eval_result = best_model4.evaluate([Q1_test,Q2_test], yte)\r\n",
        "print(\"[test loss, test accuracy]:\", eval_result)"
      ],
      "outputs": [
        {
          "output_type": "stream",
          "name": "stdout",
          "text": [
            "1264/1264 [==============================] - 4s 3ms/step - loss: 0.4325 - accuracy: 0.7905\n",
            "[test loss, test accuracy]: [0.4324806034564972, 0.7904722094535828]\n"
          ]
        }
      ],
      "metadata": {}
    },
    {
      "cell_type": "code",
      "execution_count": 14,
      "source": [
        "eval_result = best_model5.evaluate([Q1_test,Q2_test], yte)\r\n",
        "print(\"[test loss, test accuracy]:\", eval_result)"
      ],
      "outputs": [
        {
          "output_type": "stream",
          "name": "stdout",
          "text": [
            "1264/1264 [==============================] - 3s 3ms/step - loss: 0.4286 - accuracy: 0.7947\n",
            "[test loss, test accuracy]: [0.42862510681152344, 0.7946523427963257]\n"
          ]
        }
      ],
      "metadata": {}
    },
    {
      "cell_type": "markdown",
      "source": [
        "### Self test 1"
      ],
      "metadata": {}
    },
    {
      "cell_type": "code",
      "execution_count": 43,
      "source": [
        "1-distance.cosine(embed([\"saya memukul kursi\"]),embed([\"kursi dipukul oleh saya\"]))"
      ],
      "outputs": [
        {
          "output_type": "execute_result",
          "data": {
            "text/plain": [
              "0.7853306531906128"
            ]
          },
          "metadata": {},
          "execution_count": 43
        }
      ],
      "metadata": {}
    },
    {
      "cell_type": "code",
      "execution_count": 78,
      "source": [
        "best_model.predict([np.asarray([\"saya memukul kursi\"]),np.asarray([\"kursi dipukul oleh saya\"])])"
      ],
      "outputs": [
        {
          "output_type": "execute_result",
          "data": {
            "text/plain": [
              "array([[0.90738606]], dtype=float32)"
            ]
          },
          "metadata": {},
          "execution_count": 78
        }
      ],
      "metadata": {}
    },
    {
      "cell_type": "code",
      "execution_count": 53,
      "source": [
        "best_model_1.predict([np.asarray([\"saya memukul kursi\"]),np.asarray([\"kursi dipukul oleh saya\"])])"
      ],
      "outputs": [
        {
          "output_type": "execute_result",
          "data": {
            "text/plain": [
              "array([[0.86217105]], dtype=float32)"
            ]
          },
          "metadata": {},
          "execution_count": 53
        }
      ],
      "metadata": {}
    },
    {
      "cell_type": "code",
      "execution_count": 83,
      "source": [
        "best_model_2.predict([np.asarray([\"saya memukul kursi\"]),np.asarray([\"kursi dipukul oleh saya\"])])"
      ],
      "outputs": [
        {
          "output_type": "execute_result",
          "data": {
            "text/plain": [
              "array([[0.9655088]], dtype=float32)"
            ]
          },
          "metadata": {},
          "execution_count": 83
        }
      ],
      "metadata": {}
    },
    {
      "cell_type": "code",
      "execution_count": 19,
      "source": [
        "prediction4 = best_model2.predict([np.asarray([\"saya memukul kursi\"]),np.asarray([\"kursi dipukul oleh saya\"])])\r\n",
        "print(prediction4)"
      ],
      "outputs": [
        {
          "output_type": "stream",
          "name": "stdout",
          "text": [
            "[[0.7261495]]\n"
          ]
        }
      ],
      "metadata": {
        "colab": {
          "base_uri": "https://localhost:8080/"
        },
        "id": "0w15c6I6GPmA",
        "outputId": "82a3bd5c-a93c-4574-ad18-bb6b368bfcbb"
      }
    },
    {
      "cell_type": "code",
      "execution_count": 40,
      "source": [
        "best_model3.predict([np.asarray([\"saya memukul kursi\"]),np.asarray([\"kursi dipukul oleh saya\"])])"
      ],
      "outputs": [
        {
          "output_type": "execute_result",
          "data": {
            "text/plain": [
              "array([[0.6132752]], dtype=float32)"
            ]
          },
          "metadata": {},
          "execution_count": 40
        }
      ],
      "metadata": {}
    },
    {
      "cell_type": "code",
      "execution_count": 41,
      "source": [
        "best_model4.predict([np.asarray([\"saya memukul kursi\"]),np.asarray([\"kursi dipukul oleh saya\"])])"
      ],
      "outputs": [
        {
          "output_type": "execute_result",
          "data": {
            "text/plain": [
              "array([[0.64983207]], dtype=float32)"
            ]
          },
          "metadata": {},
          "execution_count": 41
        }
      ],
      "metadata": {}
    },
    {
      "cell_type": "code",
      "execution_count": 15,
      "source": [
        "best_model5.predict([np.asarray([\"saya memukul kursi\"]),np.asarray([\"kursi dipukul oleh saya\"])])"
      ],
      "outputs": [
        {
          "output_type": "execute_result",
          "data": {
            "text/plain": [
              "array([[0.95816815]], dtype=float32)"
            ]
          },
          "metadata": {},
          "execution_count": 15
        }
      ],
      "metadata": {}
    },
    {
      "cell_type": "markdown",
      "source": [
        "### Self Test 2"
      ],
      "metadata": {}
    },
    {
      "cell_type": "code",
      "execution_count": 44,
      "source": [
        "1-distance.cosine(embed([\"saya yang mempunyai gitar yamaha itu\"]),embed([\"gitar yamaha itu milik saya\"]))"
      ],
      "outputs": [
        {
          "output_type": "execute_result",
          "data": {
            "text/plain": [
              "0.8023244142532349"
            ]
          },
          "metadata": {},
          "execution_count": 44
        }
      ],
      "metadata": {}
    },
    {
      "cell_type": "code",
      "execution_count": 79,
      "source": [
        "best_model.predict([np.asarray([\"saya yang mempunyai gitar yamaha itu\"]),np.asarray([\"gitar yamaha itu milik saya\"])])"
      ],
      "outputs": [
        {
          "output_type": "execute_result",
          "data": {
            "text/plain": [
              "array([[0.72099113]], dtype=float32)"
            ]
          },
          "metadata": {},
          "execution_count": 79
        }
      ],
      "metadata": {}
    },
    {
      "cell_type": "code",
      "execution_count": 60,
      "source": [
        "best_model_1.predict([np.asarray([\"saya yang mempunyai gitar yamaha itu\"]),np.asarray([\"gitar yamaha itu milik saya\"])])"
      ],
      "outputs": [
        {
          "output_type": "execute_result",
          "data": {
            "text/plain": [
              "array([[0.9426672]], dtype=float32)"
            ]
          },
          "metadata": {},
          "execution_count": 60
        }
      ],
      "metadata": {}
    },
    {
      "cell_type": "code",
      "execution_count": 91,
      "source": [
        "best_model_2.predict([np.asarray([\"saya yang mempunyai gitar yamaha itu\"]),np.asarray([\"gitar yamaha itu milik saya\"])])"
      ],
      "outputs": [
        {
          "output_type": "execute_result",
          "data": {
            "text/plain": [
              "array([[0.9065684]], dtype=float32)"
            ]
          },
          "metadata": {},
          "execution_count": 91
        }
      ],
      "metadata": {}
    },
    {
      "cell_type": "code",
      "execution_count": 20,
      "source": [
        "best_model2.predict([np.asarray([\"saya yang mempunyai gitar yamaha itu\"]),np.asarray([\"gitar yamaha itu milik saya\"])])"
      ],
      "outputs": [
        {
          "output_type": "execute_result",
          "data": {
            "text/plain": [
              "array([[0.4392359]], dtype=float32)"
            ]
          },
          "metadata": {},
          "execution_count": 20
        }
      ],
      "metadata": {
        "colab": {
          "base_uri": "https://localhost:8080/"
        },
        "id": "Y8zkZNFAsku3",
        "outputId": "2e82af72-2c9d-4894-f560-54636b611321"
      }
    },
    {
      "cell_type": "code",
      "execution_count": 45,
      "source": [
        "best_model3.predict([np.asarray([\"saya yang mempunyai gitar yamaha itu\"]),np.asarray([\"gitar yamaha itu milik saya\"])])"
      ],
      "outputs": [
        {
          "output_type": "execute_result",
          "data": {
            "text/plain": [
              "array([[0.8209579]], dtype=float32)"
            ]
          },
          "metadata": {},
          "execution_count": 45
        }
      ],
      "metadata": {}
    },
    {
      "cell_type": "code",
      "execution_count": 43,
      "source": [
        "best_model4.predict([np.asarray([\"saya yang mempunyai gitar yamaha itu\"]),np.asarray([\"gitar yamaha itu milik saya\"])])"
      ],
      "outputs": [
        {
          "output_type": "execute_result",
          "data": {
            "text/plain": [
              "array([[0.59671557]], dtype=float32)"
            ]
          },
          "metadata": {},
          "execution_count": 43
        }
      ],
      "metadata": {}
    },
    {
      "cell_type": "code",
      "execution_count": 18,
      "source": [
        "best_model5.predict([np.asarray([\"saya yang mempunyai gitar yamaha itu\"]),np.asarray([\"gitar yamaha itu milik saya\"])])"
      ],
      "outputs": [
        {
          "output_type": "execute_result",
          "data": {
            "text/plain": [
              "array([[0.96405613]], dtype=float32)"
            ]
          },
          "metadata": {},
          "execution_count": 18
        }
      ],
      "metadata": {}
    },
    {
      "cell_type": "markdown",
      "source": [
        "### Self Test 3"
      ],
      "metadata": {}
    },
    {
      "cell_type": "code",
      "execution_count": 45,
      "source": [
        "1-distance.cosine(embed([\"saya bermain di atas meja\"]),embed([\"kursi diduduki oleh saya\"]))"
      ],
      "outputs": [
        {
          "output_type": "execute_result",
          "data": {
            "text/plain": [
              "0.3774293065071106"
            ]
          },
          "metadata": {},
          "execution_count": 45
        }
      ],
      "metadata": {}
    },
    {
      "cell_type": "code",
      "execution_count": 80,
      "source": [
        "best_model.predict([np.asarray([\"saya bermain di atas meja\"]),np.asarray([\"kursi diduduki oleh saya\"])])"
      ],
      "outputs": [
        {
          "output_type": "execute_result",
          "data": {
            "text/plain": [
              "array([[0.00692433]], dtype=float32)"
            ]
          },
          "metadata": {},
          "execution_count": 80
        }
      ],
      "metadata": {}
    },
    {
      "cell_type": "code",
      "execution_count": 61,
      "source": [
        "best_model_1.predict([np.asarray([\"saya bermain di atas meja\"]),np.asarray([\"kursi diduduki oleh saya\"])])"
      ],
      "outputs": [
        {
          "output_type": "execute_result",
          "data": {
            "text/plain": [
              "array([[0.01993454]], dtype=float32)"
            ]
          },
          "metadata": {},
          "execution_count": 61
        }
      ],
      "metadata": {}
    },
    {
      "cell_type": "code",
      "execution_count": 92,
      "source": [
        "best_model_2.predict([np.asarray([\"saya bermain di atas meja\"]),np.asarray([\"kursi diduduki oleh saya\"])])"
      ],
      "outputs": [
        {
          "output_type": "execute_result",
          "data": {
            "text/plain": [
              "array([[0.03581345]], dtype=float32)"
            ]
          },
          "metadata": {},
          "execution_count": 92
        }
      ],
      "metadata": {}
    },
    {
      "cell_type": "code",
      "execution_count": 21,
      "source": [
        "best_model2.predict([np.asarray([\"saya bermain di atas meja\"]),np.asarray([\"kursi diduduki oleh saya\"])])"
      ],
      "outputs": [
        {
          "output_type": "execute_result",
          "data": {
            "text/plain": [
              "array([[0.00196424]], dtype=float32)"
            ]
          },
          "metadata": {},
          "execution_count": 21
        }
      ],
      "metadata": {
        "colab": {
          "base_uri": "https://localhost:8080/"
        },
        "id": "vpo835vrshlM",
        "outputId": "b3f3df45-cd09-478b-ec83-c03ff69e9173"
      }
    },
    {
      "cell_type": "code",
      "execution_count": 46,
      "source": [
        "best_model3.predict([np.asarray([\"saya bermain di atas meja\"]),np.asarray([\"kursi diduduki oleh saya\"])])"
      ],
      "outputs": [
        {
          "output_type": "execute_result",
          "data": {
            "text/plain": [
              "array([[0.01750085]], dtype=float32)"
            ]
          },
          "metadata": {},
          "execution_count": 46
        }
      ],
      "metadata": {}
    },
    {
      "cell_type": "code",
      "execution_count": 47,
      "source": [
        "best_model4.predict([np.asarray([\"saya bermain di atas meja\"]),np.asarray([\"kursi diduduki oleh saya\"])])"
      ],
      "outputs": [
        {
          "output_type": "execute_result",
          "data": {
            "text/plain": [
              "array([[0.01199508]], dtype=float32)"
            ]
          },
          "metadata": {},
          "execution_count": 47
        }
      ],
      "metadata": {}
    },
    {
      "cell_type": "code",
      "execution_count": 19,
      "source": [
        "best_model5.predict([np.asarray([\"saya bermain di atas meja\"]),np.asarray([\"kursi diduduki oleh saya\"])])"
      ],
      "outputs": [
        {
          "output_type": "execute_result",
          "data": {
            "text/plain": [
              "array([[0.09819081]], dtype=float32)"
            ]
          },
          "metadata": {},
          "execution_count": 19
        }
      ],
      "metadata": {}
    },
    {
      "cell_type": "markdown",
      "source": [
        "### Self Test 4"
      ],
      "metadata": {}
    },
    {
      "cell_type": "code",
      "execution_count": 46,
      "source": [
        "1-distance.cosine(embed([\"dia gemar berbohong\"]),embed([\"dia suka berdusta\"]))"
      ],
      "outputs": [
        {
          "output_type": "execute_result",
          "data": {
            "text/plain": [
              "0.8526097536087036"
            ]
          },
          "metadata": {},
          "execution_count": 46
        }
      ],
      "metadata": {}
    },
    {
      "cell_type": "code",
      "execution_count": 81,
      "source": [
        "best_model.predict([np.asarray([\"dia gemar berbohong\"]),np.asarray([\"dia suka berdusta\"])])"
      ],
      "outputs": [
        {
          "output_type": "execute_result",
          "data": {
            "text/plain": [
              "array([[0.749652]], dtype=float32)"
            ]
          },
          "metadata": {},
          "execution_count": 81
        }
      ],
      "metadata": {}
    },
    {
      "cell_type": "code",
      "execution_count": 70,
      "source": [
        "best_model_1.predict([np.asarray([\"dia gemar berbohong\"]),np.asarray([\"dia suka berdusta\"])])"
      ],
      "outputs": [
        {
          "output_type": "execute_result",
          "data": {
            "text/plain": [
              "array([[0.906271]], dtype=float32)"
            ]
          },
          "metadata": {},
          "execution_count": 70
        }
      ],
      "metadata": {}
    },
    {
      "cell_type": "code",
      "execution_count": 96,
      "source": [
        "best_model_2.predict([np.asarray([\"dia gemar berbohong\"]),np.asarray([\"dia suka berdusta\"])])"
      ],
      "outputs": [
        {
          "output_type": "execute_result",
          "data": {
            "text/plain": [
              "array([[0.7788778]], dtype=float32)"
            ]
          },
          "metadata": {},
          "execution_count": 96
        }
      ],
      "metadata": {}
    },
    {
      "cell_type": "code",
      "execution_count": 22,
      "source": [
        "best_model2.predict([np.asarray([\"dia gemar berbohong\"]),np.asarray([\"dia suka berdusta\"])])"
      ],
      "outputs": [
        {
          "output_type": "execute_result",
          "data": {
            "text/plain": [
              "array([[0.7460319]], dtype=float32)"
            ]
          },
          "metadata": {},
          "execution_count": 22
        }
      ],
      "metadata": {
        "colab": {
          "base_uri": "https://localhost:8080/"
        },
        "id": "wCoyvhR3BnQp",
        "outputId": "9802734f-b881-4db2-f3f5-4b91e64767a3"
      }
    },
    {
      "cell_type": "code",
      "execution_count": 48,
      "source": [
        "best_model3.predict([np.asarray([\"dia gemar berbohong\"]),np.asarray([\"dia suka berdusta\"])])"
      ],
      "outputs": [
        {
          "output_type": "execute_result",
          "data": {
            "text/plain": [
              "array([[0.5092955]], dtype=float32)"
            ]
          },
          "metadata": {},
          "execution_count": 48
        }
      ],
      "metadata": {}
    },
    {
      "cell_type": "code",
      "execution_count": 49,
      "source": [
        "best_model4.predict([np.asarray([\"dia gemar berbohong\"]),np.asarray([\"dia suka berdusta\"])])"
      ],
      "outputs": [
        {
          "output_type": "execute_result",
          "data": {
            "text/plain": [
              "array([[0.7255062]], dtype=float32)"
            ]
          },
          "metadata": {},
          "execution_count": 49
        }
      ],
      "metadata": {}
    },
    {
      "cell_type": "code",
      "execution_count": 20,
      "source": [
        "best_model5.predict([np.asarray([\"dia gemar berbohong\"]),np.asarray([\"dia suka berdusta\"])])"
      ],
      "outputs": [
        {
          "output_type": "execute_result",
          "data": {
            "text/plain": [
              "array([[0.6216492]], dtype=float32)"
            ]
          },
          "metadata": {},
          "execution_count": 20
        }
      ],
      "metadata": {}
    },
    {
      "cell_type": "markdown",
      "source": [
        "### Self Test 5"
      ],
      "metadata": {}
    },
    {
      "cell_type": "code",
      "execution_count": 47,
      "source": [
        "1-distance.cosine(embed([\"saya suka mencuri\"]),embed([\"saya demen maling\"]))"
      ],
      "outputs": [
        {
          "output_type": "execute_result",
          "data": {
            "text/plain": [
              "0.7384970188140869"
            ]
          },
          "metadata": {},
          "execution_count": 47
        }
      ],
      "metadata": {}
    },
    {
      "cell_type": "code",
      "execution_count": 82,
      "source": [
        "best_model.predict([np.asarray([\"saya suka mencuri\"]),np.asarray([\"saya demen maling\"])])"
      ],
      "outputs": [
        {
          "output_type": "execute_result",
          "data": {
            "text/plain": [
              "array([[0.84141517]], dtype=float32)"
            ]
          },
          "metadata": {},
          "execution_count": 82
        }
      ],
      "metadata": {}
    },
    {
      "cell_type": "code",
      "execution_count": 71,
      "source": [
        "best_model_1.predict([np.asarray([\"saya suka mencuri\"]),np.asarray([\"saya demen maling\"])])"
      ],
      "outputs": [
        {
          "output_type": "execute_result",
          "data": {
            "text/plain": [
              "array([[0.7360935]], dtype=float32)"
            ]
          },
          "metadata": {},
          "execution_count": 71
        }
      ],
      "metadata": {}
    },
    {
      "cell_type": "code",
      "execution_count": 100,
      "source": [
        "best_model_2.predict([np.asarray([\"saya suka mencuri\"]),np.asarray([\"saya demen maling\"])])"
      ],
      "outputs": [
        {
          "output_type": "execute_result",
          "data": {
            "text/plain": [
              "array([[0.49567387]], dtype=float32)"
            ]
          },
          "metadata": {},
          "execution_count": 100
        }
      ],
      "metadata": {}
    },
    {
      "cell_type": "code",
      "execution_count": 23,
      "source": [
        "best_model2.predict([np.asarray([\"saya suka mencuri\"]),np.asarray([\"saya demen maling\"])])"
      ],
      "outputs": [
        {
          "output_type": "execute_result",
          "data": {
            "text/plain": [
              "array([[0.66395235]], dtype=float32)"
            ]
          },
          "metadata": {},
          "execution_count": 23
        }
      ],
      "metadata": {
        "colab": {
          "base_uri": "https://localhost:8080/"
        },
        "id": "vK3JTcMvEWc4",
        "outputId": "1c6e2fae-5f14-4e13-94ed-b9817d1643bd"
      }
    },
    {
      "cell_type": "code",
      "execution_count": 50,
      "source": [
        "best_model3.predict([np.asarray([\"saya suka mencuri\"]),np.asarray([\"saya demen maling\"])])"
      ],
      "outputs": [
        {
          "output_type": "execute_result",
          "data": {
            "text/plain": [
              "array([[0.458564]], dtype=float32)"
            ]
          },
          "metadata": {},
          "execution_count": 50
        }
      ],
      "metadata": {}
    },
    {
      "cell_type": "code",
      "execution_count": 51,
      "source": [
        "best_model4.predict([np.asarray([\"saya suka mencuri\"]),np.asarray([\"saya demen maling\"])])"
      ],
      "outputs": [
        {
          "output_type": "execute_result",
          "data": {
            "text/plain": [
              "array([[0.76661646]], dtype=float32)"
            ]
          },
          "metadata": {},
          "execution_count": 51
        }
      ],
      "metadata": {}
    },
    {
      "cell_type": "code",
      "execution_count": 21,
      "source": [
        "best_model5.predict([np.asarray([\"saya suka mencuri\"]),np.asarray([\"saya demen maling\"])])"
      ],
      "outputs": [
        {
          "output_type": "execute_result",
          "data": {
            "text/plain": [
              "array([[0.7576326]], dtype=float32)"
            ]
          },
          "metadata": {},
          "execution_count": 21
        }
      ],
      "metadata": {}
    },
    {
      "cell_type": "markdown",
      "source": [
        "### Self Test 6"
      ],
      "metadata": {}
    },
    {
      "cell_type": "code",
      "execution_count": 48,
      "source": [
        "1-distance.cosine(embed([\"saya mencuri berlian itu\"]),embed([\"dia mencuri berlian mahal\"]))"
      ],
      "outputs": [
        {
          "output_type": "execute_result",
          "data": {
            "text/plain": [
              "0.7920330166816711"
            ]
          },
          "metadata": {},
          "execution_count": 48
        }
      ],
      "metadata": {}
    },
    {
      "cell_type": "code",
      "execution_count": 83,
      "source": [
        "best_model.predict([np.asarray([\"saya mencuri berlian itu\"]),np.asarray([\"dia mencuri berlian mahal\"])])\r\n",
        "# >0.5"
      ],
      "outputs": [
        {
          "output_type": "execute_result",
          "data": {
            "text/plain": [
              "array([[0.65652907]], dtype=float32)"
            ]
          },
          "metadata": {},
          "execution_count": 83
        }
      ],
      "metadata": {}
    },
    {
      "cell_type": "code",
      "execution_count": 76,
      "source": [
        "best_model_1.predict([np.asarray([\"saya mencuri berlian itu\"]),np.asarray([\"dia mencuri berlian mahal\"])])"
      ],
      "outputs": [
        {
          "output_type": "execute_result",
          "data": {
            "text/plain": [
              "array([[0.78717905]], dtype=float32)"
            ]
          },
          "metadata": {},
          "execution_count": 76
        }
      ],
      "metadata": {}
    },
    {
      "cell_type": "code",
      "execution_count": 101,
      "source": [
        "best_model_2.predict([np.asarray([\"saya mencuri berlian itu\"]),np.asarray([\"dia mencuri berlian mahal\"])])"
      ],
      "outputs": [
        {
          "output_type": "execute_result",
          "data": {
            "text/plain": [
              "array([[0.876423]], dtype=float32)"
            ]
          },
          "metadata": {},
          "execution_count": 101
        }
      ],
      "metadata": {}
    },
    {
      "cell_type": "code",
      "execution_count": 24,
      "source": [
        "best_model2.predict([np.asarray([\"saya mencuri berlian itu\"]),np.asarray([\"dia mencuri berlian mahal\"])])"
      ],
      "outputs": [
        {
          "output_type": "execute_result",
          "data": {
            "text/plain": [
              "array([[0.7479271]], dtype=float32)"
            ]
          },
          "metadata": {},
          "execution_count": 24
        }
      ],
      "metadata": {
        "colab": {
          "base_uri": "https://localhost:8080/"
        },
        "id": "Dq_0CblTEwE8",
        "outputId": "497b8cfd-1bc2-4c97-fa4e-379468f3d11b"
      }
    },
    {
      "cell_type": "code",
      "execution_count": 52,
      "source": [
        "best_model3.predict([np.asarray([\"saya mencuri berlian itu\"]),np.asarray([\"dia mencuri berlian mahal\"])])"
      ],
      "outputs": [
        {
          "output_type": "execute_result",
          "data": {
            "text/plain": [
              "array([[0.27140749]], dtype=float32)"
            ]
          },
          "metadata": {},
          "execution_count": 52
        }
      ],
      "metadata": {}
    },
    {
      "cell_type": "code",
      "execution_count": 53,
      "source": [
        "best_model4.predict([np.asarray([\"saya mencuri berlian itu\"]),np.asarray([\"dia mencuri berlian mahal\"])])"
      ],
      "outputs": [
        {
          "output_type": "execute_result",
          "data": {
            "text/plain": [
              "array([[0.8535823]], dtype=float32)"
            ]
          },
          "metadata": {},
          "execution_count": 53
        }
      ],
      "metadata": {}
    },
    {
      "cell_type": "code",
      "execution_count": 22,
      "source": [
        "best_model5.predict([np.asarray([\"saya mencuri berlian itu\"]),np.asarray([\"dia mencuri berlian mahal\"])])"
      ],
      "outputs": [
        {
          "output_type": "execute_result",
          "data": {
            "text/plain": [
              "array([[0.9628198]], dtype=float32)"
            ]
          },
          "metadata": {},
          "execution_count": 22
        }
      ],
      "metadata": {}
    },
    {
      "cell_type": "markdown",
      "source": [
        "### Self Test 7"
      ],
      "metadata": {}
    },
    {
      "cell_type": "code",
      "execution_count": 49,
      "source": [
        "1-distance.cosine(embed([\"anto anak bandel namun pintar\"]),embed([\"anto anak bandel namun pandai\"]))"
      ],
      "outputs": [
        {
          "output_type": "execute_result",
          "data": {
            "text/plain": [
              "0.9622410535812378"
            ]
          },
          "metadata": {},
          "execution_count": 49
        }
      ],
      "metadata": {}
    },
    {
      "cell_type": "code",
      "execution_count": 84,
      "source": [
        "best_model.predict([np.asarray([\"anto anak bandel namun pintar\"]),np.asarray([\"anto anak bandel namun pandai\"])])"
      ],
      "outputs": [
        {
          "output_type": "execute_result",
          "data": {
            "text/plain": [
              "array([[0.92633224]], dtype=float32)"
            ]
          },
          "metadata": {},
          "execution_count": 84
        }
      ],
      "metadata": {}
    },
    {
      "cell_type": "code",
      "execution_count": 104,
      "source": [
        "best_model_1.predict([np.asarray([\"anto anak bandel namun pintar\"]),np.asarray([\"anto anak nakal tapi pandai\"])])"
      ],
      "outputs": [
        {
          "output_type": "execute_result",
          "data": {
            "text/plain": [
              "array([[0.7638489]], dtype=float32)"
            ]
          },
          "metadata": {},
          "execution_count": 104
        }
      ],
      "metadata": {}
    },
    {
      "cell_type": "code",
      "execution_count": 103,
      "source": [
        "best_model_2.predict([np.asarray([\"anto anak bandel namun pintar\"]),np.asarray([\"anto anak nakal tapi pandai\"])])"
      ],
      "outputs": [
        {
          "output_type": "execute_result",
          "data": {
            "text/plain": [
              "array([[0.89311266]], dtype=float32)"
            ]
          },
          "metadata": {},
          "execution_count": 103
        }
      ],
      "metadata": {}
    },
    {
      "cell_type": "code",
      "execution_count": 25,
      "source": [
        "best_model2.predict([np.asarray([\"anto anak bandel namun pintar\"]),np.asarray([\"anto anak nakal tapi pandai\"])])"
      ],
      "outputs": [
        {
          "output_type": "execute_result",
          "data": {
            "text/plain": [
              "array([[0.47193575]], dtype=float32)"
            ]
          },
          "metadata": {},
          "execution_count": 25
        }
      ],
      "metadata": {}
    },
    {
      "cell_type": "code",
      "execution_count": 54,
      "source": [
        "best_model3.predict([np.asarray([\"anto anak bandel namun pintar\"]),np.asarray([\"anto anak baik tapi bodoh\"])])"
      ],
      "outputs": [
        {
          "output_type": "execute_result",
          "data": {
            "text/plain": [
              "array([[0.6647088]], dtype=float32)"
            ]
          },
          "metadata": {},
          "execution_count": 54
        }
      ],
      "metadata": {}
    },
    {
      "cell_type": "code",
      "execution_count": 55,
      "source": [
        "best_model4.predict([np.asarray([\"anto anak bandel namun pintar\"]),np.asarray([\"anto anak nakal tapi pandai\"])])"
      ],
      "outputs": [
        {
          "output_type": "execute_result",
          "data": {
            "text/plain": [
              "array([[0.73660237]], dtype=float32)"
            ]
          },
          "metadata": {},
          "execution_count": 55
        }
      ],
      "metadata": {}
    },
    {
      "cell_type": "code",
      "execution_count": 23,
      "source": [
        "best_model5.predict([np.asarray([\"anto anak bandel namun pintar\"]),np.asarray([\"anto anak nakal tapi pandai\"])])"
      ],
      "outputs": [
        {
          "output_type": "execute_result",
          "data": {
            "text/plain": [
              "array([[0.84372604]], dtype=float32)"
            ]
          },
          "metadata": {},
          "execution_count": 23
        }
      ],
      "metadata": {}
    },
    {
      "cell_type": "markdown",
      "source": [
        "## Save the models"
      ],
      "metadata": {
        "id": "FC_hXADLxhGY"
      }
    },
    {
      "cell_type": "code",
      "execution_count": 85,
      "source": [
        "best_model.save('C:/Users/stanl/Documents/saved_models/model_gru1_HPT')"
      ],
      "outputs": [
        {
          "output_type": "stream",
          "name": "stdout",
          "text": [
            "WARNING:tensorflow:Unresolved object in checkpoint: (root).optimizer.iter\n",
            "WARNING:tensorflow:Unresolved object in checkpoint: (root).optimizer.beta_1\n",
            "WARNING:tensorflow:Unresolved object in checkpoint: (root).optimizer.beta_2\n",
            "WARNING:tensorflow:Unresolved object in checkpoint: (root).optimizer.decay\n",
            "WARNING:tensorflow:Unresolved object in checkpoint: (root).optimizer.learning_rate\n",
            "WARNING:tensorflow:A checkpoint was restored (e.g. tf.train.Checkpoint.restore or tf.keras.Model.load_weights) but not all checkpointed values were used. See above for specific issues. Use expect_partial() on the load status object, e.g. tf.train.Checkpoint.restore(...).expect_partial(), to silence these warnings, or use assert_consumed() to make the check explicit. See https://www.tensorflow.org/guide/checkpoint#loading_mechanics for details.\n",
            "INFO:tensorflow:Assets written to: C:/Users/stanl/Documents/saved_models/model_gru1_HPT\\assets\n"
          ]
        }
      ],
      "metadata": {}
    },
    {
      "cell_type": "code",
      "execution_count": 26,
      "source": [
        "best_model2.save('C:/Users/stanl/Documents/saved_models/model_gru1_red_HPT')"
      ],
      "outputs": [
        {
          "output_type": "stream",
          "name": "stdout",
          "text": [
            "WARNING:tensorflow:From C:\\Users\\stanl\\anaconda3\\lib\\site-packages\\tensorflow\\python\\training\\tracking\\tracking.py:111: Model.state_updates (from tensorflow.python.keras.engine.training) is deprecated and will be removed in a future version.\n",
            "Instructions for updating:\n",
            "This property should not be used in TensorFlow 2.0, as updates are applied automatically.\n",
            "WARNING:tensorflow:From C:\\Users\\stanl\\anaconda3\\lib\\site-packages\\tensorflow\\python\\training\\tracking\\tracking.py:111: Layer.updates (from tensorflow.python.keras.engine.base_layer) is deprecated and will be removed in a future version.\n",
            "Instructions for updating:\n",
            "This property should not be used in TensorFlow 2.0, as updates are applied automatically.\n",
            "INFO:tensorflow:Assets written to: C:/Users/stanl/Documents/saved_models/model_gru1_red_HPT\\assets\n"
          ]
        }
      ],
      "metadata": {
        "colab": {
          "base_uri": "https://localhost:8080/"
        },
        "id": "wm003Wz0rKXa",
        "outputId": "e0a0aefa-3aae-48fc-83f0-13341977abb8"
      }
    },
    {
      "cell_type": "code",
      "execution_count": 79,
      "source": [
        "best_model_1.save('C:/Users/stanl/Documents/saved_models/model_gru_1_HPT')"
      ],
      "outputs": [
        {
          "output_type": "stream",
          "name": "stdout",
          "text": [
            "WARNING:tensorflow:From C:\\Users\\stanl\\anaconda3\\lib\\site-packages\\tensorflow\\python\\training\\tracking\\tracking.py:111: Model.state_updates (from tensorflow.python.keras.engine.training) is deprecated and will be removed in a future version.\n",
            "Instructions for updating:\n",
            "This property should not be used in TensorFlow 2.0, as updates are applied automatically.\n",
            "WARNING:tensorflow:From C:\\Users\\stanl\\anaconda3\\lib\\site-packages\\tensorflow\\python\\training\\tracking\\tracking.py:111: Layer.updates (from tensorflow.python.keras.engine.base_layer) is deprecated and will be removed in a future version.\n",
            "Instructions for updating:\n",
            "This property should not be used in TensorFlow 2.0, as updates are applied automatically.\n",
            "INFO:tensorflow:Assets written to: C:/Users/stanl/Documents/saved_models/model_gru_1_HPT\\assets\n"
          ]
        }
      ],
      "metadata": {}
    },
    {
      "cell_type": "code",
      "execution_count": 105,
      "source": [
        "best_model_2.save('C:/Users/stanl/Documents/saved_models/model_gru_2_HPT')"
      ],
      "outputs": [
        {
          "output_type": "stream",
          "name": "stdout",
          "text": [
            "INFO:tensorflow:Assets written to: C:/Users/stanl/Documents/saved_models/model_gru_2_HPT\\assets\n"
          ]
        }
      ],
      "metadata": {}
    },
    {
      "cell_type": "code",
      "execution_count": 95,
      "source": [
        "export_dir3 = 'C:/Users/stanl/Documents/saved_models/model_bilstm_red_HPT'\r\n",
        "best_model3.save(export_dir3)"
      ],
      "outputs": [
        {
          "output_type": "stream",
          "name": "stdout",
          "text": [
            "INFO:tensorflow:Assets written to: C:/Users/stanl/Documents/saved_models/model_red_HPT\\assets\n"
          ]
        },
        {
          "output_type": "stream",
          "name": "stderr",
          "text": [
            "INFO:tensorflow:Assets written to: C:/Users/stanl/Documents/saved_models/model_red_HPT\\assets\n"
          ]
        }
      ],
      "metadata": {}
    },
    {
      "cell_type": "code",
      "execution_count": 24,
      "source": [
        "export_dir5 = 'C:/Users/stanl/Documents/saved_models/model_gru_0_HPT'\r\n",
        "best_model5.save(export_dir5)"
      ],
      "outputs": [
        {
          "output_type": "stream",
          "name": "stdout",
          "text": [
            "WARNING:tensorflow:From C:\\Users\\stanl\\anaconda3\\lib\\site-packages\\tensorflow\\python\\training\\tracking\\tracking.py:111: Model.state_updates (from tensorflow.python.keras.engine.training) is deprecated and will be removed in a future version.\n",
            "Instructions for updating:\n",
            "This property should not be used in TensorFlow 2.0, as updates are applied automatically.\n",
            "WARNING:tensorflow:From C:\\Users\\stanl\\anaconda3\\lib\\site-packages\\tensorflow\\python\\training\\tracking\\tracking.py:111: Layer.updates (from tensorflow.python.keras.engine.base_layer) is deprecated and will be removed in a future version.\n",
            "Instructions for updating:\n",
            "This property should not be used in TensorFlow 2.0, as updates are applied automatically.\n",
            "INFO:tensorflow:Assets written to: C:/Users/stanl/Documents/saved_models/model_gru_0_HPT\\assets\n"
          ]
        }
      ],
      "metadata": {}
    },
    {
      "cell_type": "markdown",
      "source": [
        "### Try to load model from saved model"
      ],
      "metadata": {
        "id": "bYrjK_aRraHB"
      }
    },
    {
      "cell_type": "code",
      "execution_count": 65,
      "source": [
        "new_model4 = tf.keras.models.load_model(export_dir1)\r\n",
        "# nnew_model4 = tf.keras.models.load_model(\"/content/drive/MyDrive/saved_model/model_gru1\")\r\n",
        "new_model4.summary()\r\n",
        "# nnew_model4.summary()"
      ],
      "outputs": [
        {
          "output_type": "stream",
          "name": "stdout",
          "text": [
            "Model: \"functional_1\"\n",
            "__________________________________________________________________________________________________\n",
            "Layer (type)                    Output Shape         Param #     Connected to                     \n",
            "==================================================================================================\n",
            "input_1 (InputLayer)            [(None,)]            0                                            \n",
            "__________________________________________________________________________________________________\n",
            "input_2 (InputLayer)            [(None,)]            0                                            \n",
            "__________________________________________________________________________________________________\n",
            "keras_layer (KerasLayer)        (None, 128)          112461824   input_1[0][0]                    \n",
            "                                                                 input_2[0][0]                    \n",
            "__________________________________________________________________________________________________\n",
            "concatenate (Concatenate)       (None, 256)          0           keras_layer[0][0]                \n",
            "                                                                 keras_layer[1][0]                \n",
            "__________________________________________________________________________________________________\n",
            "reshape (Reshape)               (None, 2, 128)       0           concatenate[0][0]                \n",
            "__________________________________________________________________________________________________\n",
            "bidirectional (Bidirectional)   (None, 2, 256)       263168      reshape[0][0]                    \n",
            "__________________________________________________________________________________________________\n",
            "gru (GRU)                       (None, 2, 128)       148224      bidirectional[0][0]              \n",
            "__________________________________________________________________________________________________\n",
            "bidirectional_1 (Bidirectional) (None, 128)          98816       gru[0][0]                        \n",
            "__________________________________________________________________________________________________\n",
            "dense (Dense)                   (None, 448)          57792       bidirectional_1[0][0]            \n",
            "__________________________________________________________________________________________________\n",
            "dropout (Dropout)               (None, 448)          0           dense[0][0]                      \n",
            "__________________________________________________________________________________________________\n",
            "batch_normalization (BatchNorma (None, 448)          1792        dropout[0][0]                    \n",
            "__________________________________________________________________________________________________\n",
            "dense_1 (Dense)                 (None, 256)          114944      batch_normalization[0][0]        \n",
            "__________________________________________________________________________________________________\n",
            "dropout_1 (Dropout)             (None, 256)          0           dense_1[0][0]                    \n",
            "__________________________________________________________________________________________________\n",
            "batch_normalization_1 (BatchNor (None, 256)          1024        dropout_1[0][0]                  \n",
            "__________________________________________________________________________________________________\n",
            "dense_2 (Dense)                 (None, 256)          65792       batch_normalization_1[0][0]      \n",
            "__________________________________________________________________________________________________\n",
            "dropout_2 (Dropout)             (None, 256)          0           dense_2[0][0]                    \n",
            "__________________________________________________________________________________________________\n",
            "dense_3 (Dense)                 (None, 1)            257         dropout_2[0][0]                  \n",
            "==================================================================================================\n",
            "Total params: 113,213,633\n",
            "Trainable params: 113,212,225\n",
            "Non-trainable params: 1,408\n",
            "__________________________________________________________________________________________________\n"
          ]
        }
      ],
      "metadata": {
        "colab": {
          "base_uri": "https://localhost:8080/"
        },
        "id": "3DjSP9sbVeGf",
        "outputId": "1823274a-0a38-48da-88de-45ad3a65c3de"
      }
    },
    {
      "cell_type": "code",
      "execution_count": 66,
      "source": [
        "new_model4.predict([np.asarray([\"saya memukul kursi\"]),np.asarray([\"kursi dipukul oleh saya\"])])\r\n",
        "# nnew_model4.predict([np.asarray([\"saya memukul kursi\"]),np.asarray([\"kursi dipukul oleh saya\"])])"
      ],
      "outputs": [
        {
          "output_type": "execute_result",
          "data": {
            "text/plain": [
              "array([[0.8101732]], dtype=float32)"
            ]
          },
          "metadata": {},
          "execution_count": 66
        }
      ],
      "metadata": {
        "colab": {
          "base_uri": "https://localhost:8080/"
        },
        "id": "Dpch0IMIWMou",
        "outputId": "e437c0e0-9ea7-4d31-cf57-7b3d87760d9f"
      }
    },
    {
      "cell_type": "code",
      "execution_count": 67,
      "source": [
        "new_model4.predict([np.asarray([\"dia gemar berbohong\"]),np.asarray([\"dia suka berdusta\"])])"
      ],
      "outputs": [
        {
          "output_type": "execute_result",
          "data": {
            "text/plain": [
              "array([[0.37703103]], dtype=float32)"
            ]
          },
          "metadata": {},
          "execution_count": 67
        }
      ],
      "metadata": {
        "colab": {
          "base_uri": "https://localhost:8080/"
        },
        "id": "WEmeUJvYEK7Z",
        "outputId": "42f3122f-38e3-46f1-e39c-3a55e537ad53"
      }
    },
    {
      "cell_type": "markdown",
      "source": [
        "# Save model to Drive"
      ],
      "metadata": {
        "id": "1xVxTcV1rBCg"
      }
    },
    {
      "cell_type": "code",
      "execution_count": null,
      "source": [
        "#save model to MyDrive\r\n",
        "# !cp -r /content/saved_model /content/drive/MyDrive/"
      ],
      "outputs": [],
      "metadata": {
        "id": "AnOgM0thq5Bv"
      }
    }
  ]
}

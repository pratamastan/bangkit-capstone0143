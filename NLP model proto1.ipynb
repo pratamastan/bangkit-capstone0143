{
  "nbformat": 4,
  "nbformat_minor": 0,
  "metadata": {
    "colab": {
      "name": "Untitled1.ipynb",
      "provenance": [],
      "collapsed_sections": [],
      "include_colab_link": true
    },
    "kernelspec": {
      "name": "python3",
      "display_name": "Python 3"
    },
    "language_info": {
      "name": "python"
    },
    "accelerator": "GPU"
  },
  "cells": [
    {
      "cell_type": "markdown",
      "metadata": {
        "id": "view-in-github",
        "colab_type": "text"
      },
      "source": [
        "<a href=\"https://colab.research.google.com/github/pratamastan/bangkit-capstone0143/blob/main/NLP%20model%20proto1.ipynb\" target=\"_parent\"><img src=\"https://colab.research.google.com/assets/colab-badge.svg\" alt=\"Open In Colab\"/></a>"
      ]
    },
    {
      "cell_type": "code",
      "metadata": {
        "colab": {
          "base_uri": "https://localhost:8080/"
        },
        "id": "XlhC6gY_tuRR",
        "outputId": "0a3e8cdd-ca97-4516-cdd5-42e014b7b73a"
      },
      "source": [
        "from google.colab import drive\n",
        "drive.mount('/content/drive')"
      ],
      "execution_count": null,
      "outputs": [
        {
          "output_type": "stream",
          "text": [
            "Mounted at /content/drive\n"
          ],
          "name": "stdout"
        }
      ]
    },
    {
      "cell_type": "code",
      "metadata": {
        "id": "cvUNWk0MuW86"
      },
      "source": [
        "import pandas as pd\n",
        "import numpy as np\n",
        "import tensorflow as tf\n",
        "import tensorflow_hub as hub"
      ],
      "execution_count": null,
      "outputs": []
    },
    {
      "cell_type": "code",
      "metadata": {
        "id": "3fI-9jMRuzYc"
      },
      "source": [
        "data1=pd.read_csv(\"/content/drive/MyDrive/Quora question pair dataset/train complete indo.csv\")"
      ],
      "execution_count": null,
      "outputs": []
    },
    {
      "cell_type": "code",
      "metadata": {
        "id": "f4MP2chBv9E8"
      },
      "source": [
        "data1=data1.dropna()"
      ],
      "execution_count": null,
      "outputs": []
    },
    {
      "cell_type": "code",
      "metadata": {
        "colab": {
          "base_uri": "https://localhost:8080/"
        },
        "id": "SH5MGSCGPfLg",
        "outputId": "372b41e3-9cc2-4b51-8b16-1766426149ce"
      },
      "source": [
        "data1.isnull().values.any()"
      ],
      "execution_count": null,
      "outputs": [
        {
          "output_type": "execute_result",
          "data": {
            "text/plain": [
              "False"
            ]
          },
          "metadata": {
            "tags": []
          },
          "execution_count": 99
        }
      ]
    },
    {
      "cell_type": "code",
      "metadata": {
        "colab": {
          "base_uri": "https://localhost:8080/",
          "height": 195
        },
        "id": "xn3iNxPtPGJJ",
        "outputId": "74f724ea-4f67-42b4-e8bd-b18d71ec2068"
      },
      "source": [
        "data1.head()"
      ],
      "execution_count": null,
      "outputs": [
        {
          "output_type": "execute_result",
          "data": {
            "text/html": [
              "<div>\n",
              "<style scoped>\n",
              "    .dataframe tbody tr th:only-of-type {\n",
              "        vertical-align: middle;\n",
              "    }\n",
              "\n",
              "    .dataframe tbody tr th {\n",
              "        vertical-align: top;\n",
              "    }\n",
              "\n",
              "    .dataframe thead th {\n",
              "        text-align: right;\n",
              "    }\n",
              "</style>\n",
              "<table border=\"1\" class=\"dataframe\">\n",
              "  <thead>\n",
              "    <tr style=\"text-align: right;\">\n",
              "      <th></th>\n",
              "      <th>id</th>\n",
              "      <th>qid1</th>\n",
              "      <th>qid2</th>\n",
              "      <th>question1</th>\n",
              "      <th>question2</th>\n",
              "      <th>is_duplicate</th>\n",
              "    </tr>\n",
              "  </thead>\n",
              "  <tbody>\n",
              "    <tr>\n",
              "      <th>0</th>\n",
              "      <td>0</td>\n",
              "      <td>1</td>\n",
              "      <td>2</td>\n",
              "      <td>Apa panduan langkah demi langkah untuk berinve...</td>\n",
              "      <td>Apa panduan langkah demi langkah untuk berinve...</td>\n",
              "      <td>0</td>\n",
              "    </tr>\n",
              "    <tr>\n",
              "      <th>1</th>\n",
              "      <td>1</td>\n",
              "      <td>3</td>\n",
              "      <td>4</td>\n",
              "      <td>Bagaimana kisah Berlian Kohinoor (Koh-i-Noor)?</td>\n",
              "      <td>Apa yang akan terjadi jika pemerintah India me...</td>\n",
              "      <td>0</td>\n",
              "    </tr>\n",
              "    <tr>\n",
              "      <th>2</th>\n",
              "      <td>2</td>\n",
              "      <td>5</td>\n",
              "      <td>6</td>\n",
              "      <td>Bagaimana cara meningkatkan kecepatan koneksi ...</td>\n",
              "      <td>Bagaimana kecepatan Internet dapat ditingkatka...</td>\n",
              "      <td>0</td>\n",
              "    </tr>\n",
              "    <tr>\n",
              "      <th>3</th>\n",
              "      <td>3</td>\n",
              "      <td>7</td>\n",
              "      <td>8</td>\n",
              "      <td>Mengapa saya secara mental sangat kesepian? Ba...</td>\n",
              "      <td>Temukan sisanya ketika [math] 23 ^ {24} [/ mat...</td>\n",
              "      <td>0</td>\n",
              "    </tr>\n",
              "    <tr>\n",
              "      <th>4</th>\n",
              "      <td>4</td>\n",
              "      <td>9</td>\n",
              "      <td>10</td>\n",
              "      <td>Manakah yang larut dalam air seperti gula pasi...</td>\n",
              "      <td>Ikan apa yang akan bertahan hidup di air asin?</td>\n",
              "      <td>0</td>\n",
              "    </tr>\n",
              "  </tbody>\n",
              "</table>\n",
              "</div>"
            ],
            "text/plain": [
              "   id  qid1  ...                                          question2 is_duplicate\n",
              "0   0     1  ...  Apa panduan langkah demi langkah untuk berinve...            0\n",
              "1   1     3  ...  Apa yang akan terjadi jika pemerintah India me...            0\n",
              "2   2     5  ...  Bagaimana kecepatan Internet dapat ditingkatka...            0\n",
              "3   3     7  ...  Temukan sisanya ketika [math] 23 ^ {24} [/ mat...            0\n",
              "4   4     9  ...     Ikan apa yang akan bertahan hidup di air asin?            0\n",
              "\n",
              "[5 rows x 6 columns]"
            ]
          },
          "metadata": {
            "tags": []
          },
          "execution_count": 97
        }
      ]
    },
    {
      "cell_type": "code",
      "metadata": {
        "colab": {
          "base_uri": "https://localhost:8080/"
        },
        "id": "znGtTGTXBeRk",
        "outputId": "4c783af3-4297-43d4-b4e4-c967dbf1bca8"
      },
      "source": [
        "data1.question1.str.len().max()"
      ],
      "execution_count": null,
      "outputs": [
        {
          "output_type": "execute_result",
          "data": {
            "text/plain": [
              "717"
            ]
          },
          "metadata": {
            "tags": []
          },
          "execution_count": 17
        }
      ]
    },
    {
      "cell_type": "code",
      "metadata": {
        "colab": {
          "base_uri": "https://localhost:8080/"
        },
        "id": "bEd4Pu71BkXg",
        "outputId": "f9ae063f-1cc7-43f5-e383-153a30a36850"
      },
      "source": [
        "data1.question2.str.len().max()"
      ],
      "execution_count": null,
      "outputs": [
        {
          "output_type": "execute_result",
          "data": {
            "text/plain": [
              "1395"
            ]
          },
          "metadata": {
            "tags": []
          },
          "execution_count": 18
        }
      ]
    },
    {
      "cell_type": "code",
      "metadata": {
        "id": "kfSXEkPBw9fB"
      },
      "source": [
        "from sklearn.model_selection import train_test_split\n",
        "X_train, X_test, y_train, y_test = train_test_split(data1[[\"question1\", \"question2\"]], data1[\"is_duplicate\"], test_size=0.2, random_state=42)"
      ],
      "execution_count": null,
      "outputs": []
    },
    {
      "cell_type": "code",
      "metadata": {
        "id": "cqNOcymh-DyD"
      },
      "source": [
        "xt=X_train.to_numpy()\n",
        "yt=y_train.to_numpy()\n",
        "\n",
        "xte=X_test.to_numpy()\n",
        "yte=y_test.to_numpy()\n",
        "\n",
        "Q1_train = X_train[\"question1\"].to_numpy()\n",
        "Q2_train = X_train[\"question2\"].to_numpy()\n",
        "Q1_test = X_test[\"question1\"].to_numpy()\n",
        "Q2_test = X_test[\"question2\"].to_numpy()"
      ],
      "execution_count": null,
      "outputs": []
    },
    {
      "cell_type": "code",
      "metadata": {
        "colab": {
          "base_uri": "https://localhost:8080/"
        },
        "id": "hnz0bVT_cTkG",
        "outputId": "47b658fe-7f98-4923-eb6b-6d52f9085f51"
      },
      "source": [
        "Q1_train"
      ],
      "execution_count": null,
      "outputs": [
        {
          "output_type": "execute_result",
          "data": {
            "text/plain": [
              "array(['Apa sajakah cerita pendeknya?',\n",
              "       'Apa jawaban terbaik untuk pertanyaan HR, \"Anda berasal dari latar belakang ECE, jadi mengapa Anda ingin bergabung dengan perusahaan IT\"?',\n",
              "       'Bagaimana cara membulatkan 1,44 ke persen terdekat?', ...,\n",
              "       'Siapa yang saat ini memenangkan pemilihan presiden?',\n",
              "       'Apa sajakah film Telugu / Tamil / Hindi yang pemeran utamanya menjadi mafia atau tidak?',\n",
              "       'Berapa peringkat yang dipotong untuk perguruan tinggi Kedokteran Rohtak dalam kuota negara bagian?'],\n",
              "      dtype=object)"
            ]
          },
          "metadata": {
            "tags": []
          },
          "execution_count": 20
        }
      ]
    },
    {
      "cell_type": "code",
      "metadata": {
        "colab": {
          "base_uri": "https://localhost:8080/",
          "height": 35
        },
        "id": "kE2tOVZKMkER",
        "outputId": "cda191fa-6c5f-4476-b65d-620a14d5c7b4"
      },
      "source": [
        "data1[\"question1\"][0]"
      ],
      "execution_count": null,
      "outputs": [
        {
          "output_type": "execute_result",
          "data": {
            "application/vnd.google.colaboratory.intrinsic+json": {
              "type": "string"
            },
            "text/plain": [
              "'Apa panduan langkah demi langkah untuk berinvestasi di pasar saham di India?'"
            ]
          },
          "metadata": {
            "tags": []
          },
          "execution_count": 105
        }
      ]
    },
    {
      "cell_type": "code",
      "metadata": {
        "colab": {
          "base_uri": "https://localhost:8080/",
          "height": 402
        },
        "id": "DGECNKybyvld",
        "outputId": "f28f17f4-93d4-4ae7-e9a8-ec854731e118"
      },
      "source": [
        "data1[[\"question1\",\"question2\"]]"
      ],
      "execution_count": null,
      "outputs": [
        {
          "output_type": "execute_result",
          "data": {
            "text/html": [
              "<div>\n",
              "<style scoped>\n",
              "    .dataframe tbody tr th:only-of-type {\n",
              "        vertical-align: middle;\n",
              "    }\n",
              "\n",
              "    .dataframe tbody tr th {\n",
              "        vertical-align: top;\n",
              "    }\n",
              "\n",
              "    .dataframe thead th {\n",
              "        text-align: right;\n",
              "    }\n",
              "</style>\n",
              "<table border=\"1\" class=\"dataframe\">\n",
              "  <thead>\n",
              "    <tr style=\"text-align: right;\">\n",
              "      <th></th>\n",
              "      <th>question1</th>\n",
              "      <th>question2</th>\n",
              "    </tr>\n",
              "  </thead>\n",
              "  <tbody>\n",
              "    <tr>\n",
              "      <th>0</th>\n",
              "      <td>Apa panduan langkah demi langkah untuk berinve...</td>\n",
              "      <td>Apa panduan langkah demi langkah untuk berinve...</td>\n",
              "    </tr>\n",
              "    <tr>\n",
              "      <th>1</th>\n",
              "      <td>Bagaimana kisah Berlian Kohinoor (Koh-i-Noor)?</td>\n",
              "      <td>Apa yang akan terjadi jika pemerintah India me...</td>\n",
              "    </tr>\n",
              "    <tr>\n",
              "      <th>2</th>\n",
              "      <td>Bagaimana cara meningkatkan kecepatan koneksi ...</td>\n",
              "      <td>Bagaimana kecepatan Internet dapat ditingkatka...</td>\n",
              "    </tr>\n",
              "    <tr>\n",
              "      <th>3</th>\n",
              "      <td>Mengapa saya secara mental sangat kesepian? Ba...</td>\n",
              "      <td>Temukan sisanya ketika [math] 23 ^ {24} [/ mat...</td>\n",
              "    </tr>\n",
              "    <tr>\n",
              "      <th>4</th>\n",
              "      <td>Manakah yang larut dalam air seperti gula pasi...</td>\n",
              "      <td>Ikan apa yang akan bertahan hidup di air asin?</td>\n",
              "    </tr>\n",
              "    <tr>\n",
              "      <th>...</th>\n",
              "      <td>...</td>\n",
              "      <td>...</td>\n",
              "    </tr>\n",
              "    <tr>\n",
              "      <th>404285</th>\n",
              "      <td>Ada berapa kata kunci dalam bahasa pemrograman...</td>\n",
              "      <td>Ada berapa kata kunci dalam Bahasa Pemrograman...</td>\n",
              "    </tr>\n",
              "    <tr>\n",
              "      <th>404286</th>\n",
              "      <td>Apakah Anda percaya ada kehidupan setelah kema...</td>\n",
              "      <td>Benarkah ada kehidupan setelah kematian?</td>\n",
              "    </tr>\n",
              "    <tr>\n",
              "      <th>404287</th>\n",
              "      <td>Apa satu koin?</td>\n",
              "      <td>Koin apa ini?</td>\n",
              "    </tr>\n",
              "    <tr>\n",
              "      <th>404288</th>\n",
              "      <td>Berapa perkiraan biaya hidup tahunan selama be...</td>\n",
              "      <td>Saya mengalami sedikit masalah rambut rontok t...</td>\n",
              "    </tr>\n",
              "    <tr>\n",
              "      <th>404289</th>\n",
              "      <td>Bagaimana rasanya berhubungan seks dengan sepupu?</td>\n",
              "      <td>Bagaimana rasanya berhubungan seks dengan sepu...</td>\n",
              "    </tr>\n",
              "  </tbody>\n",
              "</table>\n",
              "<p>404290 rows × 2 columns</p>\n",
              "</div>"
            ],
            "text/plain": [
              "                                                question1                                          question2\n",
              "0       Apa panduan langkah demi langkah untuk berinve...  Apa panduan langkah demi langkah untuk berinve...\n",
              "1          Bagaimana kisah Berlian Kohinoor (Koh-i-Noor)?  Apa yang akan terjadi jika pemerintah India me...\n",
              "2       Bagaimana cara meningkatkan kecepatan koneksi ...  Bagaimana kecepatan Internet dapat ditingkatka...\n",
              "3       Mengapa saya secara mental sangat kesepian? Ba...  Temukan sisanya ketika [math] 23 ^ {24} [/ mat...\n",
              "4       Manakah yang larut dalam air seperti gula pasi...     Ikan apa yang akan bertahan hidup di air asin?\n",
              "...                                                   ...                                                ...\n",
              "404285  Ada berapa kata kunci dalam bahasa pemrograman...  Ada berapa kata kunci dalam Bahasa Pemrograman...\n",
              "404286  Apakah Anda percaya ada kehidupan setelah kema...           Benarkah ada kehidupan setelah kematian?\n",
              "404287                                     Apa satu koin?                                      Koin apa ini?\n",
              "404288  Berapa perkiraan biaya hidup tahunan selama be...  Saya mengalami sedikit masalah rambut rontok t...\n",
              "404289  Bagaimana rasanya berhubungan seks dengan sepupu?  Bagaimana rasanya berhubungan seks dengan sepu...\n",
              "\n",
              "[404290 rows x 2 columns]"
            ]
          },
          "metadata": {
            "tags": []
          },
          "execution_count": 23
        }
      ]
    },
    {
      "cell_type": "code",
      "metadata": {
        "id": "eD6gHbz8y3F8"
      },
      "source": [
        "embed = hub.KerasLayer(\"https://tfhub.dev/google/nnlm-id-dim128-with-normalization/2\",input_shape=[], dtype=tf.string)\n",
        "embed.trainable=True"
      ],
      "execution_count": null,
      "outputs": []
    },
    {
      "cell_type": "code",
      "metadata": {
        "id": "3sSxwalsMSkK"
      },
      "source": [
        "xt1=embed(Q1_train)\n",
        "xt2=embed(Q2_train)\n",
        "xte1=embed(Q1_test)\n",
        "xte2=embed(Q2_test)"
      ],
      "execution_count": null,
      "outputs": []
    },
    {
      "cell_type": "code",
      "metadata": {
        "colab": {
          "base_uri": "https://localhost:8080/"
        },
        "id": "ogL4saosmMVV",
        "outputId": "21f664ca-4e9c-4f9b-8bb2-a0db7f2bb96e"
      },
      "source": [
        "xt1"
      ],
      "execution_count": null,
      "outputs": [
        {
          "output_type": "execute_result",
          "data": {
            "text/plain": [
              "<tf.Tensor: shape=(323430, 128), dtype=float32, numpy=\n",
              "array([[ 0.03792422, -0.08203722, -0.03952134, ..., -0.03751129,\n",
              "        -0.13026127, -0.21294448],\n",
              "       [ 0.16049062,  0.05221158, -0.03756306, ..., -0.06843793,\n",
              "        -0.16083518,  0.00526717],\n",
              "       [ 0.00541904,  0.03682816, -0.10739181, ..., -0.05703003,\n",
              "        -0.12414219, -0.05216019],\n",
              "       ...,\n",
              "       [ 0.17406467,  0.06946962, -0.02178098, ..., -0.05727712,\n",
              "        -0.17851247, -0.00691927],\n",
              "       [ 0.14288372, -0.16400667,  0.03347619, ...,  0.04388543,\n",
              "        -0.12863201, -0.02391369],\n",
              "       [-0.02106932, -0.22670205, -0.11702876, ..., -0.13742013,\n",
              "        -0.11424292,  0.08969257]], dtype=float32)>"
            ]
          },
          "metadata": {
            "tags": []
          },
          "execution_count": 14
        }
      ]
    },
    {
      "cell_type": "code",
      "metadata": {
        "id": "0AI-Xuhm7qnk"
      },
      "source": [
        "#ini model 1 epoch sekitar 2 menit\n",
        "model=tf.keras.Sequential([tf.keras.layers.Bidirectional(tf.keras.layers.LSTM(64, return_sequences=True)),\n",
        "                           tf.keras.layers.Bidirectional(tf.keras.layers.LSTM(32)),\n",
        "                           tf.keras.layers.Dense(200,activation='relu'),\n",
        "                           tf.keras.layers.Dropout(0.2),\n",
        "                           tf.keras.layers.BatchNormalization(),\n",
        "                           tf.keras.layers.Dense(200,activation='relu'),\n",
        "                           tf.keras.layers.Dropout(0.2),\n",
        "                           tf.keras.layers.BatchNormalization(),\n",
        "                           tf.keras.layers.Dense(200,activation='relu'),\n",
        "                           tf.keras.layers.Dropout(0.2),\n",
        "                           tf.keras.layers.BatchNormalization(),\n",
        "                           tf.keras.layers.Dense(200,activation='relu'),\n",
        "                           tf.keras.layers.Dropout(0.2),\n",
        "                           tf.keras.layers.BatchNormalization(),\n",
        "                           tf.keras.layers.Dense(1, activation=\"sigmoid\")\n",
        "])\n",
        "#model.build((1,2,128))"
      ],
      "execution_count": null,
      "outputs": []
    },
    {
      "cell_type": "code",
      "metadata": {
        "colab": {
          "base_uri": "https://localhost:8080/"
        },
        "id": "4GvI4xl8gADS",
        "outputId": "f9fa1fe6-bac0-4871-8ec8-f34134818570"
      },
      "source": [
        "model.summary()"
      ],
      "execution_count": null,
      "outputs": [
        {
          "output_type": "stream",
          "text": [
            "Model: \"sequential\"\n",
            "_________________________________________________________________\n",
            "Layer (type)                 Output Shape              Param #   \n",
            "=================================================================\n",
            "bidirectional (Bidirectional (None, 2, 128)            98816     \n",
            "_________________________________________________________________\n",
            "bidirectional_1 (Bidirection (None, 64)                41216     \n",
            "_________________________________________________________________\n",
            "dense (Dense)                (None, 200)               13000     \n",
            "_________________________________________________________________\n",
            "dropout (Dropout)            (None, 200)               0         \n",
            "_________________________________________________________________\n",
            "batch_normalization (BatchNo (None, 200)               800       \n",
            "_________________________________________________________________\n",
            "dense_1 (Dense)              (None, 200)               40200     \n",
            "_________________________________________________________________\n",
            "dropout_1 (Dropout)          (None, 200)               0         \n",
            "_________________________________________________________________\n",
            "batch_normalization_1 (Batch (None, 200)               800       \n",
            "_________________________________________________________________\n",
            "dense_2 (Dense)              (None, 200)               40200     \n",
            "_________________________________________________________________\n",
            "dropout_2 (Dropout)          (None, 200)               0         \n",
            "_________________________________________________________________\n",
            "batch_normalization_2 (Batch (None, 200)               800       \n",
            "_________________________________________________________________\n",
            "dense_3 (Dense)              (None, 200)               40200     \n",
            "_________________________________________________________________\n",
            "dropout_3 (Dropout)          (None, 200)               0         \n",
            "_________________________________________________________________\n",
            "batch_normalization_3 (Batch (None, 200)               800       \n",
            "_________________________________________________________________\n",
            "dense_4 (Dense)              (None, 1)                 201       \n",
            "=================================================================\n",
            "Total params: 277,033\n",
            "Trainable params: 275,433\n",
            "Non-trainable params: 1,600\n",
            "_________________________________________________________________\n"
          ],
          "name": "stdout"
        }
      ]
    },
    {
      "cell_type": "code",
      "metadata": {
        "colab": {
          "base_uri": "https://localhost:8080/"
        },
        "id": "XmJdCMUv2UsX",
        "outputId": "1d3b14bb-a04e-4634-ee0c-8a745c8ceef9"
      },
      "source": [
        "#ini model running timenya lama, 1 epoch sekitar 20 menit\n",
        "ques1=tf.keras.Input(shape=(), dtype=tf.string)\n",
        "ques2=tf.keras.Input(shape=(), dtype=tf.string)\n",
        "\n",
        "qu1=embed(ques1)\n",
        "qu2=embed(ques2)\n",
        "\n",
        "q1=tf.expand_dims(qu1, axis=1)\n",
        "q2=tf.expand_dims(qu2, axis=1)\n",
        "q1=tf.keras.layers.Bidirectional(tf.keras.layers.LSTM(128, return_sequences=True))(q1)\n",
        "q2=tf.keras.layers.Bidirectional(tf.keras.layers.LSTM(128, return_sequences=True))(q2)\n",
        "\n",
        "attention=tf.keras.layers.Attention()([q1,q2])\n",
        "attention=tf.keras.layers.Flatten()(attention)\n",
        "attention=tf.keras.layers.Dense(300, activation=\"relu\")(attention)\n",
        "#attention=tf.keras.layers.Reshape((2,128))(attention)\n",
        "\n",
        "#merged = tf.keras.layers.Add([q1,attention])\n",
        "merged = tf.keras.layers.Flatten()(attention)\n",
        "merged = tf.keras.layers.Dense(200,activation='relu')(merged)\n",
        "merged = tf.keras.layers.Dropout(0.2)(merged)\n",
        "merged = tf.keras.layers.BatchNormalization()(merged)\n",
        "merged = tf.keras.layers.Dense(200,activation='relu')(merged)\n",
        "merged = tf.keras.layers.Dropout(0.2)(merged)\n",
        "merged = tf.keras.layers.BatchNormalization()(merged)\n",
        "merged = tf.keras.layers.Dense(200,activation='relu')(merged)\n",
        "merged = tf.keras.layers.Dropout(0.2)(merged)\n",
        "merged = tf.keras.layers.BatchNormalization()(merged)\n",
        "merged = tf.keras.layers.Dense(200,activation='relu')(merged)\n",
        "merged = tf.keras.layers.Dropout(0.2)(merged)\n",
        "merged = tf.keras.layers.BatchNormalization()(merged)\n",
        "\n",
        "is_duplicate = tf.keras.layers.Dense(1, activation=\"sigmoid\")(merged)\n",
        "model1 = tf.keras.models.Model(inputs=[ques1,ques2], outputs=is_duplicate)\n",
        "model1.summary()"
      ],
      "execution_count": null,
      "outputs": [
        {
          "output_type": "stream",
          "text": [
            "Model: \"model\"\n",
            "__________________________________________________________________________________________________\n",
            "Layer (type)                    Output Shape         Param #     Connected to                     \n",
            "==================================================================================================\n",
            "input_1 (InputLayer)            [(None,)]            0                                            \n",
            "__________________________________________________________________________________________________\n",
            "input_2 (InputLayer)            [(None,)]            0                                            \n",
            "__________________________________________________________________________________________________\n",
            "keras_layer (KerasLayer)        (None, 128)          112461824   input_1[0][0]                    \n",
            "                                                                 input_2[0][0]                    \n",
            "__________________________________________________________________________________________________\n",
            "tf.expand_dims (TFOpLambda)     (None, 1, 128)       0           keras_layer[0][0]                \n",
            "__________________________________________________________________________________________________\n",
            "tf.expand_dims_1 (TFOpLambda)   (None, 1, 128)       0           keras_layer[1][0]                \n",
            "__________________________________________________________________________________________________\n",
            "bidirectional (Bidirectional)   (None, 1, 256)       263168      tf.expand_dims[0][0]             \n",
            "__________________________________________________________________________________________________\n",
            "bidirectional_1 (Bidirectional) (None, 1, 256)       263168      tf.expand_dims_1[0][0]           \n",
            "__________________________________________________________________________________________________\n",
            "attention (Attention)           (None, 1, 256)       0           bidirectional[0][0]              \n",
            "                                                                 bidirectional_1[0][0]            \n",
            "__________________________________________________________________________________________________\n",
            "flatten (Flatten)               (None, 256)          0           attention[0][0]                  \n",
            "__________________________________________________________________________________________________\n",
            "dense (Dense)                   (None, 256)          65792       flatten[0][0]                    \n",
            "__________________________________________________________________________________________________\n",
            "reshape (Reshape)               (None, 2, 128)       0           dense[0][0]                      \n",
            "__________________________________________________________________________________________________\n",
            "flatten_1 (Flatten)             (None, 256)          0           reshape[0][0]                    \n",
            "__________________________________________________________________________________________________\n",
            "dense_1 (Dense)                 (None, 200)          51400       flatten_1[0][0]                  \n",
            "__________________________________________________________________________________________________\n",
            "dropout (Dropout)               (None, 200)          0           dense_1[0][0]                    \n",
            "__________________________________________________________________________________________________\n",
            "batch_normalization (BatchNorma (None, 200)          800         dropout[0][0]                    \n",
            "__________________________________________________________________________________________________\n",
            "dense_2 (Dense)                 (None, 200)          40200       batch_normalization[0][0]        \n",
            "__________________________________________________________________________________________________\n",
            "dropout_1 (Dropout)             (None, 200)          0           dense_2[0][0]                    \n",
            "__________________________________________________________________________________________________\n",
            "batch_normalization_1 (BatchNor (None, 200)          800         dropout_1[0][0]                  \n",
            "__________________________________________________________________________________________________\n",
            "dense_3 (Dense)                 (None, 200)          40200       batch_normalization_1[0][0]      \n",
            "__________________________________________________________________________________________________\n",
            "dropout_2 (Dropout)             (None, 200)          0           dense_3[0][0]                    \n",
            "__________________________________________________________________________________________________\n",
            "batch_normalization_2 (BatchNor (None, 200)          800         dropout_2[0][0]                  \n",
            "__________________________________________________________________________________________________\n",
            "dense_4 (Dense)                 (None, 200)          40200       batch_normalization_2[0][0]      \n",
            "__________________________________________________________________________________________________\n",
            "dropout_3 (Dropout)             (None, 200)          0           dense_4[0][0]                    \n",
            "__________________________________________________________________________________________________\n",
            "batch_normalization_3 (BatchNor (None, 200)          800         dropout_3[0][0]                  \n",
            "__________________________________________________________________________________________________\n",
            "dense_5 (Dense)                 (None, 1)            201         batch_normalization_3[0][0]      \n",
            "==================================================================================================\n",
            "Total params: 113,229,353\n",
            "Trainable params: 113,227,753\n",
            "Non-trainable params: 1,600\n",
            "__________________________________________________________________________________________________\n"
          ],
          "name": "stdout"
        }
      ]
    },
    {
      "cell_type": "code",
      "metadata": {
        "id": "RjDaDGv593CS"
      },
      "source": [
        "model1.compile(loss='binary_crossentropy', optimizer='adam', metrics=['accuracy'])"
      ],
      "execution_count": null,
      "outputs": []
    },
    {
      "cell_type": "code",
      "metadata": {
        "id": "5lh_IkfGB1_o"
      },
      "source": [
        "model.compile(loss='binary_crossentropy', optimizer='adam', metrics=['accuracy'])"
      ],
      "execution_count": null,
      "outputs": []
    },
    {
      "cell_type": "code",
      "metadata": {
        "colab": {
          "base_uri": "https://localhost:8080/"
        },
        "id": "6Fmf3aHiF_Kt",
        "outputId": "a68ab3f4-7e13-458c-be87-6a641f682bc6"
      },
      "source": [
        "history1 = model1.fit([Q1_train, Q2_train],\n",
        "                    yt,\n",
        "                    epochs=5,\n",
        "                    validation_data=([Q1_test,Q2_test], yte),\n",
        "                    verbose=2)"
      ],
      "execution_count": null,
      "outputs": [
        {
          "output_type": "stream",
          "text": [
            "Epoch 1/5\n",
            "10108/10108 - 1098s - loss: 0.5601 - accuracy: 0.7142 - val_loss: 0.5219 - val_accuracy: 0.7394\n",
            "Epoch 2/5\n",
            "10108/10108 - 1059s - loss: 0.5041 - accuracy: 0.7527 - val_loss: 0.5153 - val_accuracy: 0.7471\n",
            "Epoch 3/5\n",
            "10108/10108 - 1060s - loss: 0.4687 - accuracy: 0.7760 - val_loss: 0.5100 - val_accuracy: 0.7544\n",
            "Epoch 4/5\n",
            "10108/10108 - 1055s - loss: 0.4320 - accuracy: 0.7981 - val_loss: 0.5163 - val_accuracy: 0.7551\n",
            "Epoch 5/5\n",
            "10108/10108 - 1057s - loss: 0.3958 - accuracy: 0.8192 - val_loss: 0.5457 - val_accuracy: 0.7532\n"
          ],
          "name": "stdout"
        }
      ]
    },
    {
      "cell_type": "code",
      "metadata": {
        "colab": {
          "base_uri": "https://localhost:8080/"
        },
        "id": "7srafr_9Kg_F",
        "outputId": "bf2970da-dc7c-44a1-b8d7-8a1e2265552a"
      },
      "source": [
        "history = model.fit(np.stack((xt1, xt2), axis=1),\n",
        "                    yt,\n",
        "                    epochs=5,\n",
        "                    validation_data=(np.stack((xte1, xte2), axis=1), yte),\n",
        "                    verbose=2)"
      ],
      "execution_count": null,
      "outputs": [
        {
          "output_type": "stream",
          "text": [
            "Epoch 1/5\n",
            "10108/10108 - 127s - loss: 0.5713 - accuracy: 0.7028 - val_loss: 0.5203 - val_accuracy: 0.7332\n",
            "Epoch 2/5\n",
            "10108/10108 - 89s - loss: 0.4990 - accuracy: 0.7478 - val_loss: 0.4760 - val_accuracy: 0.7597\n",
            "Epoch 3/5\n",
            "10108/10108 - 87s - loss: 0.4668 - accuracy: 0.7676 - val_loss: 0.4600 - val_accuracy: 0.7681\n",
            "Epoch 4/5\n",
            "10108/10108 - 86s - loss: 0.4468 - accuracy: 0.7809 - val_loss: 0.4450 - val_accuracy: 0.7805\n",
            "Epoch 5/5\n",
            "10108/10108 - 86s - loss: 0.4299 - accuracy: 0.7923 - val_loss: 0.4362 - val_accuracy: 0.7875\n"
          ],
          "name": "stdout"
        }
      ]
    },
    {
      "cell_type": "code",
      "metadata": {
        "id": "WdKnfeH_T7sb"
      },
      "source": [
        "a=embed([\"saya memukul kursi\"])"
      ],
      "execution_count": null,
      "outputs": []
    },
    {
      "cell_type": "code",
      "metadata": {
        "id": "OovEQ5XqUGyi"
      },
      "source": [
        "a2=embed([\"kursi dipukul oleh saya\"])"
      ],
      "execution_count": null,
      "outputs": []
    },
    {
      "cell_type": "code",
      "metadata": {
        "colab": {
          "base_uri": "https://localhost:8080/"
        },
        "id": "cWPsoB3ibSdl",
        "outputId": "d86c6379-90e9-4ed2-86dd-9e492a290a75"
      },
      "source": [
        "prediction1 = model1.predict([np.asarray([\"dia memainkan gitar\"]),np.asarray([\"gitar dimainkan oleh dia\"])])\n",
        "print(prediction1)"
      ],
      "execution_count": null,
      "outputs": [
        {
          "output_type": "stream",
          "text": [
            "[[0.3453182]]\n"
          ],
          "name": "stdout"
        }
      ]
    },
    {
      "cell_type": "code",
      "metadata": {
        "colab": {
          "base_uri": "https://localhost:8080/"
        },
        "id": "lJV9HdqForWp",
        "outputId": "5f7f38d3-a055-4255-f827-fe4931b81b17"
      },
      "source": [
        "np.stack((a,a2),axis=1)"
      ],
      "execution_count": null,
      "outputs": [
        {
          "output_type": "execute_result",
          "data": {
            "text/plain": [
              "array([[[-0.02527324,  0.13880529, -0.0091286 ,  0.16133781,\n",
              "          0.16281272, -0.09192153, -0.05400613,  0.01175207,\n",
              "         -0.00157341,  0.11544802,  0.04184154, -0.02567816,\n",
              "          0.02595361,  0.03100132,  0.08969943,  0.16123143,\n",
              "         -0.05234122,  0.04622787,  0.02177284,  0.04983375,\n",
              "          0.07719582,  0.01804273, -0.05729916, -0.08064298,\n",
              "          0.03315999,  0.03386731, -0.08410315,  0.11704644,\n",
              "          0.02580629, -0.11809724,  0.00287541,  0.03695798,\n",
              "          0.01039357,  0.0519742 , -0.20322444,  0.08522063,\n",
              "          0.05121319, -0.03870725, -0.07432587,  0.01950176,\n",
              "          0.12678719,  0.01796092,  0.14816546,  0.02209316,\n",
              "         -0.04718846, -0.10268682, -0.07144903,  0.01819091,\n",
              "          0.17900167,  0.1234579 , -0.0631758 ,  0.0115751 ,\n",
              "         -0.09392782, -0.13392727, -0.07532788,  0.18672585,\n",
              "         -0.05976349, -0.08942653,  0.10088743,  0.02016073,\n",
              "          0.00038054, -0.04717613,  0.14853036, -0.02136726,\n",
              "         -0.06254555, -0.05479562, -0.07558919, -0.0988639 ,\n",
              "          0.0651475 , -0.0032573 , -0.21201535, -0.09192815,\n",
              "         -0.13931426, -0.01707974,  0.03199405, -0.02526067,\n",
              "         -0.14808972,  0.01685039, -0.01064504,  0.00104919,\n",
              "          0.01041584, -0.17264691,  0.02896792, -0.02769577,\n",
              "         -0.08400247, -0.09617195,  0.07847959,  0.08901586,\n",
              "         -0.0375517 , -0.19146146, -0.01337527,  0.05315158,\n",
              "          0.1467632 ,  0.04311802, -0.03595363, -0.01049273,\n",
              "          0.15430708,  0.11378709,  0.14513037,  0.00701511,\n",
              "         -0.04917197, -0.1514217 , -0.13118152, -0.07626676,\n",
              "          0.07737458, -0.0588018 , -0.04792199, -0.07513832,\n",
              "          0.16966426,  0.1246338 , -0.1691674 ,  0.04933206,\n",
              "         -0.05985892, -0.03093666,  0.11943193,  0.04438284,\n",
              "          0.0887894 , -0.03185989, -0.00688954,  0.10931551,\n",
              "         -0.02566287,  0.01031726,  0.10967334, -0.06713405,\n",
              "          0.00710651, -0.00242115, -0.09222837,  0.12131234],\n",
              "        [ 0.03637704,  0.02459586,  0.10663518,  0.12613639,\n",
              "          0.18455835, -0.04433303, -0.0230129 , -0.06134839,\n",
              "          0.06217824,  0.11708781, -0.07002788, -0.02948185,\n",
              "         -0.02410303, -0.01221996,  0.12808093,  0.07897387,\n",
              "         -0.03119947, -0.00599001,  0.14708611,  0.09185913,\n",
              "         -0.00449825,  0.0366935 , -0.09753989, -0.13993117,\n",
              "          0.03898013,  0.13221176, -0.13435826,  0.16044173,\n",
              "         -0.00094873, -0.1583935 ,  0.14472099,  0.07744981,\n",
              "         -0.03494936,  0.0101373 , -0.18816285,  0.12474633,\n",
              "          0.08296173, -0.08427303, -0.07870001, -0.09526768,\n",
              "          0.1640138 ,  0.01870519,  0.11212446, -0.0068512 ,\n",
              "         -0.03413019, -0.06839275, -0.12465969,  0.10148461,\n",
              "          0.08894362,  0.09376273, -0.11139569, -0.05262549,\n",
              "         -0.13236953, -0.21233997, -0.05789749,  0.18083572,\n",
              "         -0.10988024, -0.04799209,  0.05476643,  0.04908552,\n",
              "          0.04270609, -0.02575637,  0.09200481, -0.05796376,\n",
              "         -0.16970584, -0.01549428, -0.08616864, -0.02921001,\n",
              "          0.07766691,  0.01802607, -0.12250652, -0.11096939,\n",
              "         -0.02460454, -0.00685159, -0.0205444 , -0.00233519,\n",
              "         -0.16227786,  0.04275388, -0.01606522, -0.01360205,\n",
              "          0.07812114, -0.17475629, -0.04304424,  0.0457324 ,\n",
              "         -0.07831808, -0.10665698, -0.12328669,  0.13834588,\n",
              "          0.01888549, -0.10382226, -0.0279205 ,  0.03762656,\n",
              "          0.1079943 ,  0.00880924,  0.00135996, -0.06217768,\n",
              "          0.17832342,  0.1881384 ,  0.11530657, -0.0554984 ,\n",
              "         -0.11127433, -0.24408427, -0.08116922, -0.02381678,\n",
              "          0.06307001,  0.02855804, -0.01047905, -0.1219533 ,\n",
              "          0.04233113, -0.01326399, -0.09662002, -0.00806482,\n",
              "         -0.11703496, -0.03121562,  0.06248529, -0.003256  ,\n",
              "          0.12891224, -0.03689782, -0.03674868,  0.14275046,\n",
              "         -0.04058515,  0.01449997,  0.06775768, -0.0328717 ,\n",
              "         -0.0871296 , -0.00311126, -0.056669  ,  0.01722995]]],\n",
              "      dtype=float32)"
            ]
          },
          "metadata": {
            "tags": []
          },
          "execution_count": 22
        }
      ]
    },
    {
      "cell_type": "code",
      "metadata": {
        "colab": {
          "base_uri": "https://localhost:8080/"
        },
        "id": "KeNvxB8eLFom",
        "outputId": "d57414de-7162-43be-892a-106c3156aad4"
      },
      "source": [
        "prediction = model.predict(np.stack((a,a2),axis=1))\n",
        "print(prediction)"
      ],
      "execution_count": null,
      "outputs": [
        {
          "output_type": "stream",
          "text": [
            "[[0.6698727]]\n"
          ],
          "name": "stdout"
        }
      ]
    },
    {
      "cell_type": "code",
      "metadata": {
        "id": "zvpdiVS3S8qx"
      },
      "source": [
        ""
      ],
      "execution_count": null,
      "outputs": []
    }
  ]
}
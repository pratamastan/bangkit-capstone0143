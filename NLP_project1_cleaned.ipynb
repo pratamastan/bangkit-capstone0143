{
  "nbformat": 4,
  "nbformat_minor": 0,
  "metadata": {
    "colab": {
      "name": "Copy of NLP project1.ipynb",
      "provenance": [],
      "collapsed_sections": [],
      "toc_visible": true,
      "include_colab_link": true
    },
    "kernelspec": {
      "name": "python3",
      "display_name": "Python 3"
    },
    "language_info": {
      "name": "python"
    },
    "accelerator": "GPU"
  },
  "cells": [
    {
      "cell_type": "markdown",
      "metadata": {
        "id": "view-in-github",
        "colab_type": "text"
      },
      "source": [
        "<a href=\"https://colab.research.google.com/github/pratamastan/bangkit-capstone0143/blob/main/NLP_project1_cleaned.ipynb\" target=\"_parent\"><img src=\"https://colab.research.google.com/assets/colab-badge.svg\" alt=\"Open In Colab\"/></a>"
      ]
    },
    {
      "cell_type": "markdown",
      "metadata": {
        "id": "G6n07cVbuvC5"
      },
      "source": [
        "# Data Fetching and train-test split"
      ]
    },
    {
      "cell_type": "code",
      "metadata": {
        "colab": {
          "base_uri": "https://localhost:8080/"
        },
        "id": "XlhC6gY_tuRR",
        "outputId": "146e4c0f-c9af-40ec-b9e2-55e5054d6f53"
      },
      "source": [
        "from google.colab import drive\n",
        "drive.mount('/content/drive')"
      ],
      "execution_count": null,
      "outputs": [
        {
          "output_type": "stream",
          "text": [
            "Mounted at /content/drive\n"
          ],
          "name": "stdout"
        }
      ]
    },
    {
      "cell_type": "code",
      "metadata": {
        "id": "cvUNWk0MuW86"
      },
      "source": [
        "import pandas as pd\n",
        "import numpy as np\n",
        "import tensorflow as tf\n",
        "import tensorflow_hub as hub\n",
        "# import pathlib\n",
        "# from os import getcwd"
      ],
      "execution_count": null,
      "outputs": []
    },
    {
      "cell_type": "markdown",
      "metadata": {
        "id": "TgTlju_Eu8tQ"
      },
      "source": [
        "Training data is taken from Quora Questions Pairs dataset (training set only) https://www.kaggle.com/c/quora-question-pairs/overview translated to Indonesian with Google Translate"
      ]
    },
    {
      "cell_type": "code",
      "metadata": {
        "id": "3fI-9jMRuzYc"
      },
      "source": [
        "data1=pd.read_csv(\"/content/drive/MyDrive/Quora question pair dataset/train complete indo.csv\")"
      ],
      "execution_count": null,
      "outputs": []
    },
    {
      "cell_type": "code",
      "metadata": {
        "id": "f4MP2chBv9E8"
      },
      "source": [
        "data1=data1.dropna()"
      ],
      "execution_count": null,
      "outputs": []
    },
    {
      "cell_type": "code",
      "metadata": {
        "colab": {
          "base_uri": "https://localhost:8080/",
          "height": 195
        },
        "id": "xn3iNxPtPGJJ",
        "outputId": "74f724ea-4f67-42b4-e8bd-b18d71ec2068"
      },
      "source": [
        "data1.head()"
      ],
      "execution_count": null,
      "outputs": [
        {
          "output_type": "execute_result",
          "data": {
            "text/html": [
              "<div>\n",
              "<style scoped>\n",
              "    .dataframe tbody tr th:only-of-type {\n",
              "        vertical-align: middle;\n",
              "    }\n",
              "\n",
              "    .dataframe tbody tr th {\n",
              "        vertical-align: top;\n",
              "    }\n",
              "\n",
              "    .dataframe thead th {\n",
              "        text-align: right;\n",
              "    }\n",
              "</style>\n",
              "<table border=\"1\" class=\"dataframe\">\n",
              "  <thead>\n",
              "    <tr style=\"text-align: right;\">\n",
              "      <th></th>\n",
              "      <th>id</th>\n",
              "      <th>qid1</th>\n",
              "      <th>qid2</th>\n",
              "      <th>question1</th>\n",
              "      <th>question2</th>\n",
              "      <th>is_duplicate</th>\n",
              "    </tr>\n",
              "  </thead>\n",
              "  <tbody>\n",
              "    <tr>\n",
              "      <th>0</th>\n",
              "      <td>0</td>\n",
              "      <td>1</td>\n",
              "      <td>2</td>\n",
              "      <td>Apa panduan langkah demi langkah untuk berinve...</td>\n",
              "      <td>Apa panduan langkah demi langkah untuk berinve...</td>\n",
              "      <td>0</td>\n",
              "    </tr>\n",
              "    <tr>\n",
              "      <th>1</th>\n",
              "      <td>1</td>\n",
              "      <td>3</td>\n",
              "      <td>4</td>\n",
              "      <td>Bagaimana kisah Berlian Kohinoor (Koh-i-Noor)?</td>\n",
              "      <td>Apa yang akan terjadi jika pemerintah India me...</td>\n",
              "      <td>0</td>\n",
              "    </tr>\n",
              "    <tr>\n",
              "      <th>2</th>\n",
              "      <td>2</td>\n",
              "      <td>5</td>\n",
              "      <td>6</td>\n",
              "      <td>Bagaimana cara meningkatkan kecepatan koneksi ...</td>\n",
              "      <td>Bagaimana kecepatan Internet dapat ditingkatka...</td>\n",
              "      <td>0</td>\n",
              "    </tr>\n",
              "    <tr>\n",
              "      <th>3</th>\n",
              "      <td>3</td>\n",
              "      <td>7</td>\n",
              "      <td>8</td>\n",
              "      <td>Mengapa saya secara mental sangat kesepian? Ba...</td>\n",
              "      <td>Temukan sisanya ketika [math] 23 ^ {24} [/ mat...</td>\n",
              "      <td>0</td>\n",
              "    </tr>\n",
              "    <tr>\n",
              "      <th>4</th>\n",
              "      <td>4</td>\n",
              "      <td>9</td>\n",
              "      <td>10</td>\n",
              "      <td>Manakah yang larut dalam air seperti gula pasi...</td>\n",
              "      <td>Ikan apa yang akan bertahan hidup di air asin?</td>\n",
              "      <td>0</td>\n",
              "    </tr>\n",
              "  </tbody>\n",
              "</table>\n",
              "</div>"
            ],
            "text/plain": [
              "   id  qid1  ...                                          question2 is_duplicate\n",
              "0   0     1  ...  Apa panduan langkah demi langkah untuk berinve...            0\n",
              "1   1     3  ...  Apa yang akan terjadi jika pemerintah India me...            0\n",
              "2   2     5  ...  Bagaimana kecepatan Internet dapat ditingkatka...            0\n",
              "3   3     7  ...  Temukan sisanya ketika [math] 23 ^ {24} [/ mat...            0\n",
              "4   4     9  ...     Ikan apa yang akan bertahan hidup di air asin?            0\n",
              "\n",
              "[5 rows x 6 columns]"
            ]
          },
          "metadata": {
            "tags": []
          },
          "execution_count": 97
        }
      ]
    },
    {
      "cell_type": "code",
      "metadata": {
        "colab": {
          "base_uri": "https://localhost:8080/"
        },
        "id": "znGtTGTXBeRk",
        "outputId": "4c783af3-4297-43d4-b4e4-c967dbf1bca8"
      },
      "source": [
        "data1.question1.str.len().max()"
      ],
      "execution_count": null,
      "outputs": [
        {
          "output_type": "execute_result",
          "data": {
            "text/plain": [
              "717"
            ]
          },
          "metadata": {
            "tags": []
          },
          "execution_count": 17
        }
      ]
    },
    {
      "cell_type": "code",
      "metadata": {
        "colab": {
          "base_uri": "https://localhost:8080/"
        },
        "id": "bEd4Pu71BkXg",
        "outputId": "f9ae063f-1cc7-43f5-e383-153a30a36850"
      },
      "source": [
        "data1.question2.str.len().max()"
      ],
      "execution_count": null,
      "outputs": [
        {
          "output_type": "execute_result",
          "data": {
            "text/plain": [
              "1395"
            ]
          },
          "metadata": {
            "tags": []
          },
          "execution_count": 18
        }
      ]
    },
    {
      "cell_type": "markdown",
      "metadata": {
        "id": "mJrW1Onzvic0"
      },
      "source": [
        "Train-test split 80% 20%"
      ]
    },
    {
      "cell_type": "code",
      "metadata": {
        "id": "kfSXEkPBw9fB"
      },
      "source": [
        "from sklearn.model_selection import train_test_split\n",
        "X_train, X_test, y_train, y_test = train_test_split(data1[[\"question1\", \"question2\"]], data1[\"is_duplicate\"], test_size=0.2, random_state=42)"
      ],
      "execution_count": null,
      "outputs": []
    },
    {
      "cell_type": "markdown",
      "metadata": {
        "id": "JvExtpCyv6Uf"
      },
      "source": [
        "Transform the dataframe to NumPy array as TensorFlow takes NumPy arrays"
      ]
    },
    {
      "cell_type": "code",
      "metadata": {
        "id": "cqNOcymh-DyD"
      },
      "source": [
        "xt=X_train.to_numpy()\n",
        "yt=y_train.to_numpy()\n",
        "\n",
        "xte=X_test.to_numpy()\n",
        "yte=y_test.to_numpy()\n",
        "\n",
        "Q1_train = X_train[\"question1\"].to_numpy()\n",
        "Q2_train = X_train[\"question2\"].to_numpy()\n",
        "Q1_test = X_test[\"question1\"].to_numpy()\n",
        "Q2_test = X_test[\"question2\"].to_numpy()"
      ],
      "execution_count": null,
      "outputs": []
    },
    {
      "cell_type": "code",
      "metadata": {
        "colab": {
          "base_uri": "https://localhost:8080/"
        },
        "id": "hnz0bVT_cTkG",
        "outputId": "47b658fe-7f98-4923-eb6b-6d52f9085f51"
      },
      "source": [
        "Q1_train"
      ],
      "execution_count": null,
      "outputs": [
        {
          "output_type": "execute_result",
          "data": {
            "text/plain": [
              "array(['Apa sajakah cerita pendeknya?',\n",
              "       'Apa jawaban terbaik untuk pertanyaan HR, \"Anda berasal dari latar belakang ECE, jadi mengapa Anda ingin bergabung dengan perusahaan IT\"?',\n",
              "       'Bagaimana cara membulatkan 1,44 ke persen terdekat?', ...,\n",
              "       'Siapa yang saat ini memenangkan pemilihan presiden?',\n",
              "       'Apa sajakah film Telugu / Tamil / Hindi yang pemeran utamanya menjadi mafia atau tidak?',\n",
              "       'Berapa peringkat yang dipotong untuk perguruan tinggi Kedokteran Rohtak dalam kuota negara bagian?'],\n",
              "      dtype=object)"
            ]
          },
          "metadata": {
            "tags": []
          },
          "execution_count": 20
        }
      ]
    },
    {
      "cell_type": "code",
      "metadata": {
        "colab": {
          "base_uri": "https://localhost:8080/",
          "height": 35
        },
        "id": "kE2tOVZKMkER",
        "outputId": "cda191fa-6c5f-4476-b65d-620a14d5c7b4"
      },
      "source": [
        "data1[\"question1\"][0]"
      ],
      "execution_count": null,
      "outputs": [
        {
          "output_type": "execute_result",
          "data": {
            "application/vnd.google.colaboratory.intrinsic+json": {
              "type": "string"
            },
            "text/plain": [
              "'Apa panduan langkah demi langkah untuk berinvestasi di pasar saham di India?'"
            ]
          },
          "metadata": {
            "tags": []
          },
          "execution_count": 105
        }
      ]
    },
    {
      "cell_type": "code",
      "metadata": {
        "colab": {
          "base_uri": "https://localhost:8080/",
          "height": 402
        },
        "id": "DGECNKybyvld",
        "outputId": "f28f17f4-93d4-4ae7-e9a8-ec854731e118"
      },
      "source": [
        "data1[[\"question1\",\"question2\"]]"
      ],
      "execution_count": null,
      "outputs": [
        {
          "output_type": "execute_result",
          "data": {
            "text/html": [
              "<div>\n",
              "<style scoped>\n",
              "    .dataframe tbody tr th:only-of-type {\n",
              "        vertical-align: middle;\n",
              "    }\n",
              "\n",
              "    .dataframe tbody tr th {\n",
              "        vertical-align: top;\n",
              "    }\n",
              "\n",
              "    .dataframe thead th {\n",
              "        text-align: right;\n",
              "    }\n",
              "</style>\n",
              "<table border=\"1\" class=\"dataframe\">\n",
              "  <thead>\n",
              "    <tr style=\"text-align: right;\">\n",
              "      <th></th>\n",
              "      <th>question1</th>\n",
              "      <th>question2</th>\n",
              "    </tr>\n",
              "  </thead>\n",
              "  <tbody>\n",
              "    <tr>\n",
              "      <th>0</th>\n",
              "      <td>Apa panduan langkah demi langkah untuk berinve...</td>\n",
              "      <td>Apa panduan langkah demi langkah untuk berinve...</td>\n",
              "    </tr>\n",
              "    <tr>\n",
              "      <th>1</th>\n",
              "      <td>Bagaimana kisah Berlian Kohinoor (Koh-i-Noor)?</td>\n",
              "      <td>Apa yang akan terjadi jika pemerintah India me...</td>\n",
              "    </tr>\n",
              "    <tr>\n",
              "      <th>2</th>\n",
              "      <td>Bagaimana cara meningkatkan kecepatan koneksi ...</td>\n",
              "      <td>Bagaimana kecepatan Internet dapat ditingkatka...</td>\n",
              "    </tr>\n",
              "    <tr>\n",
              "      <th>3</th>\n",
              "      <td>Mengapa saya secara mental sangat kesepian? Ba...</td>\n",
              "      <td>Temukan sisanya ketika [math] 23 ^ {24} [/ mat...</td>\n",
              "    </tr>\n",
              "    <tr>\n",
              "      <th>4</th>\n",
              "      <td>Manakah yang larut dalam air seperti gula pasi...</td>\n",
              "      <td>Ikan apa yang akan bertahan hidup di air asin?</td>\n",
              "    </tr>\n",
              "    <tr>\n",
              "      <th>...</th>\n",
              "      <td>...</td>\n",
              "      <td>...</td>\n",
              "    </tr>\n",
              "    <tr>\n",
              "      <th>404285</th>\n",
              "      <td>Ada berapa kata kunci dalam bahasa pemrograman...</td>\n",
              "      <td>Ada berapa kata kunci dalam Bahasa Pemrograman...</td>\n",
              "    </tr>\n",
              "    <tr>\n",
              "      <th>404286</th>\n",
              "      <td>Apakah Anda percaya ada kehidupan setelah kema...</td>\n",
              "      <td>Benarkah ada kehidupan setelah kematian?</td>\n",
              "    </tr>\n",
              "    <tr>\n",
              "      <th>404287</th>\n",
              "      <td>Apa satu koin?</td>\n",
              "      <td>Koin apa ini?</td>\n",
              "    </tr>\n",
              "    <tr>\n",
              "      <th>404288</th>\n",
              "      <td>Berapa perkiraan biaya hidup tahunan selama be...</td>\n",
              "      <td>Saya mengalami sedikit masalah rambut rontok t...</td>\n",
              "    </tr>\n",
              "    <tr>\n",
              "      <th>404289</th>\n",
              "      <td>Bagaimana rasanya berhubungan seks dengan sepupu?</td>\n",
              "      <td>Bagaimana rasanya berhubungan seks dengan sepu...</td>\n",
              "    </tr>\n",
              "  </tbody>\n",
              "</table>\n",
              "<p>404290 rows × 2 columns</p>\n",
              "</div>"
            ],
            "text/plain": [
              "                                                question1                                          question2\n",
              "0       Apa panduan langkah demi langkah untuk berinve...  Apa panduan langkah demi langkah untuk berinve...\n",
              "1          Bagaimana kisah Berlian Kohinoor (Koh-i-Noor)?  Apa yang akan terjadi jika pemerintah India me...\n",
              "2       Bagaimana cara meningkatkan kecepatan koneksi ...  Bagaimana kecepatan Internet dapat ditingkatka...\n",
              "3       Mengapa saya secara mental sangat kesepian? Ba...  Temukan sisanya ketika [math] 23 ^ {24} [/ mat...\n",
              "4       Manakah yang larut dalam air seperti gula pasi...     Ikan apa yang akan bertahan hidup di air asin?\n",
              "...                                                   ...                                                ...\n",
              "404285  Ada berapa kata kunci dalam bahasa pemrograman...  Ada berapa kata kunci dalam Bahasa Pemrograman...\n",
              "404286  Apakah Anda percaya ada kehidupan setelah kema...           Benarkah ada kehidupan setelah kematian?\n",
              "404287                                     Apa satu koin?                                      Koin apa ini?\n",
              "404288  Berapa perkiraan biaya hidup tahunan selama be...  Saya mengalami sedikit masalah rambut rontok t...\n",
              "404289  Bagaimana rasanya berhubungan seks dengan sepupu?  Bagaimana rasanya berhubungan seks dengan sepu...\n",
              "\n",
              "[404290 rows x 2 columns]"
            ]
          },
          "metadata": {
            "tags": []
          },
          "execution_count": 23
        }
      ]
    },
    {
      "cell_type": "code",
      "metadata": {
        "id": "eD6gHbz8y3F8"
      },
      "source": [
        "#Model runtime will increase if tranable=True to about 900-1000s per epoch\n",
        "embed = hub.KerasLayer(\"https://tfhub.dev/google/nnlm-id-dim128-with-normalization/2\",input_shape=[], dtype=tf.string)\n",
        "#embed.trainable=True"
      ],
      "execution_count": null,
      "outputs": []
    },
    {
      "cell_type": "code",
      "metadata": {
        "id": "3sSxwalsMSkK"
      },
      "source": [
        "xt1=embed(Q1_train)\n",
        "xt2=embed(Q2_train)\n",
        "xte1=embed(Q1_test)\n",
        "xte2=embed(Q2_test)"
      ],
      "execution_count": null,
      "outputs": []
    },
    {
      "cell_type": "code",
      "metadata": {
        "colab": {
          "base_uri": "https://localhost:8080/"
        },
        "id": "ogL4saosmMVV",
        "outputId": "21f664ca-4e9c-4f9b-8bb2-a0db7f2bb96e"
      },
      "source": [
        "xt1"
      ],
      "execution_count": null,
      "outputs": [
        {
          "output_type": "execute_result",
          "data": {
            "text/plain": [
              "<tf.Tensor: shape=(323430, 128), dtype=float32, numpy=\n",
              "array([[ 0.03792422, -0.08203722, -0.03952134, ..., -0.03751129,\n",
              "        -0.13026127, -0.21294448],\n",
              "       [ 0.16049062,  0.05221158, -0.03756306, ..., -0.06843793,\n",
              "        -0.16083518,  0.00526717],\n",
              "       [ 0.00541904,  0.03682816, -0.10739181, ..., -0.05703003,\n",
              "        -0.12414219, -0.05216019],\n",
              "       ...,\n",
              "       [ 0.17406467,  0.06946962, -0.02178098, ..., -0.05727712,\n",
              "        -0.17851247, -0.00691927],\n",
              "       [ 0.14288372, -0.16400667,  0.03347619, ...,  0.04388543,\n",
              "        -0.12863201, -0.02391369],\n",
              "       [-0.02106932, -0.22670205, -0.11702876, ..., -0.13742013,\n",
              "        -0.11424292,  0.08969257]], dtype=float32)>"
            ]
          },
          "metadata": {
            "tags": []
          },
          "execution_count": 14
        }
      ]
    },
    {
      "cell_type": "markdown",
      "metadata": {
        "id": "t84oM73yxTDs"
      },
      "source": [
        "# Final Models\n",
        "## Models with two inputs and embedding integrated"
      ]
    },
    {
      "cell_type": "markdown",
      "metadata": {
        "id": "Nlm2F8Idx-Ln"
      },
      "source": [
        "## Model with GRU layer"
      ]
    },
    {
      "cell_type": "code",
      "metadata": {
        "colab": {
          "base_uri": "https://localhost:8080/"
        },
        "id": "_X_RJoUuEbtf",
        "outputId": "75286609-fde7-4433-f158-70a6f54cf198"
      },
      "source": [
        "# Model with Bidirectional LSTM, GRU, without Attention, will run for about 150-200s per epoch\n",
        "qstn1=tf.keras.Input(shape=(), dtype=tf.string)\n",
        "qstn2=tf.keras.Input(shape=(), dtype=tf.string)\n",
        "\n",
        "qu1=embed(qstn1)\n",
        "qu2=embed(qstn2)\n",
        "concat=tf.keras.layers.concatenate([qu1,qu2])\n",
        "concat=tf.keras.layers.Reshape((2,128))(concat)\n",
        "concat=tf.keras.layers.Bidirectional(tf.keras.layers.LSTM(64, return_sequences=True))(concat)\n",
        "concat=tf.keras.layers.GRU(64, return_sequences=True)(concat)\n",
        "concat=tf.keras.layers.Bidirectional(tf.keras.layers.LSTM(32))(concat)\n",
        "concat=tf.keras.layers.Dense(256,activation='relu')(concat)\n",
        "concat=tf.keras.layers.Dropout(0.2)(concat)\n",
        "concat=tf.keras.layers.BatchNormalization()(concat)\n",
        "concat=tf.keras.layers.Dense(256,activation='relu')(concat)\n",
        "concat=tf.keras.layers.Dropout(0.2)(concat)\n",
        "concat=tf.keras.layers.BatchNormalization()(concat)\n",
        "concat=tf.keras.layers.Dense(256,activation='relu')(concat)\n",
        "concat=tf.keras.layers.Dropout(0.2)(concat)\n",
        "concat=tf.keras.layers.BatchNormalization()(concat)\n",
        "concat=tf.keras.layers.Dense(256,activation='relu')(concat)\n",
        "concat=tf.keras.layers.Dropout(0.2)(concat)\n",
        "concat=tf.keras.layers.BatchNormalization()(concat)\n",
        "concat=tf.keras.layers.Dense(256,activation='relu')(concat)\n",
        "concat=tf.keras.layers.Dropout(0.2)(concat)\n",
        "concat=tf.keras.layers.BatchNormalization()(concat)\n",
        "is_dupe=tf.keras.layers.Dense(1, activation=\"sigmoid\")(concat)\n",
        "\n",
        "model4 = tf.keras.models.Model(inputs=[qstn1,qstn2], outputs=is_dupe)\n",
        "model4.summary()"
      ],
      "execution_count": null,
      "outputs": [
        {
          "output_type": "stream",
          "text": [
            "Model: \"model\"\n",
            "__________________________________________________________________________________________________\n",
            "Layer (type)                    Output Shape         Param #     Connected to                     \n",
            "==================================================================================================\n",
            "input_1 (InputLayer)            [(None,)]            0                                            \n",
            "__________________________________________________________________________________________________\n",
            "input_2 (InputLayer)            [(None,)]            0                                            \n",
            "__________________________________________________________________________________________________\n",
            "keras_layer (KerasLayer)        (None, 128)          112461824   input_1[0][0]                    \n",
            "                                                                 input_2[0][0]                    \n",
            "__________________________________________________________________________________________________\n",
            "concatenate (Concatenate)       (None, 256)          0           keras_layer[0][0]                \n",
            "                                                                 keras_layer[1][0]                \n",
            "__________________________________________________________________________________________________\n",
            "reshape (Reshape)               (None, 2, 128)       0           concatenate[0][0]                \n",
            "__________________________________________________________________________________________________\n",
            "bidirectional (Bidirectional)   (None, 2, 128)       98816       reshape[0][0]                    \n",
            "__________________________________________________________________________________________________\n",
            "gru (GRU)                       (None, 2, 64)        37248       bidirectional[0][0]              \n",
            "__________________________________________________________________________________________________\n",
            "bidirectional_1 (Bidirectional) (None, 64)           24832       gru[0][0]                        \n",
            "__________________________________________________________________________________________________\n",
            "dense (Dense)                   (None, 256)          16640       bidirectional_1[0][0]            \n",
            "__________________________________________________________________________________________________\n",
            "dropout (Dropout)               (None, 256)          0           dense[0][0]                      \n",
            "__________________________________________________________________________________________________\n",
            "batch_normalization (BatchNorma (None, 256)          1024        dropout[0][0]                    \n",
            "__________________________________________________________________________________________________\n",
            "dense_1 (Dense)                 (None, 256)          65792       batch_normalization[0][0]        \n",
            "__________________________________________________________________________________________________\n",
            "dropout_1 (Dropout)             (None, 256)          0           dense_1[0][0]                    \n",
            "__________________________________________________________________________________________________\n",
            "batch_normalization_1 (BatchNor (None, 256)          1024        dropout_1[0][0]                  \n",
            "__________________________________________________________________________________________________\n",
            "dense_2 (Dense)                 (None, 256)          65792       batch_normalization_1[0][0]      \n",
            "__________________________________________________________________________________________________\n",
            "dropout_2 (Dropout)             (None, 256)          0           dense_2[0][0]                    \n",
            "__________________________________________________________________________________________________\n",
            "batch_normalization_2 (BatchNor (None, 256)          1024        dropout_2[0][0]                  \n",
            "__________________________________________________________________________________________________\n",
            "dense_3 (Dense)                 (None, 256)          65792       batch_normalization_2[0][0]      \n",
            "__________________________________________________________________________________________________\n",
            "dropout_3 (Dropout)             (None, 256)          0           dense_3[0][0]                    \n",
            "__________________________________________________________________________________________________\n",
            "batch_normalization_3 (BatchNor (None, 256)          1024        dropout_3[0][0]                  \n",
            "__________________________________________________________________________________________________\n",
            "dense_4 (Dense)                 (None, 256)          65792       batch_normalization_3[0][0]      \n",
            "__________________________________________________________________________________________________\n",
            "dropout_4 (Dropout)             (None, 256)          0           dense_4[0][0]                    \n",
            "__________________________________________________________________________________________________\n",
            "batch_normalization_4 (BatchNor (None, 256)          1024        dropout_4[0][0]                  \n",
            "__________________________________________________________________________________________________\n",
            "dense_5 (Dense)                 (None, 1)            257         batch_normalization_4[0][0]      \n",
            "==================================================================================================\n",
            "Total params: 112,907,905\n",
            "Trainable params: 443,521\n",
            "Non-trainable params: 112,464,384\n",
            "__________________________________________________________________________________________________\n"
          ],
          "name": "stdout"
        }
      ]
    },
    {
      "cell_type": "code",
      "metadata": {
        "id": "efdigMD3ubQa"
      },
      "source": [
        "tf.keras.utils.plot_model(model4, show_shapes=True)"
      ],
      "execution_count": null,
      "outputs": []
    },
    {
      "cell_type": "code",
      "metadata": {
        "id": "zvpdiVS3S8qx"
      },
      "source": [
        "model4.compile(loss='binary_crossentropy', optimizer='adam', metrics=['accuracy'])"
      ],
      "execution_count": null,
      "outputs": []
    },
    {
      "cell_type": "code",
      "metadata": {
        "colab": {
          "base_uri": "https://localhost:8080/"
        },
        "id": "0uowvG1fGIzG",
        "outputId": "3c56e9e0-3089-4d68-8daa-f4822473b5a6"
      },
      "source": [
        "history4 = model4.fit([Q1_train, Q2_train],\n",
        "                    yt,\n",
        "                    epochs=10,\n",
        "                    validation_data=([Q1_test,Q2_test], yte),\n",
        "                    verbose=2)"
      ],
      "execution_count": null,
      "outputs": [
        {
          "output_type": "stream",
          "text": [
            "Epoch 1/10\n",
            "10108/10108 - 253s - loss: 0.5762 - accuracy: 0.6988 - val_loss: 0.5281 - val_accuracy: 0.7285\n",
            "Epoch 2/10\n",
            "10108/10108 - 218s - loss: 0.5016 - accuracy: 0.7464 - val_loss: 0.4768 - val_accuracy: 0.7610\n",
            "Epoch 3/10\n",
            "10108/10108 - 210s - loss: 0.4701 - accuracy: 0.7662 - val_loss: 0.4647 - val_accuracy: 0.7710\n",
            "Epoch 4/10\n",
            "10108/10108 - 211s - loss: 0.4495 - accuracy: 0.7799 - val_loss: 0.4487 - val_accuracy: 0.7809\n",
            "Epoch 5/10\n",
            "10108/10108 - 211s - loss: 0.4339 - accuracy: 0.7906 - val_loss: 0.4371 - val_accuracy: 0.7867\n",
            "Epoch 6/10\n",
            "10108/10108 - 212s - loss: 0.4195 - accuracy: 0.7997 - val_loss: 0.4341 - val_accuracy: 0.7876\n",
            "Epoch 7/10\n",
            "10108/10108 - 212s - loss: 0.4073 - accuracy: 0.8071 - val_loss: 0.4389 - val_accuracy: 0.7868\n",
            "Epoch 8/10\n",
            "10108/10108 - 211s - loss: 0.3961 - accuracy: 0.8139 - val_loss: 0.4296 - val_accuracy: 0.7960\n",
            "Epoch 9/10\n",
            "10108/10108 - 215s - loss: 0.3858 - accuracy: 0.8207 - val_loss: 0.4220 - val_accuracy: 0.7987\n",
            "Epoch 10/10\n",
            "10108/10108 - 213s - loss: 0.3761 - accuracy: 0.8261 - val_loss: 0.4758 - val_accuracy: 0.7977\n"
          ],
          "name": "stdout"
        }
      ]
    },
    {
      "cell_type": "code",
      "metadata": {
        "colab": {
          "base_uri": "https://localhost:8080/"
        },
        "id": "0w15c6I6GPmA",
        "outputId": "478eb770-335a-4a3c-a423-5c6fc554ddbc"
      },
      "source": [
        "prediction4 = model4.predict([np.asarray([\"saya memukul kursi\"]),np.asarray([\"kursi dipukul oleh saya\"])])\n",
        "print(prediction4)"
      ],
      "execution_count": null,
      "outputs": [
        {
          "output_type": "stream",
          "text": [
            "[[0.90333223]]\n"
          ],
          "name": "stdout"
        }
      ]
    },
    {
      "cell_type": "code",
      "metadata": {
        "colab": {
          "base_uri": "https://localhost:8080/"
        },
        "id": "Y8zkZNFAsku3",
        "outputId": "7f8ad577-40a4-43f8-81d1-f13fb8b440f7"
      },
      "source": [
        "model4.predict([np.asarray([\"saya yang mempunyai gitar yamaha itu\"]),np.asarray([\"gitar yamaha itu milik saya\"])])"
      ],
      "execution_count": null,
      "outputs": [
        {
          "output_type": "execute_result",
          "data": {
            "text/plain": [
              "array([[0.84960437]], dtype=float32)"
            ]
          },
          "metadata": {
            "tags": []
          },
          "execution_count": 30
        }
      ]
    },
    {
      "cell_type": "code",
      "metadata": {
        "colab": {
          "base_uri": "https://localhost:8080/"
        },
        "id": "vpo835vrshlM",
        "outputId": "0ae813e9-15a3-4179-eef4-ca6a429fad8b"
      },
      "source": [
        "model4.predict([np.asarray([\"saya bermain di atas meja\"]),np.asarray([\"kursi diduduki oleh saya\"])])"
      ],
      "execution_count": null,
      "outputs": [
        {
          "output_type": "execute_result",
          "data": {
            "text/plain": [
              "array([[0.05997301]], dtype=float32)"
            ]
          },
          "metadata": {
            "tags": []
          },
          "execution_count": 28
        }
      ]
    },
    {
      "cell_type": "markdown",
      "metadata": {
        "id": "FC_hXADLxhGY"
      },
      "source": [
        "### Save the first model"
      ]
    },
    {
      "cell_type": "code",
      "metadata": {
        "colab": {
          "base_uri": "https://localhost:8080/"
        },
        "id": "wm003Wz0rKXa",
        "outputId": "65084c28-b42e-4db9-9d43-55b9e62d68de"
      },
      "source": [
        "export_dir1 = 'saved_model/model_gru1'\n",
        "tf.saved_model.save(model4, export_dir=export_dir1)"
      ],
      "execution_count": null,
      "outputs": [
        {
          "output_type": "stream",
          "text": [
            "WARNING:absl:Found untraced functions such as gru_cell_layer_call_fn, gru_cell_layer_call_and_return_conditional_losses, lstm_cell_1_layer_call_fn, lstm_cell_1_layer_call_and_return_conditional_losses, lstm_cell_2_layer_call_fn while saving (showing 5 of 25). These functions will not be directly callable after loading.\n",
            "WARNING:absl:Found untraced functions such as gru_cell_layer_call_fn, gru_cell_layer_call_and_return_conditional_losses, lstm_cell_1_layer_call_fn, lstm_cell_1_layer_call_and_return_conditional_losses, lstm_cell_2_layer_call_fn while saving (showing 5 of 25). These functions will not be directly callable after loading.\n"
          ],
          "name": "stderr"
        },
        {
          "output_type": "stream",
          "text": [
            "INFO:tensorflow:Assets written to: saved_model/model_gru1/assets\n"
          ],
          "name": "stdout"
        },
        {
          "output_type": "stream",
          "text": [
            "INFO:tensorflow:Assets written to: saved_model/model_gru1/assets\n"
          ],
          "name": "stderr"
        }
      ]
    },
    {
      "cell_type": "markdown",
      "metadata": {
        "id": "bYrjK_aRraHB"
      },
      "source": [
        "### Try to load model from saved model"
      ]
    },
    {
      "cell_type": "code",
      "metadata": {
        "colab": {
          "base_uri": "https://localhost:8080/"
        },
        "id": "3DjSP9sbVeGf",
        "outputId": "87b664a7-a1d4-4f56-bb57-3bd5851772f5"
      },
      "source": [
        "new_model4 = tf.keras.models.load_model(export_dir1)\n",
        "# nnew_model4 = tf.keras.models.load_model(\"/content/drive/MyDrive/saved_model/model_gru1\")\n",
        "new_model4.summary()\n",
        "# nnew_model4.summary()"
      ],
      "execution_count": null,
      "outputs": [
        {
          "output_type": "stream",
          "text": [
            "WARNING:tensorflow:5 out of the last 8 calls to <function recreate_function.<locals>.restored_function_body at 0x7f568649ec20> triggered tf.function retracing. Tracing is expensive and the excessive number of tracings could be due to (1) creating @tf.function repeatedly in a loop, (2) passing tensors with different shapes, (3) passing Python objects instead of tensors. For (1), please define your @tf.function outside of the loop. For (2), @tf.function has experimental_relax_shapes=True option that relaxes argument shapes that can avoid unnecessary retracing. For (3), please refer to https://www.tensorflow.org/guide/function#controlling_retracing and https://www.tensorflow.org/api_docs/python/tf/function for  more details.\n"
          ],
          "name": "stdout"
        },
        {
          "output_type": "stream",
          "text": [
            "WARNING:tensorflow:5 out of the last 8 calls to <function recreate_function.<locals>.restored_function_body at 0x7f568649ec20> triggered tf.function retracing. Tracing is expensive and the excessive number of tracings could be due to (1) creating @tf.function repeatedly in a loop, (2) passing tensors with different shapes, (3) passing Python objects instead of tensors. For (1), please define your @tf.function outside of the loop. For (2), @tf.function has experimental_relax_shapes=True option that relaxes argument shapes that can avoid unnecessary retracing. For (3), please refer to https://www.tensorflow.org/guide/function#controlling_retracing and https://www.tensorflow.org/api_docs/python/tf/function for  more details.\n"
          ],
          "name": "stderr"
        },
        {
          "output_type": "stream",
          "text": [
            "Model: \"model\"\n",
            "__________________________________________________________________________________________________\n",
            "Layer (type)                    Output Shape         Param #     Connected to                     \n",
            "==================================================================================================\n",
            "input_1 (InputLayer)            [(None,)]            0                                            \n",
            "__________________________________________________________________________________________________\n",
            "input_2 (InputLayer)            [(None,)]            0                                            \n",
            "__________________________________________________________________________________________________\n",
            "keras_layer (KerasLayer)        (None, 128)          112461824   input_1[0][0]                    \n",
            "                                                                 input_2[0][0]                    \n",
            "__________________________________________________________________________________________________\n",
            "concatenate (Concatenate)       (None, 256)          0           keras_layer[0][0]                \n",
            "                                                                 keras_layer[1][0]                \n",
            "__________________________________________________________________________________________________\n",
            "reshape (Reshape)               (None, 2, 128)       0           concatenate[0][0]                \n",
            "__________________________________________________________________________________________________\n",
            "bidirectional (Bidirectional)   (None, 2, 128)       98816       reshape[0][0]                    \n",
            "__________________________________________________________________________________________________\n",
            "gru (GRU)                       (None, 2, 64)        37248       bidirectional[0][0]              \n",
            "__________________________________________________________________________________________________\n",
            "bidirectional_1 (Bidirectional) (None, 64)           24832       gru[0][0]                        \n",
            "__________________________________________________________________________________________________\n",
            "dense (Dense)                   (None, 256)          16640       bidirectional_1[0][0]            \n",
            "__________________________________________________________________________________________________\n",
            "dropout (Dropout)               (None, 256)          0           dense[0][0]                      \n",
            "__________________________________________________________________________________________________\n",
            "batch_normalization (BatchNorma (None, 256)          1024        dropout[0][0]                    \n",
            "__________________________________________________________________________________________________\n",
            "dense_1 (Dense)                 (None, 256)          65792       batch_normalization[0][0]        \n",
            "__________________________________________________________________________________________________\n",
            "dropout_1 (Dropout)             (None, 256)          0           dense_1[0][0]                    \n",
            "__________________________________________________________________________________________________\n",
            "batch_normalization_1 (BatchNor (None, 256)          1024        dropout_1[0][0]                  \n",
            "__________________________________________________________________________________________________\n",
            "dense_2 (Dense)                 (None, 256)          65792       batch_normalization_1[0][0]      \n",
            "__________________________________________________________________________________________________\n",
            "dropout_2 (Dropout)             (None, 256)          0           dense_2[0][0]                    \n",
            "__________________________________________________________________________________________________\n",
            "batch_normalization_2 (BatchNor (None, 256)          1024        dropout_2[0][0]                  \n",
            "__________________________________________________________________________________________________\n",
            "dense_3 (Dense)                 (None, 256)          65792       batch_normalization_2[0][0]      \n",
            "__________________________________________________________________________________________________\n",
            "dropout_3 (Dropout)             (None, 256)          0           dense_3[0][0]                    \n",
            "__________________________________________________________________________________________________\n",
            "batch_normalization_3 (BatchNor (None, 256)          1024        dropout_3[0][0]                  \n",
            "__________________________________________________________________________________________________\n",
            "dense_4 (Dense)                 (None, 256)          65792       batch_normalization_3[0][0]      \n",
            "__________________________________________________________________________________________________\n",
            "dropout_4 (Dropout)             (None, 256)          0           dense_4[0][0]                    \n",
            "__________________________________________________________________________________________________\n",
            "batch_normalization_4 (BatchNor (None, 256)          1024        dropout_4[0][0]                  \n",
            "__________________________________________________________________________________________________\n",
            "dense_5 (Dense)                 (None, 1)            257         batch_normalization_4[0][0]      \n",
            "==================================================================================================\n",
            "Total params: 112,907,905\n",
            "Trainable params: 112,905,345\n",
            "Non-trainable params: 2,560\n",
            "__________________________________________________________________________________________________\n"
          ],
          "name": "stdout"
        }
      ]
    },
    {
      "cell_type": "code",
      "metadata": {
        "colab": {
          "base_uri": "https://localhost:8080/"
        },
        "id": "Dpch0IMIWMou",
        "outputId": "ae7376e7-dfad-4339-a3ff-d2604738a41d"
      },
      "source": [
        "new_model4.predict([np.asarray([\"saya memukul kursi\"]),np.asarray([\"kursi dipukul oleh saya\"])])\n",
        "# nnew_model4.predict([np.asarray([\"saya memukul kursi\"]),np.asarray([\"kursi dipukul oleh saya\"])])"
      ],
      "execution_count": null,
      "outputs": [
        {
          "output_type": "execute_result",
          "data": {
            "text/plain": [
              "array([[0.90333223]], dtype=float32)"
            ]
          },
          "metadata": {
            "tags": []
          },
          "execution_count": 15
        }
      ]
    },
    {
      "cell_type": "markdown",
      "metadata": {
        "id": "1xVxTcV1rBCg"
      },
      "source": [
        "# Save model to Drive"
      ]
    },
    {
      "cell_type": "code",
      "metadata": {
        "id": "AnOgM0thq5Bv"
      },
      "source": [
        "#save model to MyDrive\n",
        "!cp -r /content/saved_model /content/drive/MyDrive/"
      ],
      "execution_count": null,
      "outputs": []
    }
  ]
}